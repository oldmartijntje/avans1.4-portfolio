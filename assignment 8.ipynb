{
 "cells": [
  {
   "cell_type": "markdown",
   "id": "98eb851f-cfe2-4c31-9a4a-46aed65180be",
   "metadata": {},
   "source": [
    "# Gemaakt op 02/05/2025 door martijn"
   ]
  },
  {
   "cell_type": "code",
   "execution_count": 5,
   "id": "14f922c8-bd80-47f3-9e2b-ab299d7dfb41",
   "metadata": {},
   "outputs": [],
   "source": [
    "import pandas as pd\n",
    "import seaborn as sns\n",
    "import numpy as np\n",
    "import scipy.stats as st"
   ]
  },
  {
   "cell_type": "code",
   "execution_count": 6,
   "id": "6a8f5fb6-6a45-4287-a802-d9fa45be4b3f",
   "metadata": {},
   "outputs": [
    {
     "data": {
      "text/html": [
       "<div>\n",
       "<style scoped>\n",
       "    .dataframe tbody tr th:only-of-type {\n",
       "        vertical-align: middle;\n",
       "    }\n",
       "\n",
       "    .dataframe tbody tr th {\n",
       "        vertical-align: top;\n",
       "    }\n",
       "\n",
       "    .dataframe thead th {\n",
       "        text-align: right;\n",
       "    }\n",
       "</style>\n",
       "<table border=\"1\" class=\"dataframe\">\n",
       "  <thead>\n",
       "    <tr style=\"text-align: right;\">\n",
       "      <th></th>\n",
       "      <th>app_id</th>\n",
       "      <th>title</th>\n",
       "      <th>date_release</th>\n",
       "      <th>win</th>\n",
       "      <th>mac</th>\n",
       "      <th>linux</th>\n",
       "      <th>rating</th>\n",
       "      <th>positive_ratio</th>\n",
       "      <th>user_reviews</th>\n",
       "      <th>price_final</th>\n",
       "      <th>price_original</th>\n",
       "      <th>discount</th>\n",
       "      <th>steam_deck</th>\n",
       "    </tr>\n",
       "  </thead>\n",
       "  <tbody>\n",
       "    <tr>\n",
       "      <th>0</th>\n",
       "      <td>13500</td>\n",
       "      <td>Prince of Persia: Warrior Within™</td>\n",
       "      <td>2008-11-21</td>\n",
       "      <td>True</td>\n",
       "      <td>False</td>\n",
       "      <td>False</td>\n",
       "      <td>Very Positive</td>\n",
       "      <td>84</td>\n",
       "      <td>2199</td>\n",
       "      <td>9.99</td>\n",
       "      <td>9.99</td>\n",
       "      <td>0.0</td>\n",
       "      <td>True</td>\n",
       "    </tr>\n",
       "    <tr>\n",
       "      <th>1</th>\n",
       "      <td>22364</td>\n",
       "      <td>BRINK: Agents of Change</td>\n",
       "      <td>2011-08-03</td>\n",
       "      <td>True</td>\n",
       "      <td>False</td>\n",
       "      <td>False</td>\n",
       "      <td>Positive</td>\n",
       "      <td>85</td>\n",
       "      <td>21</td>\n",
       "      <td>2.99</td>\n",
       "      <td>2.99</td>\n",
       "      <td>0.0</td>\n",
       "      <td>True</td>\n",
       "    </tr>\n",
       "    <tr>\n",
       "      <th>2</th>\n",
       "      <td>113020</td>\n",
       "      <td>Monaco: What's Yours Is Mine</td>\n",
       "      <td>2013-04-24</td>\n",
       "      <td>True</td>\n",
       "      <td>True</td>\n",
       "      <td>True</td>\n",
       "      <td>Very Positive</td>\n",
       "      <td>92</td>\n",
       "      <td>3722</td>\n",
       "      <td>14.99</td>\n",
       "      <td>14.99</td>\n",
       "      <td>0.0</td>\n",
       "      <td>True</td>\n",
       "    </tr>\n",
       "    <tr>\n",
       "      <th>3</th>\n",
       "      <td>226560</td>\n",
       "      <td>Escape Dead Island</td>\n",
       "      <td>2014-11-18</td>\n",
       "      <td>True</td>\n",
       "      <td>False</td>\n",
       "      <td>False</td>\n",
       "      <td>Mixed</td>\n",
       "      <td>61</td>\n",
       "      <td>873</td>\n",
       "      <td>14.99</td>\n",
       "      <td>14.99</td>\n",
       "      <td>0.0</td>\n",
       "      <td>True</td>\n",
       "    </tr>\n",
       "    <tr>\n",
       "      <th>4</th>\n",
       "      <td>249050</td>\n",
       "      <td>Dungeon of the ENDLESS™</td>\n",
       "      <td>2014-10-27</td>\n",
       "      <td>True</td>\n",
       "      <td>True</td>\n",
       "      <td>False</td>\n",
       "      <td>Very Positive</td>\n",
       "      <td>88</td>\n",
       "      <td>8784</td>\n",
       "      <td>11.99</td>\n",
       "      <td>11.99</td>\n",
       "      <td>0.0</td>\n",
       "      <td>True</td>\n",
       "    </tr>\n",
       "    <tr>\n",
       "      <th>...</th>\n",
       "      <td>...</td>\n",
       "      <td>...</td>\n",
       "      <td>...</td>\n",
       "      <td>...</td>\n",
       "      <td>...</td>\n",
       "      <td>...</td>\n",
       "      <td>...</td>\n",
       "      <td>...</td>\n",
       "      <td>...</td>\n",
       "      <td>...</td>\n",
       "      <td>...</td>\n",
       "      <td>...</td>\n",
       "      <td>...</td>\n",
       "    </tr>\n",
       "    <tr>\n",
       "      <th>50867</th>\n",
       "      <td>2296380</td>\n",
       "      <td>I Expect You To Die 3: Cog in the Machine</td>\n",
       "      <td>2023-09-28</td>\n",
       "      <td>True</td>\n",
       "      <td>False</td>\n",
       "      <td>False</td>\n",
       "      <td>Very Positive</td>\n",
       "      <td>96</td>\n",
       "      <td>101</td>\n",
       "      <td>22.00</td>\n",
       "      <td>0.00</td>\n",
       "      <td>0.0</td>\n",
       "      <td>True</td>\n",
       "    </tr>\n",
       "    <tr>\n",
       "      <th>50868</th>\n",
       "      <td>1272080</td>\n",
       "      <td>PAYDAY 3</td>\n",
       "      <td>2023-09-21</td>\n",
       "      <td>True</td>\n",
       "      <td>False</td>\n",
       "      <td>False</td>\n",
       "      <td>Mostly Negative</td>\n",
       "      <td>38</td>\n",
       "      <td>29458</td>\n",
       "      <td>40.00</td>\n",
       "      <td>0.00</td>\n",
       "      <td>0.0</td>\n",
       "      <td>True</td>\n",
       "    </tr>\n",
       "    <tr>\n",
       "      <th>50869</th>\n",
       "      <td>1402110</td>\n",
       "      <td>Eternights</td>\n",
       "      <td>2023-09-11</td>\n",
       "      <td>True</td>\n",
       "      <td>False</td>\n",
       "      <td>False</td>\n",
       "      <td>Very Positive</td>\n",
       "      <td>89</td>\n",
       "      <td>1128</td>\n",
       "      <td>30.00</td>\n",
       "      <td>0.00</td>\n",
       "      <td>0.0</td>\n",
       "      <td>True</td>\n",
       "    </tr>\n",
       "    <tr>\n",
       "      <th>50870</th>\n",
       "      <td>2272250</td>\n",
       "      <td>Forgive Me Father 2</td>\n",
       "      <td>2023-10-19</td>\n",
       "      <td>True</td>\n",
       "      <td>False</td>\n",
       "      <td>False</td>\n",
       "      <td>Very Positive</td>\n",
       "      <td>95</td>\n",
       "      <td>82</td>\n",
       "      <td>17.00</td>\n",
       "      <td>0.00</td>\n",
       "      <td>0.0</td>\n",
       "      <td>True</td>\n",
       "    </tr>\n",
       "    <tr>\n",
       "      <th>50871</th>\n",
       "      <td>2488510</td>\n",
       "      <td>FatalZone</td>\n",
       "      <td>2023-10-23</td>\n",
       "      <td>True</td>\n",
       "      <td>False</td>\n",
       "      <td>False</td>\n",
       "      <td>Very Positive</td>\n",
       "      <td>88</td>\n",
       "      <td>144</td>\n",
       "      <td>4.00</td>\n",
       "      <td>0.00</td>\n",
       "      <td>0.0</td>\n",
       "      <td>True</td>\n",
       "    </tr>\n",
       "  </tbody>\n",
       "</table>\n",
       "<p>50872 rows × 13 columns</p>\n",
       "</div>"
      ],
      "text/plain": [
       "        app_id                                      title date_release   win  \\\n",
       "0        13500          Prince of Persia: Warrior Within™   2008-11-21  True   \n",
       "1        22364                    BRINK: Agents of Change   2011-08-03  True   \n",
       "2       113020               Monaco: What's Yours Is Mine   2013-04-24  True   \n",
       "3       226560                         Escape Dead Island   2014-11-18  True   \n",
       "4       249050                    Dungeon of the ENDLESS™   2014-10-27  True   \n",
       "...        ...                                        ...          ...   ...   \n",
       "50867  2296380  I Expect You To Die 3: Cog in the Machine   2023-09-28  True   \n",
       "50868  1272080                                   PAYDAY 3   2023-09-21  True   \n",
       "50869  1402110                                 Eternights   2023-09-11  True   \n",
       "50870  2272250                        Forgive Me Father 2   2023-10-19  True   \n",
       "50871  2488510                                  FatalZone   2023-10-23  True   \n",
       "\n",
       "         mac  linux           rating  positive_ratio  user_reviews  \\\n",
       "0      False  False    Very Positive              84          2199   \n",
       "1      False  False         Positive              85            21   \n",
       "2       True   True    Very Positive              92          3722   \n",
       "3      False  False            Mixed              61           873   \n",
       "4       True  False    Very Positive              88          8784   \n",
       "...      ...    ...              ...             ...           ...   \n",
       "50867  False  False    Very Positive              96           101   \n",
       "50868  False  False  Mostly Negative              38         29458   \n",
       "50869  False  False    Very Positive              89          1128   \n",
       "50870  False  False    Very Positive              95            82   \n",
       "50871  False  False    Very Positive              88           144   \n",
       "\n",
       "       price_final  price_original  discount  steam_deck  \n",
       "0             9.99            9.99       0.0        True  \n",
       "1             2.99            2.99       0.0        True  \n",
       "2            14.99           14.99       0.0        True  \n",
       "3            14.99           14.99       0.0        True  \n",
       "4            11.99           11.99       0.0        True  \n",
       "...            ...             ...       ...         ...  \n",
       "50867        22.00            0.00       0.0        True  \n",
       "50868        40.00            0.00       0.0        True  \n",
       "50869        30.00            0.00       0.0        True  \n",
       "50870        17.00            0.00       0.0        True  \n",
       "50871         4.00            0.00       0.0        True  \n",
       "\n",
       "[50872 rows x 13 columns]"
      ]
     },
     "execution_count": 6,
     "metadata": {},
     "output_type": "execute_result"
    }
   ],
   "source": [
    "my_data = pd.read_csv(\"./games.csv\")\n",
    "my_data"
   ]
  },
  {
   "cell_type": "markdown",
   "id": "fe5c0d04-3658-4805-8d1f-8302db3d57c0",
   "metadata": {},
   "source": [
    "### Portfolio assignment 8\n",
    "15 min: \n",
    "- Calculate the 90%, 95%, 99% and 99.99% confidence int for at least 2 columns with numerical data in the dataset that you chose in portfolio assignment 4. Do you see the impact the confidence has on the interval?\n",
    "- Now calculate the 95% confidence interval again but use only the first 10% of your rows. Compare this interval to the previous 95% confidence interval you calculated. Do you see the impact of having less data?"
   ]
  },
  {
   "cell_type": "markdown",
   "id": "4578a224-5daa-489e-a474-c6ca02fce961",
   "metadata": {},
   "source": [
    "voor deze opdracht ga ik price_final en positive_ratio nemen."
   ]
  },
  {
   "cell_type": "markdown",
   "id": "bcca701d-31b4-4323-98e0-d36b31f31c2d",
   "metadata": {},
   "source": [
    "uit de research van school theorie weet ik al dat de range groter wordt de minder de accuracy is en vice versa. Als ik me goed kan herinneren lag het gemiddelde van price_final volgens de vorige opdracht ergens rond de 10 of 9. Ik gok dat als ik maar een kleinere sample size pak het als eerste ergens anders ligt, maar ook een grotere range is."
   ]
  },
  {
   "cell_type": "code",
   "execution_count": 15,
   "id": "69717bec-7194-4438-87cb-13266b790cdb",
   "metadata": {},
   "outputs": [
    {
     "data": {
      "text/plain": [
       "(np.float64(8.536354156328997), np.float64(8.704295710002189))"
      ]
     },
     "execution_count": 15,
     "metadata": {},
     "output_type": "execute_result"
    }
   ],
   "source": [
    "confidence = 0.90\n",
    "st.t.interval(confidence, len(my_data[\"price_final\"])-1, loc=my_data[\"price_final\"].mean(), scale=st.sem(my_data[\"price_final\"]))"
   ]
  },
  {
   "cell_type": "code",
   "execution_count": 16,
   "id": "fef91ef7-8b0d-416f-87a2-e696e892be2c",
   "metadata": {},
   "outputs": [
    {
     "data": {
      "text/plain": [
       "(np.float64(8.520267022592016), np.float64(8.72038284373917))"
      ]
     },
     "execution_count": 16,
     "metadata": {},
     "output_type": "execute_result"
    }
   ],
   "source": [
    "confidence = 0.95\n",
    "st.t.interval(confidence, len(my_data[\"price_final\"])-1, loc=my_data[\"price_final\"].mean(), scale=st.sem(my_data[\"price_final\"]))"
   ]
  },
  {
   "cell_type": "code",
   "execution_count": 17,
   "id": "41443828-3e82-4fb1-9860-e87945bfdf7c",
   "metadata": {},
   "outputs": [
    {
     "data": {
      "text/plain": [
       "(np.float64(8.488824743155748), np.float64(8.751825123175438))"
      ]
     },
     "execution_count": 17,
     "metadata": {},
     "output_type": "execute_result"
    }
   ],
   "source": [
    "confidence = 0.99\n",
    "st.t.interval(confidence, len(my_data[\"price_final\"])-1, loc=my_data[\"price_final\"].mean(), scale=st.sem(my_data[\"price_final\"]))"
   ]
  },
  {
   "cell_type": "code",
   "execution_count": 18,
   "id": "bddb719d-4492-4470-b367-d9bf4f85c147",
   "metadata": {},
   "outputs": [
    {
     "data": {
      "text/plain": [
       "(np.float64(-inf), np.float64(inf))"
      ]
     },
     "execution_count": 18,
     "metadata": {},
     "output_type": "execute_result"
    }
   ],
   "source": [
    "confidence = 1\n",
    "st.t.interval(confidence, len(my_data[\"price_final\"])-1, loc=my_data[\"price_final\"].mean(), scale=st.sem(my_data[\"price_final\"]))"
   ]
  },
  {
   "cell_type": "markdown",
   "id": "336abe4e-114b-4a20-8b9a-6ed1060d9b8a",
   "metadata": {},
   "source": [
    "wow het is beina alsof ik dit al wist ;)\n",
    "\n",
    "anyways, nu gaan we de eerste 10% nemen en het vergelijken:\n"
   ]
  },
  {
   "cell_type": "code",
   "execution_count": 19,
   "id": "f18b3066-809b-4d39-8531-400062fc15c8",
   "metadata": {},
   "outputs": [
    {
     "data": {
      "text/html": [
       "<div>\n",
       "<style scoped>\n",
       "    .dataframe tbody tr th:only-of-type {\n",
       "        vertical-align: middle;\n",
       "    }\n",
       "\n",
       "    .dataframe tbody tr th {\n",
       "        vertical-align: top;\n",
       "    }\n",
       "\n",
       "    .dataframe thead th {\n",
       "        text-align: right;\n",
       "    }\n",
       "</style>\n",
       "<table border=\"1\" class=\"dataframe\">\n",
       "  <thead>\n",
       "    <tr style=\"text-align: right;\">\n",
       "      <th></th>\n",
       "      <th>app_id</th>\n",
       "      <th>title</th>\n",
       "      <th>date_release</th>\n",
       "      <th>win</th>\n",
       "      <th>mac</th>\n",
       "      <th>linux</th>\n",
       "      <th>rating</th>\n",
       "      <th>positive_ratio</th>\n",
       "      <th>user_reviews</th>\n",
       "      <th>price_final</th>\n",
       "      <th>price_original</th>\n",
       "      <th>discount</th>\n",
       "      <th>steam_deck</th>\n",
       "    </tr>\n",
       "  </thead>\n",
       "  <tbody>\n",
       "    <tr>\n",
       "      <th>0</th>\n",
       "      <td>13500</td>\n",
       "      <td>Prince of Persia: Warrior Within™</td>\n",
       "      <td>2008-11-21</td>\n",
       "      <td>True</td>\n",
       "      <td>False</td>\n",
       "      <td>False</td>\n",
       "      <td>Very Positive</td>\n",
       "      <td>84</td>\n",
       "      <td>2199</td>\n",
       "      <td>9.99</td>\n",
       "      <td>9.99</td>\n",
       "      <td>0.0</td>\n",
       "      <td>True</td>\n",
       "    </tr>\n",
       "    <tr>\n",
       "      <th>1</th>\n",
       "      <td>22364</td>\n",
       "      <td>BRINK: Agents of Change</td>\n",
       "      <td>2011-08-03</td>\n",
       "      <td>True</td>\n",
       "      <td>False</td>\n",
       "      <td>False</td>\n",
       "      <td>Positive</td>\n",
       "      <td>85</td>\n",
       "      <td>21</td>\n",
       "      <td>2.99</td>\n",
       "      <td>2.99</td>\n",
       "      <td>0.0</td>\n",
       "      <td>True</td>\n",
       "    </tr>\n",
       "    <tr>\n",
       "      <th>2</th>\n",
       "      <td>113020</td>\n",
       "      <td>Monaco: What's Yours Is Mine</td>\n",
       "      <td>2013-04-24</td>\n",
       "      <td>True</td>\n",
       "      <td>True</td>\n",
       "      <td>True</td>\n",
       "      <td>Very Positive</td>\n",
       "      <td>92</td>\n",
       "      <td>3722</td>\n",
       "      <td>14.99</td>\n",
       "      <td>14.99</td>\n",
       "      <td>0.0</td>\n",
       "      <td>True</td>\n",
       "    </tr>\n",
       "    <tr>\n",
       "      <th>3</th>\n",
       "      <td>226560</td>\n",
       "      <td>Escape Dead Island</td>\n",
       "      <td>2014-11-18</td>\n",
       "      <td>True</td>\n",
       "      <td>False</td>\n",
       "      <td>False</td>\n",
       "      <td>Mixed</td>\n",
       "      <td>61</td>\n",
       "      <td>873</td>\n",
       "      <td>14.99</td>\n",
       "      <td>14.99</td>\n",
       "      <td>0.0</td>\n",
       "      <td>True</td>\n",
       "    </tr>\n",
       "    <tr>\n",
       "      <th>4</th>\n",
       "      <td>249050</td>\n",
       "      <td>Dungeon of the ENDLESS™</td>\n",
       "      <td>2014-10-27</td>\n",
       "      <td>True</td>\n",
       "      <td>True</td>\n",
       "      <td>False</td>\n",
       "      <td>Very Positive</td>\n",
       "      <td>88</td>\n",
       "      <td>8784</td>\n",
       "      <td>11.99</td>\n",
       "      <td>11.99</td>\n",
       "      <td>0.0</td>\n",
       "      <td>True</td>\n",
       "    </tr>\n",
       "    <tr>\n",
       "      <th>...</th>\n",
       "      <td>...</td>\n",
       "      <td>...</td>\n",
       "      <td>...</td>\n",
       "      <td>...</td>\n",
       "      <td>...</td>\n",
       "      <td>...</td>\n",
       "      <td>...</td>\n",
       "      <td>...</td>\n",
       "      <td>...</td>\n",
       "      <td>...</td>\n",
       "      <td>...</td>\n",
       "      <td>...</td>\n",
       "      <td>...</td>\n",
       "    </tr>\n",
       "    <tr>\n",
       "      <th>5082</th>\n",
       "      <td>946050</td>\n",
       "      <td>Soda Dungeon 2</td>\n",
       "      <td>2020-07-09</td>\n",
       "      <td>True</td>\n",
       "      <td>True</td>\n",
       "      <td>False</td>\n",
       "      <td>Very Positive</td>\n",
       "      <td>94</td>\n",
       "      <td>4684</td>\n",
       "      <td>0.00</td>\n",
       "      <td>0.00</td>\n",
       "      <td>0.0</td>\n",
       "      <td>True</td>\n",
       "    </tr>\n",
       "    <tr>\n",
       "      <th>5083</th>\n",
       "      <td>952950</td>\n",
       "      <td>03.04</td>\n",
       "      <td>2019-01-01</td>\n",
       "      <td>True</td>\n",
       "      <td>False</td>\n",
       "      <td>False</td>\n",
       "      <td>Very Positive</td>\n",
       "      <td>83</td>\n",
       "      <td>209</td>\n",
       "      <td>4.99</td>\n",
       "      <td>4.99</td>\n",
       "      <td>0.0</td>\n",
       "      <td>True</td>\n",
       "    </tr>\n",
       "    <tr>\n",
       "      <th>5084</th>\n",
       "      <td>976700</td>\n",
       "      <td>Size Matters</td>\n",
       "      <td>2021-03-12</td>\n",
       "      <td>True</td>\n",
       "      <td>False</td>\n",
       "      <td>False</td>\n",
       "      <td>Very Positive</td>\n",
       "      <td>90</td>\n",
       "      <td>90</td>\n",
       "      <td>9.99</td>\n",
       "      <td>9.99</td>\n",
       "      <td>0.0</td>\n",
       "      <td>True</td>\n",
       "    </tr>\n",
       "    <tr>\n",
       "      <th>5085</th>\n",
       "      <td>1017100</td>\n",
       "      <td>Territory Idle</td>\n",
       "      <td>2019-09-10</td>\n",
       "      <td>True</td>\n",
       "      <td>False</td>\n",
       "      <td>False</td>\n",
       "      <td>Very Positive</td>\n",
       "      <td>81</td>\n",
       "      <td>1433</td>\n",
       "      <td>0.00</td>\n",
       "      <td>0.00</td>\n",
       "      <td>0.0</td>\n",
       "      <td>True</td>\n",
       "    </tr>\n",
       "    <tr>\n",
       "      <th>5086</th>\n",
       "      <td>1046660</td>\n",
       "      <td>Charterstone: Digital Edition</td>\n",
       "      <td>2020-03-26</td>\n",
       "      <td>True</td>\n",
       "      <td>True</td>\n",
       "      <td>True</td>\n",
       "      <td>Mostly Positive</td>\n",
       "      <td>75</td>\n",
       "      <td>212</td>\n",
       "      <td>7.59</td>\n",
       "      <td>18.99</td>\n",
       "      <td>60.0</td>\n",
       "      <td>True</td>\n",
       "    </tr>\n",
       "  </tbody>\n",
       "</table>\n",
       "<p>5087 rows × 13 columns</p>\n",
       "</div>"
      ],
      "text/plain": [
       "       app_id                              title date_release   win    mac  \\\n",
       "0       13500  Prince of Persia: Warrior Within™   2008-11-21  True  False   \n",
       "1       22364            BRINK: Agents of Change   2011-08-03  True  False   \n",
       "2      113020       Monaco: What's Yours Is Mine   2013-04-24  True   True   \n",
       "3      226560                 Escape Dead Island   2014-11-18  True  False   \n",
       "4      249050            Dungeon of the ENDLESS™   2014-10-27  True   True   \n",
       "...       ...                                ...          ...   ...    ...   \n",
       "5082   946050                     Soda Dungeon 2   2020-07-09  True   True   \n",
       "5083   952950                              03.04   2019-01-01  True  False   \n",
       "5084   976700                       Size Matters   2021-03-12  True  False   \n",
       "5085  1017100                     Territory Idle   2019-09-10  True  False   \n",
       "5086  1046660      Charterstone: Digital Edition   2020-03-26  True   True   \n",
       "\n",
       "      linux           rating  positive_ratio  user_reviews  price_final  \\\n",
       "0     False    Very Positive              84          2199         9.99   \n",
       "1     False         Positive              85            21         2.99   \n",
       "2      True    Very Positive              92          3722        14.99   \n",
       "3     False            Mixed              61           873        14.99   \n",
       "4     False    Very Positive              88          8784        11.99   \n",
       "...     ...              ...             ...           ...          ...   \n",
       "5082  False    Very Positive              94          4684         0.00   \n",
       "5083  False    Very Positive              83           209         4.99   \n",
       "5084  False    Very Positive              90            90         9.99   \n",
       "5085  False    Very Positive              81          1433         0.00   \n",
       "5086   True  Mostly Positive              75           212         7.59   \n",
       "\n",
       "      price_original  discount  steam_deck  \n",
       "0               9.99       0.0        True  \n",
       "1               2.99       0.0        True  \n",
       "2              14.99       0.0        True  \n",
       "3              14.99       0.0        True  \n",
       "4              11.99       0.0        True  \n",
       "...              ...       ...         ...  \n",
       "5082            0.00       0.0        True  \n",
       "5083            4.99       0.0        True  \n",
       "5084            9.99       0.0        True  \n",
       "5085            0.00       0.0        True  \n",
       "5086           18.99      60.0        True  \n",
       "\n",
       "[5087 rows x 13 columns]"
      ]
     },
     "execution_count": 19,
     "metadata": {},
     "output_type": "execute_result"
    }
   ],
   "source": [
    "first_10_percent = my_data.head(int(len(my_data) * 0.10))\n",
    "first_10_percent"
   ]
  },
  {
   "cell_type": "markdown",
   "id": "5e62e418-159c-4ca1-ad1e-dbfaa3cd5175",
   "metadata": {},
   "source": [
    "okay nu hebben we de 1e 10%, laten we zien wat er gebeurt met de range bij 95 confidence value."
   ]
  },
  {
   "cell_type": "code",
   "execution_count": 20,
   "id": "9145cb0b-38be-4423-bc01-43ce9052d8f4",
   "metadata": {},
   "outputs": [
    {
     "data": {
      "text/plain": [
       "(np.float64(10.880724357190486), np.float64(11.52398961961313))"
      ]
     },
     "execution_count": 20,
     "metadata": {},
     "output_type": "execute_result"
    }
   ],
   "source": [
    "confidence = 0.95\n",
    "st.t.interval(confidence, len(first_10_percent[\"price_final\"])-1, loc=first_10_percent[\"price_final\"].mean(), scale=st.sem(first_10_percent[\"price_final\"]))"
   ]
  },
  {
   "cell_type": "markdown",
   "id": "41720647-7a8d-46f0-be50-93c077ad6fef",
   "metadata": {},
   "source": [
    "okay dus ik had gelijk door te denken dat het zou verschuiven, maar nu gaan we ook kijken of dat de range ook groter is geworden, dit gaan we doen met wat black magic forkery:"
   ]
  },
  {
   "cell_type": "code",
   "execution_count": 21,
   "id": "ded764ef-6eb5-4f46-95a6-49951cb824e2",
   "metadata": {},
   "outputs": [
    {
     "name": "stdout",
     "output_type": "stream",
     "text": [
      "De 10% sampleSize heeft een range van: 0.6432652624226449\n"
     ]
    }
   ],
   "source": [
    "interval = st.t.interval(confidence, len(first_10_percent[\"price_final\"])-1,\n",
    "                         loc=first_10_percent[\"price_final\"].mean(),\n",
    "                         scale=st.sem(first_10_percent[\"price_final\"]))\n",
    "range_size = interval[1] - interval[0]\n",
    "print(f\"De 10% sampleSize heeft een range van: {range_size}\")"
   ]
  },
  {
   "cell_type": "code",
   "execution_count": 22,
   "id": "222eb076-684c-4ff3-b895-386678f7b269",
   "metadata": {},
   "outputs": [
    {
     "name": "stdout",
     "output_type": "stream",
     "text": [
      "De 100% heeft een range van: 0.2001158211471541\n"
     ]
    }
   ],
   "source": [
    "interval = st.t.interval(confidence, len(my_data[\"price_final\"])-1,\n",
    "                         loc=my_data[\"price_final\"].mean(),\n",
    "                         scale=st.sem(my_data[\"price_final\"]))\n",
    "range_size = interval[1] - interval[0]\n",
    "print(f\"De 100% heeft een range van: {range_size}\")"
   ]
  },
  {
   "cell_type": "markdown",
   "id": "544d1e87-4f65-44d0-9bf1-bdd6db71051f",
   "metadata": {},
   "source": [
    "dit laat idd zien dat we meer confident kunnen zeggen waar het ligt als we meer data hebbern. Maar latten we dit expiriment nog een keer doen op een andere colom om het te bewiezen dat ik niet gwn 1 keer goed gok op een random luck ding. want zo werkt science, we moeten het bewijzen :3\n",
    "\n",
    "dus nu gaan we naar colomn positive_ratio kijken, ik gok dat het gemiddelde 80 is, en dat de range groter wordt de hoger de accuracy is."
   ]
  },
  {
   "cell_type": "code",
   "execution_count": 26,
   "id": "746afdf9-6d3a-4772-9cfa-950133c2ff08",
   "metadata": {},
   "outputs": [
    {
     "data": {
      "text/plain": [
       "(np.float64(76.91891230794731), np.float64(77.18515279662888))"
      ]
     },
     "execution_count": 26,
     "metadata": {},
     "output_type": "execute_result"
    }
   ],
   "source": [
    "confidence = 0.90\n",
    "st.t.interval(confidence, len(my_data[\"positive_ratio\"])-1, loc=my_data[\"positive_ratio\"].mean(), scale=st.sem(my_data[\"positive_ratio\"]))"
   ]
  },
  {
   "cell_type": "code",
   "execution_count": 25,
   "id": "70696088-cfca-4164-b387-50ca2f4738a9",
   "metadata": {},
   "outputs": [
    {
     "data": {
      "text/plain": [
       "(np.float64(76.89340911202025), np.float64(77.21065599255594))"
      ]
     },
     "execution_count": 25,
     "metadata": {},
     "output_type": "execute_result"
    }
   ],
   "source": [
    "confidence = 0.95\n",
    "st.t.interval(confidence, len(my_data[\"positive_ratio\"])-1, loc=my_data[\"positive_ratio\"].mean(), scale=st.sem(my_data[\"positive_ratio\"]))"
   ]
  },
  {
   "cell_type": "code",
   "execution_count": 24,
   "id": "865b5938-a90f-45a5-93a7-919941c974ee",
   "metadata": {},
   "outputs": [
    {
     "data": {
      "text/plain": [
       "(np.float64(76.84356315276074), np.float64(77.26050195181546))"
      ]
     },
     "execution_count": 24,
     "metadata": {},
     "output_type": "execute_result"
    }
   ],
   "source": [
    "confidence = 0.99\n",
    "st.t.interval(confidence, len(my_data[\"positive_ratio\"])-1, loc=my_data[\"positive_ratio\"].mean(), scale=st.sem(my_data[\"positive_ratio\"]))"
   ]
  },
  {
   "cell_type": "code",
   "execution_count": 23,
   "id": "c48fac74-843a-4f13-b57e-0e4a9b504308",
   "metadata": {},
   "outputs": [
    {
     "data": {
      "text/plain": [
       "(np.float64(-inf), np.float64(inf))"
      ]
     },
     "execution_count": 23,
     "metadata": {},
     "output_type": "execute_result"
    }
   ],
   "source": [
    "confidence = 1\n",
    "st.t.interval(confidence, len(my_data[\"positive_ratio\"])-1, loc=my_data[\"positive_ratio\"].mean(), scale=st.sem(my_data[\"positive_ratio\"]))"
   ]
  },
  {
   "cell_type": "markdown",
   "id": "b795a39b-abd2-4024-8732-26a383c0d8ff",
   "metadata": {},
   "source": [
    "de range wordt idd weer grote, ik zat ook trouwens lekker in de buurt met mijn gokje :3"
   ]
  },
  {
   "cell_type": "markdown",
   "id": "28ebd2ce-f6e5-4535-a6c9-82b6458624c1",
   "metadata": {},
   "source": [
    "hmm ik had gelijk, de range wordt groter. en mn gokje zat ook wel in de buurt lol :3\n",
    "\n",
    "nu gaan we kijken of dat de 10% weer een grotere range heeft, en op een andere plek kan liggen (hoeft natuurlijk niet, hij zou in theorie ongv het zelfde kunnen blijven)"
   ]
  },
  {
   "cell_type": "code",
   "execution_count": 28,
   "id": "87b850d9-b031-4dfb-9e08-1177caabe0bd",
   "metadata": {},
   "outputs": [
    {
     "data": {
      "text/plain": [
       "(np.float64(83.03939143461373), np.float64(83.72805499746805))"
      ]
     },
     "execution_count": 28,
     "metadata": {},
     "output_type": "execute_result"
    }
   ],
   "source": [
    "confidence = 0.95\n",
    "st.t.interval(confidence, len(first_10_percent[\"positive_ratio\"])-1, loc=first_10_percent[\"positive_ratio\"].mean(), scale=st.sem(first_10_percent[\"positive_ratio\"]))"
   ]
  },
  {
   "cell_type": "markdown",
   "id": "10403fc3-b00a-44dc-ae30-a17ccacf4c30",
   "metadata": {},
   "source": [
    "het is idd verschoven."
   ]
  },
  {
   "cell_type": "code",
   "execution_count": null,
   "id": "d0d5c124-7b3b-4291-ad4e-8addeab8c0ee",
   "metadata": {},
   "outputs": [],
   "source": [
    "interval = st.t.interval(confidence, len(first_10_percent[\"positive_ratio\"])-1,\n",
    "                         loc=first_10_percent[\"positive_ratio\"].mean(),\n",
    "                         scale=st.sem(first_10_percent[\"positive_ratio\"]))\n",
    "range_size = interval[1] - interval[0]\n",
    "print(f\"De 10% sampleSize heeft een range van: {range_size}\")"
   ]
  },
  {
   "cell_type": "code",
   "execution_count": null,
   "id": "480d7859-3e6e-4bd0-b3a3-6898ad764410",
   "metadata": {},
   "outputs": [],
   "source": [
    "interval = st.t.interval(confidence, len(first_10_percent[\"positive_ratio\"])-1,\n",
    "                         loc=first_10_percent[\"positive_ratio\"].mean(),\n",
    "                         scale=st.sem(first_10_percent[\"positive_ratio\"]))\n",
    "range_size = interval[1] - interval[0]\n",
    "print(f\"De 10% sampleSize heeft een range van: {range_size}\")"
   ]
  },
  {
   "cell_type": "code",
   "execution_count": null,
   "id": "692f3d63-c0f1-4fff-b99e-c5503669e091",
   "metadata": {},
   "outputs": [],
   "source": []
  },
  {
   "cell_type": "code",
   "execution_count": null,
   "id": "28d67e2b-d528-4504-a9e7-54679ab24407",
   "metadata": {},
   "outputs": [],
   "source": []
  },
  {
   "cell_type": "code",
   "execution_count": null,
   "id": "04f15c71-e243-42f6-9d62-b4c4e0f9580a",
   "metadata": {},
   "outputs": [],
   "source": []
  },
  {
   "cell_type": "code",
   "execution_count": null,
   "id": "c816d227-fede-4735-89d6-e9f5ce003066",
   "metadata": {},
   "outputs": [],
   "source": []
  }
 ],
 "metadata": {
  "kernelspec": {
   "display_name": "Python 3 (ipykernel)",
   "language": "python",
   "name": "python3"
  },
  "language_info": {
   "codemirror_mode": {
    "name": "ipython",
    "version": 3
   },
   "file_extension": ".py",
   "mimetype": "text/x-python",
   "name": "python",
   "nbconvert_exporter": "python",
   "pygments_lexer": "ipython3",
   "version": "3.13.2"
  }
 },
 "nbformat": 4,
 "nbformat_minor": 5
}
