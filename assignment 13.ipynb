{
 "cells": [
  {
   "cell_type": "markdown",
   "id": "98eb851f-cfe2-4c31-9a4a-46aed65180be",
   "metadata": {},
   "source": "# Gemaakt op 08/05/2025 door martijn"
  },
  {
   "cell_type": "code",
   "id": "14f922c8-bd80-47f3-9e2b-ab299d7dfb41",
   "metadata": {
    "ExecuteTime": {
     "end_time": "2025-05-08T12:17:22.271993Z",
     "start_time": "2025-05-08T12:17:22.268104Z"
    }
   },
   "source": [
    "import pandas as pd\n",
    "import seaborn as sns\n",
    "import numpy as np\n",
    "import scipy.stats as st"
   ],
   "outputs": [],
   "execution_count": 5
  },
  {
   "cell_type": "markdown",
   "id": "7b3f280e-a3b2-42d5-b42b-d62c63e453ca",
   "metadata": {},
   "source": [
    "### Portfolio assignment 13\n",
    "10 min: Do a bivariate analysis on the penguins dataset for the following combination of columns:\n",
    "- species VS sex\n",
    "- island VS sex\n",
    "\n",
    "For this bivariate analysis, at least perform the following tasks:\n",
    "- Do you expect their to be a correlation between the two columns?\n",
    "- Create a contingency table. Do you observe different ratios between categories here?\n",
    "- Create a bar plot for this contingency table. Do you observe different ratios between categories here?\n",
    "- Do a chi-squared test. What does the result say? What's the chance of there being a correlation between the two columns?"
   ]
  },
  {
   "cell_type": "code",
   "id": "a282983f-5ce2-458c-bd26-de8ad12e503b",
   "metadata": {
    "ExecuteTime": {
     "end_time": "2025-05-08T12:17:25.411302Z",
     "start_time": "2025-05-08T12:17:25.373667Z"
    }
   },
   "source": [
    "penguins = sns.load_dataset(\"penguins\")\n",
    "penguins.head()"
   ],
   "outputs": [
    {
     "data": {
      "text/plain": [
       "  species     island  bill_length_mm  bill_depth_mm  flipper_length_mm  \\\n",
       "0  Adelie  Torgersen            39.1           18.7              181.0   \n",
       "1  Adelie  Torgersen            39.5           17.4              186.0   \n",
       "2  Adelie  Torgersen            40.3           18.0              195.0   \n",
       "3  Adelie  Torgersen             NaN            NaN                NaN   \n",
       "4  Adelie  Torgersen            36.7           19.3              193.0   \n",
       "\n",
       "   body_mass_g     sex  \n",
       "0       3750.0    Male  \n",
       "1       3800.0  Female  \n",
       "2       3250.0  Female  \n",
       "3          NaN     NaN  \n",
       "4       3450.0  Female  "
      ],
      "text/html": [
       "<div>\n",
       "<style scoped>\n",
       "    .dataframe tbody tr th:only-of-type {\n",
       "        vertical-align: middle;\n",
       "    }\n",
       "\n",
       "    .dataframe tbody tr th {\n",
       "        vertical-align: top;\n",
       "    }\n",
       "\n",
       "    .dataframe thead th {\n",
       "        text-align: right;\n",
       "    }\n",
       "</style>\n",
       "<table border=\"1\" class=\"dataframe\">\n",
       "  <thead>\n",
       "    <tr style=\"text-align: right;\">\n",
       "      <th></th>\n",
       "      <th>species</th>\n",
       "      <th>island</th>\n",
       "      <th>bill_length_mm</th>\n",
       "      <th>bill_depth_mm</th>\n",
       "      <th>flipper_length_mm</th>\n",
       "      <th>body_mass_g</th>\n",
       "      <th>sex</th>\n",
       "    </tr>\n",
       "  </thead>\n",
       "  <tbody>\n",
       "    <tr>\n",
       "      <th>0</th>\n",
       "      <td>Adelie</td>\n",
       "      <td>Torgersen</td>\n",
       "      <td>39.1</td>\n",
       "      <td>18.7</td>\n",
       "      <td>181.0</td>\n",
       "      <td>3750.0</td>\n",
       "      <td>Male</td>\n",
       "    </tr>\n",
       "    <tr>\n",
       "      <th>1</th>\n",
       "      <td>Adelie</td>\n",
       "      <td>Torgersen</td>\n",
       "      <td>39.5</td>\n",
       "      <td>17.4</td>\n",
       "      <td>186.0</td>\n",
       "      <td>3800.0</td>\n",
       "      <td>Female</td>\n",
       "    </tr>\n",
       "    <tr>\n",
       "      <th>2</th>\n",
       "      <td>Adelie</td>\n",
       "      <td>Torgersen</td>\n",
       "      <td>40.3</td>\n",
       "      <td>18.0</td>\n",
       "      <td>195.0</td>\n",
       "      <td>3250.0</td>\n",
       "      <td>Female</td>\n",
       "    </tr>\n",
       "    <tr>\n",
       "      <th>3</th>\n",
       "      <td>Adelie</td>\n",
       "      <td>Torgersen</td>\n",
       "      <td>NaN</td>\n",
       "      <td>NaN</td>\n",
       "      <td>NaN</td>\n",
       "      <td>NaN</td>\n",
       "      <td>NaN</td>\n",
       "    </tr>\n",
       "    <tr>\n",
       "      <th>4</th>\n",
       "      <td>Adelie</td>\n",
       "      <td>Torgersen</td>\n",
       "      <td>36.7</td>\n",
       "      <td>19.3</td>\n",
       "      <td>193.0</td>\n",
       "      <td>3450.0</td>\n",
       "      <td>Female</td>\n",
       "    </tr>\n",
       "  </tbody>\n",
       "</table>\n",
       "</div>"
      ]
     },
     "execution_count": 6,
     "metadata": {},
     "output_type": "execute_result"
    }
   ],
   "execution_count": 6
  },
  {
   "metadata": {},
   "cell_type": "markdown",
   "source": [
    "## assumptions\n",
    "\n",
    "### species vs sex\n",
    "- Do you expect their to be a correlation between the two columns?\n",
    "\n",
    "no, it would be bad if the sex isn't in balence, cause that would either mean that they can't reproduce to the best potential, or that 1 sex is extremely bad at surviving. so that is wy i think it will be about the same amount of each tex with each species\n",
    "\n",
    "### island vs sex\n",
    "- Do you expect their to be a correlation between the two columns?\n",
    "\n",
    "maybe that there will be an island with mre males and and island with more females, but yet again i think it will be about the same for each island, cause it would need to be roughly balanced to survive right?\n"
   ],
   "id": "dc6fcf2a23efaa0f"
  },
  {
   "metadata": {
    "ExecuteTime": {
     "end_time": "2025-05-08T12:19:05.443281Z",
     "start_time": "2025-05-08T12:19:05.435699Z"
    }
   },
   "cell_type": "code",
   "source": [
    "from scipy.stats import chi2_contingency\n",
    "\n",
    "def create_contingency_table(dataset, column1, column2):\n",
    "    return dataset.groupby([column1, column2]).size().unstack(column1, fill_value=0)\n",
    "\n",
    "def check_cat_vs_cat_correlation(dataset, column1, column2):\n",
    "    contingency_table = create_contingency_table(dataset, column1, column2)\n",
    "    chi2 = chi2_contingency(contingency_table)\n",
    "    print(chi2)\n",
    "    p_value = chi2[1]\n",
    "    odds_of_correlation = 1 - p_value\n",
    "    print(\n",
    "        f\"The odds of a correlation between {column1} and {column2} is {odds_of_correlation * 100}% (Based on a p value of {p_value}).\")\n",
    "    print(\"This percentage needs to be at least 95% for a significant correlation.\")"
   ],
   "id": "535b5c78b2869cb1",
   "outputs": [],
   "execution_count": 12
  },
  {
   "metadata": {
    "ExecuteTime": {
     "end_time": "2025-05-08T12:17:36.938586Z",
     "start_time": "2025-05-08T12:17:36.927857Z"
    }
   },
   "cell_type": "code",
   "source": [
    "penguinsContingencyTable = create_contingency_table(penguins, 'species','sex')\n",
    "penguinsContingencyTable"
   ],
   "id": "2ce67fb910136ae9",
   "outputs": [
    {
     "data": {
      "text/plain": [
       "species  Adelie  Chinstrap  Gentoo\n",
       "sex                               \n",
       "Female       73         34      58\n",
       "Male         73         34      61"
      ],
      "text/html": [
       "<div>\n",
       "<style scoped>\n",
       "    .dataframe tbody tr th:only-of-type {\n",
       "        vertical-align: middle;\n",
       "    }\n",
       "\n",
       "    .dataframe tbody tr th {\n",
       "        vertical-align: top;\n",
       "    }\n",
       "\n",
       "    .dataframe thead th {\n",
       "        text-align: right;\n",
       "    }\n",
       "</style>\n",
       "<table border=\"1\" class=\"dataframe\">\n",
       "  <thead>\n",
       "    <tr style=\"text-align: right;\">\n",
       "      <th>species</th>\n",
       "      <th>Adelie</th>\n",
       "      <th>Chinstrap</th>\n",
       "      <th>Gentoo</th>\n",
       "    </tr>\n",
       "    <tr>\n",
       "      <th>sex</th>\n",
       "      <th></th>\n",
       "      <th></th>\n",
       "      <th></th>\n",
       "    </tr>\n",
       "  </thead>\n",
       "  <tbody>\n",
       "    <tr>\n",
       "      <th>Female</th>\n",
       "      <td>73</td>\n",
       "      <td>34</td>\n",
       "      <td>58</td>\n",
       "    </tr>\n",
       "    <tr>\n",
       "      <th>Male</th>\n",
       "      <td>73</td>\n",
       "      <td>34</td>\n",
       "      <td>61</td>\n",
       "    </tr>\n",
       "  </tbody>\n",
       "</table>\n",
       "</div>"
      ]
     },
     "execution_count": 9,
     "metadata": {},
     "output_type": "execute_result"
    }
   ],
   "execution_count": 9
  },
  {
   "metadata": {},
   "cell_type": "markdown",
   "source": "it is almost exactly the sme, just as I expected.",
   "id": "f6fbe8d74db68d01"
  },
  {
   "metadata": {
    "ExecuteTime": {
     "end_time": "2025-05-08T12:18:14.431792Z",
     "start_time": "2025-05-08T12:18:14.154319Z"
    }
   },
   "cell_type": "code",
   "source": "penguinsContingencyTable.plot(kind='bar')",
   "id": "9c39101225571448",
   "outputs": [
    {
     "data": {
      "text/plain": [
       "<Axes: xlabel='sex'>"
      ]
     },
     "execution_count": 10,
     "metadata": {},
     "output_type": "execute_result"
    },
    {
     "data": {
      "text/plain": [
       "<Figure size 640x480 with 1 Axes>"
      ],
      "image/png": "[encoded data removed]"
     },
     "metadata": {},
     "output_type": "display_data"
    }
   ],
   "execution_count": 10
  },
  {
   "metadata": {},
   "cell_type": "markdown",
   "source": "it is still exactly the same. just as i expected",
   "id": "7eeba5575bd41ba3"
  },
  {
   "metadata": {
    "ExecuteTime": {
     "end_time": "2025-05-08T12:19:20.066797Z",
     "start_time": "2025-05-08T12:19:20.055805Z"
    }
   },
   "cell_type": "code",
   "source": "check_cat_vs_cat_correlation(penguins, 'species','sex')",
   "id": "42e53a54e97a352a",
   "outputs": [
    {
     "name": "stdout",
     "output_type": "stream",
     "text": [
      "Chi2ContingencyResult(statistic=np.float64(0.04860717014078319), pvalue=np.float64(0.9759893689765846), dof=2, expected_freq=array([[72.34234234, 33.69369369, 58.96396396],\n",
      "       [73.65765766, 34.30630631, 60.03603604]]))\n",
      "The odds of a correlation between species and sex is 2.4010631023415385% (Based on a p value of 0.9759893689765846).\n",
      "This percentage needs to be at least 95% for a significant correlation.\n"
     ]
    }
   ],
   "execution_count": 13
  },
  {
   "metadata": {},
   "cell_type": "markdown",
   "source": "ja, de kans is veel te laag om een significante correlatie te zien. zoals ik al dacht",
   "id": "d34b5579bb7801cf"
  },
  {
   "metadata": {
    "ExecuteTime": {
     "end_time": "2025-05-08T12:22:35.713995Z",
     "start_time": "2025-05-08T12:22:35.701510Z"
    }
   },
   "cell_type": "code",
   "source": [
    "penguinsContingencyTable = create_contingency_table(penguins, 'island','sex')\n",
    "penguinsContingencyTable"
   ],
   "id": "a74fe1a18441d0d9",
   "outputs": [
    {
     "data": {
      "text/plain": [
       "island  Biscoe  Dream  Torgersen\n",
       "sex                             \n",
       "Female      80     61         24\n",
       "Male        83     62         23"
      ],
      "text/html": [
       "<div>\n",
       "<style scoped>\n",
       "    .dataframe tbody tr th:only-of-type {\n",
       "        vertical-align: middle;\n",
       "    }\n",
       "\n",
       "    .dataframe tbody tr th {\n",
       "        vertical-align: top;\n",
       "    }\n",
       "\n",
       "    .dataframe thead th {\n",
       "        text-align: right;\n",
       "    }\n",
       "</style>\n",
       "<table border=\"1\" class=\"dataframe\">\n",
       "  <thead>\n",
       "    <tr style=\"text-align: right;\">\n",
       "      <th>island</th>\n",
       "      <th>Biscoe</th>\n",
       "      <th>Dream</th>\n",
       "      <th>Torgersen</th>\n",
       "    </tr>\n",
       "    <tr>\n",
       "      <th>sex</th>\n",
       "      <th></th>\n",
       "      <th></th>\n",
       "      <th></th>\n",
       "    </tr>\n",
       "  </thead>\n",
       "  <tbody>\n",
       "    <tr>\n",
       "      <th>Female</th>\n",
       "      <td>80</td>\n",
       "      <td>61</td>\n",
       "      <td>24</td>\n",
       "    </tr>\n",
       "    <tr>\n",
       "      <th>Male</th>\n",
       "      <td>83</td>\n",
       "      <td>62</td>\n",
       "      <td>23</td>\n",
       "    </tr>\n",
       "  </tbody>\n",
       "</table>\n",
       "</div>"
      ]
     },
     "execution_count": 14,
     "metadata": {},
     "output_type": "execute_result"
    }
   ],
   "execution_count": 14
  },
  {
   "metadata": {},
   "cell_type": "markdown",
   "source": "zoals ik verwachtte, het is inderdaad weer het zelfde.",
   "id": "7050ef104038ecf"
  },
  {
   "metadata": {
    "ExecuteTime": {
     "end_time": "2025-05-08T12:22:57.497557Z",
     "start_time": "2025-05-08T12:22:57.306153Z"
    }
   },
   "cell_type": "code",
   "source": "penguinsContingencyTable.plot(kind='bar')",
   "id": "8f6109f592c094bb",
   "outputs": [
    {
     "data": {
      "text/plain": [
       "<Axes: xlabel='sex'>"
      ]
     },
     "execution_count": 15,
     "metadata": {},
     "output_type": "execute_result"
    },
    {
     "data": {
      "text/plain": [
       "<Figure size 640x480 with 1 Axes>"
      ],
      "image/png": "[encoded data removed]"
     },
     "metadata": {},
     "output_type": "display_data"
    }
   ],
   "execution_count": 15
  },
  {
   "metadata": {},
   "cell_type": "markdown",
   "source": "jep het is inderdaad ongeveer het zelfde",
   "id": "f7e11867289b4aff"
  },
  {
   "metadata": {
    "ExecuteTime": {
     "end_time": "2025-05-08T12:23:00.037003Z",
     "start_time": "2025-05-08T12:23:00.029754Z"
    }
   },
   "cell_type": "code",
   "source": "check_cat_vs_cat_correlation(penguins, 'island','sex')",
   "id": "e19b8396b05236aa",
   "outputs": [
    {
     "name": "stdout",
     "output_type": "stream",
     "text": [
      "Chi2ContingencyResult(statistic=np.float64(0.05759904881286206), pvalue=np.float64(0.971611229281065), dof=2, expected_freq=array([[80.76576577, 60.94594595, 23.28828829],\n",
      "       [82.23423423, 62.05405405, 23.71171171]]))\n",
      "The odds of a correlation between island and sex is 2.8388770718934975% (Based on a p value of 0.971611229281065).\n",
      "This percentage needs to be at least 95% for a significant correlation.\n"
     ]
    }
   ],
   "execution_count": 16
  },
  {
   "metadata": {},
   "cell_type": "markdown",
   "source": "de kans om een significante correlatie is is veel te laag. zoals verwacht.",
   "id": "1ba49569e3d285fc"
  }
 ],
 "metadata": {
  "kernelspec": {
   "display_name": "Python 3 (ipykernel)",
   "language": "python",
   "name": "python3"
  },
  "language_info": {
   "codemirror_mode": {
    "name": "ipython",
    "version": 3
   },
   "file_extension": ".py",
   "mimetype": "text/x-python",
   "name": "python",
   "nbconvert_exporter": "python",
   "pygments_lexer": "ipython3",
   "version": "3.13.2"
  }
 },
 "nbformat": 4,
 "nbformat_minor": 5
}
