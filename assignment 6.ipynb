{
 "cells": [
  {
   "cell_type": "markdown",
   "id": "98eb851f-cfe2-4c31-9a4a-46aed65180be",
   "metadata": {},
   "source": [
    "# Gemaakt op 24/04/2025 door martijn"
   ]
  },
  {
   "cell_type": "code",
   "execution_count": 3,
   "id": "14f922c8-bd80-47f3-9e2b-ab299d7dfb41",
   "metadata": {},
   "outputs": [],
   "source": [
    "import pandas as pd\n",
    "import seaborn as sns"
   ]
  },
  {
   "cell_type": "code",
   "execution_count": 4,
   "id": "6a8f5fb6-6a45-4287-a802-d9fa45be4b3f",
   "metadata": {},
   "outputs": [
    {
     "data": {
      "text/html": [
       "<div>\n",
       "<style scoped>\n",
       "    .dataframe tbody tr th:only-of-type {\n",
       "        vertical-align: middle;\n",
       "    }\n",
       "\n",
       "    .dataframe tbody tr th {\n",
       "        vertical-align: top;\n",
       "    }\n",
       "\n",
       "    .dataframe thead th {\n",
       "        text-align: right;\n",
       "    }\n",
       "</style>\n",
       "<table border=\"1\" class=\"dataframe\">\n",
       "  <thead>\n",
       "    <tr style=\"text-align: right;\">\n",
       "      <th></th>\n",
       "      <th>app_id</th>\n",
       "      <th>title</th>\n",
       "      <th>date_release</th>\n",
       "      <th>win</th>\n",
       "      <th>mac</th>\n",
       "      <th>linux</th>\n",
       "      <th>rating</th>\n",
       "      <th>positive_ratio</th>\n",
       "      <th>user_reviews</th>\n",
       "      <th>price_final</th>\n",
       "      <th>price_original</th>\n",
       "      <th>discount</th>\n",
       "      <th>steam_deck</th>\n",
       "    </tr>\n",
       "  </thead>\n",
       "  <tbody>\n",
       "    <tr>\n",
       "      <th>0</th>\n",
       "      <td>13500</td>\n",
       "      <td>Prince of Persia: Warrior Within™</td>\n",
       "      <td>2008-11-21</td>\n",
       "      <td>True</td>\n",
       "      <td>False</td>\n",
       "      <td>False</td>\n",
       "      <td>Very Positive</td>\n",
       "      <td>84</td>\n",
       "      <td>2199</td>\n",
       "      <td>9.99</td>\n",
       "      <td>9.99</td>\n",
       "      <td>0.0</td>\n",
       "      <td>True</td>\n",
       "    </tr>\n",
       "    <tr>\n",
       "      <th>1</th>\n",
       "      <td>22364</td>\n",
       "      <td>BRINK: Agents of Change</td>\n",
       "      <td>2011-08-03</td>\n",
       "      <td>True</td>\n",
       "      <td>False</td>\n",
       "      <td>False</td>\n",
       "      <td>Positive</td>\n",
       "      <td>85</td>\n",
       "      <td>21</td>\n",
       "      <td>2.99</td>\n",
       "      <td>2.99</td>\n",
       "      <td>0.0</td>\n",
       "      <td>True</td>\n",
       "    </tr>\n",
       "    <tr>\n",
       "      <th>2</th>\n",
       "      <td>113020</td>\n",
       "      <td>Monaco: What's Yours Is Mine</td>\n",
       "      <td>2013-04-24</td>\n",
       "      <td>True</td>\n",
       "      <td>True</td>\n",
       "      <td>True</td>\n",
       "      <td>Very Positive</td>\n",
       "      <td>92</td>\n",
       "      <td>3722</td>\n",
       "      <td>14.99</td>\n",
       "      <td>14.99</td>\n",
       "      <td>0.0</td>\n",
       "      <td>True</td>\n",
       "    </tr>\n",
       "    <tr>\n",
       "      <th>3</th>\n",
       "      <td>226560</td>\n",
       "      <td>Escape Dead Island</td>\n",
       "      <td>2014-11-18</td>\n",
       "      <td>True</td>\n",
       "      <td>False</td>\n",
       "      <td>False</td>\n",
       "      <td>Mixed</td>\n",
       "      <td>61</td>\n",
       "      <td>873</td>\n",
       "      <td>14.99</td>\n",
       "      <td>14.99</td>\n",
       "      <td>0.0</td>\n",
       "      <td>True</td>\n",
       "    </tr>\n",
       "    <tr>\n",
       "      <th>4</th>\n",
       "      <td>249050</td>\n",
       "      <td>Dungeon of the ENDLESS™</td>\n",
       "      <td>2014-10-27</td>\n",
       "      <td>True</td>\n",
       "      <td>True</td>\n",
       "      <td>False</td>\n",
       "      <td>Very Positive</td>\n",
       "      <td>88</td>\n",
       "      <td>8784</td>\n",
       "      <td>11.99</td>\n",
       "      <td>11.99</td>\n",
       "      <td>0.0</td>\n",
       "      <td>True</td>\n",
       "    </tr>\n",
       "    <tr>\n",
       "      <th>...</th>\n",
       "      <td>...</td>\n",
       "      <td>...</td>\n",
       "      <td>...</td>\n",
       "      <td>...</td>\n",
       "      <td>...</td>\n",
       "      <td>...</td>\n",
       "      <td>...</td>\n",
       "      <td>...</td>\n",
       "      <td>...</td>\n",
       "      <td>...</td>\n",
       "      <td>...</td>\n",
       "      <td>...</td>\n",
       "      <td>...</td>\n",
       "    </tr>\n",
       "    <tr>\n",
       "      <th>50867</th>\n",
       "      <td>2296380</td>\n",
       "      <td>I Expect You To Die 3: Cog in the Machine</td>\n",
       "      <td>2023-09-28</td>\n",
       "      <td>True</td>\n",
       "      <td>False</td>\n",
       "      <td>False</td>\n",
       "      <td>Very Positive</td>\n",
       "      <td>96</td>\n",
       "      <td>101</td>\n",
       "      <td>22.00</td>\n",
       "      <td>0.00</td>\n",
       "      <td>0.0</td>\n",
       "      <td>True</td>\n",
       "    </tr>\n",
       "    <tr>\n",
       "      <th>50868</th>\n",
       "      <td>1272080</td>\n",
       "      <td>PAYDAY 3</td>\n",
       "      <td>2023-09-21</td>\n",
       "      <td>True</td>\n",
       "      <td>False</td>\n",
       "      <td>False</td>\n",
       "      <td>Mostly Negative</td>\n",
       "      <td>38</td>\n",
       "      <td>29458</td>\n",
       "      <td>40.00</td>\n",
       "      <td>0.00</td>\n",
       "      <td>0.0</td>\n",
       "      <td>True</td>\n",
       "    </tr>\n",
       "    <tr>\n",
       "      <th>50869</th>\n",
       "      <td>1402110</td>\n",
       "      <td>Eternights</td>\n",
       "      <td>2023-09-11</td>\n",
       "      <td>True</td>\n",
       "      <td>False</td>\n",
       "      <td>False</td>\n",
       "      <td>Very Positive</td>\n",
       "      <td>89</td>\n",
       "      <td>1128</td>\n",
       "      <td>30.00</td>\n",
       "      <td>0.00</td>\n",
       "      <td>0.0</td>\n",
       "      <td>True</td>\n",
       "    </tr>\n",
       "    <tr>\n",
       "      <th>50870</th>\n",
       "      <td>2272250</td>\n",
       "      <td>Forgive Me Father 2</td>\n",
       "      <td>2023-10-19</td>\n",
       "      <td>True</td>\n",
       "      <td>False</td>\n",
       "      <td>False</td>\n",
       "      <td>Very Positive</td>\n",
       "      <td>95</td>\n",
       "      <td>82</td>\n",
       "      <td>17.00</td>\n",
       "      <td>0.00</td>\n",
       "      <td>0.0</td>\n",
       "      <td>True</td>\n",
       "    </tr>\n",
       "    <tr>\n",
       "      <th>50871</th>\n",
       "      <td>2488510</td>\n",
       "      <td>FatalZone</td>\n",
       "      <td>2023-10-23</td>\n",
       "      <td>True</td>\n",
       "      <td>False</td>\n",
       "      <td>False</td>\n",
       "      <td>Very Positive</td>\n",
       "      <td>88</td>\n",
       "      <td>144</td>\n",
       "      <td>4.00</td>\n",
       "      <td>0.00</td>\n",
       "      <td>0.0</td>\n",
       "      <td>True</td>\n",
       "    </tr>\n",
       "  </tbody>\n",
       "</table>\n",
       "<p>50872 rows × 13 columns</p>\n",
       "</div>"
      ],
      "text/plain": [
       "        app_id                                      title date_release   win  \\\n",
       "0        13500          Prince of Persia: Warrior Within™   2008-11-21  True   \n",
       "1        22364                    BRINK: Agents of Change   2011-08-03  True   \n",
       "2       113020               Monaco: What's Yours Is Mine   2013-04-24  True   \n",
       "3       226560                         Escape Dead Island   2014-11-18  True   \n",
       "4       249050                    Dungeon of the ENDLESS™   2014-10-27  True   \n",
       "...        ...                                        ...          ...   ...   \n",
       "50867  2296380  I Expect You To Die 3: Cog in the Machine   2023-09-28  True   \n",
       "50868  1272080                                   PAYDAY 3   2023-09-21  True   \n",
       "50869  1402110                                 Eternights   2023-09-11  True   \n",
       "50870  2272250                        Forgive Me Father 2   2023-10-19  True   \n",
       "50871  2488510                                  FatalZone   2023-10-23  True   \n",
       "\n",
       "         mac  linux           rating  positive_ratio  user_reviews  \\\n",
       "0      False  False    Very Positive              84          2199   \n",
       "1      False  False         Positive              85            21   \n",
       "2       True   True    Very Positive              92          3722   \n",
       "3      False  False            Mixed              61           873   \n",
       "4       True  False    Very Positive              88          8784   \n",
       "...      ...    ...              ...             ...           ...   \n",
       "50867  False  False    Very Positive              96           101   \n",
       "50868  False  False  Mostly Negative              38         29458   \n",
       "50869  False  False    Very Positive              89          1128   \n",
       "50870  False  False    Very Positive              95            82   \n",
       "50871  False  False    Very Positive              88           144   \n",
       "\n",
       "       price_final  price_original  discount  steam_deck  \n",
       "0             9.99            9.99       0.0        True  \n",
       "1             2.99            2.99       0.0        True  \n",
       "2            14.99           14.99       0.0        True  \n",
       "3            14.99           14.99       0.0        True  \n",
       "4            11.99           11.99       0.0        True  \n",
       "...            ...             ...       ...         ...  \n",
       "50867        22.00            0.00       0.0        True  \n",
       "50868        40.00            0.00       0.0        True  \n",
       "50869        30.00            0.00       0.0        True  \n",
       "50870        17.00            0.00       0.0        True  \n",
       "50871         4.00            0.00       0.0        True  \n",
       "\n",
       "[50872 rows x 13 columns]"
      ]
     },
     "execution_count": 4,
     "metadata": {},
     "output_type": "execute_result"
    }
   ],
   "source": [
    "my_data = pd.read_csv(\"./games.csv\")\n",
    "my_data"
   ]
  },
  {
   "cell_type": "markdown",
   "id": "1aca0b56-81e7-4e49-a85e-6407bb3622de",
   "metadata": {},
   "source": [
    "# univariate analysis\n",
    "\n",
    "## categorical\n",
    "\n",
    "- win\n",
    "- rating\n",
    "\n",
    "## numerical\n",
    "\n",
    "- price_final\n",
    "- user_reviews"
   ]
  },
  {
   "cell_type": "markdown",
   "id": "7ea19d07-0516-4aea-9a9d-9b0f1f36fc71",
   "metadata": {},
   "source": [
    "## column win\n",
    "\n",
    "I assume that 90% of games are playable on Windows"
   ]
  },
  {
   "cell_type": "code",
   "execution_count": 5,
   "id": "fb29754f-e6ec-4f6c-8ed7-0799263ba75d",
   "metadata": {},
   "outputs": [
    {
     "data": {
      "text/plain": [
       "<Axes: ylabel='count'>"
      ]
     },
     "execution_count": 5,
     "metadata": {},
     "output_type": "execute_result"
    },
    {
     "data": {
      "image/png": "[encoded data removed]",
      "text/plain": [
       "<Figure size 640x480 with 1 Axes>"
      ]
     },
     "metadata": {},
     "output_type": "display_data"
    }
   ],
   "source": [
    "my_data[\"win\"].value_counts(dropna=True).plot(kind=\"pie\")"
   ]
  },
  {
   "cell_type": "code",
   "execution_count": 6,
   "id": "8507ea2d-f07d-4e13-a25c-f2b875e11f8c",
   "metadata": {},
   "outputs": [
    {
     "name": "stdout",
     "output_type": "stream",
     "text": [
      "Playable on windows: 98.4352885673848%\n"
     ]
    },
    {
     "data": {
      "image/png": "[encoded data removed]",
      "text/plain": [
       "<Figure size 640x480 with 1 Axes>"
      ]
     },
     "metadata": {},
     "output_type": "display_data"
    }
   ],
   "source": [
    "my_data[\"win\"].value_counts(dropna=True).plot(kind=\"bar\")\n",
    "allItems = my_data[\"win\"].value_counts(dropna=True)[True] + my_data[\"win\"].value_counts(dropna=True)[False]\n",
    "\n",
    "print(f\"Playable on windows: {(my_data[\"win\"].value_counts(dropna=True)[True] / allItems * 100)}%\")"
   ]
  },
  {
   "cell_type": "code",
   "execution_count": 7,
   "id": "9d6f07c4-d888-468c-846e-8a0d3d5f5a9d",
   "metadata": {},
   "outputs": [
    {
     "data": {
      "text/html": [
       "<div>\n",
       "<style scoped>\n",
       "    .dataframe tbody tr th:only-of-type {\n",
       "        vertical-align: middle;\n",
       "    }\n",
       "\n",
       "    .dataframe tbody tr th {\n",
       "        vertical-align: top;\n",
       "    }\n",
       "\n",
       "    .dataframe thead th {\n",
       "        text-align: right;\n",
       "    }\n",
       "</style>\n",
       "<table border=\"1\" class=\"dataframe\">\n",
       "  <thead>\n",
       "    <tr style=\"text-align: right;\">\n",
       "      <th></th>\n",
       "      <th>app_id</th>\n",
       "      <th>title</th>\n",
       "      <th>date_release</th>\n",
       "      <th>win</th>\n",
       "      <th>mac</th>\n",
       "      <th>linux</th>\n",
       "      <th>rating</th>\n",
       "      <th>positive_ratio</th>\n",
       "      <th>user_reviews</th>\n",
       "      <th>price_final</th>\n",
       "      <th>price_original</th>\n",
       "      <th>discount</th>\n",
       "      <th>steam_deck</th>\n",
       "    </tr>\n",
       "  </thead>\n",
       "  <tbody>\n",
       "    <tr>\n",
       "      <th>30</th>\n",
       "      <td>458790</td>\n",
       "      <td>The House in Fata Morgana Original Soundtrack</td>\n",
       "      <td>2016-05-13</td>\n",
       "      <td>False</td>\n",
       "      <td>False</td>\n",
       "      <td>False</td>\n",
       "      <td>Positive</td>\n",
       "      <td>100</td>\n",
       "      <td>32</td>\n",
       "      <td>11.99</td>\n",
       "      <td>11.99</td>\n",
       "      <td>0.0</td>\n",
       "      <td>True</td>\n",
       "    </tr>\n",
       "    <tr>\n",
       "      <th>109</th>\n",
       "      <td>610070</td>\n",
       "      <td>Rain World - Soundtrack</td>\n",
       "      <td>2017-03-27</td>\n",
       "      <td>False</td>\n",
       "      <td>False</td>\n",
       "      <td>False</td>\n",
       "      <td>Positive</td>\n",
       "      <td>80</td>\n",
       "      <td>30</td>\n",
       "      <td>9.99</td>\n",
       "      <td>9.99</td>\n",
       "      <td>0.0</td>\n",
       "      <td>True</td>\n",
       "    </tr>\n",
       "    <tr>\n",
       "      <th>180</th>\n",
       "      <td>453400</td>\n",
       "      <td>Squad - Original Soundtrack Vol. 1 &amp; 2</td>\n",
       "      <td>2016-04-29</td>\n",
       "      <td>False</td>\n",
       "      <td>False</td>\n",
       "      <td>False</td>\n",
       "      <td>Very Positive</td>\n",
       "      <td>93</td>\n",
       "      <td>97</td>\n",
       "      <td>6.99</td>\n",
       "      <td>6.99</td>\n",
       "      <td>0.0</td>\n",
       "      <td>True</td>\n",
       "    </tr>\n",
       "    <tr>\n",
       "      <th>204</th>\n",
       "      <td>613230</td>\n",
       "      <td>Planescape: Torment: Enhanced Edition Official...</td>\n",
       "      <td>2017-04-11</td>\n",
       "      <td>False</td>\n",
       "      <td>False</td>\n",
       "      <td>False</td>\n",
       "      <td>Mostly Positive</td>\n",
       "      <td>70</td>\n",
       "      <td>17</td>\n",
       "      <td>9.99</td>\n",
       "      <td>9.99</td>\n",
       "      <td>0.0</td>\n",
       "      <td>True</td>\n",
       "    </tr>\n",
       "    <tr>\n",
       "      <th>214</th>\n",
       "      <td>2277010</td>\n",
       "      <td>Postmouse Soundtrack</td>\n",
       "      <td>2023-01-30</td>\n",
       "      <td>False</td>\n",
       "      <td>False</td>\n",
       "      <td>False</td>\n",
       "      <td>Positive</td>\n",
       "      <td>100</td>\n",
       "      <td>27</td>\n",
       "      <td>0.00</td>\n",
       "      <td>0.00</td>\n",
       "      <td>0.0</td>\n",
       "      <td>True</td>\n",
       "    </tr>\n",
       "    <tr>\n",
       "      <th>...</th>\n",
       "      <td>...</td>\n",
       "      <td>...</td>\n",
       "      <td>...</td>\n",
       "      <td>...</td>\n",
       "      <td>...</td>\n",
       "      <td>...</td>\n",
       "      <td>...</td>\n",
       "      <td>...</td>\n",
       "      <td>...</td>\n",
       "      <td>...</td>\n",
       "      <td>...</td>\n",
       "      <td>...</td>\n",
       "      <td>...</td>\n",
       "    </tr>\n",
       "    <tr>\n",
       "      <th>50626</th>\n",
       "      <td>947910</td>\n",
       "      <td>GLAD VALAKAS SIMULATOR - Soundtrack</td>\n",
       "      <td>2018-09-21</td>\n",
       "      <td>False</td>\n",
       "      <td>False</td>\n",
       "      <td>False</td>\n",
       "      <td>Positive</td>\n",
       "      <td>92</td>\n",
       "      <td>13</td>\n",
       "      <td>0.00</td>\n",
       "      <td>0.00</td>\n",
       "      <td>0.0</td>\n",
       "      <td>True</td>\n",
       "    </tr>\n",
       "    <tr>\n",
       "      <th>50628</th>\n",
       "      <td>1782140</td>\n",
       "      <td>Yupitergrad 🚀: Sneaki Soundtrack</td>\n",
       "      <td>2021-10-29</td>\n",
       "      <td>False</td>\n",
       "      <td>False</td>\n",
       "      <td>False</td>\n",
       "      <td>Positive</td>\n",
       "      <td>100</td>\n",
       "      <td>12</td>\n",
       "      <td>0.00</td>\n",
       "      <td>0.00</td>\n",
       "      <td>0.0</td>\n",
       "      <td>True</td>\n",
       "    </tr>\n",
       "    <tr>\n",
       "      <th>50655</th>\n",
       "      <td>1126650</td>\n",
       "      <td>The Forgotten: Soundtrack</td>\n",
       "      <td>2021-03-13</td>\n",
       "      <td>False</td>\n",
       "      <td>False</td>\n",
       "      <td>False</td>\n",
       "      <td>Positive</td>\n",
       "      <td>90</td>\n",
       "      <td>10</td>\n",
       "      <td>0.00</td>\n",
       "      <td>0.00</td>\n",
       "      <td>0.0</td>\n",
       "      <td>True</td>\n",
       "    </tr>\n",
       "    <tr>\n",
       "      <th>50677</th>\n",
       "      <td>945690</td>\n",
       "      <td>CardLife: Soundtrack</td>\n",
       "      <td>2018-10-09</td>\n",
       "      <td>False</td>\n",
       "      <td>False</td>\n",
       "      <td>False</td>\n",
       "      <td>Mostly Positive</td>\n",
       "      <td>70</td>\n",
       "      <td>10</td>\n",
       "      <td>0.00</td>\n",
       "      <td>0.00</td>\n",
       "      <td>0.0</td>\n",
       "      <td>True</td>\n",
       "    </tr>\n",
       "    <tr>\n",
       "      <th>50692</th>\n",
       "      <td>921640</td>\n",
       "      <td>Demon King Domination - Soundtrack</td>\n",
       "      <td>2019-05-08</td>\n",
       "      <td>False</td>\n",
       "      <td>False</td>\n",
       "      <td>False</td>\n",
       "      <td>Positive</td>\n",
       "      <td>88</td>\n",
       "      <td>17</td>\n",
       "      <td>0.00</td>\n",
       "      <td>0.00</td>\n",
       "      <td>0.0</td>\n",
       "      <td>True</td>\n",
       "    </tr>\n",
       "  </tbody>\n",
       "</table>\n",
       "<p>796 rows × 13 columns</p>\n",
       "</div>"
      ],
      "text/plain": [
       "        app_id                                              title  \\\n",
       "30      458790      The House in Fata Morgana Original Soundtrack   \n",
       "109     610070                            Rain World - Soundtrack   \n",
       "180     453400             Squad - Original Soundtrack Vol. 1 & 2   \n",
       "204     613230  Planescape: Torment: Enhanced Edition Official...   \n",
       "214    2277010                               Postmouse Soundtrack   \n",
       "...        ...                                                ...   \n",
       "50626   947910                GLAD VALAKAS SIMULATOR - Soundtrack   \n",
       "50628  1782140                   Yupitergrad 🚀: Sneaki Soundtrack   \n",
       "50655  1126650                          The Forgotten: Soundtrack   \n",
       "50677   945690                               CardLife: Soundtrack   \n",
       "50692   921640                 Demon King Domination - Soundtrack   \n",
       "\n",
       "      date_release    win    mac  linux           rating  positive_ratio  \\\n",
       "30      2016-05-13  False  False  False         Positive             100   \n",
       "109     2017-03-27  False  False  False         Positive              80   \n",
       "180     2016-04-29  False  False  False    Very Positive              93   \n",
       "204     2017-04-11  False  False  False  Mostly Positive              70   \n",
       "214     2023-01-30  False  False  False         Positive             100   \n",
       "...            ...    ...    ...    ...              ...             ...   \n",
       "50626   2018-09-21  False  False  False         Positive              92   \n",
       "50628   2021-10-29  False  False  False         Positive             100   \n",
       "50655   2021-03-13  False  False  False         Positive              90   \n",
       "50677   2018-10-09  False  False  False  Mostly Positive              70   \n",
       "50692   2019-05-08  False  False  False         Positive              88   \n",
       "\n",
       "       user_reviews  price_final  price_original  discount  steam_deck  \n",
       "30               32        11.99           11.99       0.0        True  \n",
       "109              30         9.99            9.99       0.0        True  \n",
       "180              97         6.99            6.99       0.0        True  \n",
       "204              17         9.99            9.99       0.0        True  \n",
       "214              27         0.00            0.00       0.0        True  \n",
       "...             ...          ...             ...       ...         ...  \n",
       "50626            13         0.00            0.00       0.0        True  \n",
       "50628            12         0.00            0.00       0.0        True  \n",
       "50655            10         0.00            0.00       0.0        True  \n",
       "50677            10         0.00            0.00       0.0        True  \n",
       "50692            17         0.00            0.00       0.0        True  \n",
       "\n",
       "[796 rows x 13 columns]"
      ]
     },
     "execution_count": 7,
     "metadata": {},
     "output_type": "execute_result"
    }
   ],
   "source": [
    "my_data[my_data[\"win\"] == False]"
   ]
  },
  {
   "cell_type": "markdown",
   "id": "6a7adaa0-3fc9-4972-8d8f-a2467122119b",
   "metadata": {},
   "source": [
    "### Result1\n",
    "\n",
    "I assumed it was 90% but it was 98% which is close but not correct.\n",
    "\n",
    "And this is apparently mostly just soundtracks that don't support windows\n"
   ]
  },
  {
   "cell_type": "markdown",
   "id": "8efef4e9-b0ef-460d-bce8-145f53b642b1",
   "metadata": {},
   "source": [
    "### column rating\n",
    "\n",
    "#### guess 1\n",
    "\n",
    "I am assuming that most games have a positive rating. I am going to guess that 69% of the games has a positive rating (any varient) and 31% negative (any varient)\n",
    "\n",
    "#### Guess 2\n",
    "\n",
    "I am assuming that out of all categories we have Mostly \"Positive\" for about 30%, 20% \"mostly negative\", followed by \"mostly positive\", \"Very Positive\", \"Very Negative\", \"Orewhelmingly positive\", \"negative\", \"mixed\", \"overwhelmingly negative\"\n",
    "\n",
    "\n"
   ]
  },
  {
   "cell_type": "code",
   "execution_count": 8,
   "id": "d5d43789-dbe1-4423-b53c-c4161f5cb29e",
   "metadata": {},
   "outputs": [
    {
     "data": {
      "text/plain": [
       "<Axes: xlabel='rating_category'>"
      ]
     },
     "execution_count": 8,
     "metadata": {},
     "output_type": "execute_result"
    },
    {
     "data": {
      "image/png": "[encoded data removed]",
      "text/plain": [
       "<Figure size 640x480 with 1 Axes>"
      ]
     },
     "metadata": {},
     "output_type": "display_data"
    }
   ],
   "source": [
    "\n",
    "filtered_data = my_data[my_data[\"rating\"] != \"Mixed\"].copy()\n",
    "\n",
    "positive_ratings = [\n",
    "    \"Positive\", \"Very Positive\", \"Mostly Positive\", \"Overwhelmingly Positive\"\n",
    "]\n",
    "negative_ratings = [\n",
    "    \"Negative\", \"Very Negative\", \"Mostly Negative\", \"Overwhelmingly Negative\"\n",
    "]\n",
    "\n",
    "filtered_data[\"rating_category\"] = filtered_data[\"rating\"].apply(\n",
    "    lambda x: \"Positive\" if x in positive_ratings else \"Negative\"\n",
    ")\n",
    "filtered_data[\"rating_category\"].value_counts(dropna=True).plot(kind=\"bar\")"
   ]
  },
  {
   "cell_type": "code",
   "execution_count": 9,
   "id": "e429a86c-1ecd-4838-ab92-b2514214c02c",
   "metadata": {},
   "outputs": [
    {
     "name": "stdout",
     "output_type": "stream",
     "text": [
      "Positive Reviews: 94.25029058504457%\n",
      "Negative Reviews: 5.7497094149554435%\n"
     ]
    }
   ],
   "source": [
    "allItems = filtered_data[\"rating_category\"].value_counts(dropna=True)[\"Negative\"] + filtered_data[\"rating_category\"].value_counts(dropna=True)[\"Positive\"]\n",
    "\n",
    "print(f\"Positive Reviews: {(filtered_data[\"rating_category\"].value_counts(dropna=True)[\"Positive\"] / allItems * 100)}%\")\n",
    "print(f\"Negative Reviews: {(filtered_data[\"rating_category\"].value_counts(dropna=True)[\"Negative\"] / allItems * 100)}%\")"
   ]
  },
  {
   "cell_type": "markdown",
   "id": "2b55403a-85a6-4422-b83f-6e132baddb44",
   "metadata": {},
   "source": [
    "#### Guess 1 result: \n",
    "\n",
    "i was wrong, by a lot. I guessed 69%, but it is 94% (ognorign the mixed category)"
   ]
  },
  {
   "cell_type": "code",
   "execution_count": 10,
   "id": "4afbcc63-1d7c-453a-b301-8c49a6f30c53",
   "metadata": {},
   "outputs": [
    {
     "data": {
      "text/plain": [
       "<Axes: xlabel='rating'>"
      ]
     },
     "execution_count": 10,
     "metadata": {},
     "output_type": "execute_result"
    },
    {
     "data": {
      "image/png": "[encoded data removed]",
      "text/plain": [
       "<Figure size 640x480 with 1 Axes>"
      ]
     },
     "metadata": {},
     "output_type": "display_data"
    }
   ],
   "source": [
    "my_data[\"rating\"].value_counts(dropna=True).plot(kind=\"bar\")\n"
   ]
  },
  {
   "cell_type": "code",
   "execution_count": 11,
   "id": "29c19c3c-b7ff-4ead-b4af-e25fbe80f5ae",
   "metadata": {},
   "outputs": [
    {
     "name": "stdout",
     "output_type": "stream",
     "text": [
      "Positive: 26.541122818053154%\n",
      "Very Positive: 25.8275672275515%\n",
      "Overwhelmingly Positive: 2.18194684698852%\n",
      "Mostly Positive: 17.176442836924043%\n",
      "Mixed: 23.897232269224723%\n",
      "Negative: 0.595612517691461%\n",
      "Very Negative: 0.11794307281019027%\n",
      "Overwhelmingly Negative: 0.027520050322377733%\n",
      "Mostly Negative: 3.634612360434031%\n"
     ]
    }
   ],
   "source": [
    "allItems = my_data[\"win\"].value_counts(dropna=True)[True] + my_data[\"win\"].value_counts(dropna=True)[False]\n",
    "\n",
    "print(f\"Positive: {(my_data[\"rating\"].value_counts(dropna=True)[\"Positive\"] / allItems * 100)}%\")\n",
    "print(f\"Very Positive: {(my_data[\"rating\"].value_counts(dropna=True)[\"Very Positive\"] / allItems * 100)}%\")\n",
    "print(f\"Overwhelmingly Positive: {(my_data[\"rating\"].value_counts(dropna=True)[\"Overwhelmingly Positive\"] / allItems * 100)}%\")\n",
    "print(f\"Mostly Positive: {(my_data[\"rating\"].value_counts(dropna=True)[\"Mostly Positive\"] / allItems * 100)}%\")\n",
    "print(f\"Mixed: {(my_data[\"rating\"].value_counts(dropna=True)[\"Mixed\"] / allItems * 100)}%\")\n",
    "print(f\"Negative: {(my_data[\"rating\"].value_counts(dropna=True)[\"Negative\"] / allItems * 100)}%\")\n",
    "print(f\"Very Negative: {(my_data[\"rating\"].value_counts(dropna=True)[\"Very Negative\"] / allItems * 100)}%\")\n",
    "print(f\"Overwhelmingly Negative: {(my_data[\"rating\"].value_counts(dropna=True)[\"Overwhelmingly Negative\"] / allItems * 100)}%\")\n",
    "print(f\"Mostly Negative: {(my_data[\"rating\"].value_counts(dropna=True)[\"Mostly Negative\"] / allItems * 100)}%\")"
   ]
  },
  {
   "cell_type": "markdown",
   "id": "7cdf0b06-03de-48b7-9038-1b591f9a0abb",
   "metadata": {},
   "source": [
    "#### Guess 2 result:\n",
    "\n",
    "yeah i was wrong, positive was 26% instead of 30% which is close, but then it goes downhill from there"
   ]
  },
  {
   "cell_type": "markdown",
   "id": "99ea263d-243a-4057-a1ea-e39768b40a11",
   "metadata": {},
   "source": [
    "## Numerical\n",
    "\n",
    "### price_final\n",
    "\n",
    "I am guessing that the average game will be 25 bucks. The mean will probably be 27 or 23 bucks. and i am assuming a few outliers in the dataset. the min will be 0. but i am assuming that the max will be somewhere in the 1K"
   ]
  },
  {
   "cell_type": "code",
   "execution_count": 12,
   "id": "d41a15b2-f703-493c-b30f-ba84acd3cfbe",
   "metadata": {},
   "outputs": [
    {
     "data": {
      "text/plain": [
       "<Axes: >"
      ]
     },
     "execution_count": 12,
     "metadata": {},
     "output_type": "execute_result"
    },
    {
     "data": {
      "image/png": "[encoded data removed]",
      "text/plain": [
       "<Figure size 640x480 with 1 Axes>"
      ]
     },
     "metadata": {},
     "output_type": "display_data"
    }
   ],
   "source": [
    "my_data[\"price_final\"].plot(kind=\"box\")\n"
   ]
  },
  {
   "cell_type": "markdown",
   "id": "783d8eef-289a-454d-a27e-b7dbcd87eac6",
   "metadata": {},
   "source": [
    "there are a lot more outliers than i thought\n",
    "\n",
    "i'll be removing all outliers above 30\n"
   ]
  },
  {
   "cell_type": "code",
   "execution_count": 25,
   "id": "45e82641-e42a-4657-b74b-cfa879058e8e",
   "metadata": {},
   "outputs": [
    {
     "data": {
      "text/plain": [
       "<Axes: >"
      ]
     },
     "execution_count": 25,
     "metadata": {},
     "output_type": "execute_result"
    },
    {
     "data": {
      "image/png": "[encoded data removed]",
      "text/plain": [
       "<Figure size 640x480 with 1 Axes>"
      ]
     },
     "metadata": {},
     "output_type": "display_data"
    }
   ],
   "source": [
    "my_data[my_data[\"price_final\"] < 30][\"price_final\"].plot(kind=\"box\")"
   ]
  },
  {
   "cell_type": "markdown",
   "id": "a1e789da-e785-4c19-a6d2-12755430bf6b",
   "metadata": {},
   "source": [
    "still more outliers so i'll remove everything above 24"
   ]
  },
  {
   "cell_type": "code",
   "execution_count": 22,
   "id": "762d3f44-4a0f-45da-8276-b66223d4b46d",
   "metadata": {},
   "outputs": [
    {
     "data": {
      "text/plain": [
       "<Axes: >"
      ]
     },
     "execution_count": 22,
     "metadata": {},
     "output_type": "execute_result"
    },
    {
     "data": {
      "image/png": "[encoded data removed]",
      "text/plain": [
       "<Figure size 640x480 with 1 Axes>"
      ]
     },
     "metadata": {},
     "output_type": "display_data"
    }
   ],
   "source": [
    "my_data[my_data[\"price_final\"] < 23][\"price_final\"].plot(kind=\"box\")"
   ]
  },
  {
   "cell_type": "markdown",
   "id": "402edb2b-6048-467a-98d4-1e8836e7465d",
   "metadata": {},
   "source": [
    "we can see the average is 5 dollar, and the gueass i had is not even in the boxplot xD.\n",
    "i am wrong once again."
   ]
  },
  {
   "cell_type": "code",
   "execution_count": 55,
   "id": "d1eff1b8-29f7-4c69-9595-c5ff2742dd91",
   "metadata": {},
   "outputs": [
    {
     "data": {
      "text/plain": [
       "np.float64(7.784222888555722)"
      ]
     },
     "execution_count": 55,
     "metadata": {},
     "output_type": "execute_result"
    }
   ],
   "source": [
    "my_data[(my_data[\"price_final\"] < 23) & (my_data[\"price_final\"] > 0)][\"price_final\"].mean()\n"
   ]
  },
  {
   "cell_type": "markdown",
   "id": "7f23195d-e2bb-4f19-8f5a-440aecd58fd1",
   "metadata": {},
   "source": [
    "ja de mean is 7.7 dollar"
   ]
  },
  {
   "cell_type": "markdown",
   "id": "de66c11e-c32c-4a86-8eb2-37e6472530de",
   "metadata": {},
   "source": [
    "## Numerical\n",
    "\n",
    "### user_reviews\n",
    "\n",
    "I actually have no clue. Maybe an average of 112 reviews per game?"
   ]
  },
  {
   "cell_type": "code",
   "execution_count": 37,
   "id": "85e33166-493c-4715-81c8-4d62aa96da3d",
   "metadata": {},
   "outputs": [
    {
     "data": {
      "text/plain": [
       "<Axes: >"
      ]
     },
     "execution_count": 37,
     "metadata": {},
     "output_type": "execute_result"
    },
    {
     "data": {
      "image/png": "[encoded data removed]",
      "text/plain": [
       "<Figure size 640x480 with 1 Axes>"
      ]
     },
     "metadata": {},
     "output_type": "display_data"
    }
   ],
   "source": [
    "my_data[\"user_reviews\"].plot(kind=\"box\")"
   ]
  },
  {
   "cell_type": "markdown",
   "id": "16e40c00-5530-410d-b462-35f0bc706ccd",
   "metadata": {},
   "source": [
    "there is something weird going on, let's look at the outliers"
   ]
  },
  {
   "cell_type": "code",
   "execution_count": 40,
   "id": "a67575de-c5ea-4e4a-8aef-0cbadd48806a",
   "metadata": {},
   "outputs": [
    {
     "name": "stdout",
     "output_type": "stream",
     "text": [
      "486.5\n"
     ]
    },
    {
     "data": {
      "text/html": [
       "<div>\n",
       "<style scoped>\n",
       "    .dataframe tbody tr th:only-of-type {\n",
       "        vertical-align: middle;\n",
       "    }\n",
       "\n",
       "    .dataframe tbody tr th {\n",
       "        vertical-align: top;\n",
       "    }\n",
       "\n",
       "    .dataframe thead th {\n",
       "        text-align: right;\n",
       "    }\n",
       "</style>\n",
       "<table border=\"1\" class=\"dataframe\">\n",
       "  <thead>\n",
       "    <tr style=\"text-align: right;\">\n",
       "      <th></th>\n",
       "      <th>app_id</th>\n",
       "      <th>title</th>\n",
       "      <th>date_release</th>\n",
       "      <th>win</th>\n",
       "      <th>mac</th>\n",
       "      <th>linux</th>\n",
       "      <th>rating</th>\n",
       "      <th>positive_ratio</th>\n",
       "      <th>user_reviews</th>\n",
       "      <th>price_final</th>\n",
       "      <th>price_original</th>\n",
       "      <th>discount</th>\n",
       "      <th>steam_deck</th>\n",
       "    </tr>\n",
       "  </thead>\n",
       "  <tbody>\n",
       "    <tr>\n",
       "      <th>0</th>\n",
       "      <td>13500</td>\n",
       "      <td>Prince of Persia: Warrior Within™</td>\n",
       "      <td>2008-11-21</td>\n",
       "      <td>True</td>\n",
       "      <td>False</td>\n",
       "      <td>False</td>\n",
       "      <td>Very Positive</td>\n",
       "      <td>84</td>\n",
       "      <td>2199</td>\n",
       "      <td>9.99</td>\n",
       "      <td>9.99</td>\n",
       "      <td>0.0</td>\n",
       "      <td>True</td>\n",
       "    </tr>\n",
       "    <tr>\n",
       "      <th>2</th>\n",
       "      <td>113020</td>\n",
       "      <td>Monaco: What's Yours Is Mine</td>\n",
       "      <td>2013-04-24</td>\n",
       "      <td>True</td>\n",
       "      <td>True</td>\n",
       "      <td>True</td>\n",
       "      <td>Very Positive</td>\n",
       "      <td>92</td>\n",
       "      <td>3722</td>\n",
       "      <td>14.99</td>\n",
       "      <td>14.99</td>\n",
       "      <td>0.0</td>\n",
       "      <td>True</td>\n",
       "    </tr>\n",
       "    <tr>\n",
       "      <th>3</th>\n",
       "      <td>226560</td>\n",
       "      <td>Escape Dead Island</td>\n",
       "      <td>2014-11-18</td>\n",
       "      <td>True</td>\n",
       "      <td>False</td>\n",
       "      <td>False</td>\n",
       "      <td>Mixed</td>\n",
       "      <td>61</td>\n",
       "      <td>873</td>\n",
       "      <td>14.99</td>\n",
       "      <td>14.99</td>\n",
       "      <td>0.0</td>\n",
       "      <td>True</td>\n",
       "    </tr>\n",
       "    <tr>\n",
       "      <th>4</th>\n",
       "      <td>249050</td>\n",
       "      <td>Dungeon of the ENDLESS™</td>\n",
       "      <td>2014-10-27</td>\n",
       "      <td>True</td>\n",
       "      <td>True</td>\n",
       "      <td>False</td>\n",
       "      <td>Very Positive</td>\n",
       "      <td>88</td>\n",
       "      <td>8784</td>\n",
       "      <td>11.99</td>\n",
       "      <td>11.99</td>\n",
       "      <td>0.0</td>\n",
       "      <td>True</td>\n",
       "    </tr>\n",
       "    <tr>\n",
       "      <th>5</th>\n",
       "      <td>250180</td>\n",
       "      <td>METAL SLUG 3</td>\n",
       "      <td>2015-09-14</td>\n",
       "      <td>True</td>\n",
       "      <td>False</td>\n",
       "      <td>False</td>\n",
       "      <td>Very Positive</td>\n",
       "      <td>90</td>\n",
       "      <td>5579</td>\n",
       "      <td>7.99</td>\n",
       "      <td>7.99</td>\n",
       "      <td>0.0</td>\n",
       "      <td>True</td>\n",
       "    </tr>\n",
       "    <tr>\n",
       "      <th>...</th>\n",
       "      <td>...</td>\n",
       "      <td>...</td>\n",
       "      <td>...</td>\n",
       "      <td>...</td>\n",
       "      <td>...</td>\n",
       "      <td>...</td>\n",
       "      <td>...</td>\n",
       "      <td>...</td>\n",
       "      <td>...</td>\n",
       "      <td>...</td>\n",
       "      <td>...</td>\n",
       "      <td>...</td>\n",
       "      <td>...</td>\n",
       "    </tr>\n",
       "    <tr>\n",
       "      <th>50853</th>\n",
       "      <td>1931730</td>\n",
       "      <td>Fort Solis</td>\n",
       "      <td>2023-08-22</td>\n",
       "      <td>True</td>\n",
       "      <td>False</td>\n",
       "      <td>False</td>\n",
       "      <td>Mostly Positive</td>\n",
       "      <td>71</td>\n",
       "      <td>667</td>\n",
       "      <td>20.00</td>\n",
       "      <td>0.00</td>\n",
       "      <td>0.0</td>\n",
       "      <td>True</td>\n",
       "    </tr>\n",
       "    <tr>\n",
       "      <th>50860</th>\n",
       "      <td>2441270</td>\n",
       "      <td>Kill The Crows</td>\n",
       "      <td>2023-08-20</td>\n",
       "      <td>True</td>\n",
       "      <td>False</td>\n",
       "      <td>False</td>\n",
       "      <td>Overwhelmingly Positive</td>\n",
       "      <td>96</td>\n",
       "      <td>517</td>\n",
       "      <td>5.00</td>\n",
       "      <td>0.00</td>\n",
       "      <td>0.0</td>\n",
       "      <td>True</td>\n",
       "    </tr>\n",
       "    <tr>\n",
       "      <th>50865</th>\n",
       "      <td>2195250</td>\n",
       "      <td>EA SPORTS FC™ 24</td>\n",
       "      <td>2023-09-28</td>\n",
       "      <td>True</td>\n",
       "      <td>False</td>\n",
       "      <td>False</td>\n",
       "      <td>Mixed</td>\n",
       "      <td>55</td>\n",
       "      <td>4473</td>\n",
       "      <td>70.00</td>\n",
       "      <td>0.00</td>\n",
       "      <td>0.0</td>\n",
       "      <td>True</td>\n",
       "    </tr>\n",
       "    <tr>\n",
       "      <th>50868</th>\n",
       "      <td>1272080</td>\n",
       "      <td>PAYDAY 3</td>\n",
       "      <td>2023-09-21</td>\n",
       "      <td>True</td>\n",
       "      <td>False</td>\n",
       "      <td>False</td>\n",
       "      <td>Mostly Negative</td>\n",
       "      <td>38</td>\n",
       "      <td>29458</td>\n",
       "      <td>40.00</td>\n",
       "      <td>0.00</td>\n",
       "      <td>0.0</td>\n",
       "      <td>True</td>\n",
       "    </tr>\n",
       "    <tr>\n",
       "      <th>50869</th>\n",
       "      <td>1402110</td>\n",
       "      <td>Eternights</td>\n",
       "      <td>2023-09-11</td>\n",
       "      <td>True</td>\n",
       "      <td>False</td>\n",
       "      <td>False</td>\n",
       "      <td>Very Positive</td>\n",
       "      <td>89</td>\n",
       "      <td>1128</td>\n",
       "      <td>30.00</td>\n",
       "      <td>0.00</td>\n",
       "      <td>0.0</td>\n",
       "      <td>True</td>\n",
       "    </tr>\n",
       "  </tbody>\n",
       "</table>\n",
       "<p>8067 rows × 13 columns</p>\n",
       "</div>"
      ],
      "text/plain": [
       "        app_id                              title date_release   win    mac  \\\n",
       "0        13500  Prince of Persia: Warrior Within™   2008-11-21  True  False   \n",
       "2       113020       Monaco: What's Yours Is Mine   2013-04-24  True   True   \n",
       "3       226560                 Escape Dead Island   2014-11-18  True  False   \n",
       "4       249050            Dungeon of the ENDLESS™   2014-10-27  True   True   \n",
       "5       250180                       METAL SLUG 3   2015-09-14  True  False   \n",
       "...        ...                                ...          ...   ...    ...   \n",
       "50853  1931730                         Fort Solis   2023-08-22  True  False   \n",
       "50860  2441270                     Kill The Crows   2023-08-20  True  False   \n",
       "50865  2195250                   EA SPORTS FC™ 24   2023-09-28  True  False   \n",
       "50868  1272080                           PAYDAY 3   2023-09-21  True  False   \n",
       "50869  1402110                         Eternights   2023-09-11  True  False   \n",
       "\n",
       "       linux                   rating  positive_ratio  user_reviews  \\\n",
       "0      False            Very Positive              84          2199   \n",
       "2       True            Very Positive              92          3722   \n",
       "3      False                    Mixed              61           873   \n",
       "4      False            Very Positive              88          8784   \n",
       "5      False            Very Positive              90          5579   \n",
       "...      ...                      ...             ...           ...   \n",
       "50853  False          Mostly Positive              71           667   \n",
       "50860  False  Overwhelmingly Positive              96           517   \n",
       "50865  False                    Mixed              55          4473   \n",
       "50868  False          Mostly Negative              38         29458   \n",
       "50869  False            Very Positive              89          1128   \n",
       "\n",
       "       price_final  price_original  discount  steam_deck  \n",
       "0             9.99            9.99       0.0        True  \n",
       "2            14.99           14.99       0.0        True  \n",
       "3            14.99           14.99       0.0        True  \n",
       "4            11.99           11.99       0.0        True  \n",
       "5             7.99            7.99       0.0        True  \n",
       "...            ...             ...       ...         ...  \n",
       "50853        20.00            0.00       0.0        True  \n",
       "50860         5.00            0.00       0.0        True  \n",
       "50865        70.00            0.00       0.0        True  \n",
       "50868        40.00            0.00       0.0        True  \n",
       "50869        30.00            0.00       0.0        True  \n",
       "\n",
       "[8067 rows x 13 columns]"
      ]
     },
     "execution_count": 40,
     "metadata": {},
     "output_type": "execute_result"
    }
   ],
   "source": [
    "q1 = my_data[\"user_reviews\"].quantile(0.25)\n",
    "q3 = my_data[\"user_reviews\"].quantile(0.75)\n",
    "iqr = q3 - q1\n",
    "\n",
    "lower_bound = q1 - 1.5 * iqr\n",
    "upper_bound = q3 + 1.5 * iqr\n",
    "\n",
    "print(upper_bound)\n",
    "\n",
    "outliers = my_data[(my_data[\"user_reviews\"] < lower_bound) | (my_data[\"user_reviews\"] > upper_bound)]\n",
    "\n",
    "outliers\n",
    "\n"
   ]
  },
  {
   "cell_type": "markdown",
   "id": "977fc782-4fc5-4e26-815b-ce01fc80e4c7",
   "metadata": {},
   "source": [
    "So now we know the upper bound is 486.5, lets filter everything out above it"
   ]
  },
  {
   "cell_type": "code",
   "execution_count": 47,
   "id": "aecf342f-28da-4e5b-991d-a288561ea9fa",
   "metadata": {},
   "outputs": [
    {
     "data": {
      "text/plain": [
       "<Axes: >"
      ]
     },
     "execution_count": 47,
     "metadata": {},
     "output_type": "execute_result"
    },
    {
     "data": {
      "image/png": "[encoded data removed]",
      "text/plain": [
       "<Figure size 640x480 with 1 Axes>"
      ]
     },
     "metadata": {},
     "output_type": "display_data"
    }
   ],
   "source": [
    "my_data[\"user_reviews\"].plot(kind=\"box\", showfliers=False)\n"
   ]
  },
  {
   "cell_type": "markdown",
   "id": "364a773c-5a65-4de3-8a25-a190bca065c6",
   "metadata": {},
   "source": [
    "nou nou zeg, zit ik alweer fout. t gemiddelde is ongeveer 60, ik zat te gokken op 112"
   ]
  },
  {
   "cell_type": "code",
   "execution_count": 53,
   "id": "7a25ca2e-5d04-48c9-bac0-63a68bf52f1d",
   "metadata": {},
   "outputs": [
    {
     "data": {
      "text/plain": [
       "np.float64(79.13214976351902)"
      ]
     },
     "execution_count": 53,
     "metadata": {},
     "output_type": "execute_result"
    }
   ],
   "source": [
    "my_data[(my_data[\"user_reviews\"] < 500) & (my_data[\"user_reviews\"] > 0)][\"user_reviews\"].mean()\n"
   ]
  },
  {
   "cell_type": "markdown",
   "id": "ecf6a07b-fd68-456d-8914-31f2834c9f7b",
   "metadata": {},
   "source": [
    "de mean is 80 omdat ik de outliers er uit heb ghaald"
   ]
  },
  {
   "cell_type": "code",
   "execution_count": null,
   "id": "c69cff9e-f719-4f65-8ef8-0b87a2a2c8ee",
   "metadata": {},
   "outputs": [],
   "source": []
  }
 ],
 "metadata": {
  "kernelspec": {
   "display_name": "Python 3 (ipykernel)",
   "language": "python",
   "name": "python3"
  },
  "language_info": {
   "codemirror_mode": {
    "name": "ipython",
    "version": 3
   },
   "file_extension": ".py",
   "mimetype": "text/x-python",
   "name": "python",
   "nbconvert_exporter": "python",
   "pygments_lexer": "ipython3",
   "version": "3.13.2"
  }
 },
 "nbformat": 4,
 "nbformat_minor": 5
}
