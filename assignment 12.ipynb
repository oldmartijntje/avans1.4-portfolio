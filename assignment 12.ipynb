{
 "cells": [
  {
   "cell_type": "markdown",
   "id": "98eb851f-cfe2-4c31-9a4a-46aed65180be",
   "metadata": {},
   "source": "# Gemaakt op 07/05/2025 door martijn"
  },
  {
   "cell_type": "code",
   "id": "14f922c8-bd80-47f3-9e2b-ab299d7dfb41",
   "metadata": {
    "ExecuteTime": {
     "end_time": "2025-05-07T18:20:05.418146Z",
     "start_time": "2025-05-07T18:20:05.415977Z"
    }
   },
   "source": [
    "import pandas as pd\n",
    "import seaborn as sns\n",
    "import numpy as np\n",
    "import scipy.stats as st"
   ],
   "outputs": [],
   "execution_count": 2
  },
  {
   "cell_type": "markdown",
   "id": "7b3f280e-a3b2-42d5-b42b-d62c63e453ca",
   "metadata": {},
   "source": [
    "### Portfolio assignment 12\n",
    "30 min: Perform a bivariate analysis on at least 3 combinations of a numerical column with a categorical column in the dataset that you chose in portfolio assignment 4. Use <em>.groupby('columnname').mean()</em> to calculate the means. Is there a difference between categories? Then use seaborn barplots to check if there is a statistically significant difference."
   ]
  },
  {
   "cell_type": "code",
   "id": "a282983f-5ce2-458c-bd26-de8ad12e503b",
   "metadata": {
    "ExecuteTime": {
     "end_time": "2025-05-07T18:20:06.857797Z",
     "start_time": "2025-05-07T18:20:06.784188Z"
    }
   },
   "source": [
    "my_data = pd.read_csv(\"./games.csv\")\n",
    "my_data"
   ],
   "outputs": [
    {
     "data": {
      "text/plain": [
       "        app_id                                      title date_release   win  \\\n",
       "0        13500          Prince of Persia: Warrior Within™   2008-11-21  True   \n",
       "1        22364                    BRINK: Agents of Change   2011-08-03  True   \n",
       "2       113020               Monaco: What's Yours Is Mine   2013-04-24  True   \n",
       "3       226560                         Escape Dead Island   2014-11-18  True   \n",
       "4       249050                    Dungeon of the ENDLESS™   2014-10-27  True   \n",
       "...        ...                                        ...          ...   ...   \n",
       "50867  2296380  I Expect You To Die 3: Cog in the Machine   2023-09-28  True   \n",
       "50868  1272080                                   PAYDAY 3   2023-09-21  True   \n",
       "50869  1402110                                 Eternights   2023-09-11  True   \n",
       "50870  2272250                        Forgive Me Father 2   2023-10-19  True   \n",
       "50871  2488510                                  FatalZone   2023-10-23  True   \n",
       "\n",
       "         mac  linux           rating  positive_ratio  user_reviews  \\\n",
       "0      False  False    Very Positive              84          2199   \n",
       "1      False  False         Positive              85            21   \n",
       "2       True   True    Very Positive              92          3722   \n",
       "3      False  False            Mixed              61           873   \n",
       "4       True  False    Very Positive              88          8784   \n",
       "...      ...    ...              ...             ...           ...   \n",
       "50867  False  False    Very Positive              96           101   \n",
       "50868  False  False  Mostly Negative              38         29458   \n",
       "50869  False  False    Very Positive              89          1128   \n",
       "50870  False  False    Very Positive              95            82   \n",
       "50871  False  False    Very Positive              88           144   \n",
       "\n",
       "       price_final  price_original  discount  steam_deck  \n",
       "0             9.99            9.99       0.0        True  \n",
       "1             2.99            2.99       0.0        True  \n",
       "2            14.99           14.99       0.0        True  \n",
       "3            14.99           14.99       0.0        True  \n",
       "4            11.99           11.99       0.0        True  \n",
       "...            ...             ...       ...         ...  \n",
       "50867        22.00            0.00       0.0        True  \n",
       "50868        40.00            0.00       0.0        True  \n",
       "50869        30.00            0.00       0.0        True  \n",
       "50870        17.00            0.00       0.0        True  \n",
       "50871         4.00            0.00       0.0        True  \n",
       "\n",
       "[50872 rows x 13 columns]"
      ],
      "text/html": [
       "<div>\n",
       "<style scoped>\n",
       "    .dataframe tbody tr th:only-of-type {\n",
       "        vertical-align: middle;\n",
       "    }\n",
       "\n",
       "    .dataframe tbody tr th {\n",
       "        vertical-align: top;\n",
       "    }\n",
       "\n",
       "    .dataframe thead th {\n",
       "        text-align: right;\n",
       "    }\n",
       "</style>\n",
       "<table border=\"1\" class=\"dataframe\">\n",
       "  <thead>\n",
       "    <tr style=\"text-align: right;\">\n",
       "      <th></th>\n",
       "      <th>app_id</th>\n",
       "      <th>title</th>\n",
       "      <th>date_release</th>\n",
       "      <th>win</th>\n",
       "      <th>mac</th>\n",
       "      <th>linux</th>\n",
       "      <th>rating</th>\n",
       "      <th>positive_ratio</th>\n",
       "      <th>user_reviews</th>\n",
       "      <th>price_final</th>\n",
       "      <th>price_original</th>\n",
       "      <th>discount</th>\n",
       "      <th>steam_deck</th>\n",
       "    </tr>\n",
       "  </thead>\n",
       "  <tbody>\n",
       "    <tr>\n",
       "      <th>0</th>\n",
       "      <td>13500</td>\n",
       "      <td>Prince of Persia: Warrior Within™</td>\n",
       "      <td>2008-11-21</td>\n",
       "      <td>True</td>\n",
       "      <td>False</td>\n",
       "      <td>False</td>\n",
       "      <td>Very Positive</td>\n",
       "      <td>84</td>\n",
       "      <td>2199</td>\n",
       "      <td>9.99</td>\n",
       "      <td>9.99</td>\n",
       "      <td>0.0</td>\n",
       "      <td>True</td>\n",
       "    </tr>\n",
       "    <tr>\n",
       "      <th>1</th>\n",
       "      <td>22364</td>\n",
       "      <td>BRINK: Agents of Change</td>\n",
       "      <td>2011-08-03</td>\n",
       "      <td>True</td>\n",
       "      <td>False</td>\n",
       "      <td>False</td>\n",
       "      <td>Positive</td>\n",
       "      <td>85</td>\n",
       "      <td>21</td>\n",
       "      <td>2.99</td>\n",
       "      <td>2.99</td>\n",
       "      <td>0.0</td>\n",
       "      <td>True</td>\n",
       "    </tr>\n",
       "    <tr>\n",
       "      <th>2</th>\n",
       "      <td>113020</td>\n",
       "      <td>Monaco: What's Yours Is Mine</td>\n",
       "      <td>2013-04-24</td>\n",
       "      <td>True</td>\n",
       "      <td>True</td>\n",
       "      <td>True</td>\n",
       "      <td>Very Positive</td>\n",
       "      <td>92</td>\n",
       "      <td>3722</td>\n",
       "      <td>14.99</td>\n",
       "      <td>14.99</td>\n",
       "      <td>0.0</td>\n",
       "      <td>True</td>\n",
       "    </tr>\n",
       "    <tr>\n",
       "      <th>3</th>\n",
       "      <td>226560</td>\n",
       "      <td>Escape Dead Island</td>\n",
       "      <td>2014-11-18</td>\n",
       "      <td>True</td>\n",
       "      <td>False</td>\n",
       "      <td>False</td>\n",
       "      <td>Mixed</td>\n",
       "      <td>61</td>\n",
       "      <td>873</td>\n",
       "      <td>14.99</td>\n",
       "      <td>14.99</td>\n",
       "      <td>0.0</td>\n",
       "      <td>True</td>\n",
       "    </tr>\n",
       "    <tr>\n",
       "      <th>4</th>\n",
       "      <td>249050</td>\n",
       "      <td>Dungeon of the ENDLESS™</td>\n",
       "      <td>2014-10-27</td>\n",
       "      <td>True</td>\n",
       "      <td>True</td>\n",
       "      <td>False</td>\n",
       "      <td>Very Positive</td>\n",
       "      <td>88</td>\n",
       "      <td>8784</td>\n",
       "      <td>11.99</td>\n",
       "      <td>11.99</td>\n",
       "      <td>0.0</td>\n",
       "      <td>True</td>\n",
       "    </tr>\n",
       "    <tr>\n",
       "      <th>...</th>\n",
       "      <td>...</td>\n",
       "      <td>...</td>\n",
       "      <td>...</td>\n",
       "      <td>...</td>\n",
       "      <td>...</td>\n",
       "      <td>...</td>\n",
       "      <td>...</td>\n",
       "      <td>...</td>\n",
       "      <td>...</td>\n",
       "      <td>...</td>\n",
       "      <td>...</td>\n",
       "      <td>...</td>\n",
       "      <td>...</td>\n",
       "    </tr>\n",
       "    <tr>\n",
       "      <th>50867</th>\n",
       "      <td>2296380</td>\n",
       "      <td>I Expect You To Die 3: Cog in the Machine</td>\n",
       "      <td>2023-09-28</td>\n",
       "      <td>True</td>\n",
       "      <td>False</td>\n",
       "      <td>False</td>\n",
       "      <td>Very Positive</td>\n",
       "      <td>96</td>\n",
       "      <td>101</td>\n",
       "      <td>22.00</td>\n",
       "      <td>0.00</td>\n",
       "      <td>0.0</td>\n",
       "      <td>True</td>\n",
       "    </tr>\n",
       "    <tr>\n",
       "      <th>50868</th>\n",
       "      <td>1272080</td>\n",
       "      <td>PAYDAY 3</td>\n",
       "      <td>2023-09-21</td>\n",
       "      <td>True</td>\n",
       "      <td>False</td>\n",
       "      <td>False</td>\n",
       "      <td>Mostly Negative</td>\n",
       "      <td>38</td>\n",
       "      <td>29458</td>\n",
       "      <td>40.00</td>\n",
       "      <td>0.00</td>\n",
       "      <td>0.0</td>\n",
       "      <td>True</td>\n",
       "    </tr>\n",
       "    <tr>\n",
       "      <th>50869</th>\n",
       "      <td>1402110</td>\n",
       "      <td>Eternights</td>\n",
       "      <td>2023-09-11</td>\n",
       "      <td>True</td>\n",
       "      <td>False</td>\n",
       "      <td>False</td>\n",
       "      <td>Very Positive</td>\n",
       "      <td>89</td>\n",
       "      <td>1128</td>\n",
       "      <td>30.00</td>\n",
       "      <td>0.00</td>\n",
       "      <td>0.0</td>\n",
       "      <td>True</td>\n",
       "    </tr>\n",
       "    <tr>\n",
       "      <th>50870</th>\n",
       "      <td>2272250</td>\n",
       "      <td>Forgive Me Father 2</td>\n",
       "      <td>2023-10-19</td>\n",
       "      <td>True</td>\n",
       "      <td>False</td>\n",
       "      <td>False</td>\n",
       "      <td>Very Positive</td>\n",
       "      <td>95</td>\n",
       "      <td>82</td>\n",
       "      <td>17.00</td>\n",
       "      <td>0.00</td>\n",
       "      <td>0.0</td>\n",
       "      <td>True</td>\n",
       "    </tr>\n",
       "    <tr>\n",
       "      <th>50871</th>\n",
       "      <td>2488510</td>\n",
       "      <td>FatalZone</td>\n",
       "      <td>2023-10-23</td>\n",
       "      <td>True</td>\n",
       "      <td>False</td>\n",
       "      <td>False</td>\n",
       "      <td>Very Positive</td>\n",
       "      <td>88</td>\n",
       "      <td>144</td>\n",
       "      <td>4.00</td>\n",
       "      <td>0.00</td>\n",
       "      <td>0.0</td>\n",
       "      <td>True</td>\n",
       "    </tr>\n",
       "  </tbody>\n",
       "</table>\n",
       "<p>50872 rows × 13 columns</p>\n",
       "</div>"
      ]
     },
     "execution_count": 3,
     "metadata": {},
     "output_type": "execute_result"
    }
   ],
   "execution_count": 3
  },
  {
   "metadata": {},
   "cell_type": "markdown",
   "source": [
    "Ik heb hier gekozen om voor de volgende combinaties te gaan:\n",
    "- price_final & mac\n",
    "- positive_ratio & rating\n",
    "- user_reviews & linux\n",
    "\n",
    "Maar ik ga ook op al deze 3 de categorie collommen een check doen qua table, dus dat we ze vergelijken met alles.\n",
    "\n",
    "Ik kies voor deze omdat ik deze dingen nog niet echt gebruikt heb. Misschien zit er wel een leuke discovery tussen.\n",
    "\n",
    "## price_final & mac\n",
    "ik ga er hier vanuit dat er niet echt een verschil zit tussen de prijs van een spel wat mac support en de prijs van een spel dat mac niet support. Maar ik ben wel geintresseerd hierin.\n",
    "\n",
    "## positive_ratio & rating\n",
    "dit zijn zover ik weet de zelfde collommen, dus hier ben ik vooral benieuwd waar de grenzen liggen van elke categorie. Want mijn hypotese is dat Mixed niet een ratio van 50 is, maar hoger, want dat is het gevoel dat ik kreeg uit de analyses uit de vorige assignments. Verder denk ik dat `Very positive` rond de 85 zit.\n",
    "\n",
    "## user_reviews & linux\n",
    "Alweer denk ik dat er niet echt een verschil zit tussen linux supported games, en games die dat niet zijn wanneer het aankomt tot het aantal reviews dat een spel heeft, maar we zullen het zien. Want ik ben wel erg benieuwd.\n"
   ],
   "id": "18b7aa1f61573908"
  },
  {
   "metadata": {
    "ExecuteTime": {
     "end_time": "2025-05-07T18:32:18.130005Z",
     "start_time": "2025-05-07T18:32:18.117819Z"
    }
   },
   "cell_type": "code",
   "source": "my_data.groupby('mac').mean(numeric_only=True)",
   "id": "acf038d1e14b61e",
   "outputs": [
    {
     "data": {
      "text/plain": [
       "             app_id       win     linux  positive_ratio  user_reviews  \\\n",
       "mac                                                                     \n",
       "False  1.118814e+06  0.979025  0.036641       76.279099   1370.044936   \n",
       "True   8.703160e+05  0.999846  0.587955       79.299585   3145.680366   \n",
       "\n",
       "       price_final  price_original  discount  steam_deck  \n",
       "mac                                                       \n",
       "False     8.676895        8.796137  6.003249    0.999947  \n",
       "True      8.455830        8.525135  4.396989    1.000000  "
      ],
      "text/html": [
       "<div>\n",
       "<style scoped>\n",
       "    .dataframe tbody tr th:only-of-type {\n",
       "        vertical-align: middle;\n",
       "    }\n",
       "\n",
       "    .dataframe tbody tr th {\n",
       "        vertical-align: top;\n",
       "    }\n",
       "\n",
       "    .dataframe thead th {\n",
       "        text-align: right;\n",
       "    }\n",
       "</style>\n",
       "<table border=\"1\" class=\"dataframe\">\n",
       "  <thead>\n",
       "    <tr style=\"text-align: right;\">\n",
       "      <th></th>\n",
       "      <th>app_id</th>\n",
       "      <th>win</th>\n",
       "      <th>linux</th>\n",
       "      <th>positive_ratio</th>\n",
       "      <th>user_reviews</th>\n",
       "      <th>price_final</th>\n",
       "      <th>price_original</th>\n",
       "      <th>discount</th>\n",
       "      <th>steam_deck</th>\n",
       "    </tr>\n",
       "    <tr>\n",
       "      <th>mac</th>\n",
       "      <th></th>\n",
       "      <th></th>\n",
       "      <th></th>\n",
       "      <th></th>\n",
       "      <th></th>\n",
       "      <th></th>\n",
       "      <th></th>\n",
       "      <th></th>\n",
       "      <th></th>\n",
       "    </tr>\n",
       "  </thead>\n",
       "  <tbody>\n",
       "    <tr>\n",
       "      <th>False</th>\n",
       "      <td>1.118814e+06</td>\n",
       "      <td>0.979025</td>\n",
       "      <td>0.036641</td>\n",
       "      <td>76.279099</td>\n",
       "      <td>1370.044936</td>\n",
       "      <td>8.676895</td>\n",
       "      <td>8.796137</td>\n",
       "      <td>6.003249</td>\n",
       "      <td>0.999947</td>\n",
       "    </tr>\n",
       "    <tr>\n",
       "      <th>True</th>\n",
       "      <td>8.703160e+05</td>\n",
       "      <td>0.999846</td>\n",
       "      <td>0.587955</td>\n",
       "      <td>79.299585</td>\n",
       "      <td>3145.680366</td>\n",
       "      <td>8.455830</td>\n",
       "      <td>8.525135</td>\n",
       "      <td>4.396989</td>\n",
       "      <td>1.000000</td>\n",
       "    </tr>\n",
       "  </tbody>\n",
       "</table>\n",
       "</div>"
      ]
     },
     "execution_count": 4,
     "metadata": {},
     "output_type": "execute_result"
    }
   ],
   "execution_count": 4
  },
  {
   "metadata": {},
   "cell_type": "markdown",
   "source": "ik zie hier nog niet iets heel bijzonders, ik zie dat er een verschil zit tussen de user_reviews en de discount. maar tussen de final price lijkt niet echt verschil te zitten.",
   "id": "bd7baa2edc8a6fb0"
  },
  {
   "metadata": {
    "ExecuteTime": {
     "end_time": "2025-05-07T18:34:17.716199Z",
     "start_time": "2025-05-07T18:34:17.465240Z"
    }
   },
   "cell_type": "code",
   "source": "sns.barplot(y=\"price_final\", x=\"mac\", data=my_data)",
   "id": "ca5b45155270b7d1",
   "outputs": [
    {
     "data": {
      "text/plain": [
       "<Axes: xlabel='mac', ylabel='price_final'>"
      ]
     },
     "execution_count": 7,
     "metadata": {},
     "output_type": "execute_result"
    },
    {
     "data": {
      "text/plain": [
       "<Figure size 640x480 with 1 Axes>"
      ],
      "image/png": "[encoded data removed]"
     },
     "metadata": {},
     "output_type": "display_data"
    }
   ],
   "execution_count": 7
  },
  {
   "metadata": {},
   "cell_type": "markdown",
   "source": "hierboven zie ik inderdaad dat er vrij weinig verschil tussen zit. wel valt me op dat de 95% range specefieker / kleiner is als het een spel is dat mac niet support.",
   "id": "ad6b8869de2ba2e9"
  },
  {
   "metadata": {
    "ExecuteTime": {
     "end_time": "2025-05-07T18:32:51.515823Z",
     "start_time": "2025-05-07T18:32:51.507407Z"
    }
   },
   "cell_type": "code",
   "source": "my_data.groupby('linux').mean(numeric_only=True)",
   "id": "eed9e8a40886cafc",
   "outputs": [
    {
     "data": {
      "text/plain": [
       "             app_id       win       mac  positive_ratio  user_reviews  \\\n",
       "linux                                                                   \n",
       "False  1.097940e+06  0.981043  0.128230       76.472855   1446.959097   \n",
       "True   8.575860e+05  0.999668  0.846588       79.731777   3570.888397   \n",
       "\n",
       "       price_final  price_original  discount  steam_deck  \n",
       "linux                                                     \n",
       "False     8.678082        8.777169  5.749133    0.999952  \n",
       "True      8.353095        8.493687  4.866165    1.000000  "
      ],
      "text/html": [
       "<div>\n",
       "<style scoped>\n",
       "    .dataframe tbody tr th:only-of-type {\n",
       "        vertical-align: middle;\n",
       "    }\n",
       "\n",
       "    .dataframe tbody tr th {\n",
       "        vertical-align: top;\n",
       "    }\n",
       "\n",
       "    .dataframe thead th {\n",
       "        text-align: right;\n",
       "    }\n",
       "</style>\n",
       "<table border=\"1\" class=\"dataframe\">\n",
       "  <thead>\n",
       "    <tr style=\"text-align: right;\">\n",
       "      <th></th>\n",
       "      <th>app_id</th>\n",
       "      <th>win</th>\n",
       "      <th>mac</th>\n",
       "      <th>positive_ratio</th>\n",
       "      <th>user_reviews</th>\n",
       "      <th>price_final</th>\n",
       "      <th>price_original</th>\n",
       "      <th>discount</th>\n",
       "      <th>steam_deck</th>\n",
       "    </tr>\n",
       "    <tr>\n",
       "      <th>linux</th>\n",
       "      <th></th>\n",
       "      <th></th>\n",
       "      <th></th>\n",
       "      <th></th>\n",
       "      <th></th>\n",
       "      <th></th>\n",
       "      <th></th>\n",
       "      <th></th>\n",
       "      <th></th>\n",
       "    </tr>\n",
       "  </thead>\n",
       "  <tbody>\n",
       "    <tr>\n",
       "      <th>False</th>\n",
       "      <td>1.097940e+06</td>\n",
       "      <td>0.981043</td>\n",
       "      <td>0.128230</td>\n",
       "      <td>76.472855</td>\n",
       "      <td>1446.959097</td>\n",
       "      <td>8.678082</td>\n",
       "      <td>8.777169</td>\n",
       "      <td>5.749133</td>\n",
       "      <td>0.999952</td>\n",
       "    </tr>\n",
       "    <tr>\n",
       "      <th>True</th>\n",
       "      <td>8.575860e+05</td>\n",
       "      <td>0.999668</td>\n",
       "      <td>0.846588</td>\n",
       "      <td>79.731777</td>\n",
       "      <td>3570.888397</td>\n",
       "      <td>8.353095</td>\n",
       "      <td>8.493687</td>\n",
       "      <td>4.866165</td>\n",
       "      <td>1.000000</td>\n",
       "    </tr>\n",
       "  </tbody>\n",
       "</table>\n",
       "</div>"
      ]
     },
     "execution_count": 5,
     "metadata": {},
     "output_type": "execute_result"
    }
   ],
   "execution_count": 5
  },
  {
   "metadata": {},
   "cell_type": "markdown",
   "source": [
    "ik zie hier een groot verschil bij de reviews, dus dat is wel interresant, en grappig dat we deze combi gekozen hadden. Laten we er naar kijken.\n",
    "Verder zie ik ook een groot verschil tussen mac support, en dat vindt ik interresant want dat zag ik niet in de mac analyse"
   ],
   "id": "2a04d8d47368c6cb"
  },
  {
   "metadata": {
    "ExecuteTime": {
     "end_time": "2025-05-07T18:41:23.564442Z",
     "start_time": "2025-05-07T18:41:23.331214Z"
    }
   },
   "cell_type": "code",
   "source": "sns.barplot(y=\"user_reviews\", x=\"linux\", data=my_data)",
   "id": "c7798bc39180f64a",
   "outputs": [
    {
     "data": {
      "text/plain": [
       "<Axes: xlabel='linux', ylabel='user_reviews'>"
      ]
     },
     "execution_count": 10,
     "metadata": {},
     "output_type": "execute_result"
    },
    {
     "data": {
      "text/plain": [
       "<Figure size 640x480 with 1 Axes>"
      ],
      "image/png": "[encoded data removed]"
     },
     "metadata": {},
     "output_type": "display_data"
    }
   ],
   "execution_count": 10
  },
  {
   "metadata": {},
   "cell_type": "markdown",
   "source": "vdit verbaast me best wel erg. Wat we hier zien is dat de spellen die linux support hebben gemiddeld 2000 meer reviews hebben, maar de 95% range bij de linux supported spellen is ook mega groot. De range is zo'n 3.5 duizen reviews. waarbij de range van niet linux supported spellen op oogopslag zo'n 250 is.",
   "id": "6bb9ebb588796568"
  },
  {
   "metadata": {
    "ExecuteTime": {
     "end_time": "2025-05-07T18:38:38.279280Z",
     "start_time": "2025-05-07T18:38:38.268201Z"
    }
   },
   "cell_type": "code",
   "source": "my_data.groupby('rating').mean(numeric_only=True)",
   "id": "2db542a1d3528cdc",
   "outputs": [
    {
     "data": {
      "text/plain": [
       "                               app_id       win       mac     linux  \\\n",
       "rating                                                                \n",
       "Mixed                    9.475811e+05  0.997615  0.217652  0.145924   \n",
       "Mostly Negative          9.070683e+05  0.996755  0.181720  0.127096   \n",
       "Mostly Positive          9.871800e+05  0.995651  0.252346  0.174640   \n",
       "Negative                 9.797953e+05  1.000000  0.148515  0.079208   \n",
       "Overwhelmingly Negative  1.098200e+06  1.000000  0.285714  0.285714   \n",
       "Overwhelmingly Positive  9.563820e+05  0.996396  0.427027  0.296396   \n",
       "Positive                 1.302729e+06  0.958377  0.222263  0.158939   \n",
       "Very Negative            1.027496e+06  1.000000  0.166667  0.016667   \n",
       "Very Positive            9.767496e+05  0.988051  0.327042  0.228480   \n",
       "\n",
       "                         positive_ratio  user_reviews  price_final  \\\n",
       "rating                                                               \n",
       "Mixed                         57.643004    673.404623     8.689993   \n",
       "Mostly Negative               31.276906    262.856679     8.075890   \n",
       "Mostly Positive               74.555848    972.998741     9.039239   \n",
       "Negative                      11.851485     18.353135     8.199736   \n",
       "Overwhelmingly Negative       14.214286  15895.857143     8.600000   \n",
       "Overwhelmingly Positive       96.240541  19342.163063    11.943829   \n",
       "Positive                      91.210191     21.614279     6.569432   \n",
       "Very Negative                 13.633333    143.950000    10.217500   \n",
       "Very Positive                 88.802040   4082.434432    10.183092   \n",
       "\n",
       "                         price_original  discount  steam_deck  \n",
       "rating                                                         \n",
       "Mixed                          8.887407  5.634861    1.000000  \n",
       "Mostly Negative                8.368237  4.369930    1.000000  \n",
       "Mostly Positive                9.342981  6.425727    0.999886  \n",
       "Negative                       8.683630  5.580858    1.000000  \n",
       "Overwhelmingly Negative        8.707143  3.571429    1.000000  \n",
       "Overwhelmingly Positive        9.384532  3.441441    1.000000  \n",
       "Positive                       7.210273  6.775811    1.000000  \n",
       "Very Negative                  9.424167  1.383333    1.000000  \n",
       "Very Positive                  9.719514  4.157470    0.999924  "
      ],
      "text/html": [
       "<div>\n",
       "<style scoped>\n",
       "    .dataframe tbody tr th:only-of-type {\n",
       "        vertical-align: middle;\n",
       "    }\n",
       "\n",
       "    .dataframe tbody tr th {\n",
       "        vertical-align: top;\n",
       "    }\n",
       "\n",
       "    .dataframe thead th {\n",
       "        text-align: right;\n",
       "    }\n",
       "</style>\n",
       "<table border=\"1\" class=\"dataframe\">\n",
       "  <thead>\n",
       "    <tr style=\"text-align: right;\">\n",
       "      <th></th>\n",
       "      <th>app_id</th>\n",
       "      <th>win</th>\n",
       "      <th>mac</th>\n",
       "      <th>linux</th>\n",
       "      <th>positive_ratio</th>\n",
       "      <th>user_reviews</th>\n",
       "      <th>price_final</th>\n",
       "      <th>price_original</th>\n",
       "      <th>discount</th>\n",
       "      <th>steam_deck</th>\n",
       "    </tr>\n",
       "    <tr>\n",
       "      <th>rating</th>\n",
       "      <th></th>\n",
       "      <th></th>\n",
       "      <th></th>\n",
       "      <th></th>\n",
       "      <th></th>\n",
       "      <th></th>\n",
       "      <th></th>\n",
       "      <th></th>\n",
       "      <th></th>\n",
       "      <th></th>\n",
       "    </tr>\n",
       "  </thead>\n",
       "  <tbody>\n",
       "    <tr>\n",
       "      <th>Mixed</th>\n",
       "      <td>9.475811e+05</td>\n",
       "      <td>0.997615</td>\n",
       "      <td>0.217652</td>\n",
       "      <td>0.145924</td>\n",
       "      <td>57.643004</td>\n",
       "      <td>673.404623</td>\n",
       "      <td>8.689993</td>\n",
       "      <td>8.887407</td>\n",
       "      <td>5.634861</td>\n",
       "      <td>1.000000</td>\n",
       "    </tr>\n",
       "    <tr>\n",
       "      <th>Mostly Negative</th>\n",
       "      <td>9.070683e+05</td>\n",
       "      <td>0.996755</td>\n",
       "      <td>0.181720</td>\n",
       "      <td>0.127096</td>\n",
       "      <td>31.276906</td>\n",
       "      <td>262.856679</td>\n",
       "      <td>8.075890</td>\n",
       "      <td>8.368237</td>\n",
       "      <td>4.369930</td>\n",
       "      <td>1.000000</td>\n",
       "    </tr>\n",
       "    <tr>\n",
       "      <th>Mostly Positive</th>\n",
       "      <td>9.871800e+05</td>\n",
       "      <td>0.995651</td>\n",
       "      <td>0.252346</td>\n",
       "      <td>0.174640</td>\n",
       "      <td>74.555848</td>\n",
       "      <td>972.998741</td>\n",
       "      <td>9.039239</td>\n",
       "      <td>9.342981</td>\n",
       "      <td>6.425727</td>\n",
       "      <td>0.999886</td>\n",
       "    </tr>\n",
       "    <tr>\n",
       "      <th>Negative</th>\n",
       "      <td>9.797953e+05</td>\n",
       "      <td>1.000000</td>\n",
       "      <td>0.148515</td>\n",
       "      <td>0.079208</td>\n",
       "      <td>11.851485</td>\n",
       "      <td>18.353135</td>\n",
       "      <td>8.199736</td>\n",
       "      <td>8.683630</td>\n",
       "      <td>5.580858</td>\n",
       "      <td>1.000000</td>\n",
       "    </tr>\n",
       "    <tr>\n",
       "      <th>Overwhelmingly Negative</th>\n",
       "      <td>1.098200e+06</td>\n",
       "      <td>1.000000</td>\n",
       "      <td>0.285714</td>\n",
       "      <td>0.285714</td>\n",
       "      <td>14.214286</td>\n",
       "      <td>15895.857143</td>\n",
       "      <td>8.600000</td>\n",
       "      <td>8.707143</td>\n",
       "      <td>3.571429</td>\n",
       "      <td>1.000000</td>\n",
       "    </tr>\n",
       "    <tr>\n",
       "      <th>Overwhelmingly Positive</th>\n",
       "      <td>9.563820e+05</td>\n",
       "      <td>0.996396</td>\n",
       "      <td>0.427027</td>\n",
       "      <td>0.296396</td>\n",
       "      <td>96.240541</td>\n",
       "      <td>19342.163063</td>\n",
       "      <td>11.943829</td>\n",
       "      <td>9.384532</td>\n",
       "      <td>3.441441</td>\n",
       "      <td>1.000000</td>\n",
       "    </tr>\n",
       "    <tr>\n",
       "      <th>Positive</th>\n",
       "      <td>1.302729e+06</td>\n",
       "      <td>0.958377</td>\n",
       "      <td>0.222263</td>\n",
       "      <td>0.158939</td>\n",
       "      <td>91.210191</td>\n",
       "      <td>21.614279</td>\n",
       "      <td>6.569432</td>\n",
       "      <td>7.210273</td>\n",
       "      <td>6.775811</td>\n",
       "      <td>1.000000</td>\n",
       "    </tr>\n",
       "    <tr>\n",
       "      <th>Very Negative</th>\n",
       "      <td>1.027496e+06</td>\n",
       "      <td>1.000000</td>\n",
       "      <td>0.166667</td>\n",
       "      <td>0.016667</td>\n",
       "      <td>13.633333</td>\n",
       "      <td>143.950000</td>\n",
       "      <td>10.217500</td>\n",
       "      <td>9.424167</td>\n",
       "      <td>1.383333</td>\n",
       "      <td>1.000000</td>\n",
       "    </tr>\n",
       "    <tr>\n",
       "      <th>Very Positive</th>\n",
       "      <td>9.767496e+05</td>\n",
       "      <td>0.988051</td>\n",
       "      <td>0.327042</td>\n",
       "      <td>0.228480</td>\n",
       "      <td>88.802040</td>\n",
       "      <td>4082.434432</td>\n",
       "      <td>10.183092</td>\n",
       "      <td>9.719514</td>\n",
       "      <td>4.157470</td>\n",
       "      <td>0.999924</td>\n",
       "    </tr>\n",
       "  </tbody>\n",
       "</table>\n",
       "</div>"
      ]
     },
     "execution_count": 9,
     "metadata": {},
     "output_type": "execute_result"
    }
   ],
   "execution_count": 9
  },
  {
   "metadata": {},
   "cell_type": "markdown",
   "source": "ik zie hier veel verschillen langs komen, positive_ratio, user_reviews, final_price. daar zie ik verschillen tussen. Mijn doel was alleen in te zoomen op positive_ratio, maar ik ga ook inzoomen op de andere 2, want dat vindt ik ook wel interresant.",
   "id": "766632b4bf2aa752"
  },
  {
   "metadata": {
    "ExecuteTime": {
     "end_time": "2025-05-07T18:47:04.352592Z",
     "start_time": "2025-05-07T18:47:04.054555Z"
    }
   },
   "cell_type": "code",
   "source": "sns.barplot(y=\"positive_ratio\", x=\"rating\", data=my_data)",
   "id": "dc7eb2b1c2f53904",
   "outputs": [
    {
     "data": {
      "text/plain": [
       "<Axes: xlabel='rating', ylabel='positive_ratio'>"
      ]
     },
     "execution_count": 19,
     "metadata": {},
     "output_type": "execute_result"
    },
    {
     "data": {
      "text/plain": [
       "<Figure size 640x480 with 1 Axes>"
      ],
      "image/png": "[encoded data removed]"
     },
     "metadata": {},
     "output_type": "display_data"
    }
   ],
   "execution_count": 19
  },
  {
   "metadata": {},
   "cell_type": "markdown",
   "source": "dit is een beetje onmogelijk te lezen xD\n",
   "id": "3f6a3921019ea7df"
  },
  {
   "metadata": {
    "ExecuteTime": {
     "end_time": "2025-05-07T18:47:43.315022Z",
     "start_time": "2025-05-07T18:47:43.022387Z"
    }
   },
   "cell_type": "code",
   "source": [
    "import matplotlib.pyplot as plt\n",
    "plt.figure(figsize=(8, 6))\n",
    "ax = sns.barplot(y=\"positive_ratio\", x=\"rating\", data=my_data)\n",
    "\n",
    "plt.xticks(rotation=45, ha='right')\n",
    "plt.tight_layout()\n",
    "plt.show()"
   ],
   "id": "2e8bb83405d2e9d9",
   "outputs": [
    {
     "data": {
      "text/plain": [
       "<Figure size 800x600 with 1 Axes>"
      ],
      "image/png": "[encoded data removed]"
     },
     "metadata": {},
     "output_type": "display_data"
    }
   ],
   "execution_count": 20
  },
  {
   "metadata": {},
   "cell_type": "markdown",
   "source": [
    "zo dat is iets beter. Hier zijn de dingen die me opvallen:\n",
    "- Ik zie dat er niks aan de 100 zit dus dat vindt ik interresant. net zoals dat er niks op de 0 zit.\n",
    "- very positive is lager dan positive?\n",
    "- mixed is ongeveer 60\n",
    "- negative is lager dan very negative en overwhelmingly negative.\n",
    "\n",
    "dit verteld mij dat de positiva ratio niks zegt over welke tags steam er aan hangt als rating. dit vindt ik nog eens een interresant resultaat. en ik had nog eens gelijk ook met de mixed voorspelling :3\n",
    "\n"
   ],
   "id": "8a4c90633689c52b"
  },
  {
   "metadata": {
    "ExecuteTime": {
     "end_time": "2025-05-07T18:48:05.191321Z",
     "start_time": "2025-05-07T18:48:04.897996Z"
    }
   },
   "cell_type": "code",
   "source": [
    "plt.figure(figsize=(8, 6))\n",
    "ax = sns.barplot(y=\"user_reviews\", x=\"rating\", data=my_data)\n",
    "\n",
    "plt.xticks(rotation=45, ha='right')\n",
    "plt.tight_layout()\n",
    "plt.show()"
   ],
   "id": "1313f53afec45e5c",
   "outputs": [
    {
     "data": {
      "text/plain": [
       "<Figure size 800x600 with 1 Axes>"
      ],
      "image/png": "[encoded data removed]"
     },
     "metadata": {},
     "output_type": "display_data"
    }
   ],
   "execution_count": 21
  },
  {
   "metadata": {},
   "cell_type": "markdown",
   "source": "ik zie hier dat er een relatie zou kunnen zijn, maar ik denk eerder dat het een beetje random is. Wat ook zou kunnen is dat je pas Overwhelmingly scores kan krijgen na X reviews. Want dat zou je hier wel uit kunnen opmaken.",
   "id": "a4f6f5e38f31b71f"
  },
  {
   "metadata": {
    "ExecuteTime": {
     "end_time": "2025-05-07T18:48:14.654818Z",
     "start_time": "2025-05-07T18:48:14.337355Z"
    }
   },
   "cell_type": "code",
   "source": [
    "plt.figure(figsize=(8, 6))\n",
    "ax = sns.barplot(y=\"price_final\", x=\"rating\", data=my_data)\n",
    "\n",
    "plt.xticks(rotation=45, ha='right')\n",
    "plt.tight_layout()\n",
    "plt.show()"
   ],
   "id": "8fe08a3f79c3cf79",
   "outputs": [
    {
     "data": {
      "text/plain": [
       "<Figure size 800x600 with 1 Axes>"
      ],
      "image/png": "[encoded data removed]"
     },
     "metadata": {},
     "output_type": "display_data"
    }
   ],
   "execution_count": 22
  },
  {
   "metadata": {},
   "cell_type": "markdown",
   "source": "het zou kunnen dat er een relatie is tussen kosten en rating, maar het ziet er vrij random uit, en logica verteld me dat prijs niks te maken heeft met de rating.",
   "id": "d42c4884c76fe703"
  }
 ],
 "metadata": {
  "kernelspec": {
   "display_name": "Python 3 (ipykernel)",
   "language": "python",
   "name": "python3"
  },
  "language_info": {
   "codemirror_mode": {
    "name": "ipython",
    "version": 3
   },
   "file_extension": ".py",
   "mimetype": "text/x-python",
   "name": "python",
   "nbconvert_exporter": "python",
   "pygments_lexer": "ipython3",
   "version": "3.13.2"
  }
 },
 "nbformat": 4,
 "nbformat_minor": 5
}
