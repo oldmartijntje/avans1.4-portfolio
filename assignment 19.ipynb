{
 "cells": [
  {
   "metadata": {},
   "cell_type": "markdown",
   "source": "# Gemaakt op 13/05/2025 door martijn",
   "id": "7cc94336308f6874"
  },
  {
   "metadata": {
    "ExecuteTime": {
     "end_time": "2025-05-13T13:53:51.901741Z",
     "start_time": "2025-05-13T13:53:51.742828Z"
    }
   },
   "cell_type": "code",
   "source": [
    "import pandas as pd\n",
    "import seaborn as sns\n",
    "import numpy as np\n",
    "import scipy.stats as st\n",
    "from sklearn.model_selection import train_test_split\n",
    "from sklearn.tree import DecisionTreeClassifier\n",
    "from sklearn import tree\n",
    "import graphviz\n",
    "from sklearn.tree import DecisionTreeRegressor"
   ],
   "id": "8458724ca6657ca3",
   "outputs": [],
   "execution_count": 3
  },
  {
   "metadata": {
    "ExecuteTime": {
     "end_time": "2025-05-13T13:53:51.915846Z",
     "start_time": "2025-05-13T13:53:51.913303Z"
    }
   },
   "cell_type": "code",
   "source": [
    "from sklearn import tree\n",
    "import graphviz\n",
    "def calculate_accuracy(predictions, actuals):\n",
    "    if(len(predictions) != len(actuals)):\n",
    "        raise Exception(\"The amount of predictions did not equal the amount of actuals\")\n",
    "\n",
    "    return (predictions == actuals).sum() / len(actuals)\n",
    "\n",
    "def plot_tree_classification(model, features, class_names):\n",
    "    dot_data = tree.export_graphviz(model, out_file=None,\n",
    "                          feature_names=features,\n",
    "                          class_names=class_names,\n",
    "                          filled=True, rounded=True,\n",
    "                          special_characters=True)\n",
    "\n",
    "    graph = graphviz.Source(dot_data)\n",
    "\n",
    "    graph.render(\"decision_tree\")\n",
    "\n",
    "    return graph"
   ],
   "id": "ec07f639374a71c5",
   "outputs": [],
   "execution_count": 4
  },
  {
   "metadata": {},
   "cell_type": "markdown",
   "source": [
    "## Portfolio assignment 19\n",
    "30 min: Train a random forest to predict one of the categorical columns of your **own** dataset.\n",
    "- Prepare the data:<br>\n",
    "    - <b>Note</b>: Some machine learning algorithms can not handle missing values. You will either need to:\n",
    "         - replace missing values (with the mean or most popular value). For replacing missing values you can use .fillna(\\<value\\>) https://pandas.pydata.org/docs/reference/api/pandas.Series.fillna.html\n",
    "         - remove rows with missing data.  You can remove rows with missing data with .dropna() https://pandas.pydata.org/pandas-docs/stable/reference/api/pandas.DataFrame.dropna.html <br>\n",
    "- Split your dataset into a train (70%) and test (30%) set.\n",
    "- Use the train set to fit a RandomForestClassifier. You are free to to choose which columns you want to use as feature variables and you are also free to choose the max_depth of the tree.\n",
    "- Use your random forest model to make predictions for both the train and test set.\n",
    "<br>\n",
    "\n",
    "![](https://i.imgur.com/0v1CGNV.png)<br>\n",
    "- Calculate the accuracy for both the train set predictions and test set predictions.\n",
    "- Is the accurracy different? Did you expect this difference?\n",
    "- Which number of trees, depth and features did you add per cycle?\n",
    "- Is the accurracy different? Did you expect this difference?\n",
    "\n",
    "\n",
    "\n",
    "Findings: ..."
   ],
   "id": "753fc7bde331c381"
  },
  {
   "metadata": {
    "ExecuteTime": {
     "end_time": "2025-05-13T13:54:05.093002Z",
     "start_time": "2025-05-13T13:54:05.026888Z"
    }
   },
   "cell_type": "code",
   "source": [
    "games = pd.read_csv(\"./games.csv\")\n",
    "games['positive_ratio'] = games['positive_ratio'].fillna(games['positive_ratio'].mean())\n",
    "games['user_reviews'] = games['user_reviews'].fillna(games['user_reviews'].mean())\n",
    "games['price_final'] = games['price_final'].fillna(games['price_final'].mean())\n",
    "games['price_original'] = games['price_original'].fillna(games['price_original'].mean())\n",
    "games['discount'] = games['discount'].fillna(games['discount'].mean())\n",
    "games_train, games_test = train_test_split(games, test_size=0.3, random_state=42, stratify=games['linux'])\n",
    "print(games_train.shape, games_test.shape)"
   ],
   "id": "cfd991ae2c80c2b6",
   "outputs": [
    {
     "name": "stdout",
     "output_type": "stream",
     "text": [
      "(35610, 13) (15262, 13)\n"
     ]
    }
   ],
   "execution_count": 6
  },
  {
   "metadata": {},
   "cell_type": "markdown",
   "source": "ik heb hier de dataset ingeladen, de NaN values gevuld met de mean en de dataset opgesplitst in 2 datasets",
   "id": "74117ba5b86c23ec"
  }
 ],
 "metadata": {
  "kernelspec": {
   "display_name": "Python 3 (ipykernel)",
   "language": "python",
   "name": "python3"
  },
  "language_info": {
   "codemirror_mode": {
    "name": "ipython",
    "version": 3
   },
   "file_extension": ".py",
   "mimetype": "text/x-python",
   "name": "python",
   "nbconvert_exporter": "python",
   "pygments_lexer": "ipython3",
   "version": "3.13.2"
  }
 },
 "nbformat": 4,
 "nbformat_minor": 5
}
