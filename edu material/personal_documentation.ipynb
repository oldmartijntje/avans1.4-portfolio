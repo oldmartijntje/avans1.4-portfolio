﻿{
 "cells": [
  {
   "metadata": {},
   "cell_type": "markdown",
   "source": [
    "# Datascience\n",
    "\n",
    "\"Data science is the process of analyzing data to gain insights or achieve other objectives. While it often involves artificial intelligence and machine learning, it can also be highly valuable without them, using traditional statistical methods and data analysis techniques.\"\n",
    "\n",
    "- Me & AI Spellchecker 29/05/2025"
   ],
   "id": "30f0e10e8a9cae12"
  },
  {
   "metadata": {},
   "cell_type": "markdown",
   "source": [
    "## Imports\n",
    "\n",
    "This codeblock is a pip install of all packages we'll be using."
   ],
   "id": "2d98c85269e4df0a"
  },
  {
   "metadata": {
    "ExecuteTime": {
     "end_time": "2025-06-01T12:42:57.291656Z",
     "start_time": "2025-06-01T12:42:42.936697Z"
    }
   },
   "cell_type": "code",
   "source": [
    "!pip install jupyter\n",
    "!pip install notebook\n",
    "!pip install pandas\n",
    "!pip install numpy\n",
    "!pip install scipy\n",
    "!pip install matplotlib\n",
    "!pip install seaborn\n",
    "!pip install scikit-learn\n",
    "!pip install graphviz\n",
    "!pip install dtreeviz\n",
    "!pip install opencv-python\n",
    "!pip install ultralytics"
   ],
   "id": "abc3e732c5380651",
   "outputs": [
    {
     "name": "stdout",
     "output_type": "stream",
     "text": [
      "Requirement already satisfied: jupyter in c:\\users\\oldma\\anaconda3\\envs\\datascience\\lib\\site-packages (1.1.1)\n",
      "Requirement already satisfied: notebook in c:\\users\\oldma\\anaconda3\\envs\\datascience\\lib\\site-packages (from jupyter) (7.4.1)\n",
      "Requirement already satisfied: jupyter-console in c:\\users\\oldma\\anaconda3\\envs\\datascience\\lib\\site-packages (from jupyter) (6.6.3)\n",
      "Requirement already satisfied: nbconvert in c:\\users\\oldma\\anaconda3\\envs\\datascience\\lib\\site-packages (from jupyter) (7.16.6)\n",
      "Requirement already satisfied: ipykernel in c:\\users\\oldma\\appdata\\roaming\\python\\python313\\site-packages (from jupyter) (6.29.5)\n",
      "Requirement already satisfied: ipywidgets in c:\\users\\oldma\\anaconda3\\envs\\datascience\\lib\\site-packages (from jupyter) (8.1.6)\n",
      "Requirement already satisfied: jupyterlab in c:\\users\\oldma\\anaconda3\\envs\\datascience\\lib\\site-packages (from jupyter) (4.4.1)\n",
      "Requirement already satisfied: comm>=0.1.1 in c:\\users\\oldma\\appdata\\roaming\\python\\python313\\site-packages (from ipykernel->jupyter) (0.2.2)\n",
      "Requirement already satisfied: debugpy>=1.6.5 in c:\\users\\oldma\\appdata\\roaming\\python\\python313\\site-packages (from ipykernel->jupyter) (1.8.14)\n",
      "Requirement already satisfied: ipython>=7.23.1 in c:\\users\\oldma\\appdata\\roaming\\python\\python313\\site-packages (from ipykernel->jupyter) (9.1.0)\n",
      "Requirement already satisfied: jupyter-client>=6.1.12 in c:\\users\\oldma\\appdata\\roaming\\python\\python313\\site-packages (from ipykernel->jupyter) (8.6.3)\n",
      "Requirement already satisfied: jupyter-core!=5.0.*,>=4.12 in c:\\users\\oldma\\appdata\\roaming\\python\\python313\\site-packages (from ipykernel->jupyter) (5.7.2)\n",
      "Requirement already satisfied: matplotlib-inline>=0.1 in c:\\users\\oldma\\appdata\\roaming\\python\\python313\\site-packages (from ipykernel->jupyter) (0.1.7)\n",
      "Requirement already satisfied: nest-asyncio in c:\\users\\oldma\\appdata\\roaming\\python\\python313\\site-packages (from ipykernel->jupyter) (1.6.0)\n",
      "Requirement already satisfied: packaging in c:\\users\\oldma\\appdata\\roaming\\python\\python313\\site-packages (from ipykernel->jupyter) (25.0)\n",
      "Requirement already satisfied: psutil in c:\\users\\oldma\\appdata\\roaming\\python\\python313\\site-packages (from ipykernel->jupyter) (7.0.0)\n",
      "Requirement already satisfied: pyzmq>=24 in c:\\users\\oldma\\appdata\\roaming\\python\\python313\\site-packages (from ipykernel->jupyter) (26.4.0)\n",
      "Requirement already satisfied: tornado>=6.1 in c:\\users\\oldma\\appdata\\roaming\\python\\python313\\site-packages (from ipykernel->jupyter) (6.4.2)\n",
      "Requirement already satisfied: traitlets>=5.4.0 in c:\\users\\oldma\\appdata\\roaming\\python\\python313\\site-packages (from ipykernel->jupyter) (5.14.3)\n",
      "Requirement already satisfied: widgetsnbextension~=4.0.14 in c:\\users\\oldma\\anaconda3\\envs\\datascience\\lib\\site-packages (from ipywidgets->jupyter) (4.0.14)\n",
      "Requirement already satisfied: jupyterlab_widgets~=3.0.14 in c:\\users\\oldma\\anaconda3\\envs\\datascience\\lib\\site-packages (from ipywidgets->jupyter) (3.0.14)\n",
      "Requirement already satisfied: prompt-toolkit>=3.0.30 in c:\\users\\oldma\\appdata\\roaming\\python\\python313\\site-packages (from jupyter-console->jupyter) (3.0.51)\n",
      "Requirement already satisfied: pygments in c:\\users\\oldma\\appdata\\roaming\\python\\python313\\site-packages (from jupyter-console->jupyter) (2.19.1)\n",
      "Requirement already satisfied: async-lru>=1.0.0 in c:\\users\\oldma\\anaconda3\\envs\\datascience\\lib\\site-packages (from jupyterlab->jupyter) (2.0.5)\n",
      "Requirement already satisfied: httpx>=0.25.0 in c:\\users\\oldma\\anaconda3\\envs\\datascience\\lib\\site-packages (from jupyterlab->jupyter) (0.28.1)\n",
      "Requirement already satisfied: jinja2>=3.0.3 in c:\\users\\oldma\\anaconda3\\envs\\datascience\\lib\\site-packages (from jupyterlab->jupyter) (3.1.6)\n",
      "Requirement already satisfied: jupyter-lsp>=2.0.0 in c:\\users\\oldma\\anaconda3\\envs\\datascience\\lib\\site-packages (from jupyterlab->jupyter) (2.2.5)\n",
      "Requirement already satisfied: jupyter-server<3,>=2.4.0 in c:\\users\\oldma\\anaconda3\\envs\\datascience\\lib\\site-packages (from jupyterlab->jupyter) (2.15.0)\n",
      "Requirement already satisfied: jupyterlab-server<3,>=2.27.1 in c:\\users\\oldma\\anaconda3\\envs\\datascience\\lib\\site-packages (from jupyterlab->jupyter) (2.27.3)\n",
      "Requirement already satisfied: notebook-shim>=0.2 in c:\\users\\oldma\\anaconda3\\envs\\datascience\\lib\\site-packages (from jupyterlab->jupyter) (0.2.4)\n",
      "Requirement already satisfied: setuptools>=41.1.0 in c:\\users\\oldma\\anaconda3\\envs\\datascience\\lib\\site-packages (from jupyterlab->jupyter) (75.8.0)\n",
      "Requirement already satisfied: beautifulsoup4 in c:\\users\\oldma\\anaconda3\\envs\\datascience\\lib\\site-packages (from nbconvert->jupyter) (4.13.4)\n",
      "Requirement already satisfied: bleach!=5.0.0 in c:\\users\\oldma\\anaconda3\\envs\\datascience\\lib\\site-packages (from bleach[css]!=5.0.0->nbconvert->jupyter) (6.2.0)\n",
      "Requirement already satisfied: defusedxml in c:\\users\\oldma\\anaconda3\\envs\\datascience\\lib\\site-packages (from nbconvert->jupyter) (0.7.1)\n",
      "Requirement already satisfied: jupyterlab-pygments in c:\\users\\oldma\\anaconda3\\envs\\datascience\\lib\\site-packages (from nbconvert->jupyter) (0.3.0)\n",
      "Requirement already satisfied: markupsafe>=2.0 in c:\\users\\oldma\\anaconda3\\envs\\datascience\\lib\\site-packages (from nbconvert->jupyter) (3.0.2)\n",
      "Requirement already satisfied: mistune<4,>=2.0.3 in c:\\users\\oldma\\anaconda3\\envs\\datascience\\lib\\site-packages (from nbconvert->jupyter) (3.1.3)\n",
      "Requirement already satisfied: nbclient>=0.5.0 in c:\\users\\oldma\\anaconda3\\envs\\datascience\\lib\\site-packages (from nbconvert->jupyter) (0.10.2)\n",
      "Requirement already satisfied: nbformat>=5.7 in c:\\users\\oldma\\anaconda3\\envs\\datascience\\lib\\site-packages (from nbconvert->jupyter) (5.10.4)\n",
      "Requirement already satisfied: pandocfilters>=1.4.1 in c:\\users\\oldma\\anaconda3\\envs\\datascience\\lib\\site-packages (from nbconvert->jupyter) (1.5.1)\n",
      "Requirement already satisfied: webencodings in c:\\users\\oldma\\anaconda3\\envs\\datascience\\lib\\site-packages (from bleach!=5.0.0->bleach[css]!=5.0.0->nbconvert->jupyter) (0.5.1)\n",
      "Requirement already satisfied: tinycss2<1.5,>=1.1.0 in c:\\users\\oldma\\anaconda3\\envs\\datascience\\lib\\site-packages (from bleach[css]!=5.0.0->nbconvert->jupyter) (1.4.0)\n",
      "Requirement already satisfied: anyio in c:\\users\\oldma\\anaconda3\\envs\\datascience\\lib\\site-packages (from httpx>=0.25.0->jupyterlab->jupyter) (4.9.0)\n",
      "Requirement already satisfied: certifi in c:\\users\\oldma\\anaconda3\\envs\\datascience\\lib\\site-packages (from httpx>=0.25.0->jupyterlab->jupyter) (2025.1.31)\n",
      "Requirement already satisfied: httpcore==1.* in c:\\users\\oldma\\anaconda3\\envs\\datascience\\lib\\site-packages (from httpx>=0.25.0->jupyterlab->jupyter) (1.0.8)\n",
      "Requirement already satisfied: idna in c:\\users\\oldma\\anaconda3\\envs\\datascience\\lib\\site-packages (from httpx>=0.25.0->jupyterlab->jupyter) (3.10)\n",
      "Requirement already satisfied: h11<0.15,>=0.13 in c:\\users\\oldma\\anaconda3\\envs\\datascience\\lib\\site-packages (from httpcore==1.*->httpx>=0.25.0->jupyterlab->jupyter) (0.14.0)\n",
      "Requirement already satisfied: colorama in c:\\users\\oldma\\appdata\\roaming\\python\\python313\\site-packages (from ipython>=7.23.1->ipykernel->jupyter) (0.4.6)\n",
      "Requirement already satisfied: decorator in c:\\users\\oldma\\appdata\\roaming\\python\\python313\\site-packages (from ipython>=7.23.1->ipykernel->jupyter) (5.2.1)\n",
      "Requirement already satisfied: ipython-pygments-lexers in c:\\users\\oldma\\appdata\\roaming\\python\\python313\\site-packages (from ipython>=7.23.1->ipykernel->jupyter) (1.1.1)\n",
      "Requirement already satisfied: jedi>=0.16 in c:\\users\\oldma\\appdata\\roaming\\python\\python313\\site-packages (from ipython>=7.23.1->ipykernel->jupyter) (0.19.2)\n",
      "Requirement already satisfied: stack_data in c:\\users\\oldma\\appdata\\roaming\\python\\python313\\site-packages (from ipython>=7.23.1->ipykernel->jupyter) (0.6.3)\n",
      "Requirement already satisfied: python-dateutil>=2.8.2 in c:\\users\\oldma\\appdata\\roaming\\python\\python313\\site-packages (from jupyter-client>=6.1.12->ipykernel->jupyter) (2.9.0.post0)\n",
      "Requirement already satisfied: platformdirs>=2.5 in c:\\users\\oldma\\appdata\\roaming\\python\\python313\\site-packages (from jupyter-core!=5.0.*,>=4.12->ipykernel->jupyter) (4.3.7)\n",
      "Requirement already satisfied: pywin32>=300 in c:\\users\\oldma\\appdata\\roaming\\python\\python313\\site-packages (from jupyter-core!=5.0.*,>=4.12->ipykernel->jupyter) (310)\n",
      "Requirement already satisfied: argon2-cffi>=21.1 in c:\\users\\oldma\\anaconda3\\envs\\datascience\\lib\\site-packages (from jupyter-server<3,>=2.4.0->jupyterlab->jupyter) (23.1.0)\n",
      "Requirement already satisfied: jupyter-events>=0.11.0 in c:\\users\\oldma\\anaconda3\\envs\\datascience\\lib\\site-packages (from jupyter-server<3,>=2.4.0->jupyterlab->jupyter) (0.12.0)\n",
      "Requirement already satisfied: jupyter-server-terminals>=0.4.4 in c:\\users\\oldma\\anaconda3\\envs\\datascience\\lib\\site-packages (from jupyter-server<3,>=2.4.0->jupyterlab->jupyter) (0.5.3)\n",
      "Requirement already satisfied: overrides>=5.0 in c:\\users\\oldma\\anaconda3\\envs\\datascience\\lib\\site-packages (from jupyter-server<3,>=2.4.0->jupyterlab->jupyter) (7.7.0)\n",
      "Requirement already satisfied: prometheus-client>=0.9 in c:\\users\\oldma\\anaconda3\\envs\\datascience\\lib\\site-packages (from jupyter-server<3,>=2.4.0->jupyterlab->jupyter) (0.21.1)\n",
      "Requirement already satisfied: pywinpty>=2.0.1 in c:\\users\\oldma\\anaconda3\\envs\\datascience\\lib\\site-packages (from jupyter-server<3,>=2.4.0->jupyterlab->jupyter) (2.0.15)\n",
      "Requirement already satisfied: send2trash>=1.8.2 in c:\\users\\oldma\\anaconda3\\envs\\datascience\\lib\\site-packages (from jupyter-server<3,>=2.4.0->jupyterlab->jupyter) (1.8.3)\n",
      "Requirement already satisfied: terminado>=0.8.3 in c:\\users\\oldma\\anaconda3\\envs\\datascience\\lib\\site-packages (from jupyter-server<3,>=2.4.0->jupyterlab->jupyter) (0.18.1)\n",
      "Requirement already satisfied: websocket-client>=1.7 in c:\\users\\oldma\\anaconda3\\envs\\datascience\\lib\\site-packages (from jupyter-server<3,>=2.4.0->jupyterlab->jupyter) (1.8.0)\n",
      "Requirement already satisfied: babel>=2.10 in c:\\users\\oldma\\anaconda3\\envs\\datascience\\lib\\site-packages (from jupyterlab-server<3,>=2.27.1->jupyterlab->jupyter) (2.17.0)\n",
      "Requirement already satisfied: json5>=0.9.0 in c:\\users\\oldma\\anaconda3\\envs\\datascience\\lib\\site-packages (from jupyterlab-server<3,>=2.27.1->jupyterlab->jupyter) (0.12.0)\n",
      "Requirement already satisfied: jsonschema>=4.18.0 in c:\\users\\oldma\\anaconda3\\envs\\datascience\\lib\\site-packages (from jupyterlab-server<3,>=2.27.1->jupyterlab->jupyter) (4.23.0)\n",
      "Requirement already satisfied: requests>=2.31 in c:\\users\\oldma\\anaconda3\\envs\\datascience\\lib\\site-packages (from jupyterlab-server<3,>=2.27.1->jupyterlab->jupyter) (2.32.3)\n",
      "Requirement already satisfied: fastjsonschema>=2.15 in c:\\users\\oldma\\anaconda3\\envs\\datascience\\lib\\site-packages (from nbformat>=5.7->nbconvert->jupyter) (2.21.1)\n",
      "Requirement already satisfied: wcwidth in c:\\users\\oldma\\appdata\\roaming\\python\\python313\\site-packages (from prompt-toolkit>=3.0.30->jupyter-console->jupyter) (0.2.13)\n",
      "Requirement already satisfied: soupsieve>1.2 in c:\\users\\oldma\\anaconda3\\envs\\datascience\\lib\\site-packages (from beautifulsoup4->nbconvert->jupyter) (2.7)\n",
      "Requirement already satisfied: typing-extensions>=4.0.0 in c:\\users\\oldma\\anaconda3\\envs\\datascience\\lib\\site-packages (from beautifulsoup4->nbconvert->jupyter) (4.13.2)\n",
      "Requirement already satisfied: sniffio>=1.1 in c:\\users\\oldma\\anaconda3\\envs\\datascience\\lib\\site-packages (from anyio->httpx>=0.25.0->jupyterlab->jupyter) (1.3.1)\n",
      "Requirement already satisfied: argon2-cffi-bindings in c:\\users\\oldma\\anaconda3\\envs\\datascience\\lib\\site-packages (from argon2-cffi>=21.1->jupyter-server<3,>=2.4.0->jupyterlab->jupyter) (21.2.0)\n",
      "Requirement already satisfied: parso<0.9.0,>=0.8.4 in c:\\users\\oldma\\appdata\\roaming\\python\\python313\\site-packages (from jedi>=0.16->ipython>=7.23.1->ipykernel->jupyter) (0.8.4)\n",
      "Requirement already satisfied: attrs>=22.2.0 in c:\\users\\oldma\\anaconda3\\envs\\datascience\\lib\\site-packages (from jsonschema>=4.18.0->jupyterlab-server<3,>=2.27.1->jupyterlab->jupyter) (25.3.0)\n",
      "Requirement already satisfied: jsonschema-specifications>=2023.03.6 in c:\\users\\oldma\\anaconda3\\envs\\datascience\\lib\\site-packages (from jsonschema>=4.18.0->jupyterlab-server<3,>=2.27.1->jupyterlab->jupyter) (2024.10.1)\n",
      "Requirement already satisfied: referencing>=0.28.4 in c:\\users\\oldma\\anaconda3\\envs\\datascience\\lib\\site-packages (from jsonschema>=4.18.0->jupyterlab-server<3,>=2.27.1->jupyterlab->jupyter) (0.36.2)\n",
      "Requirement already satisfied: rpds-py>=0.7.1 in c:\\users\\oldma\\anaconda3\\envs\\datascience\\lib\\site-packages (from jsonschema>=4.18.0->jupyterlab-server<3,>=2.27.1->jupyterlab->jupyter) (0.24.0)\n",
      "Requirement already satisfied: python-json-logger>=2.0.4 in c:\\users\\oldma\\anaconda3\\envs\\datascience\\lib\\site-packages (from jupyter-events>=0.11.0->jupyter-server<3,>=2.4.0->jupyterlab->jupyter) (3.3.0)\n",
      "Requirement already satisfied: pyyaml>=5.3 in c:\\users\\oldma\\anaconda3\\envs\\datascience\\lib\\site-packages (from jupyter-events>=0.11.0->jupyter-server<3,>=2.4.0->jupyterlab->jupyter) (6.0.2)\n",
      "Requirement already satisfied: rfc3339-validator in c:\\users\\oldma\\anaconda3\\envs\\datascience\\lib\\site-packages (from jupyter-events>=0.11.0->jupyter-server<3,>=2.4.0->jupyterlab->jupyter) (0.1.4)\n",
      "Requirement already satisfied: rfc3986-validator>=0.1.1 in c:\\users\\oldma\\anaconda3\\envs\\datascience\\lib\\site-packages (from jupyter-events>=0.11.0->jupyter-server<3,>=2.4.0->jupyterlab->jupyter) (0.1.1)\n",
      "Requirement already satisfied: six>=1.5 in c:\\users\\oldma\\appdata\\roaming\\python\\python313\\site-packages (from python-dateutil>=2.8.2->jupyter-client>=6.1.12->ipykernel->jupyter) (1.17.0)\n",
      "Requirement already satisfied: charset-normalizer<4,>=2 in c:\\users\\oldma\\anaconda3\\envs\\datascience\\lib\\site-packages (from requests>=2.31->jupyterlab-server<3,>=2.27.1->jupyterlab->jupyter) (3.4.1)\n",
      "Requirement already satisfied: urllib3<3,>=1.21.1 in c:\\users\\oldma\\anaconda3\\envs\\datascience\\lib\\site-packages (from requests>=2.31->jupyterlab-server<3,>=2.27.1->jupyterlab->jupyter) (2.4.0)\n",
      "Requirement already satisfied: executing>=1.2.0 in c:\\users\\oldma\\appdata\\roaming\\python\\python313\\site-packages (from stack_data->ipython>=7.23.1->ipykernel->jupyter) (2.2.0)\n",
      "Requirement already satisfied: asttokens>=2.1.0 in c:\\users\\oldma\\appdata\\roaming\\python\\python313\\site-packages (from stack_data->ipython>=7.23.1->ipykernel->jupyter) (3.0.0)\n",
      "Requirement already satisfied: pure-eval in c:\\users\\oldma\\appdata\\roaming\\python\\python313\\site-packages (from stack_data->ipython>=7.23.1->ipykernel->jupyter) (0.2.3)\n",
      "Requirement already satisfied: fqdn in c:\\users\\oldma\\anaconda3\\envs\\datascience\\lib\\site-packages (from jsonschema[format-nongpl]>=4.18.0->jupyter-events>=0.11.0->jupyter-server<3,>=2.4.0->jupyterlab->jupyter) (1.5.1)\n",
      "Requirement already satisfied: isoduration in c:\\users\\oldma\\anaconda3\\envs\\datascience\\lib\\site-packages (from jsonschema[format-nongpl]>=4.18.0->jupyter-events>=0.11.0->jupyter-server<3,>=2.4.0->jupyterlab->jupyter) (20.11.0)\n",
      "Requirement already satisfied: jsonpointer>1.13 in c:\\users\\oldma\\anaconda3\\envs\\datascience\\lib\\site-packages (from jsonschema[format-nongpl]>=4.18.0->jupyter-events>=0.11.0->jupyter-server<3,>=2.4.0->jupyterlab->jupyter) (3.0.0)\n",
      "Requirement already satisfied: uri-template in c:\\users\\oldma\\anaconda3\\envs\\datascience\\lib\\site-packages (from jsonschema[format-nongpl]>=4.18.0->jupyter-events>=0.11.0->jupyter-server<3,>=2.4.0->jupyterlab->jupyter) (1.3.0)\n",
      "Requirement already satisfied: webcolors>=24.6.0 in c:\\users\\oldma\\anaconda3\\envs\\datascience\\lib\\site-packages (from jsonschema[format-nongpl]>=4.18.0->jupyter-events>=0.11.0->jupyter-server<3,>=2.4.0->jupyterlab->jupyter) (24.11.1)\n",
      "Requirement already satisfied: cffi>=1.0.1 in c:\\users\\oldma\\anaconda3\\envs\\datascience\\lib\\site-packages (from argon2-cffi-bindings->argon2-cffi>=21.1->jupyter-server<3,>=2.4.0->jupyterlab->jupyter) (1.17.1)\n",
      "Requirement already satisfied: pycparser in c:\\users\\oldma\\anaconda3\\envs\\datascience\\lib\\site-packages (from cffi>=1.0.1->argon2-cffi-bindings->argon2-cffi>=21.1->jupyter-server<3,>=2.4.0->jupyterlab->jupyter) (2.22)\n",
      "Requirement already satisfied: arrow>=0.15.0 in c:\\users\\oldma\\anaconda3\\envs\\datascience\\lib\\site-packages (from isoduration->jsonschema[format-nongpl]>=4.18.0->jupyter-events>=0.11.0->jupyter-server<3,>=2.4.0->jupyterlab->jupyter) (1.3.0)\n",
      "Requirement already satisfied: types-python-dateutil>=2.8.10 in c:\\users\\oldma\\anaconda3\\envs\\datascience\\lib\\site-packages (from arrow>=0.15.0->isoduration->jsonschema[format-nongpl]>=4.18.0->jupyter-events>=0.11.0->jupyter-server<3,>=2.4.0->jupyterlab->jupyter) (2.9.0.20241206)\n",
      "Requirement already satisfied: notebook in c:\\users\\oldma\\anaconda3\\envs\\datascience\\lib\\site-packages (7.4.1)\n",
      "Requirement already satisfied: jupyter-server<3,>=2.4.0 in c:\\users\\oldma\\anaconda3\\envs\\datascience\\lib\\site-packages (from notebook) (2.15.0)\n",
      "Requirement already satisfied: jupyterlab-server<3,>=2.27.1 in c:\\users\\oldma\\anaconda3\\envs\\datascience\\lib\\site-packages (from notebook) (2.27.3)\n",
      "Requirement already satisfied: jupyterlab<4.5,>=4.4.0rc0 in c:\\users\\oldma\\anaconda3\\envs\\datascience\\lib\\site-packages (from notebook) (4.4.1)\n",
      "Requirement already satisfied: notebook-shim<0.3,>=0.2 in c:\\users\\oldma\\anaconda3\\envs\\datascience\\lib\\site-packages (from notebook) (0.2.4)\n",
      "Requirement already satisfied: tornado>=6.2.0 in c:\\users\\oldma\\appdata\\roaming\\python\\python313\\site-packages (from notebook) (6.4.2)\n",
      "Requirement already satisfied: anyio>=3.1.0 in c:\\users\\oldma\\anaconda3\\envs\\datascience\\lib\\site-packages (from jupyter-server<3,>=2.4.0->notebook) (4.9.0)\n",
      "Requirement already satisfied: argon2-cffi>=21.1 in c:\\users\\oldma\\anaconda3\\envs\\datascience\\lib\\site-packages (from jupyter-server<3,>=2.4.0->notebook) (23.1.0)\n",
      "Requirement already satisfied: jinja2>=3.0.3 in c:\\users\\oldma\\anaconda3\\envs\\datascience\\lib\\site-packages (from jupyter-server<3,>=2.4.0->notebook) (3.1.6)\n",
      "Requirement already satisfied: jupyter-client>=7.4.4 in c:\\users\\oldma\\appdata\\roaming\\python\\python313\\site-packages (from jupyter-server<3,>=2.4.0->notebook) (8.6.3)\n",
      "Requirement already satisfied: jupyter-core!=5.0.*,>=4.12 in c:\\users\\oldma\\appdata\\roaming\\python\\python313\\site-packages (from jupyter-server<3,>=2.4.0->notebook) (5.7.2)\n",
      "Requirement already satisfied: jupyter-events>=0.11.0 in c:\\users\\oldma\\anaconda3\\envs\\datascience\\lib\\site-packages (from jupyter-server<3,>=2.4.0->notebook) (0.12.0)\n",
      "Requirement already satisfied: jupyter-server-terminals>=0.4.4 in c:\\users\\oldma\\anaconda3\\envs\\datascience\\lib\\site-packages (from jupyter-server<3,>=2.4.0->notebook) (0.5.3)\n",
      "Requirement already satisfied: nbconvert>=6.4.4 in c:\\users\\oldma\\anaconda3\\envs\\datascience\\lib\\site-packages (from jupyter-server<3,>=2.4.0->notebook) (7.16.6)\n",
      "Requirement already satisfied: nbformat>=5.3.0 in c:\\users\\oldma\\anaconda3\\envs\\datascience\\lib\\site-packages (from jupyter-server<3,>=2.4.0->notebook) (5.10.4)\n",
      "Requirement already satisfied: overrides>=5.0 in c:\\users\\oldma\\anaconda3\\envs\\datascience\\lib\\site-packages (from jupyter-server<3,>=2.4.0->notebook) (7.7.0)\n",
      "Requirement already satisfied: packaging>=22.0 in c:\\users\\oldma\\appdata\\roaming\\python\\python313\\site-packages (from jupyter-server<3,>=2.4.0->notebook) (25.0)\n",
      "Requirement already satisfied: prometheus-client>=0.9 in c:\\users\\oldma\\anaconda3\\envs\\datascience\\lib\\site-packages (from jupyter-server<3,>=2.4.0->notebook) (0.21.1)\n",
      "Requirement already satisfied: pywinpty>=2.0.1 in c:\\users\\oldma\\anaconda3\\envs\\datascience\\lib\\site-packages (from jupyter-server<3,>=2.4.0->notebook) (2.0.15)\n",
      "Requirement already satisfied: pyzmq>=24 in c:\\users\\oldma\\appdata\\roaming\\python\\python313\\site-packages (from jupyter-server<3,>=2.4.0->notebook) (26.4.0)\n",
      "Requirement already satisfied: send2trash>=1.8.2 in c:\\users\\oldma\\anaconda3\\envs\\datascience\\lib\\site-packages (from jupyter-server<3,>=2.4.0->notebook) (1.8.3)\n",
      "Requirement already satisfied: terminado>=0.8.3 in c:\\users\\oldma\\anaconda3\\envs\\datascience\\lib\\site-packages (from jupyter-server<3,>=2.4.0->notebook) (0.18.1)\n",
      "Requirement already satisfied: traitlets>=5.6.0 in c:\\users\\oldma\\appdata\\roaming\\python\\python313\\site-packages (from jupyter-server<3,>=2.4.0->notebook) (5.14.3)\n",
      "Requirement already satisfied: websocket-client>=1.7 in c:\\users\\oldma\\anaconda3\\envs\\datascience\\lib\\site-packages (from jupyter-server<3,>=2.4.0->notebook) (1.8.0)\n",
      "Requirement already satisfied: async-lru>=1.0.0 in c:\\users\\oldma\\anaconda3\\envs\\datascience\\lib\\site-packages (from jupyterlab<4.5,>=4.4.0rc0->notebook) (2.0.5)\n",
      "Requirement already satisfied: httpx>=0.25.0 in c:\\users\\oldma\\anaconda3\\envs\\datascience\\lib\\site-packages (from jupyterlab<4.5,>=4.4.0rc0->notebook) (0.28.1)\n",
      "Requirement already satisfied: ipykernel>=6.5.0 in c:\\users\\oldma\\appdata\\roaming\\python\\python313\\site-packages (from jupyterlab<4.5,>=4.4.0rc0->notebook) (6.29.5)\n",
      "Requirement already satisfied: jupyter-lsp>=2.0.0 in c:\\users\\oldma\\anaconda3\\envs\\datascience\\lib\\site-packages (from jupyterlab<4.5,>=4.4.0rc0->notebook) (2.2.5)\n",
      "Requirement already satisfied: setuptools>=41.1.0 in c:\\users\\oldma\\anaconda3\\envs\\datascience\\lib\\site-packages (from jupyterlab<4.5,>=4.4.0rc0->notebook) (75.8.0)\n",
      "Requirement already satisfied: babel>=2.10 in c:\\users\\oldma\\anaconda3\\envs\\datascience\\lib\\site-packages (from jupyterlab-server<3,>=2.27.1->notebook) (2.17.0)\n",
      "Requirement already satisfied: json5>=0.9.0 in c:\\users\\oldma\\anaconda3\\envs\\datascience\\lib\\site-packages (from jupyterlab-server<3,>=2.27.1->notebook) (0.12.0)\n",
      "Requirement already satisfied: jsonschema>=4.18.0 in c:\\users\\oldma\\anaconda3\\envs\\datascience\\lib\\site-packages (from jupyterlab-server<3,>=2.27.1->notebook) (4.23.0)\n",
      "Requirement already satisfied: requests>=2.31 in c:\\users\\oldma\\anaconda3\\envs\\datascience\\lib\\site-packages (from jupyterlab-server<3,>=2.27.1->notebook) (2.32.3)\n",
      "Requirement already satisfied: idna>=2.8 in c:\\users\\oldma\\anaconda3\\envs\\datascience\\lib\\site-packages (from anyio>=3.1.0->jupyter-server<3,>=2.4.0->notebook) (3.10)\n",
      "Requirement already satisfied: sniffio>=1.1 in c:\\users\\oldma\\anaconda3\\envs\\datascience\\lib\\site-packages (from anyio>=3.1.0->jupyter-server<3,>=2.4.0->notebook) (1.3.1)\n",
      "Requirement already satisfied: argon2-cffi-bindings in c:\\users\\oldma\\anaconda3\\envs\\datascience\\lib\\site-packages (from argon2-cffi>=21.1->jupyter-server<3,>=2.4.0->notebook) (21.2.0)\n",
      "Requirement already satisfied: certifi in c:\\users\\oldma\\anaconda3\\envs\\datascience\\lib\\site-packages (from httpx>=0.25.0->jupyterlab<4.5,>=4.4.0rc0->notebook) (2025.1.31)\n",
      "Requirement already satisfied: httpcore==1.* in c:\\users\\oldma\\anaconda3\\envs\\datascience\\lib\\site-packages (from httpx>=0.25.0->jupyterlab<4.5,>=4.4.0rc0->notebook) (1.0.8)\n",
      "Requirement already satisfied: h11<0.15,>=0.13 in c:\\users\\oldma\\anaconda3\\envs\\datascience\\lib\\site-packages (from httpcore==1.*->httpx>=0.25.0->jupyterlab<4.5,>=4.4.0rc0->notebook) (0.14.0)\n",
      "Requirement already satisfied: comm>=0.1.1 in c:\\users\\oldma\\appdata\\roaming\\python\\python313\\site-packages (from ipykernel>=6.5.0->jupyterlab<4.5,>=4.4.0rc0->notebook) (0.2.2)\n",
      "Requirement already satisfied: debugpy>=1.6.5 in c:\\users\\oldma\\appdata\\roaming\\python\\python313\\site-packages (from ipykernel>=6.5.0->jupyterlab<4.5,>=4.4.0rc0->notebook) (1.8.14)\n",
      "Requirement already satisfied: ipython>=7.23.1 in c:\\users\\oldma\\appdata\\roaming\\python\\python313\\site-packages (from ipykernel>=6.5.0->jupyterlab<4.5,>=4.4.0rc0->notebook) (9.1.0)\n",
      "Requirement already satisfied: matplotlib-inline>=0.1 in c:\\users\\oldma\\appdata\\roaming\\python\\python313\\site-packages (from ipykernel>=6.5.0->jupyterlab<4.5,>=4.4.0rc0->notebook) (0.1.7)\n",
      "Requirement already satisfied: nest-asyncio in c:\\users\\oldma\\appdata\\roaming\\python\\python313\\site-packages (from ipykernel>=6.5.0->jupyterlab<4.5,>=4.4.0rc0->notebook) (1.6.0)\n",
      "Requirement already satisfied: psutil in c:\\users\\oldma\\appdata\\roaming\\python\\python313\\site-packages (from ipykernel>=6.5.0->jupyterlab<4.5,>=4.4.0rc0->notebook) (7.0.0)\n",
      "Requirement already satisfied: MarkupSafe>=2.0 in c:\\users\\oldma\\anaconda3\\envs\\datascience\\lib\\site-packages (from jinja2>=3.0.3->jupyter-server<3,>=2.4.0->notebook) (3.0.2)\n",
      "Requirement already satisfied: attrs>=22.2.0 in c:\\users\\oldma\\anaconda3\\envs\\datascience\\lib\\site-packages (from jsonschema>=4.18.0->jupyterlab-server<3,>=2.27.1->notebook) (25.3.0)\n",
      "Requirement already satisfied: jsonschema-specifications>=2023.03.6 in c:\\users\\oldma\\anaconda3\\envs\\datascience\\lib\\site-packages (from jsonschema>=4.18.0->jupyterlab-server<3,>=2.27.1->notebook) (2024.10.1)\n",
      "Requirement already satisfied: referencing>=0.28.4 in c:\\users\\oldma\\anaconda3\\envs\\datascience\\lib\\site-packages (from jsonschema>=4.18.0->jupyterlab-server<3,>=2.27.1->notebook) (0.36.2)\n",
      "Requirement already satisfied: rpds-py>=0.7.1 in c:\\users\\oldma\\anaconda3\\envs\\datascience\\lib\\site-packages (from jsonschema>=4.18.0->jupyterlab-server<3,>=2.27.1->notebook) (0.24.0)\n",
      "Requirement already satisfied: python-dateutil>=2.8.2 in c:\\users\\oldma\\appdata\\roaming\\python\\python313\\site-packages (from jupyter-client>=7.4.4->jupyter-server<3,>=2.4.0->notebook) (2.9.0.post0)\n",
      "Requirement already satisfied: platformdirs>=2.5 in c:\\users\\oldma\\appdata\\roaming\\python\\python313\\site-packages (from jupyter-core!=5.0.*,>=4.12->jupyter-server<3,>=2.4.0->notebook) (4.3.7)\n",
      "Requirement already satisfied: pywin32>=300 in c:\\users\\oldma\\appdata\\roaming\\python\\python313\\site-packages (from jupyter-core!=5.0.*,>=4.12->jupyter-server<3,>=2.4.0->notebook) (310)\n",
      "Requirement already satisfied: python-json-logger>=2.0.4 in c:\\users\\oldma\\anaconda3\\envs\\datascience\\lib\\site-packages (from jupyter-events>=0.11.0->jupyter-server<3,>=2.4.0->notebook) (3.3.0)\n",
      "Requirement already satisfied: pyyaml>=5.3 in c:\\users\\oldma\\anaconda3\\envs\\datascience\\lib\\site-packages (from jupyter-events>=0.11.0->jupyter-server<3,>=2.4.0->notebook) (6.0.2)\n",
      "Requirement already satisfied: rfc3339-validator in c:\\users\\oldma\\anaconda3\\envs\\datascience\\lib\\site-packages (from jupyter-events>=0.11.0->jupyter-server<3,>=2.4.0->notebook) (0.1.4)\n",
      "Requirement already satisfied: rfc3986-validator>=0.1.1 in c:\\users\\oldma\\anaconda3\\envs\\datascience\\lib\\site-packages (from jupyter-events>=0.11.0->jupyter-server<3,>=2.4.0->notebook) (0.1.1)\n",
      "Requirement already satisfied: beautifulsoup4 in c:\\users\\oldma\\anaconda3\\envs\\datascience\\lib\\site-packages (from nbconvert>=6.4.4->jupyter-server<3,>=2.4.0->notebook) (4.13.4)\n",
      "Requirement already satisfied: bleach!=5.0.0 in c:\\users\\oldma\\anaconda3\\envs\\datascience\\lib\\site-packages (from bleach[css]!=5.0.0->nbconvert>=6.4.4->jupyter-server<3,>=2.4.0->notebook) (6.2.0)\n",
      "Requirement already satisfied: defusedxml in c:\\users\\oldma\\anaconda3\\envs\\datascience\\lib\\site-packages (from nbconvert>=6.4.4->jupyter-server<3,>=2.4.0->notebook) (0.7.1)\n",
      "Requirement already satisfied: jupyterlab-pygments in c:\\users\\oldma\\anaconda3\\envs\\datascience\\lib\\site-packages (from nbconvert>=6.4.4->jupyter-server<3,>=2.4.0->notebook) (0.3.0)\n",
      "Requirement already satisfied: mistune<4,>=2.0.3 in c:\\users\\oldma\\anaconda3\\envs\\datascience\\lib\\site-packages (from nbconvert>=6.4.4->jupyter-server<3,>=2.4.0->notebook) (3.1.3)\n",
      "Requirement already satisfied: nbclient>=0.5.0 in c:\\users\\oldma\\anaconda3\\envs\\datascience\\lib\\site-packages (from nbconvert>=6.4.4->jupyter-server<3,>=2.4.0->notebook) (0.10.2)\n",
      "Requirement already satisfied: pandocfilters>=1.4.1 in c:\\users\\oldma\\anaconda3\\envs\\datascience\\lib\\site-packages (from nbconvert>=6.4.4->jupyter-server<3,>=2.4.0->notebook) (1.5.1)\n",
      "Requirement already satisfied: pygments>=2.4.1 in c:\\users\\oldma\\appdata\\roaming\\python\\python313\\site-packages (from nbconvert>=6.4.4->jupyter-server<3,>=2.4.0->notebook) (2.19.1)\n",
      "Requirement already satisfied: fastjsonschema>=2.15 in c:\\users\\oldma\\anaconda3\\envs\\datascience\\lib\\site-packages (from nbformat>=5.3.0->jupyter-server<3,>=2.4.0->notebook) (2.21.1)\n",
      "Requirement already satisfied: charset-normalizer<4,>=2 in c:\\users\\oldma\\anaconda3\\envs\\datascience\\lib\\site-packages (from requests>=2.31->jupyterlab-server<3,>=2.27.1->notebook) (3.4.1)\n",
      "Requirement already satisfied: urllib3<3,>=1.21.1 in c:\\users\\oldma\\anaconda3\\envs\\datascience\\lib\\site-packages (from requests>=2.31->jupyterlab-server<3,>=2.27.1->notebook) (2.4.0)\n",
      "Requirement already satisfied: webencodings in c:\\users\\oldma\\anaconda3\\envs\\datascience\\lib\\site-packages (from bleach!=5.0.0->bleach[css]!=5.0.0->nbconvert>=6.4.4->jupyter-server<3,>=2.4.0->notebook) (0.5.1)\n",
      "Requirement already satisfied: tinycss2<1.5,>=1.1.0 in c:\\users\\oldma\\anaconda3\\envs\\datascience\\lib\\site-packages (from bleach[css]!=5.0.0->nbconvert>=6.4.4->jupyter-server<3,>=2.4.0->notebook) (1.4.0)\n",
      "Requirement already satisfied: colorama in c:\\users\\oldma\\appdata\\roaming\\python\\python313\\site-packages (from ipython>=7.23.1->ipykernel>=6.5.0->jupyterlab<4.5,>=4.4.0rc0->notebook) (0.4.6)\n",
      "Requirement already satisfied: decorator in c:\\users\\oldma\\appdata\\roaming\\python\\python313\\site-packages (from ipython>=7.23.1->ipykernel>=6.5.0->jupyterlab<4.5,>=4.4.0rc0->notebook) (5.2.1)\n",
      "Requirement already satisfied: ipython-pygments-lexers in c:\\users\\oldma\\appdata\\roaming\\python\\python313\\site-packages (from ipython>=7.23.1->ipykernel>=6.5.0->jupyterlab<4.5,>=4.4.0rc0->notebook) (1.1.1)\n",
      "Requirement already satisfied: jedi>=0.16 in c:\\users\\oldma\\appdata\\roaming\\python\\python313\\site-packages (from ipython>=7.23.1->ipykernel>=6.5.0->jupyterlab<4.5,>=4.4.0rc0->notebook) (0.19.2)\n",
      "Requirement already satisfied: prompt_toolkit<3.1.0,>=3.0.41 in c:\\users\\oldma\\appdata\\roaming\\python\\python313\\site-packages (from ipython>=7.23.1->ipykernel>=6.5.0->jupyterlab<4.5,>=4.4.0rc0->notebook) (3.0.51)\n",
      "Requirement already satisfied: stack_data in c:\\users\\oldma\\appdata\\roaming\\python\\python313\\site-packages (from ipython>=7.23.1->ipykernel>=6.5.0->jupyterlab<4.5,>=4.4.0rc0->notebook) (0.6.3)\n",
      "Requirement already satisfied: fqdn in c:\\users\\oldma\\anaconda3\\envs\\datascience\\lib\\site-packages (from jsonschema[format-nongpl]>=4.18.0->jupyter-events>=0.11.0->jupyter-server<3,>=2.4.0->notebook) (1.5.1)\n",
      "Requirement already satisfied: isoduration in c:\\users\\oldma\\anaconda3\\envs\\datascience\\lib\\site-packages (from jsonschema[format-nongpl]>=4.18.0->jupyter-events>=0.11.0->jupyter-server<3,>=2.4.0->notebook) (20.11.0)\n",
      "Requirement already satisfied: jsonpointer>1.13 in c:\\users\\oldma\\anaconda3\\envs\\datascience\\lib\\site-packages (from jsonschema[format-nongpl]>=4.18.0->jupyter-events>=0.11.0->jupyter-server<3,>=2.4.0->notebook) (3.0.0)\n",
      "Requirement already satisfied: uri-template in c:\\users\\oldma\\anaconda3\\envs\\datascience\\lib\\site-packages (from jsonschema[format-nongpl]>=4.18.0->jupyter-events>=0.11.0->jupyter-server<3,>=2.4.0->notebook) (1.3.0)\n",
      "Requirement already satisfied: webcolors>=24.6.0 in c:\\users\\oldma\\anaconda3\\envs\\datascience\\lib\\site-packages (from jsonschema[format-nongpl]>=4.18.0->jupyter-events>=0.11.0->jupyter-server<3,>=2.4.0->notebook) (24.11.1)\n",
      "Requirement already satisfied: six>=1.5 in c:\\users\\oldma\\appdata\\roaming\\python\\python313\\site-packages (from python-dateutil>=2.8.2->jupyter-client>=7.4.4->jupyter-server<3,>=2.4.0->notebook) (1.17.0)\n",
      "Requirement already satisfied: cffi>=1.0.1 in c:\\users\\oldma\\anaconda3\\envs\\datascience\\lib\\site-packages (from argon2-cffi-bindings->argon2-cffi>=21.1->jupyter-server<3,>=2.4.0->notebook) (1.17.1)\n",
      "Requirement already satisfied: soupsieve>1.2 in c:\\users\\oldma\\anaconda3\\envs\\datascience\\lib\\site-packages (from beautifulsoup4->nbconvert>=6.4.4->jupyter-server<3,>=2.4.0->notebook) (2.7)\n",
      "Requirement already satisfied: typing-extensions>=4.0.0 in c:\\users\\oldma\\anaconda3\\envs\\datascience\\lib\\site-packages (from beautifulsoup4->nbconvert>=6.4.4->jupyter-server<3,>=2.4.0->notebook) (4.13.2)\n",
      "Requirement already satisfied: pycparser in c:\\users\\oldma\\anaconda3\\envs\\datascience\\lib\\site-packages (from cffi>=1.0.1->argon2-cffi-bindings->argon2-cffi>=21.1->jupyter-server<3,>=2.4.0->notebook) (2.22)\n",
      "Requirement already satisfied: parso<0.9.0,>=0.8.4 in c:\\users\\oldma\\appdata\\roaming\\python\\python313\\site-packages (from jedi>=0.16->ipython>=7.23.1->ipykernel>=6.5.0->jupyterlab<4.5,>=4.4.0rc0->notebook) (0.8.4)\n",
      "Requirement already satisfied: wcwidth in c:\\users\\oldma\\appdata\\roaming\\python\\python313\\site-packages (from prompt_toolkit<3.1.0,>=3.0.41->ipython>=7.23.1->ipykernel>=6.5.0->jupyterlab<4.5,>=4.4.0rc0->notebook) (0.2.13)\n",
      "Requirement already satisfied: arrow>=0.15.0 in c:\\users\\oldma\\anaconda3\\envs\\datascience\\lib\\site-packages (from isoduration->jsonschema[format-nongpl]>=4.18.0->jupyter-events>=0.11.0->jupyter-server<3,>=2.4.0->notebook) (1.3.0)\n",
      "Requirement already satisfied: executing>=1.2.0 in c:\\users\\oldma\\appdata\\roaming\\python\\python313\\site-packages (from stack_data->ipython>=7.23.1->ipykernel>=6.5.0->jupyterlab<4.5,>=4.4.0rc0->notebook) (2.2.0)\n",
      "Requirement already satisfied: asttokens>=2.1.0 in c:\\users\\oldma\\appdata\\roaming\\python\\python313\\site-packages (from stack_data->ipython>=7.23.1->ipykernel>=6.5.0->jupyterlab<4.5,>=4.4.0rc0->notebook) (3.0.0)\n",
      "Requirement already satisfied: pure-eval in c:\\users\\oldma\\appdata\\roaming\\python\\python313\\site-packages (from stack_data->ipython>=7.23.1->ipykernel>=6.5.0->jupyterlab<4.5,>=4.4.0rc0->notebook) (0.2.3)\n",
      "Requirement already satisfied: types-python-dateutil>=2.8.10 in c:\\users\\oldma\\anaconda3\\envs\\datascience\\lib\\site-packages (from arrow>=0.15.0->isoduration->jsonschema[format-nongpl]>=4.18.0->jupyter-events>=0.11.0->jupyter-server<3,>=2.4.0->notebook) (2.9.0.20241206)\n",
      "Requirement already satisfied: pandas in c:\\users\\oldma\\anaconda3\\envs\\datascience\\lib\\site-packages (2.2.3)\n",
      "Requirement already satisfied: numpy>=1.26.0 in c:\\users\\oldma\\anaconda3\\envs\\datascience\\lib\\site-packages (from pandas) (2.2.5)\n",
      "Requirement already satisfied: python-dateutil>=2.8.2 in c:\\users\\oldma\\appdata\\roaming\\python\\python313\\site-packages (from pandas) (2.9.0.post0)\n",
      "Requirement already satisfied: pytz>=2020.1 in c:\\users\\oldma\\anaconda3\\envs\\datascience\\lib\\site-packages (from pandas) (2025.2)\n",
      "Requirement already satisfied: tzdata>=2022.7 in c:\\users\\oldma\\anaconda3\\envs\\datascience\\lib\\site-packages (from pandas) (2025.2)\n",
      "Requirement already satisfied: six>=1.5 in c:\\users\\oldma\\appdata\\roaming\\python\\python313\\site-packages (from python-dateutil>=2.8.2->pandas) (1.17.0)\n",
      "Requirement already satisfied: numpy in c:\\users\\oldma\\anaconda3\\envs\\datascience\\lib\\site-packages (2.2.5)\n",
      "Requirement already satisfied: scipy in c:\\users\\oldma\\anaconda3\\envs\\datascience\\lib\\site-packages (1.15.2)\n",
      "Requirement already satisfied: numpy<2.5,>=1.23.5 in c:\\users\\oldma\\anaconda3\\envs\\datascience\\lib\\site-packages (from scipy) (2.2.5)\n",
      "Requirement already satisfied: matplotlib in c:\\users\\oldma\\anaconda3\\envs\\datascience\\lib\\site-packages (3.10.1)\n",
      "Requirement already satisfied: contourpy>=1.0.1 in c:\\users\\oldma\\anaconda3\\envs\\datascience\\lib\\site-packages (from matplotlib) (1.3.2)\n",
      "Requirement already satisfied: cycler>=0.10 in c:\\users\\oldma\\anaconda3\\envs\\datascience\\lib\\site-packages (from matplotlib) (0.12.1)\n",
      "Requirement already satisfied: fonttools>=4.22.0 in c:\\users\\oldma\\anaconda3\\envs\\datascience\\lib\\site-packages (from matplotlib) (4.57.0)\n",
      "Requirement already satisfied: kiwisolver>=1.3.1 in c:\\users\\oldma\\anaconda3\\envs\\datascience\\lib\\site-packages (from matplotlib) (1.4.8)\n",
      "Requirement already satisfied: numpy>=1.23 in c:\\users\\oldma\\anaconda3\\envs\\datascience\\lib\\site-packages (from matplotlib) (2.2.5)\n",
      "Requirement already satisfied: packaging>=20.0 in c:\\users\\oldma\\appdata\\roaming\\python\\python313\\site-packages (from matplotlib) (25.0)\n",
      "Requirement already satisfied: pillow>=8 in c:\\users\\oldma\\anaconda3\\envs\\datascience\\lib\\site-packages (from matplotlib) (11.2.1)\n",
      "Requirement already satisfied: pyparsing>=2.3.1 in c:\\users\\oldma\\anaconda3\\envs\\datascience\\lib\\site-packages (from matplotlib) (3.2.3)\n",
      "Requirement already satisfied: python-dateutil>=2.7 in c:\\users\\oldma\\appdata\\roaming\\python\\python313\\site-packages (from matplotlib) (2.9.0.post0)\n",
      "Requirement already satisfied: six>=1.5 in c:\\users\\oldma\\appdata\\roaming\\python\\python313\\site-packages (from python-dateutil>=2.7->matplotlib) (1.17.0)\n",
      "Requirement already satisfied: seaborn in c:\\users\\oldma\\anaconda3\\envs\\datascience\\lib\\site-packages (0.13.2)\n",
      "Requirement already satisfied: numpy!=1.24.0,>=1.20 in c:\\users\\oldma\\anaconda3\\envs\\datascience\\lib\\site-packages (from seaborn) (2.2.5)\n",
      "Requirement already satisfied: pandas>=1.2 in c:\\users\\oldma\\anaconda3\\envs\\datascience\\lib\\site-packages (from seaborn) (2.2.3)\n",
      "Requirement already satisfied: matplotlib!=3.6.1,>=3.4 in c:\\users\\oldma\\anaconda3\\envs\\datascience\\lib\\site-packages (from seaborn) (3.10.1)\n",
      "Requirement already satisfied: contourpy>=1.0.1 in c:\\users\\oldma\\anaconda3\\envs\\datascience\\lib\\site-packages (from matplotlib!=3.6.1,>=3.4->seaborn) (1.3.2)\n",
      "Requirement already satisfied: cycler>=0.10 in c:\\users\\oldma\\anaconda3\\envs\\datascience\\lib\\site-packages (from matplotlib!=3.6.1,>=3.4->seaborn) (0.12.1)\n",
      "Requirement already satisfied: fonttools>=4.22.0 in c:\\users\\oldma\\anaconda3\\envs\\datascience\\lib\\site-packages (from matplotlib!=3.6.1,>=3.4->seaborn) (4.57.0)\n",
      "Requirement already satisfied: kiwisolver>=1.3.1 in c:\\users\\oldma\\anaconda3\\envs\\datascience\\lib\\site-packages (from matplotlib!=3.6.1,>=3.4->seaborn) (1.4.8)\n",
      "Requirement already satisfied: packaging>=20.0 in c:\\users\\oldma\\appdata\\roaming\\python\\python313\\site-packages (from matplotlib!=3.6.1,>=3.4->seaborn) (25.0)\n",
      "Requirement already satisfied: pillow>=8 in c:\\users\\oldma\\anaconda3\\envs\\datascience\\lib\\site-packages (from matplotlib!=3.6.1,>=3.4->seaborn) (11.2.1)\n",
      "Requirement already satisfied: pyparsing>=2.3.1 in c:\\users\\oldma\\anaconda3\\envs\\datascience\\lib\\site-packages (from matplotlib!=3.6.1,>=3.4->seaborn) (3.2.3)\n",
      "Requirement already satisfied: python-dateutil>=2.7 in c:\\users\\oldma\\appdata\\roaming\\python\\python313\\site-packages (from matplotlib!=3.6.1,>=3.4->seaborn) (2.9.0.post0)\n",
      "Requirement already satisfied: pytz>=2020.1 in c:\\users\\oldma\\anaconda3\\envs\\datascience\\lib\\site-packages (from pandas>=1.2->seaborn) (2025.2)\n",
      "Requirement already satisfied: tzdata>=2022.7 in c:\\users\\oldma\\anaconda3\\envs\\datascience\\lib\\site-packages (from pandas>=1.2->seaborn) (2025.2)\n",
      "Requirement already satisfied: six>=1.5 in c:\\users\\oldma\\appdata\\roaming\\python\\python313\\site-packages (from python-dateutil>=2.7->matplotlib!=3.6.1,>=3.4->seaborn) (1.17.0)\n",
      "Requirement already satisfied: scikit-learn in c:\\users\\oldma\\anaconda3\\envs\\datascience\\lib\\site-packages (1.6.1)\n",
      "Requirement already satisfied: numpy>=1.19.5 in c:\\users\\oldma\\anaconda3\\envs\\datascience\\lib\\site-packages (from scikit-learn) (2.2.5)\n",
      "Requirement already satisfied: scipy>=1.6.0 in c:\\users\\oldma\\anaconda3\\envs\\datascience\\lib\\site-packages (from scikit-learn) (1.15.2)\n",
      "Requirement already satisfied: joblib>=1.2.0 in c:\\users\\oldma\\anaconda3\\envs\\datascience\\lib\\site-packages (from scikit-learn) (1.4.2)\n",
      "Requirement already satisfied: threadpoolctl>=3.1.0 in c:\\users\\oldma\\anaconda3\\envs\\datascience\\lib\\site-packages (from scikit-learn) (3.6.0)\n",
      "Requirement already satisfied: graphviz in c:\\users\\oldma\\anaconda3\\envs\\datascience\\lib\\site-packages (0.20.3)\n",
      "Requirement already satisfied: dtreeviz in c:\\users\\oldma\\anaconda3\\envs\\datascience\\lib\\site-packages (2.2.2)\n",
      "Requirement already satisfied: graphviz>=0.9 in c:\\users\\oldma\\anaconda3\\envs\\datascience\\lib\\site-packages (from dtreeviz) (0.20.3)\n",
      "Requirement already satisfied: pandas in c:\\users\\oldma\\anaconda3\\envs\\datascience\\lib\\site-packages (from dtreeviz) (2.2.3)\n",
      "Requirement already satisfied: numpy in c:\\users\\oldma\\anaconda3\\envs\\datascience\\lib\\site-packages (from dtreeviz) (2.2.5)\n",
      "Requirement already satisfied: scikit-learn in c:\\users\\oldma\\anaconda3\\envs\\datascience\\lib\\site-packages (from dtreeviz) (1.6.1)\n",
      "Requirement already satisfied: matplotlib in c:\\users\\oldma\\anaconda3\\envs\\datascience\\lib\\site-packages (from dtreeviz) (3.10.1)\n",
      "Requirement already satisfied: colour in c:\\users\\oldma\\anaconda3\\envs\\datascience\\lib\\site-packages (from dtreeviz) (0.1.5)\n",
      "Requirement already satisfied: pytest in c:\\users\\oldma\\anaconda3\\envs\\datascience\\lib\\site-packages (from dtreeviz) (8.3.5)\n",
      "Requirement already satisfied: contourpy>=1.0.1 in c:\\users\\oldma\\anaconda3\\envs\\datascience\\lib\\site-packages (from matplotlib->dtreeviz) (1.3.2)\n",
      "Requirement already satisfied: cycler>=0.10 in c:\\users\\oldma\\anaconda3\\envs\\datascience\\lib\\site-packages (from matplotlib->dtreeviz) (0.12.1)\n",
      "Requirement already satisfied: fonttools>=4.22.0 in c:\\users\\oldma\\anaconda3\\envs\\datascience\\lib\\site-packages (from matplotlib->dtreeviz) (4.57.0)\n",
      "Requirement already satisfied: kiwisolver>=1.3.1 in c:\\users\\oldma\\anaconda3\\envs\\datascience\\lib\\site-packages (from matplotlib->dtreeviz) (1.4.8)\n",
      "Requirement already satisfied: packaging>=20.0 in c:\\users\\oldma\\appdata\\roaming\\python\\python313\\site-packages (from matplotlib->dtreeviz) (25.0)\n",
      "Requirement already satisfied: pillow>=8 in c:\\users\\oldma\\anaconda3\\envs\\datascience\\lib\\site-packages (from matplotlib->dtreeviz) (11.2.1)\n",
      "Requirement already satisfied: pyparsing>=2.3.1 in c:\\users\\oldma\\anaconda3\\envs\\datascience\\lib\\site-packages (from matplotlib->dtreeviz) (3.2.3)\n",
      "Requirement already satisfied: python-dateutil>=2.7 in c:\\users\\oldma\\appdata\\roaming\\python\\python313\\site-packages (from matplotlib->dtreeviz) (2.9.0.post0)\n",
      "Requirement already satisfied: pytz>=2020.1 in c:\\users\\oldma\\anaconda3\\envs\\datascience\\lib\\site-packages (from pandas->dtreeviz) (2025.2)\n",
      "Requirement already satisfied: tzdata>=2022.7 in c:\\users\\oldma\\anaconda3\\envs\\datascience\\lib\\site-packages (from pandas->dtreeviz) (2025.2)\n",
      "Requirement already satisfied: colorama in c:\\users\\oldma\\appdata\\roaming\\python\\python313\\site-packages (from pytest->dtreeviz) (0.4.6)\n",
      "Requirement already satisfied: iniconfig in c:\\users\\oldma\\anaconda3\\envs\\datascience\\lib\\site-packages (from pytest->dtreeviz) (2.1.0)\n",
      "Requirement already satisfied: pluggy<2,>=1.5 in c:\\users\\oldma\\anaconda3\\envs\\datascience\\lib\\site-packages (from pytest->dtreeviz) (1.5.0)\n",
      "Requirement already satisfied: scipy>=1.6.0 in c:\\users\\oldma\\anaconda3\\envs\\datascience\\lib\\site-packages (from scikit-learn->dtreeviz) (1.15.2)\n",
      "Requirement already satisfied: joblib>=1.2.0 in c:\\users\\oldma\\anaconda3\\envs\\datascience\\lib\\site-packages (from scikit-learn->dtreeviz) (1.4.2)\n",
      "Requirement already satisfied: threadpoolctl>=3.1.0 in c:\\users\\oldma\\anaconda3\\envs\\datascience\\lib\\site-packages (from scikit-learn->dtreeviz) (3.6.0)\n",
      "Requirement already satisfied: six>=1.5 in c:\\users\\oldma\\appdata\\roaming\\python\\python313\\site-packages (from python-dateutil>=2.7->matplotlib->dtreeviz) (1.17.0)\n",
      "Requirement already satisfied: opencv-python in c:\\users\\oldma\\anaconda3\\envs\\datascience\\lib\\site-packages (4.11.0.86)\n",
      "Requirement already satisfied: numpy>=1.21.2 in c:\\users\\oldma\\anaconda3\\envs\\datascience\\lib\\site-packages (from opencv-python) (2.2.5)\n",
      "Requirement already satisfied: ultralytics in c:\\users\\oldma\\anaconda3\\envs\\datascience\\lib\\site-packages (8.3.123)\n",
      "Requirement already satisfied: numpy>=1.23.0 in c:\\users\\oldma\\anaconda3\\envs\\datascience\\lib\\site-packages (from ultralytics) (2.2.5)\n",
      "Requirement already satisfied: matplotlib>=3.3.0 in c:\\users\\oldma\\anaconda3\\envs\\datascience\\lib\\site-packages (from ultralytics) (3.10.1)\n",
      "Requirement already satisfied: opencv-python>=4.6.0 in c:\\users\\oldma\\anaconda3\\envs\\datascience\\lib\\site-packages (from ultralytics) (4.11.0.86)\n",
      "Requirement already satisfied: pillow>=7.1.2 in c:\\users\\oldma\\anaconda3\\envs\\datascience\\lib\\site-packages (from ultralytics) (11.2.1)\n",
      "Requirement already satisfied: pyyaml>=5.3.1 in c:\\users\\oldma\\anaconda3\\envs\\datascience\\lib\\site-packages (from ultralytics) (6.0.2)\n",
      "Requirement already satisfied: requests>=2.23.0 in c:\\users\\oldma\\anaconda3\\envs\\datascience\\lib\\site-packages (from ultralytics) (2.32.3)\n",
      "Requirement already satisfied: scipy>=1.4.1 in c:\\users\\oldma\\anaconda3\\envs\\datascience\\lib\\site-packages (from ultralytics) (1.15.2)\n",
      "Requirement already satisfied: torch>=1.8.0 in c:\\users\\oldma\\anaconda3\\envs\\datascience\\lib\\site-packages (from ultralytics) (2.7.0)\n",
      "Requirement already satisfied: torchvision>=0.9.0 in c:\\users\\oldma\\anaconda3\\envs\\datascience\\lib\\site-packages (from ultralytics) (0.22.0)\n",
      "Requirement already satisfied: tqdm>=4.64.0 in c:\\users\\oldma\\anaconda3\\envs\\datascience\\lib\\site-packages (from ultralytics) (4.67.1)\n",
      "Requirement already satisfied: psutil in c:\\users\\oldma\\appdata\\roaming\\python\\python313\\site-packages (from ultralytics) (7.0.0)\n",
      "Requirement already satisfied: py-cpuinfo in c:\\users\\oldma\\anaconda3\\envs\\datascience\\lib\\site-packages (from ultralytics) (9.0.0)\n",
      "Requirement already satisfied: pandas>=1.1.4 in c:\\users\\oldma\\anaconda3\\envs\\datascience\\lib\\site-packages (from ultralytics) (2.2.3)\n",
      "Requirement already satisfied: seaborn>=0.11.0 in c:\\users\\oldma\\anaconda3\\envs\\datascience\\lib\\site-packages (from ultralytics) (0.13.2)\n",
      "Requirement already satisfied: ultralytics-thop>=2.0.0 in c:\\users\\oldma\\anaconda3\\envs\\datascience\\lib\\site-packages (from ultralytics) (2.0.14)\n",
      "Requirement already satisfied: contourpy>=1.0.1 in c:\\users\\oldma\\anaconda3\\envs\\datascience\\lib\\site-packages (from matplotlib>=3.3.0->ultralytics) (1.3.2)\n",
      "Requirement already satisfied: cycler>=0.10 in c:\\users\\oldma\\anaconda3\\envs\\datascience\\lib\\site-packages (from matplotlib>=3.3.0->ultralytics) (0.12.1)\n",
      "Requirement already satisfied: fonttools>=4.22.0 in c:\\users\\oldma\\anaconda3\\envs\\datascience\\lib\\site-packages (from matplotlib>=3.3.0->ultralytics) (4.57.0)\n",
      "Requirement already satisfied: kiwisolver>=1.3.1 in c:\\users\\oldma\\anaconda3\\envs\\datascience\\lib\\site-packages (from matplotlib>=3.3.0->ultralytics) (1.4.8)\n",
      "Requirement already satisfied: packaging>=20.0 in c:\\users\\oldma\\appdata\\roaming\\python\\python313\\site-packages (from matplotlib>=3.3.0->ultralytics) (25.0)\n",
      "Requirement already satisfied: pyparsing>=2.3.1 in c:\\users\\oldma\\anaconda3\\envs\\datascience\\lib\\site-packages (from matplotlib>=3.3.0->ultralytics) (3.2.3)\n",
      "Requirement already satisfied: python-dateutil>=2.7 in c:\\users\\oldma\\appdata\\roaming\\python\\python313\\site-packages (from matplotlib>=3.3.0->ultralytics) (2.9.0.post0)\n",
      "Requirement already satisfied: pytz>=2020.1 in c:\\users\\oldma\\anaconda3\\envs\\datascience\\lib\\site-packages (from pandas>=1.1.4->ultralytics) (2025.2)\n",
      "Requirement already satisfied: tzdata>=2022.7 in c:\\users\\oldma\\anaconda3\\envs\\datascience\\lib\\site-packages (from pandas>=1.1.4->ultralytics) (2025.2)\n",
      "Requirement already satisfied: charset-normalizer<4,>=2 in c:\\users\\oldma\\anaconda3\\envs\\datascience\\lib\\site-packages (from requests>=2.23.0->ultralytics) (3.4.1)\n",
      "Requirement already satisfied: idna<4,>=2.5 in c:\\users\\oldma\\anaconda3\\envs\\datascience\\lib\\site-packages (from requests>=2.23.0->ultralytics) (3.10)\n",
      "Requirement already satisfied: urllib3<3,>=1.21.1 in c:\\users\\oldma\\anaconda3\\envs\\datascience\\lib\\site-packages (from requests>=2.23.0->ultralytics) (2.4.0)\n",
      "Requirement already satisfied: certifi>=2017.4.17 in c:\\users\\oldma\\anaconda3\\envs\\datascience\\lib\\site-packages (from requests>=2.23.0->ultralytics) (2025.1.31)\n",
      "Requirement already satisfied: filelock in c:\\users\\oldma\\anaconda3\\envs\\datascience\\lib\\site-packages (from torch>=1.8.0->ultralytics) (3.18.0)\n",
      "Requirement already satisfied: typing-extensions>=4.10.0 in c:\\users\\oldma\\anaconda3\\envs\\datascience\\lib\\site-packages (from torch>=1.8.0->ultralytics) (4.13.2)\n",
      "Requirement already satisfied: sympy>=1.13.3 in c:\\users\\oldma\\anaconda3\\envs\\datascience\\lib\\site-packages (from torch>=1.8.0->ultralytics) (1.14.0)\n",
      "Requirement already satisfied: networkx in c:\\users\\oldma\\anaconda3\\envs\\datascience\\lib\\site-packages (from torch>=1.8.0->ultralytics) (3.4.2)\n",
      "Requirement already satisfied: jinja2 in c:\\users\\oldma\\anaconda3\\envs\\datascience\\lib\\site-packages (from torch>=1.8.0->ultralytics) (3.1.6)\n",
      "Requirement already satisfied: fsspec in c:\\users\\oldma\\anaconda3\\envs\\datascience\\lib\\site-packages (from torch>=1.8.0->ultralytics) (2025.3.2)\n",
      "Requirement already satisfied: setuptools in c:\\users\\oldma\\anaconda3\\envs\\datascience\\lib\\site-packages (from torch>=1.8.0->ultralytics) (75.8.0)\n",
      "Requirement already satisfied: colorama in c:\\users\\oldma\\appdata\\roaming\\python\\python313\\site-packages (from tqdm>=4.64.0->ultralytics) (0.4.6)\n",
      "Requirement already satisfied: six>=1.5 in c:\\users\\oldma\\appdata\\roaming\\python\\python313\\site-packages (from python-dateutil>=2.7->matplotlib>=3.3.0->ultralytics) (1.17.0)\n",
      "Requirement already satisfied: mpmath<1.4,>=1.1.0 in c:\\users\\oldma\\anaconda3\\envs\\datascience\\lib\\site-packages (from sympy>=1.13.3->torch>=1.8.0->ultralytics) (1.3.0)\n",
      "Requirement already satisfied: MarkupSafe>=2.0 in c:\\users\\oldma\\anaconda3\\envs\\datascience\\lib\\site-packages (from jinja2->torch>=1.8.0->ultralytics) (3.0.2)\n"
     ]
    }
   ],
   "execution_count": 1
  },
  {
   "metadata": {},
   "cell_type": "markdown",
   "source": "above shows you how to pip install the packages, below will show you how to import them",
   "id": "2a9347d6aab13a54"
  },
  {
   "metadata": {
    "ExecuteTime": {
     "end_time": "2025-06-01T13:14:34.057701Z",
     "start_time": "2025-06-01T13:14:34.055030Z"
    }
   },
   "cell_type": "code",
   "source": [
    "import pandas as pd\n",
    "import seaborn as sns\n",
    "import scipy.stats as st\n",
    "from scipy.stats import chi2_contingency"
   ],
   "id": "a741ba8c77b8cea",
   "outputs": [],
   "execution_count": 25
  },
  {
   "metadata": {},
   "cell_type": "markdown",
   "source": [
    "## Distributions\n",
    "\n",
    "There are a lot of distribution types. You can see them [here](https://www.itl.nist.gov/div898/handbook/eda/section3/eda366.htm).\n",
    "\n",
    "If the distribution is mirrored, it is called a `skewed` distribution according to [wikipedia](https://en.wikipedia.org/wiki/Probability_distribution_fitting).\n",
    "\n",
    "In this notebook / markdown file, we'll be looking at the default `iris` dataset that is included with the `seaborn` pything module.\n",
    "\n",
    "Below is the line of code that imports the `iris` dataset. and when opened in a notebook, will show you the dataset."
   ],
   "id": "4b6e618bdd154409"
  },
  {
   "metadata": {
    "ExecuteTime": {
     "end_time": "2025-06-01T12:42:57.346119Z",
     "start_time": "2025-06-01T12:42:57.319259Z"
    }
   },
   "cell_type": "code",
   "source": [
    "iris = sns.load_dataset(\"iris\")\n",
    "iris.head()"
   ],
   "id": "7e711661fae52d1a",
   "outputs": [
    {
     "data": {
      "text/plain": [
       "   sepal_length  sepal_width  petal_length  petal_width species\n",
       "0           5.1          3.5           1.4          0.2  setosa\n",
       "1           4.9          3.0           1.4          0.2  setosa\n",
       "2           4.7          3.2           1.3          0.2  setosa\n",
       "3           4.6          3.1           1.5          0.2  setosa\n",
       "4           5.0          3.6           1.4          0.2  setosa"
      ],
      "text/html": [
       "<div>\n",
       "<style scoped>\n",
       "    .dataframe tbody tr th:only-of-type {\n",
       "        vertical-align: middle;\n",
       "    }\n",
       "\n",
       "    .dataframe tbody tr th {\n",
       "        vertical-align: top;\n",
       "    }\n",
       "\n",
       "    .dataframe thead th {\n",
       "        text-align: right;\n",
       "    }\n",
       "</style>\n",
       "<table border=\"1\" class=\"dataframe\">\n",
       "  <thead>\n",
       "    <tr style=\"text-align: right;\">\n",
       "      <th></th>\n",
       "      <th>sepal_length</th>\n",
       "      <th>sepal_width</th>\n",
       "      <th>petal_length</th>\n",
       "      <th>petal_width</th>\n",
       "      <th>species</th>\n",
       "    </tr>\n",
       "  </thead>\n",
       "  <tbody>\n",
       "    <tr>\n",
       "      <th>0</th>\n",
       "      <td>5.1</td>\n",
       "      <td>3.5</td>\n",
       "      <td>1.4</td>\n",
       "      <td>0.2</td>\n",
       "      <td>setosa</td>\n",
       "    </tr>\n",
       "    <tr>\n",
       "      <th>1</th>\n",
       "      <td>4.9</td>\n",
       "      <td>3.0</td>\n",
       "      <td>1.4</td>\n",
       "      <td>0.2</td>\n",
       "      <td>setosa</td>\n",
       "    </tr>\n",
       "    <tr>\n",
       "      <th>2</th>\n",
       "      <td>4.7</td>\n",
       "      <td>3.2</td>\n",
       "      <td>1.3</td>\n",
       "      <td>0.2</td>\n",
       "      <td>setosa</td>\n",
       "    </tr>\n",
       "    <tr>\n",
       "      <th>3</th>\n",
       "      <td>4.6</td>\n",
       "      <td>3.1</td>\n",
       "      <td>1.5</td>\n",
       "      <td>0.2</td>\n",
       "      <td>setosa</td>\n",
       "    </tr>\n",
       "    <tr>\n",
       "      <th>4</th>\n",
       "      <td>5.0</td>\n",
       "      <td>3.6</td>\n",
       "      <td>1.4</td>\n",
       "      <td>0.2</td>\n",
       "      <td>setosa</td>\n",
       "    </tr>\n",
       "  </tbody>\n",
       "</table>\n",
       "</div>"
      ]
     },
     "execution_count": 3,
     "metadata": {},
     "output_type": "execute_result"
    }
   ],
   "execution_count": 3
  },
  {
   "metadata": {},
   "cell_type": "markdown",
   "source": "Now we are going to look at a column and see which distribution it is.",
   "id": "fb4555be45a43806"
  },
  {
   "metadata": {
    "ExecuteTime": {
     "end_time": "2025-06-01T12:42:57.737398Z",
     "start_time": "2025-06-01T12:42:57.651932Z"
    }
   },
   "cell_type": "code",
   "source": "iris['sepal_width'].plot(kind='hist', bins = 10)",
   "id": "1a180542a311632e",
   "outputs": [
    {
     "data": {
      "text/plain": [
       "<Axes: ylabel='Frequency'>"
      ]
     },
     "execution_count": 4,
     "metadata": {},
     "output_type": "execute_result"
    },
    {
     "data": {
      "text/plain": [
       "<Figure size 640x480 with 1 Axes>"
      ],
      "image/png": "[encoded data removed]"
     },
     "metadata": {},
     "output_type": "display_data"
    }
   ],
   "execution_count": 4
  },
  {
   "metadata": {},
   "cell_type": "markdown",
   "source": [
    "The above graph is a [normal distribution](https://www.itl.nist.gov/div898/handbook/eda/section3/eda3661.htm), this image shows a clearer picture:\n",
    "\n",
    "![img](https://i.imgur.com/3zUa0eM.png)\n",
    "\n",
    "### Examples of normal distribution in real life\n",
    "- https://studiousguy.com/real-life-examples-normal-distribution/\n",
    "- https://galtonboard.com/probabilityexamplesinlife\n",
    "\n",
    "## Confidence Interval\n",
    "\n",
    ">**What is a Confidence Interval?**\n",
    ">A confidence interval is a range of values that we believe is likely to contain the true population parameter (like the mean or proportion), based on a sample.\n",
    ">\n",
    ">Usually, we talk about the **mean**, so let’s focus on that:\n",
    ">\n",
    ">A 95% confidence interval for the mean says:\n",
    "“We are 95% confident that the true population mean lies within this range.”\n",
    ">\n",
    ">Source: Avans\n",
    "\n",
    "Visualisation:\n",
    "\n",
    "![img](https://i.imgur.com/P2AT2cC.png)\n",
    "\n",
    "Now let's apply this confidence value to our dataset:\n"
   ],
   "id": "6900de9b09947ec5"
  },
  {
   "metadata": {
    "ExecuteTime": {
     "end_time": "2025-06-01T12:42:57.765302Z",
     "start_time": "2025-06-01T12:42:57.761523Z"
    }
   },
   "cell_type": "code",
   "source": [
    "confidence = 0.95\n",
    "st.t.interval(confidence, len(iris)-1, loc=iris['sepal_width'].mean(), scale=st.sem(iris['sepal_width']))"
   ],
   "id": "8090194ff3e071",
   "outputs": [
    {
     "data": {
      "text/plain": [
       "(np.float64(2.9870103180785432), np.float64(3.127656348588124))"
      ]
     },
     "execution_count": 5,
     "metadata": {},
     "output_type": "execute_result"
    }
   ],
   "execution_count": 5
  },
  {
   "metadata": {},
   "cell_type": "markdown",
   "source": [
    "So that means that there is a 95% chance that the real `Mean` is somewhere between 2.98 and 3.12.\n",
    "\n",
    "## Analysis\n",
    "\n",
    "### Univariate Analysis\n",
    "\n",
    "Univariate analysis is the act of looking at a single column of data, to analyze it.\n",
    "\n",
    "This can be done in multiple ways. With numerical columns you could use a `boxplot`, a `histogram` etc. With categorical columns you can use a `barchart`, `piechart` etc.\n",
    "\n",
    "#### Categorical Univariate Analysis\n",
    "\n",
    "I am going to show you how to make a barchart. The reason why this is useful to see in a clear picture what category is most common. Like in the following picture you can see that the `species` is pretty equal in our dataset.\n"
   ],
   "id": "ecc738cc2b9a08aa"
  },
  {
   "metadata": {
    "ExecuteTime": {
     "end_time": "2025-06-01T12:42:57.870842Z",
     "start_time": "2025-06-01T12:42:57.830204Z"
    }
   },
   "cell_type": "code",
   "source": [
    "iris['species'].value_counts().plot(kind='bar')\n",
    "# the value_counts() counts the amount of times each value is found in the column."
   ],
   "id": "7fcb66ee5a816d88",
   "outputs": [
    {
     "data": {
      "text/plain": [
       "<Axes: xlabel='species'>"
      ]
     },
     "execution_count": 6,
     "metadata": {},
     "output_type": "execute_result"
    },
    {
     "data": {
      "text/plain": [
       "<Figure size 640x480 with 1 Axes>"
      ],
      "image/png": "[encoded data removed]"
     },
     "metadata": {},
     "output_type": "display_data"
    }
   ],
   "execution_count": 6
  },
  {
   "metadata": {
    "ExecuteTime": {
     "end_time": "2025-06-01T12:42:57.957273Z",
     "start_time": "2025-06-01T12:42:57.930154Z"
    }
   },
   "cell_type": "code",
   "source": "iris['species'].value_counts().plot(kind='pie')",
   "id": "84e70fc5fd00b354",
   "outputs": [
    {
     "data": {
      "text/plain": [
       "<Axes: ylabel='count'>"
      ]
     },
     "execution_count": 7,
     "metadata": {},
     "output_type": "execute_result"
    },
    {
     "data": {
      "text/plain": [
       "<Figure size 640x480 with 1 Axes>"
      ],
      "image/png": "[encoded data removed]"
     },
     "metadata": {},
     "output_type": "display_data"
    }
   ],
   "execution_count": 7
  },
  {
   "metadata": {},
   "cell_type": "markdown",
   "source": "You have now seen 2 examples of what you can do with a categorical column. [here](https://pandas.pydata.org/docs/user_guide/visualization.html) is a long list of other charts.",
   "id": "4899846912150800"
  },
  {
   "metadata": {},
   "cell_type": "markdown",
   "source": [
    "#### Numerical Univariate Analysis\n",
    "\n",
    "with a numerical analysis we do in theory the same thing as with categorical data. but using a pie chart to display numerical data is not really usefull. You can see this in the following example:\n"
   ],
   "id": "9df748d8b740ffe4"
  },
  {
   "metadata": {
    "ExecuteTime": {
     "end_time": "2025-06-01T12:42:58.041559Z",
     "start_time": "2025-06-01T12:42:57.972628Z"
    }
   },
   "cell_type": "code",
   "source": "iris['sepal_length'].value_counts().plot(kind='pie')",
   "id": "88906674605aaf63",
   "outputs": [
    {
     "data": {
      "text/plain": [
       "<Axes: ylabel='count'>"
      ]
     },
     "execution_count": 8,
     "metadata": {},
     "output_type": "execute_result"
    },
    {
     "data": {
      "text/plain": [
       "<Figure size 640x480 with 1 Axes>"
      ],
      "image/png": "[encoded data removed]"
     },
     "metadata": {},
     "output_type": "display_data"
    }
   ],
   "execution_count": 8
  },
  {
   "metadata": {},
   "cell_type": "markdown",
   "source": [
    "What we're getting now is a pie chart with lots of slices, which aren't very clear. And if you remove `.value_counts()`, it only gets more confusing.\n",
    "\n",
    "So now you might wonder: what's the point of numerical analysis?\n",
    "\n",
    "You can use a `histogram`."
   ],
   "id": "83d079a9e8f80d2b"
  },
  {
   "metadata": {
    "ExecuteTime": {
     "end_time": "2025-06-01T12:42:58.109136Z",
     "start_time": "2025-06-01T12:42:58.056793Z"
    }
   },
   "cell_type": "code",
   "source": [
    "#The data is grouped into 10 intervals (bins) and the number of data points in each interval is counted.\n",
    "iris['sepal_length'].plot(kind='hist', bins = 10)"
   ],
   "id": "9e70a3625f4d9586",
   "outputs": [
    {
     "data": {
      "text/plain": [
       "<Axes: ylabel='Frequency'>"
      ]
     },
     "execution_count": 9,
     "metadata": {},
     "output_type": "execute_result"
    },
    {
     "data": {
      "text/plain": [
       "<Figure size 640x480 with 1 Axes>"
      ],
      "image/png": "[encoded data removed]"
     },
     "metadata": {},
     "output_type": "display_data"
    }
   ],
   "execution_count": 9
  },
  {
   "metadata": {},
   "cell_type": "markdown",
   "source": "I'd advice you use a boxplot to see the mean, and outliers",
   "id": "e7ef990131e3a639"
  },
  {
   "metadata": {
    "ExecuteTime": {
     "end_time": "2025-06-01T12:42:58.159037Z",
     "start_time": "2025-06-01T12:42:58.121258Z"
    }
   },
   "cell_type": "code",
   "source": "iris['sepal_length'].plot(kind='box')",
   "id": "aec4653117a89bfc",
   "outputs": [
    {
     "data": {
      "text/plain": [
       "<Axes: >"
      ]
     },
     "execution_count": 10,
     "metadata": {},
     "output_type": "execute_result"
    },
    {
     "data": {
      "text/plain": [
       "<Figure size 640x480 with 1 Axes>"
      ],
      "image/png": "[encoded data removed]"
     },
     "metadata": {},
     "output_type": "display_data"
    }
   ],
   "execution_count": 10
  },
  {
   "metadata": {},
   "cell_type": "markdown",
   "source": [
    "Here is an image to describe it more clearly:\n",
    "\n",
    "![img](https://i.imgur.com/Dtc9Y06.png)\n",
    "\n",
    "For a good visual explenation:\n",
    "\n",
    "```\n",
    "*|---[  |  ]---| * * ⟵ a full boxplot\n",
    "\n",
    "*     *              ⟵ Outliers (extreme values)\n",
    "|----[  |  ]----|    ⟵ Full range visualization\n",
    "     Q1 |  Q3        Q1 = 25th percentile, Q3 = 75th percentile\n",
    "        |            Median (50th percentile)\n",
    "```\n",
    "\n",
    "### Bivariate Analysis\n",
    "\n",
    "The title says it, bi means 2, so it is analysis of 2 rows. We can do this in multiple ways. Categorical x Categorical, Numerical x Numerical and Categorical x Numerical.\n",
    "\n",
    "The reason why this is useful is to check for correlations. Here are some examples:\n",
    "\n",
    "- Body length VS Shoe size\n",
    "- Age VS Seconds it takes to run 1 kilometre\n",
    "- Country Unemployment rate VS Country Happiness Rating\n",
    "- Customer Revenue VS Customer Lifetime\n",
    "- Game Wishlists VS Game Purchases\n",
    "- Student grades VS Student attendance\n",
    "\n",
    "#### Numerical vs Numerical\n",
    "\n",
    "Lets apply it to our dataset and see whether there is a correlation between the 2 columns\n"
   ],
   "id": "e7e8612e8365c62d"
  },
  {
   "metadata": {
    "ExecuteTime": {
     "end_time": "2025-06-01T12:42:58.232369Z",
     "start_time": "2025-06-01T12:42:58.172660Z"
    }
   },
   "cell_type": "code",
   "source": "iris.plot(kind='scatter', x='sepal_length', y='petal_length')",
   "id": "cc700704e39ee5bd",
   "outputs": [
    {
     "data": {
      "text/plain": [
       "<Axes: xlabel='sepal_length', ylabel='petal_length'>"
      ]
     },
     "execution_count": 11,
     "metadata": {},
     "output_type": "execute_result"
    },
    {
     "data": {
      "text/plain": [
       "<Figure size 640x480 with 1 Axes>"
      ],
      "image/png": "[encoded data removed]"
     },
     "metadata": {},
     "output_type": "display_data"
    }
   ],
   "execution_count": 11
  },
  {
   "metadata": {},
   "cell_type": "markdown",
   "source": [
    "A useful statistic for calculating the linear relation between two variable is the **Pearson correlation**.\n",
    "The Pearson correlation measures the linear relation between two numerical variables. The result is a number between -1 and 1 where\n",
    "- -1 indicates a perfect negative linear relation\n",
    "- 0 indicates that there is no linear relation\n",
    "- 1 indicates a perfect positive linear relation\n",
    "\n",
    "Here is a nice visualisation:\n",
    "\n",
    "![img](https://i.imgur.com/sHIHKQe.png)\n",
    "\n",
    "Let's now see which collumns have any correlation."
   ],
   "id": "8df2f4f60756d15a"
  },
  {
   "metadata": {
    "ExecuteTime": {
     "end_time": "2025-06-01T12:42:58.300152Z",
     "start_time": "2025-06-01T12:42:58.243194Z"
    }
   },
   "cell_type": "code",
   "source": [
    "irisCorrelations = iris.corr(numeric_only=True) # Only include numeric columns\n",
    "irisCorrelations.style.background_gradient(cmap='coolwarm', axis=None).format(precision=2)"
   ],
   "id": "8ab94bf2ad3ba235",
   "outputs": [
    {
     "data": {
      "text/plain": [
       "<pandas.io.formats.style.Styler at 0x1dacf7634d0>"
      ],
      "text/html": [
       "<style type=\"text/css\">\n",
       "#T_b2a31_row0_col0, #T_b2a31_row1_col1, #T_b2a31_row2_col2, #T_b2a31_row3_col3 {\n",
       "  background-color: #b40426;\n",
       "  color: #f1f1f1;\n",
       "}\n",
       "#T_b2a31_row0_col1, #T_b2a31_row1_col0 {\n",
       "  background-color: #81a4fb;\n",
       "  color: #f1f1f1;\n",
       "}\n",
       "#T_b2a31_row0_col2, #T_b2a31_row2_col0 {\n",
       "  background-color: #d24b40;\n",
       "  color: #f1f1f1;\n",
       "}\n",
       "#T_b2a31_row0_col3, #T_b2a31_row3_col0 {\n",
       "  background-color: #de614d;\n",
       "  color: #f1f1f1;\n",
       "}\n",
       "#T_b2a31_row1_col2, #T_b2a31_row2_col1 {\n",
       "  background-color: #3b4cc0;\n",
       "  color: #f1f1f1;\n",
       "}\n",
       "#T_b2a31_row1_col3, #T_b2a31_row3_col1 {\n",
       "  background-color: #485fd1;\n",
       "  color: #f1f1f1;\n",
       "}\n",
       "#T_b2a31_row2_col3, #T_b2a31_row3_col2 {\n",
       "  background-color: #bd1f2d;\n",
       "  color: #f1f1f1;\n",
       "}\n",
       "</style>\n",
       "<table id=\"T_b2a31\">\n",
       "  <thead>\n",
       "    <tr>\n",
       "      <th class=\"blank level0\" >&nbsp;</th>\n",
       "      <th id=\"T_b2a31_level0_col0\" class=\"col_heading level0 col0\" >sepal_length</th>\n",
       "      <th id=\"T_b2a31_level0_col1\" class=\"col_heading level0 col1\" >sepal_width</th>\n",
       "      <th id=\"T_b2a31_level0_col2\" class=\"col_heading level0 col2\" >petal_length</th>\n",
       "      <th id=\"T_b2a31_level0_col3\" class=\"col_heading level0 col3\" >petal_width</th>\n",
       "    </tr>\n",
       "  </thead>\n",
       "  <tbody>\n",
       "    <tr>\n",
       "      <th id=\"T_b2a31_level0_row0\" class=\"row_heading level0 row0\" >sepal_length</th>\n",
       "      <td id=\"T_b2a31_row0_col0\" class=\"data row0 col0\" >1.00</td>\n",
       "      <td id=\"T_b2a31_row0_col1\" class=\"data row0 col1\" >-0.12</td>\n",
       "      <td id=\"T_b2a31_row0_col2\" class=\"data row0 col2\" >0.87</td>\n",
       "      <td id=\"T_b2a31_row0_col3\" class=\"data row0 col3\" >0.82</td>\n",
       "    </tr>\n",
       "    <tr>\n",
       "      <th id=\"T_b2a31_level0_row1\" class=\"row_heading level0 row1\" >sepal_width</th>\n",
       "      <td id=\"T_b2a31_row1_col0\" class=\"data row1 col0\" >-0.12</td>\n",
       "      <td id=\"T_b2a31_row1_col1\" class=\"data row1 col1\" >1.00</td>\n",
       "      <td id=\"T_b2a31_row1_col2\" class=\"data row1 col2\" >-0.43</td>\n",
       "      <td id=\"T_b2a31_row1_col3\" class=\"data row1 col3\" >-0.37</td>\n",
       "    </tr>\n",
       "    <tr>\n",
       "      <th id=\"T_b2a31_level0_row2\" class=\"row_heading level0 row2\" >petal_length</th>\n",
       "      <td id=\"T_b2a31_row2_col0\" class=\"data row2 col0\" >0.87</td>\n",
       "      <td id=\"T_b2a31_row2_col1\" class=\"data row2 col1\" >-0.43</td>\n",
       "      <td id=\"T_b2a31_row2_col2\" class=\"data row2 col2\" >1.00</td>\n",
       "      <td id=\"T_b2a31_row2_col3\" class=\"data row2 col3\" >0.96</td>\n",
       "    </tr>\n",
       "    <tr>\n",
       "      <th id=\"T_b2a31_level0_row3\" class=\"row_heading level0 row3\" >petal_width</th>\n",
       "      <td id=\"T_b2a31_row3_col0\" class=\"data row3 col0\" >0.82</td>\n",
       "      <td id=\"T_b2a31_row3_col1\" class=\"data row3 col1\" >-0.37</td>\n",
       "      <td id=\"T_b2a31_row3_col2\" class=\"data row3 col2\" >0.96</td>\n",
       "      <td id=\"T_b2a31_row3_col3\" class=\"data row3 col3\" >1.00</td>\n",
       "    </tr>\n",
       "  </tbody>\n",
       "</table>\n"
      ]
     },
     "execution_count": 12,
     "metadata": {},
     "output_type": "execute_result"
    }
   ],
   "execution_count": 12
  },
  {
   "metadata": {},
   "cell_type": "markdown",
   "source": [
    "here we could see that some things do have correlation, and some things don't.\n",
    "\n",
    "The further away from the 0, the higher the correlation.\n",
    "\n",
    "#### Numerical vs Categorical\n",
    "\n",
    "Examples:\n",
    "- Monthly earnings VS Highest obtained degree\n",
    "- Body length VS Country of origin\n",
    "- Happiness rating VS Country of origin\n",
    "- Sales VS Account Manager.\n",
    "- Revenue VS Product Category\n",
    "- Revenue VS Game genre\n",
    "- Retention VS Software version\n",
    "\n",
    "In univariate analysis for numerical data we've looked at confidence intervals. We can use these as well to check if there are any signicant differences between categories.\n",
    "\n",
    "```seaborn.barplot()``` is a function from the Seaborn library that creates a bar chart — it's great for visualizing comparisons between categories.\n",
    "\n",
    "Unlike basic bar plots, Seaborn's barplot():\n",
    "- Can automatically calculate averages if you give it multiple values per category\n",
    "- Adds error bars (**by default, 95% confidence intervals**)\n",
    "\n",
    "If you're plotting the average dice rolls per person, the bar height shows the average — and the error bar shows how much that average might vary if you repeated the experiment.\n",
    "So if you hav a bar at 5, and the error bar goes from 3 to 5, it means:\n",
    "\n",
    "**“We’re fairly confident the true average rolls for you is between 3 and 5.”**\n",
    "\n"
   ],
   "id": "294854bfb769da98"
  },
  {
   "metadata": {
    "ExecuteTime": {
     "end_time": "2025-06-01T12:49:26.472875Z",
     "start_time": "2025-06-01T12:49:26.404489Z"
    }
   },
   "cell_type": "code",
   "source": "sns.barplot(x='species', y='sepal_length', data=iris)",
   "id": "85d7b7b3df9271d1",
   "outputs": [
    {
     "data": {
      "text/plain": [
       "<Axes: xlabel='species', ylabel='sepal_length'>"
      ]
     },
     "execution_count": 17,
     "metadata": {},
     "output_type": "execute_result"
    },
    {
     "data": {
      "text/plain": [
       "<Figure size 640x480 with 1 Axes>"
      ],
      "image/png": "[encoded data removed]"
     },
     "metadata": {},
     "output_type": "display_data"
    }
   ],
   "execution_count": 17
  },
  {
   "metadata": {},
   "cell_type": "markdown",
   "source": "now we can look at a table to see this more clearly",
   "id": "51b355d685a900e3"
  },
  {
   "metadata": {
    "ExecuteTime": {
     "end_time": "2025-06-01T12:49:16.888122Z",
     "start_time": "2025-06-01T12:49:16.881655Z"
    }
   },
   "cell_type": "code",
   "source": "iris.groupby('species').mean()",
   "id": "38a8997118ce9bc0",
   "outputs": [
    {
     "data": {
      "text/plain": [
       "            sepal_length  sepal_width  petal_length  petal_width\n",
       "species                                                         \n",
       "setosa             5.006        3.428         1.462        0.246\n",
       "versicolor         5.936        2.770         4.260        1.326\n",
       "virginica          6.588        2.974         5.552        2.026"
      ],
      "text/html": [
       "<div>\n",
       "<style scoped>\n",
       "    .dataframe tbody tr th:only-of-type {\n",
       "        vertical-align: middle;\n",
       "    }\n",
       "\n",
       "    .dataframe tbody tr th {\n",
       "        vertical-align: top;\n",
       "    }\n",
       "\n",
       "    .dataframe thead th {\n",
       "        text-align: right;\n",
       "    }\n",
       "</style>\n",
       "<table border=\"1\" class=\"dataframe\">\n",
       "  <thead>\n",
       "    <tr style=\"text-align: right;\">\n",
       "      <th></th>\n",
       "      <th>sepal_length</th>\n",
       "      <th>sepal_width</th>\n",
       "      <th>petal_length</th>\n",
       "      <th>petal_width</th>\n",
       "    </tr>\n",
       "    <tr>\n",
       "      <th>species</th>\n",
       "      <th></th>\n",
       "      <th></th>\n",
       "      <th></th>\n",
       "      <th></th>\n",
       "    </tr>\n",
       "  </thead>\n",
       "  <tbody>\n",
       "    <tr>\n",
       "      <th>setosa</th>\n",
       "      <td>5.006</td>\n",
       "      <td>3.428</td>\n",
       "      <td>1.462</td>\n",
       "      <td>0.246</td>\n",
       "    </tr>\n",
       "    <tr>\n",
       "      <th>versicolor</th>\n",
       "      <td>5.936</td>\n",
       "      <td>2.770</td>\n",
       "      <td>4.260</td>\n",
       "      <td>1.326</td>\n",
       "    </tr>\n",
       "    <tr>\n",
       "      <th>virginica</th>\n",
       "      <td>6.588</td>\n",
       "      <td>2.974</td>\n",
       "      <td>5.552</td>\n",
       "      <td>2.026</td>\n",
       "    </tr>\n",
       "  </tbody>\n",
       "</table>\n",
       "</div>"
      ]
     },
     "execution_count": 16,
     "metadata": {},
     "output_type": "execute_result"
    }
   ],
   "execution_count": 16
  },
  {
   "metadata": {},
   "cell_type": "markdown",
   "source": [
    "there is clearly no overlap, so we could say that there is a correlation between `sepal_length` and `species`\n",
    "\n",
    "#### Categorical vs Categorical\n",
    "\n",
    "Examples:\n",
    "- Inbound channel VS Type of customer\n",
    "- Education VS Job function\n",
    "- Region of citizen VS Who the citizen votes for\n",
    "- Color shirt of crew member in Stat Trek VS Does the crew member survive? (https://statisticsbyjim.com/hypothesis-testing/chi-square-test-independence-example/)\n",
    "- Customer newsletter subscription (Yes/No) VS Custom churn (Yes/No)\n",
    "- Penguin island VS Penguin species\n",
    "- ...\n",
    "\n",
    "For these examples we need to switch to the built in `penguins` dataset since the `iris` dataset only has 1 categorical column"
   ],
   "id": "151ecfd078aa73bf"
  },
  {
   "metadata": {
    "ExecuteTime": {
     "end_time": "2025-06-01T13:12:08.460739Z",
     "start_time": "2025-06-01T13:12:08.452831Z"
    }
   },
   "cell_type": "code",
   "source": [
    "penguins = sns.load_dataset(\"penguins\")\n",
    "penguins.head()"
   ],
   "id": "2e886a5e1a60dc10",
   "outputs": [
    {
     "data": {
      "text/plain": [
       "  species     island  bill_length_mm  bill_depth_mm  flipper_length_mm  \\\n",
       "0  Adelie  Torgersen            39.1           18.7              181.0   \n",
       "1  Adelie  Torgersen            39.5           17.4              186.0   \n",
       "2  Adelie  Torgersen            40.3           18.0              195.0   \n",
       "3  Adelie  Torgersen             NaN            NaN                NaN   \n",
       "4  Adelie  Torgersen            36.7           19.3              193.0   \n",
       "\n",
       "   body_mass_g     sex  \n",
       "0       3750.0    Male  \n",
       "1       3800.0  Female  \n",
       "2       3250.0  Female  \n",
       "3          NaN     NaN  \n",
       "4       3450.0  Female  "
      ],
      "text/html": [
       "<div>\n",
       "<style scoped>\n",
       "    .dataframe tbody tr th:only-of-type {\n",
       "        vertical-align: middle;\n",
       "    }\n",
       "\n",
       "    .dataframe tbody tr th {\n",
       "        vertical-align: top;\n",
       "    }\n",
       "\n",
       "    .dataframe thead th {\n",
       "        text-align: right;\n",
       "    }\n",
       "</style>\n",
       "<table border=\"1\" class=\"dataframe\">\n",
       "  <thead>\n",
       "    <tr style=\"text-align: right;\">\n",
       "      <th></th>\n",
       "      <th>species</th>\n",
       "      <th>island</th>\n",
       "      <th>bill_length_mm</th>\n",
       "      <th>bill_depth_mm</th>\n",
       "      <th>flipper_length_mm</th>\n",
       "      <th>body_mass_g</th>\n",
       "      <th>sex</th>\n",
       "    </tr>\n",
       "  </thead>\n",
       "  <tbody>\n",
       "    <tr>\n",
       "      <th>0</th>\n",
       "      <td>Adelie</td>\n",
       "      <td>Torgersen</td>\n",
       "      <td>39.1</td>\n",
       "      <td>18.7</td>\n",
       "      <td>181.0</td>\n",
       "      <td>3750.0</td>\n",
       "      <td>Male</td>\n",
       "    </tr>\n",
       "    <tr>\n",
       "      <th>1</th>\n",
       "      <td>Adelie</td>\n",
       "      <td>Torgersen</td>\n",
       "      <td>39.5</td>\n",
       "      <td>17.4</td>\n",
       "      <td>186.0</td>\n",
       "      <td>3800.0</td>\n",
       "      <td>Female</td>\n",
       "    </tr>\n",
       "    <tr>\n",
       "      <th>2</th>\n",
       "      <td>Adelie</td>\n",
       "      <td>Torgersen</td>\n",
       "      <td>40.3</td>\n",
       "      <td>18.0</td>\n",
       "      <td>195.0</td>\n",
       "      <td>3250.0</td>\n",
       "      <td>Female</td>\n",
       "    </tr>\n",
       "    <tr>\n",
       "      <th>3</th>\n",
       "      <td>Adelie</td>\n",
       "      <td>Torgersen</td>\n",
       "      <td>NaN</td>\n",
       "      <td>NaN</td>\n",
       "      <td>NaN</td>\n",
       "      <td>NaN</td>\n",
       "      <td>NaN</td>\n",
       "    </tr>\n",
       "    <tr>\n",
       "      <th>4</th>\n",
       "      <td>Adelie</td>\n",
       "      <td>Torgersen</td>\n",
       "      <td>36.7</td>\n",
       "      <td>19.3</td>\n",
       "      <td>193.0</td>\n",
       "      <td>3450.0</td>\n",
       "      <td>Female</td>\n",
       "    </tr>\n",
       "  </tbody>\n",
       "</table>\n",
       "</div>"
      ]
     },
     "execution_count": 21,
     "metadata": {},
     "output_type": "execute_result"
    }
   ],
   "execution_count": 21
  },
  {
   "metadata": {
    "ExecuteTime": {
     "end_time": "2025-06-01T13:12:10.021476Z",
     "start_time": "2025-06-01T13:12:10.018404Z"
    }
   },
   "cell_type": "code",
   "source": [
    "def create_contingency_table(dataset, column1, column2):\n",
    "    return dataset.groupby([column1, column2]).size().unstack(column1, fill_value=0)"
   ],
   "id": "58fa55a72bc4ac89",
   "outputs": [],
   "execution_count": 22
  },
  {
   "metadata": {},
   "cell_type": "markdown",
   "source": [
    "A contingency table (also called a cross-tabulation or crosstab) is a table used to show the frequency distribution of two (or more) categorical variables. Each cell in the table represents the count of records that have a specific combination of values from the two variables.\n",
    "\n",
    "What does stack() and unstack() do in pandas? Both are used to reshape multi-level (hierarchical) indexes:\n",
    "\n",
    "unstack(level) Pivots a level of row index into columns\n",
    "\n",
    "Converts a MultiIndex row into a wider DataFrame\n",
    "\n",
    "stack(level) Pivots a level of columns into row index\n",
    "\n",
    "Converts columns into a deeper row index"
   ],
   "id": "b76b8e8d4cbb3f73"
  },
  {
   "metadata": {
    "ExecuteTime": {
     "end_time": "2025-06-01T13:12:11.996470Z",
     "start_time": "2025-06-01T13:12:11.983910Z"
    }
   },
   "cell_type": "code",
   "source": [
    "penguinsContingencyTable = create_contingency_table(penguins, 'species','island')\n",
    "penguinsContingencyTable"
   ],
   "id": "808497ec0f09407",
   "outputs": [
    {
     "data": {
      "text/plain": [
       "species    Adelie  Chinstrap  Gentoo\n",
       "island                              \n",
       "Biscoe         44          0     124\n",
       "Dream          56         68       0\n",
       "Torgersen      52          0       0"
      ],
      "text/html": [
       "<div>\n",
       "<style scoped>\n",
       "    .dataframe tbody tr th:only-of-type {\n",
       "        vertical-align: middle;\n",
       "    }\n",
       "\n",
       "    .dataframe tbody tr th {\n",
       "        vertical-align: top;\n",
       "    }\n",
       "\n",
       "    .dataframe thead th {\n",
       "        text-align: right;\n",
       "    }\n",
       "</style>\n",
       "<table border=\"1\" class=\"dataframe\">\n",
       "  <thead>\n",
       "    <tr style=\"text-align: right;\">\n",
       "      <th>species</th>\n",
       "      <th>Adelie</th>\n",
       "      <th>Chinstrap</th>\n",
       "      <th>Gentoo</th>\n",
       "    </tr>\n",
       "    <tr>\n",
       "      <th>island</th>\n",
       "      <th></th>\n",
       "      <th></th>\n",
       "      <th></th>\n",
       "    </tr>\n",
       "  </thead>\n",
       "  <tbody>\n",
       "    <tr>\n",
       "      <th>Biscoe</th>\n",
       "      <td>44</td>\n",
       "      <td>0</td>\n",
       "      <td>124</td>\n",
       "    </tr>\n",
       "    <tr>\n",
       "      <th>Dream</th>\n",
       "      <td>56</td>\n",
       "      <td>68</td>\n",
       "      <td>0</td>\n",
       "    </tr>\n",
       "    <tr>\n",
       "      <th>Torgersen</th>\n",
       "      <td>52</td>\n",
       "      <td>0</td>\n",
       "      <td>0</td>\n",
       "    </tr>\n",
       "  </tbody>\n",
       "</table>\n",
       "</div>"
      ]
     },
     "execution_count": 23,
     "metadata": {},
     "output_type": "execute_result"
    }
   ],
   "execution_count": 23
  },
  {
   "metadata": {
    "ExecuteTime": {
     "end_time": "2025-06-01T13:12:20.736982Z",
     "start_time": "2025-06-01T13:12:20.680930Z"
    }
   },
   "cell_type": "code",
   "source": "penguinsContingencyTable.plot(kind='bar')",
   "id": "7f5b19a1ccd909bc",
   "outputs": [
    {
     "data": {
      "text/plain": [
       "<Axes: xlabel='island'>"
      ]
     },
     "execution_count": 24,
     "metadata": {},
     "output_type": "execute_result"
    },
    {
     "data": {
      "text/plain": [
       "<Figure size 640x480 with 1 Axes>"
      ],
      "image/png": "[encoded data removed]"
     },
     "metadata": {},
     "output_type": "display_data"
    }
   ],
   "execution_count": 24
  },
  {
   "metadata": {},
   "cell_type": "markdown",
   "source": [
    "here we can see that there is a correlation between species and island, because `Chinstrap` only lives on *Dream Island* and `Gentoo` only lives on *Biscoe Island*.\n",
    "\n",
    "we can use the following method to check whether there is a real correlation though."
   ],
   "id": "d80f43dbb3c10ed5"
  },
  {
   "metadata": {
    "ExecuteTime": {
     "end_time": "2025-06-01T13:14:44.532238Z",
     "start_time": "2025-06-01T13:14:44.526640Z"
    }
   },
   "cell_type": "code",
   "source": [
    "def check_cat_vs_cat_correlation(dataset, column1, column2):\n",
    "    contingency_table = create_contingency_table(dataset, column1, column2)\n",
    "    chi2 = chi2_contingency(contingency_table)\n",
    "    print(chi2)\n",
    "    p_value = chi2[1]\n",
    "    odds_of_correlation = 1 - p_value\n",
    "    print(f\"The odds of a correlation between {column1} and {column2} is {odds_of_correlation * 100}% (Based on a p value of {p_value}).\")\n",
    "    print(\"This percentage needs to be at least 95% for a significant correlation.\")\n",
    "check_cat_vs_cat_correlation(penguins, 'species','island')"
   ],
   "id": "af09824091f64cbf",
   "outputs": [
    {
     "name": "stdout",
     "output_type": "stream",
     "text": [
      "Chi2ContingencyResult(statistic=np.float64(299.55032743148195), pvalue=np.float64(1.354573829719252e-63), dof=4, expected_freq=array([[74.23255814, 33.20930233, 60.55813953],\n",
      "       [54.79069767, 24.51162791, 44.69767442],\n",
      "       [22.97674419, 10.27906977, 18.74418605]]))\n",
      "The odds of a correlation between species and island is 100.0% (Based on a p value of 1.354573829719252e-63).\n",
      "This percentage needs to be at least 95% for a significant correlation.\n"
     ]
    }
   ],
   "execution_count": 27
  },
  {
   "metadata": {},
   "cell_type": "markdown",
   "source": [
    "The function **chi2_contingency** from scipy.stats performs the Chi-squared test of independence, which is a statistical test used to determine whether two categorical variables are independent or associated.\n",
    "\n",
    "Given a contingency table (i.e., a cross-tab of counts between two categorical variables), **chi2_contingency checks if the observed frequencies are significantly different from the frequencies we would expect if the variables were independent**.\n",
    "\n",
    "**Chi-squared statistic (statistic=299.55)**\n",
    "This is a measure of how different the observed values are from the expected values (assuming no relationship). A large value = bigger difference.\n",
    "\n",
    "**p-value (pvalue=1.35e-63)**\n",
    "This is extremely small (almost zero), which means the probability that this difference happened by chance is effectively zero.\n",
    "\n",
    "**Expected Frequencies**\n",
    "These are the counts you would expect in each cell if there were no relationship between species and island.\n",
    "\n",
    "*“The odds of a correlation between species and island is 100.0% (Based on a p-value of 1.35e-63). This percentage needs to be at least 95% for a significant correlation.”*\n",
    "\n",
    "This means:\n",
    "\n",
    "Your p-value is way below the threshold of 0.05 (which is a 95% confidence level).\n",
    "\n",
    "Therefore, you reject the null hypothesis.\n",
    "\n",
    "There is a statistically significant association between species and island.\n",
    "\n",
    "In plain English: certain species are much more likely to be found on certain islands, and this pattern is not due to random chance.\n",
    "\n",
    "**Important:**\n",
    "when the P value is `3.2359805560820074e-107` it will look like there is no correlation since 3.23 is bigger than 0.05. But that is not true.\n",
    "When `3.2359805560820074e-107` is your P value, then it means that there is a correlation. This is because `3.2359805560820074e-107` is a scientific notation.\n",
    "A number like `3.2359805560820074e-107` actually means `3.2359805560820074 × 10^(-107)`. Which in practice looks something like this:\n",
    "```\n",
    "0.000000000000000000000000000000000000000000000000000000000000000000000000000000000000000000000000000000000000000032359805560820074\n",
    "```\n",
    "That’s a 0. followed by 106 zeros, then `32359805560820074`.\n",
    "\n",
    "I personally made this mistake before of overlooking this, hence why it is advised to use the percentage indicator instead of the `0.05` one. And why it is never advised to do analysis and scientific research in a rush. Take your time.\n",
    "\n",
    "### Multivariate analysis\n",
    "\n"
   ],
   "id": "994dda41a769a205"
  }
 ],
 "metadata": {
  "kernelspec": {
   "display_name": "Python 3",
   "language": "python",
   "name": "python3"
  },
  "language_info": {
   "codemirror_mode": {
    "name": "ipython",
    "version": 2
   },
   "file_extension": ".py",
   "mimetype": "text/x-python",
   "name": "python",
   "nbconvert_exporter": "python",
   "pygments_lexer": "ipython2",
   "version": "2.7.6"
  }
 },
 "nbformat": 4,
 "nbformat_minor": 5
}
