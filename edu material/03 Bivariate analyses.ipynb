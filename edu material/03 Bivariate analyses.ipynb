{
 "cells": [
  {
   "cell_type": "code",
   "execution_count": 2,
   "metadata": {},
   "outputs": [
    {
     "name": "stdout",
     "output_type": "stream",
     "text": [
      "Requirement already satisfied: jupyter in c:\\users\\oldma\\anaconda3\\envs\\datascience\\lib\\site-packages (from -r requirements.txt (line 1)) (1.1.1)\n",
      "Requirement already satisfied: notebook in c:\\users\\oldma\\anaconda3\\envs\\datascience\\lib\\site-packages (from -r requirements.txt (line 2)) (7.4.0)\n",
      "Requirement already satisfied: pandas in c:\\users\\oldma\\anaconda3\\envs\\datascience\\lib\\site-packages (from -r requirements.txt (line 3)) (2.2.3)\n",
      "Requirement already satisfied: numpy in c:\\users\\oldma\\anaconda3\\envs\\datascience\\lib\\site-packages (from -r requirements.txt (line 4)) (2.1.1)\n",
      "Requirement already satisfied: scipy in c:\\users\\oldma\\anaconda3\\envs\\datascience\\lib\\site-packages (from -r requirements.txt (line 5)) (1.15.2)\n",
      "Requirement already satisfied: matplotlib in c:\\users\\oldma\\anaconda3\\envs\\datascience\\lib\\site-packages (from -r requirements.txt (line 6)) (3.10.1)\n",
      "Requirement already satisfied: seaborn in c:\\users\\oldma\\anaconda3\\envs\\datascience\\lib\\site-packages (from -r requirements.txt (line 7)) (0.13.2)\n",
      "Requirement already satisfied: scikit-learn in c:\\users\\oldma\\anaconda3\\envs\\datascience\\lib\\site-packages (from -r requirements.txt (line 8)) (1.6.1)\n",
      "Requirement already satisfied: graphviz in c:\\users\\oldma\\anaconda3\\envs\\datascience\\lib\\site-packages (from -r requirements.txt (line 9)) (0.20.3)\n",
      "Requirement already satisfied: dtreeviz in c:\\users\\oldma\\anaconda3\\envs\\datascience\\lib\\site-packages (from -r requirements.txt (line 10)) (2.2.2)\n",
      "Requirement already satisfied: opencv-python in c:\\users\\oldma\\anaconda3\\envs\\datascience\\lib\\site-packages (from -r requirements.txt (line 11)) (4.11.0.86)\n",
      "Requirement already satisfied: ultralytics in c:\\users\\oldma\\anaconda3\\envs\\datascience\\lib\\site-packages (from -r requirements.txt (line 12)) (8.3.115)\n",
      "Requirement already satisfied: jupyter-console in c:\\users\\oldma\\anaconda3\\envs\\datascience\\lib\\site-packages (from jupyter->-r requirements.txt (line 1)) (6.6.3)\n",
      "Requirement already satisfied: nbconvert in c:\\users\\oldma\\anaconda3\\envs\\datascience\\lib\\site-packages (from jupyter->-r requirements.txt (line 1)) (7.16.6)\n",
      "Requirement already satisfied: ipykernel in c:\\users\\oldma\\anaconda3\\envs\\datascience\\lib\\site-packages (from jupyter->-r requirements.txt (line 1)) (6.29.5)\n",
      "Requirement already satisfied: ipywidgets in c:\\users\\oldma\\anaconda3\\envs\\datascience\\lib\\site-packages (from jupyter->-r requirements.txt (line 1)) (8.1.6)\n",
      "Requirement already satisfied: jupyterlab in c:\\users\\oldma\\anaconda3\\envs\\datascience\\lib\\site-packages (from jupyter->-r requirements.txt (line 1)) (4.4.0)\n",
      "Requirement already satisfied: jupyter-server<3,>=2.4.0 in c:\\users\\oldma\\anaconda3\\envs\\datascience\\lib\\site-packages (from notebook->-r requirements.txt (line 2)) (2.15.0)\n",
      "Requirement already satisfied: jupyterlab-server<3,>=2.27.1 in c:\\users\\oldma\\anaconda3\\envs\\datascience\\lib\\site-packages (from notebook->-r requirements.txt (line 2)) (2.27.3)\n",
      "Requirement already satisfied: notebook-shim<0.3,>=0.2 in c:\\users\\oldma\\anaconda3\\envs\\datascience\\lib\\site-packages (from notebook->-r requirements.txt (line 2)) (0.2.4)\n",
      "Requirement already satisfied: tornado>=6.2.0 in c:\\users\\oldma\\anaconda3\\envs\\datascience\\lib\\site-packages (from notebook->-r requirements.txt (line 2)) (6.4.2)\n",
      "Requirement already satisfied: python-dateutil>=2.8.2 in c:\\users\\oldma\\anaconda3\\envs\\datascience\\lib\\site-packages (from pandas->-r requirements.txt (line 3)) (2.9.0.post0)\n",
      "Requirement already satisfied: pytz>=2020.1 in c:\\users\\oldma\\anaconda3\\envs\\datascience\\lib\\site-packages (from pandas->-r requirements.txt (line 3)) (2025.2)\n",
      "Requirement already satisfied: tzdata>=2022.7 in c:\\users\\oldma\\anaconda3\\envs\\datascience\\lib\\site-packages (from pandas->-r requirements.txt (line 3)) (2025.2)\n",
      "Requirement already satisfied: contourpy>=1.0.1 in c:\\users\\oldma\\anaconda3\\envs\\datascience\\lib\\site-packages (from matplotlib->-r requirements.txt (line 6)) (1.3.2)\n",
      "Requirement already satisfied: cycler>=0.10 in c:\\users\\oldma\\anaconda3\\envs\\datascience\\lib\\site-packages (from matplotlib->-r requirements.txt (line 6)) (0.12.1)\n",
      "Requirement already satisfied: fonttools>=4.22.0 in c:\\users\\oldma\\anaconda3\\envs\\datascience\\lib\\site-packages (from matplotlib->-r requirements.txt (line 6)) (4.57.0)\n",
      "Requirement already satisfied: kiwisolver>=1.3.1 in c:\\users\\oldma\\anaconda3\\envs\\datascience\\lib\\site-packages (from matplotlib->-r requirements.txt (line 6)) (1.4.8)\n",
      "Requirement already satisfied: packaging>=20.0 in c:\\users\\oldma\\anaconda3\\envs\\datascience\\lib\\site-packages (from matplotlib->-r requirements.txt (line 6)) (25.0)\n",
      "Requirement already satisfied: pillow>=8 in c:\\users\\oldma\\anaconda3\\envs\\datascience\\lib\\site-packages (from matplotlib->-r requirements.txt (line 6)) (11.2.1)\n",
      "Requirement already satisfied: pyparsing>=2.3.1 in c:\\users\\oldma\\anaconda3\\envs\\datascience\\lib\\site-packages (from matplotlib->-r requirements.txt (line 6)) (3.2.3)\n",
      "Requirement already satisfied: joblib>=1.2.0 in c:\\users\\oldma\\anaconda3\\envs\\datascience\\lib\\site-packages (from scikit-learn->-r requirements.txt (line 8)) (1.4.2)\n",
      "Requirement already satisfied: threadpoolctl>=3.1.0 in c:\\users\\oldma\\anaconda3\\envs\\datascience\\lib\\site-packages (from scikit-learn->-r requirements.txt (line 8)) (3.6.0)\n",
      "Requirement already satisfied: colour in c:\\users\\oldma\\anaconda3\\envs\\datascience\\lib\\site-packages (from dtreeviz->-r requirements.txt (line 10)) (0.1.5)\n",
      "Requirement already satisfied: pytest in c:\\users\\oldma\\anaconda3\\envs\\datascience\\lib\\site-packages (from dtreeviz->-r requirements.txt (line 10)) (8.3.5)\n",
      "Requirement already satisfied: pyyaml>=5.3.1 in c:\\users\\oldma\\anaconda3\\envs\\datascience\\lib\\site-packages (from ultralytics->-r requirements.txt (line 12)) (6.0.2)\n",
      "Requirement already satisfied: requests>=2.23.0 in c:\\users\\oldma\\anaconda3\\envs\\datascience\\lib\\site-packages (from ultralytics->-r requirements.txt (line 12)) (2.32.3)\n",
      "Requirement already satisfied: torch>=1.8.0 in c:\\users\\oldma\\anaconda3\\envs\\datascience\\lib\\site-packages (from ultralytics->-r requirements.txt (line 12)) (2.7.0)\n",
      "Requirement already satisfied: torchvision>=0.9.0 in c:\\users\\oldma\\anaconda3\\envs\\datascience\\lib\\site-packages (from ultralytics->-r requirements.txt (line 12)) (0.22.0)\n",
      "Requirement already satisfied: tqdm>=4.64.0 in c:\\users\\oldma\\anaconda3\\envs\\datascience\\lib\\site-packages (from ultralytics->-r requirements.txt (line 12)) (4.67.1)\n",
      "Requirement already satisfied: psutil in c:\\users\\oldma\\anaconda3\\envs\\datascience\\lib\\site-packages (from ultralytics->-r requirements.txt (line 12)) (7.0.0)\n",
      "Requirement already satisfied: py-cpuinfo in c:\\users\\oldma\\anaconda3\\envs\\datascience\\lib\\site-packages (from ultralytics->-r requirements.txt (line 12)) (9.0.0)\n",
      "Requirement already satisfied: ultralytics-thop>=2.0.0 in c:\\users\\oldma\\anaconda3\\envs\\datascience\\lib\\site-packages (from ultralytics->-r requirements.txt (line 12)) (2.0.14)\n",
      "Requirement already satisfied: anyio>=3.1.0 in c:\\users\\oldma\\anaconda3\\envs\\datascience\\lib\\site-packages (from jupyter-server<3,>=2.4.0->notebook->-r requirements.txt (line 2)) (4.9.0)\n",
      "Requirement already satisfied: argon2-cffi>=21.1 in c:\\users\\oldma\\anaconda3\\envs\\datascience\\lib\\site-packages (from jupyter-server<3,>=2.4.0->notebook->-r requirements.txt (line 2)) (23.1.0)\n",
      "Requirement already satisfied: jinja2>=3.0.3 in c:\\users\\oldma\\anaconda3\\envs\\datascience\\lib\\site-packages (from jupyter-server<3,>=2.4.0->notebook->-r requirements.txt (line 2)) (3.1.6)\n",
      "Requirement already satisfied: jupyter-client>=7.4.4 in c:\\users\\oldma\\anaconda3\\envs\\datascience\\lib\\site-packages (from jupyter-server<3,>=2.4.0->notebook->-r requirements.txt (line 2)) (8.6.3)\n",
      "Requirement already satisfied: jupyter-core!=5.0.*,>=4.12 in c:\\users\\oldma\\anaconda3\\envs\\datascience\\lib\\site-packages (from jupyter-server<3,>=2.4.0->notebook->-r requirements.txt (line 2)) (5.7.2)\n",
      "Requirement already satisfied: jupyter-events>=0.11.0 in c:\\users\\oldma\\anaconda3\\envs\\datascience\\lib\\site-packages (from jupyter-server<3,>=2.4.0->notebook->-r requirements.txt (line 2)) (0.12.0)\n",
      "Requirement already satisfied: jupyter-server-terminals>=0.4.4 in c:\\users\\oldma\\anaconda3\\envs\\datascience\\lib\\site-packages (from jupyter-server<3,>=2.4.0->notebook->-r requirements.txt (line 2)) (0.5.3)\n",
      "Requirement already satisfied: nbformat>=5.3.0 in c:\\users\\oldma\\anaconda3\\envs\\datascience\\lib\\site-packages (from jupyter-server<3,>=2.4.0->notebook->-r requirements.txt (line 2)) (5.10.4)\n",
      "Requirement already satisfied: overrides>=5.0 in c:\\users\\oldma\\anaconda3\\envs\\datascience\\lib\\site-packages (from jupyter-server<3,>=2.4.0->notebook->-r requirements.txt (line 2)) (7.7.0)\n",
      "Requirement already satisfied: prometheus-client>=0.9 in c:\\users\\oldma\\anaconda3\\envs\\datascience\\lib\\site-packages (from jupyter-server<3,>=2.4.0->notebook->-r requirements.txt (line 2)) (0.21.1)\n",
      "Requirement already satisfied: pywinpty>=2.0.1 in c:\\users\\oldma\\anaconda3\\envs\\datascience\\lib\\site-packages (from jupyter-server<3,>=2.4.0->notebook->-r requirements.txt (line 2)) (2.0.15)\n",
      "Requirement already satisfied: pyzmq>=24 in c:\\users\\oldma\\anaconda3\\envs\\datascience\\lib\\site-packages (from jupyter-server<3,>=2.4.0->notebook->-r requirements.txt (line 2)) (26.4.0)\n",
      "Requirement already satisfied: send2trash>=1.8.2 in c:\\users\\oldma\\anaconda3\\envs\\datascience\\lib\\site-packages (from jupyter-server<3,>=2.4.0->notebook->-r requirements.txt (line 2)) (1.8.3)\n",
      "Requirement already satisfied: terminado>=0.8.3 in c:\\users\\oldma\\anaconda3\\envs\\datascience\\lib\\site-packages (from jupyter-server<3,>=2.4.0->notebook->-r requirements.txt (line 2)) (0.18.1)\n",
      "Requirement already satisfied: traitlets>=5.6.0 in c:\\users\\oldma\\anaconda3\\envs\\datascience\\lib\\site-packages (from jupyter-server<3,>=2.4.0->notebook->-r requirements.txt (line 2)) (5.14.3)\n",
      "Requirement already satisfied: websocket-client>=1.7 in c:\\users\\oldma\\anaconda3\\envs\\datascience\\lib\\site-packages (from jupyter-server<3,>=2.4.0->notebook->-r requirements.txt (line 2)) (1.8.0)\n",
      "Requirement already satisfied: async-lru>=1.0.0 in c:\\users\\oldma\\anaconda3\\envs\\datascience\\lib\\site-packages (from jupyterlab->jupyter->-r requirements.txt (line 1)) (2.0.5)\n",
      "Requirement already satisfied: httpx>=0.25.0 in c:\\users\\oldma\\anaconda3\\envs\\datascience\\lib\\site-packages (from jupyterlab->jupyter->-r requirements.txt (line 1)) (0.28.1)\n",
      "Requirement already satisfied: jupyter-lsp>=2.0.0 in c:\\users\\oldma\\anaconda3\\envs\\datascience\\lib\\site-packages (from jupyterlab->jupyter->-r requirements.txt (line 1)) (2.2.5)\n",
      "Requirement already satisfied: setuptools>=41.1.0 in c:\\users\\oldma\\anaconda3\\envs\\datascience\\lib\\site-packages (from jupyterlab->jupyter->-r requirements.txt (line 1)) (75.8.0)\n",
      "Requirement already satisfied: comm>=0.1.1 in c:\\users\\oldma\\anaconda3\\envs\\datascience\\lib\\site-packages (from ipykernel->jupyter->-r requirements.txt (line 1)) (0.2.2)\n",
      "Requirement already satisfied: debugpy>=1.6.5 in c:\\users\\oldma\\anaconda3\\envs\\datascience\\lib\\site-packages (from ipykernel->jupyter->-r requirements.txt (line 1)) (1.8.14)\n",
      "Requirement already satisfied: ipython>=7.23.1 in c:\\users\\oldma\\anaconda3\\envs\\datascience\\lib\\site-packages (from ipykernel->jupyter->-r requirements.txt (line 1)) (9.1.0)\n",
      "Requirement already satisfied: matplotlib-inline>=0.1 in c:\\users\\oldma\\anaconda3\\envs\\datascience\\lib\\site-packages (from ipykernel->jupyter->-r requirements.txt (line 1)) (0.1.7)\n",
      "Requirement already satisfied: nest-asyncio in c:\\users\\oldma\\anaconda3\\envs\\datascience\\lib\\site-packages (from ipykernel->jupyter->-r requirements.txt (line 1)) (1.6.0)\n",
      "Requirement already satisfied: babel>=2.10 in c:\\users\\oldma\\anaconda3\\envs\\datascience\\lib\\site-packages (from jupyterlab-server<3,>=2.27.1->notebook->-r requirements.txt (line 2)) (2.17.0)\n",
      "Requirement already satisfied: json5>=0.9.0 in c:\\users\\oldma\\anaconda3\\envs\\datascience\\lib\\site-packages (from jupyterlab-server<3,>=2.27.1->notebook->-r requirements.txt (line 2)) (0.12.0)\n",
      "Requirement already satisfied: jsonschema>=4.18.0 in c:\\users\\oldma\\anaconda3\\envs\\datascience\\lib\\site-packages (from jupyterlab-server<3,>=2.27.1->notebook->-r requirements.txt (line 2)) (4.23.0)\n",
      "Requirement already satisfied: beautifulsoup4 in c:\\users\\oldma\\anaconda3\\envs\\datascience\\lib\\site-packages (from nbconvert->jupyter->-r requirements.txt (line 1)) (4.13.4)\n",
      "Requirement already satisfied: bleach!=5.0.0 in c:\\users\\oldma\\anaconda3\\envs\\datascience\\lib\\site-packages (from bleach[css]!=5.0.0->nbconvert->jupyter->-r requirements.txt (line 1)) (6.2.0)\n",
      "Requirement already satisfied: defusedxml in c:\\users\\oldma\\anaconda3\\envs\\datascience\\lib\\site-packages (from nbconvert->jupyter->-r requirements.txt (line 1)) (0.7.1)\n",
      "Requirement already satisfied: jupyterlab-pygments in c:\\users\\oldma\\anaconda3\\envs\\datascience\\lib\\site-packages (from nbconvert->jupyter->-r requirements.txt (line 1)) (0.3.0)\n",
      "Requirement already satisfied: markupsafe>=2.0 in c:\\users\\oldma\\anaconda3\\envs\\datascience\\lib\\site-packages (from nbconvert->jupyter->-r requirements.txt (line 1)) (3.0.2)\n",
      "Requirement already satisfied: mistune<4,>=2.0.3 in c:\\users\\oldma\\anaconda3\\envs\\datascience\\lib\\site-packages (from nbconvert->jupyter->-r requirements.txt (line 1)) (3.1.3)\n",
      "Requirement already satisfied: nbclient>=0.5.0 in c:\\users\\oldma\\anaconda3\\envs\\datascience\\lib\\site-packages (from nbconvert->jupyter->-r requirements.txt (line 1)) (0.10.2)\n",
      "Requirement already satisfied: pandocfilters>=1.4.1 in c:\\users\\oldma\\anaconda3\\envs\\datascience\\lib\\site-packages (from nbconvert->jupyter->-r requirements.txt (line 1)) (1.5.1)\n",
      "Requirement already satisfied: pygments>=2.4.1 in c:\\users\\oldma\\anaconda3\\envs\\datascience\\lib\\site-packages (from nbconvert->jupyter->-r requirements.txt (line 1)) (2.19.1)\n",
      "Requirement already satisfied: six>=1.5 in c:\\users\\oldma\\anaconda3\\envs\\datascience\\lib\\site-packages (from python-dateutil>=2.8.2->pandas->-r requirements.txt (line 3)) (1.17.0)\n",
      "Requirement already satisfied: charset-normalizer<4,>=2 in c:\\users\\oldma\\anaconda3\\envs\\datascience\\lib\\site-packages (from requests>=2.23.0->ultralytics->-r requirements.txt (line 12)) (3.4.1)\n",
      "Requirement already satisfied: idna<4,>=2.5 in c:\\users\\oldma\\anaconda3\\envs\\datascience\\lib\\site-packages (from requests>=2.23.0->ultralytics->-r requirements.txt (line 12)) (3.10)\n",
      "Requirement already satisfied: urllib3<3,>=1.21.1 in c:\\users\\oldma\\anaconda3\\envs\\datascience\\lib\\site-packages (from requests>=2.23.0->ultralytics->-r requirements.txt (line 12)) (2.4.0)\n",
      "Requirement already satisfied: certifi>=2017.4.17 in c:\\users\\oldma\\anaconda3\\envs\\datascience\\lib\\site-packages (from requests>=2.23.0->ultralytics->-r requirements.txt (line 12)) (2025.1.31)\n",
      "Requirement already satisfied: filelock in c:\\users\\oldma\\anaconda3\\envs\\datascience\\lib\\site-packages (from torch>=1.8.0->ultralytics->-r requirements.txt (line 12)) (3.18.0)\n",
      "Requirement already satisfied: typing-extensions>=4.10.0 in c:\\users\\oldma\\anaconda3\\envs\\datascience\\lib\\site-packages (from torch>=1.8.0->ultralytics->-r requirements.txt (line 12)) (4.13.2)\n",
      "Requirement already satisfied: sympy>=1.13.3 in c:\\users\\oldma\\anaconda3\\envs\\datascience\\lib\\site-packages (from torch>=1.8.0->ultralytics->-r requirements.txt (line 12)) (1.13.3)\n",
      "Requirement already satisfied: networkx in c:\\users\\oldma\\anaconda3\\envs\\datascience\\lib\\site-packages (from torch>=1.8.0->ultralytics->-r requirements.txt (line 12)) (3.4.2)\n",
      "Requirement already satisfied: fsspec in c:\\users\\oldma\\anaconda3\\envs\\datascience\\lib\\site-packages (from torch>=1.8.0->ultralytics->-r requirements.txt (line 12)) (2025.3.2)\n",
      "Requirement already satisfied: colorama in c:\\users\\oldma\\anaconda3\\envs\\datascience\\lib\\site-packages (from tqdm>=4.64.0->ultralytics->-r requirements.txt (line 12)) (0.4.6)\n",
      "Requirement already satisfied: widgetsnbextension~=4.0.14 in c:\\users\\oldma\\anaconda3\\envs\\datascience\\lib\\site-packages (from ipywidgets->jupyter->-r requirements.txt (line 1)) (4.0.14)\n",
      "Requirement already satisfied: jupyterlab_widgets~=3.0.14 in c:\\users\\oldma\\anaconda3\\envs\\datascience\\lib\\site-packages (from ipywidgets->jupyter->-r requirements.txt (line 1)) (3.0.14)\n",
      "Requirement already satisfied: prompt-toolkit>=3.0.30 in c:\\users\\oldma\\anaconda3\\envs\\datascience\\lib\\site-packages (from jupyter-console->jupyter->-r requirements.txt (line 1)) (3.0.51)\n",
      "Requirement already satisfied: iniconfig in c:\\users\\oldma\\anaconda3\\envs\\datascience\\lib\\site-packages (from pytest->dtreeviz->-r requirements.txt (line 10)) (2.1.0)\n",
      "Requirement already satisfied: pluggy<2,>=1.5 in c:\\users\\oldma\\anaconda3\\envs\\datascience\\lib\\site-packages (from pytest->dtreeviz->-r requirements.txt (line 10)) (1.5.0)\n",
      "Requirement already satisfied: sniffio>=1.1 in c:\\users\\oldma\\anaconda3\\envs\\datascience\\lib\\site-packages (from anyio>=3.1.0->jupyter-server<3,>=2.4.0->notebook->-r requirements.txt (line 2)) (1.3.1)\n",
      "Requirement already satisfied: argon2-cffi-bindings in c:\\users\\oldma\\anaconda3\\envs\\datascience\\lib\\site-packages (from argon2-cffi>=21.1->jupyter-server<3,>=2.4.0->notebook->-r requirements.txt (line 2)) (21.2.0)\n",
      "Requirement already satisfied: webencodings in c:\\users\\oldma\\anaconda3\\envs\\datascience\\lib\\site-packages (from bleach!=5.0.0->bleach[css]!=5.0.0->nbconvert->jupyter->-r requirements.txt (line 1)) (0.5.1)\n",
      "Requirement already satisfied: tinycss2<1.5,>=1.1.0 in c:\\users\\oldma\\anaconda3\\envs\\datascience\\lib\\site-packages (from bleach[css]!=5.0.0->nbconvert->jupyter->-r requirements.txt (line 1)) (1.4.0)\n",
      "Requirement already satisfied: httpcore==1.* in c:\\users\\oldma\\anaconda3\\envs\\datascience\\lib\\site-packages (from httpx>=0.25.0->jupyterlab->jupyter->-r requirements.txt (line 1)) (1.0.8)\n",
      "Requirement already satisfied: h11<0.15,>=0.13 in c:\\users\\oldma\\anaconda3\\envs\\datascience\\lib\\site-packages (from httpcore==1.*->httpx>=0.25.0->jupyterlab->jupyter->-r requirements.txt (line 1)) (0.14.0)\n",
      "Requirement already satisfied: decorator in c:\\users\\oldma\\anaconda3\\envs\\datascience\\lib\\site-packages (from ipython>=7.23.1->ipykernel->jupyter->-r requirements.txt (line 1)) (5.2.1)\n",
      "Requirement already satisfied: ipython-pygments-lexers in c:\\users\\oldma\\anaconda3\\envs\\datascience\\lib\\site-packages (from ipython>=7.23.1->ipykernel->jupyter->-r requirements.txt (line 1)) (1.1.1)\n",
      "Requirement already satisfied: jedi>=0.16 in c:\\users\\oldma\\anaconda3\\envs\\datascience\\lib\\site-packages (from ipython>=7.23.1->ipykernel->jupyter->-r requirements.txt (line 1)) (0.19.2)\n",
      "Requirement already satisfied: stack_data in c:\\users\\oldma\\anaconda3\\envs\\datascience\\lib\\site-packages (from ipython>=7.23.1->ipykernel->jupyter->-r requirements.txt (line 1)) (0.6.3)\n",
      "Requirement already satisfied: attrs>=22.2.0 in c:\\users\\oldma\\anaconda3\\envs\\datascience\\lib\\site-packages (from jsonschema>=4.18.0->jupyterlab-server<3,>=2.27.1->notebook->-r requirements.txt (line 2)) (25.3.0)\n",
      "Requirement already satisfied: jsonschema-specifications>=2023.03.6 in c:\\users\\oldma\\anaconda3\\envs\\datascience\\lib\\site-packages (from jsonschema>=4.18.0->jupyterlab-server<3,>=2.27.1->notebook->-r requirements.txt (line 2)) (2024.10.1)\n",
      "Requirement already satisfied: referencing>=0.28.4 in c:\\users\\oldma\\anaconda3\\envs\\datascience\\lib\\site-packages (from jsonschema>=4.18.0->jupyterlab-server<3,>=2.27.1->notebook->-r requirements.txt (line 2)) (0.36.2)\n",
      "Requirement already satisfied: rpds-py>=0.7.1 in c:\\users\\oldma\\anaconda3\\envs\\datascience\\lib\\site-packages (from jsonschema>=4.18.0->jupyterlab-server<3,>=2.27.1->notebook->-r requirements.txt (line 2)) (0.24.0)\n",
      "Requirement already satisfied: platformdirs>=2.5 in c:\\users\\oldma\\anaconda3\\envs\\datascience\\lib\\site-packages (from jupyter-core!=5.0.*,>=4.12->jupyter-server<3,>=2.4.0->notebook->-r requirements.txt (line 2)) (4.3.7)\n",
      "Requirement already satisfied: pywin32>=300 in c:\\users\\oldma\\anaconda3\\envs\\datascience\\lib\\site-packages (from jupyter-core!=5.0.*,>=4.12->jupyter-server<3,>=2.4.0->notebook->-r requirements.txt (line 2)) (310)\n",
      "Requirement already satisfied: python-json-logger>=2.0.4 in c:\\users\\oldma\\anaconda3\\envs\\datascience\\lib\\site-packages (from jupyter-events>=0.11.0->jupyter-server<3,>=2.4.0->notebook->-r requirements.txt (line 2)) (3.3.0)\n",
      "Requirement already satisfied: rfc3339-validator in c:\\users\\oldma\\anaconda3\\envs\\datascience\\lib\\site-packages (from jupyter-events>=0.11.0->jupyter-server<3,>=2.4.0->notebook->-r requirements.txt (line 2)) (0.1.4)\n",
      "Requirement already satisfied: rfc3986-validator>=0.1.1 in c:\\users\\oldma\\anaconda3\\envs\\datascience\\lib\\site-packages (from jupyter-events>=0.11.0->jupyter-server<3,>=2.4.0->notebook->-r requirements.txt (line 2)) (0.1.1)\n",
      "Requirement already satisfied: fastjsonschema>=2.15 in c:\\users\\oldma\\anaconda3\\envs\\datascience\\lib\\site-packages (from nbformat>=5.3.0->jupyter-server<3,>=2.4.0->notebook->-r requirements.txt (line 2)) (2.21.1)\n",
      "Requirement already satisfied: wcwidth in c:\\users\\oldma\\anaconda3\\envs\\datascience\\lib\\site-packages (from prompt-toolkit>=3.0.30->jupyter-console->jupyter->-r requirements.txt (line 1)) (0.2.13)\n",
      "Requirement already satisfied: mpmath<1.4,>=1.1.0 in c:\\users\\oldma\\anaconda3\\envs\\datascience\\lib\\site-packages (from sympy>=1.13.3->torch>=1.8.0->ultralytics->-r requirements.txt (line 12)) (1.3.0)\n",
      "Requirement already satisfied: soupsieve>1.2 in c:\\users\\oldma\\anaconda3\\envs\\datascience\\lib\\site-packages (from beautifulsoup4->nbconvert->jupyter->-r requirements.txt (line 1)) (2.7)\n",
      "Requirement already satisfied: parso<0.9.0,>=0.8.4 in c:\\users\\oldma\\anaconda3\\envs\\datascience\\lib\\site-packages (from jedi>=0.16->ipython>=7.23.1->ipykernel->jupyter->-r requirements.txt (line 1)) (0.8.4)\n",
      "Requirement already satisfied: fqdn in c:\\users\\oldma\\anaconda3\\envs\\datascience\\lib\\site-packages (from jsonschema[format-nongpl]>=4.18.0->jupyter-events>=0.11.0->jupyter-server<3,>=2.4.0->notebook->-r requirements.txt (line 2)) (1.5.1)\n",
      "Requirement already satisfied: isoduration in c:\\users\\oldma\\anaconda3\\envs\\datascience\\lib\\site-packages (from jsonschema[format-nongpl]>=4.18.0->jupyter-events>=0.11.0->jupyter-server<3,>=2.4.0->notebook->-r requirements.txt (line 2)) (20.11.0)\n",
      "Requirement already satisfied: jsonpointer>1.13 in c:\\users\\oldma\\anaconda3\\envs\\datascience\\lib\\site-packages (from jsonschema[format-nongpl]>=4.18.0->jupyter-events>=0.11.0->jupyter-server<3,>=2.4.0->notebook->-r requirements.txt (line 2)) (3.0.0)\n",
      "Requirement already satisfied: uri-template in c:\\users\\oldma\\anaconda3\\envs\\datascience\\lib\\site-packages (from jsonschema[format-nongpl]>=4.18.0->jupyter-events>=0.11.0->jupyter-server<3,>=2.4.0->notebook->-r requirements.txt (line 2)) (1.3.0)\n",
      "Requirement already satisfied: webcolors>=24.6.0 in c:\\users\\oldma\\anaconda3\\envs\\datascience\\lib\\site-packages (from jsonschema[format-nongpl]>=4.18.0->jupyter-events>=0.11.0->jupyter-server<3,>=2.4.0->notebook->-r requirements.txt (line 2)) (24.11.1)\n",
      "Requirement already satisfied: cffi>=1.0.1 in c:\\users\\oldma\\anaconda3\\envs\\datascience\\lib\\site-packages (from argon2-cffi-bindings->argon2-cffi>=21.1->jupyter-server<3,>=2.4.0->notebook->-r requirements.txt (line 2)) (1.17.1)\n",
      "Requirement already satisfied: executing>=1.2.0 in c:\\users\\oldma\\anaconda3\\envs\\datascience\\lib\\site-packages (from stack_data->ipython>=7.23.1->ipykernel->jupyter->-r requirements.txt (line 1)) (2.2.0)\n",
      "Requirement already satisfied: asttokens>=2.1.0 in c:\\users\\oldma\\anaconda3\\envs\\datascience\\lib\\site-packages (from stack_data->ipython>=7.23.1->ipykernel->jupyter->-r requirements.txt (line 1)) (3.0.0)\n",
      "Requirement already satisfied: pure-eval in c:\\users\\oldma\\anaconda3\\envs\\datascience\\lib\\site-packages (from stack_data->ipython>=7.23.1->ipykernel->jupyter->-r requirements.txt (line 1)) (0.2.3)\n",
      "Requirement already satisfied: pycparser in c:\\users\\oldma\\anaconda3\\envs\\datascience\\lib\\site-packages (from cffi>=1.0.1->argon2-cffi-bindings->argon2-cffi>=21.1->jupyter-server<3,>=2.4.0->notebook->-r requirements.txt (line 2)) (2.22)\n",
      "Requirement already satisfied: arrow>=0.15.0 in c:\\users\\oldma\\anaconda3\\envs\\datascience\\lib\\site-packages (from isoduration->jsonschema[format-nongpl]>=4.18.0->jupyter-events>=0.11.0->jupyter-server<3,>=2.4.0->notebook->-r requirements.txt (line 2)) (1.3.0)\n",
      "Requirement already satisfied: types-python-dateutil>=2.8.10 in c:\\users\\oldma\\anaconda3\\envs\\datascience\\lib\\site-packages (from arrow>=0.15.0->isoduration->jsonschema[format-nongpl]>=4.18.0->jupyter-events>=0.11.0->jupyter-server<3,>=2.4.0->notebook->-r requirements.txt (line 2)) (2.9.0.20241206)\n",
      "Note: you may need to restart the kernel to use updated packages.\n"
     ]
    }
   ],
   "source": [
    "pip install -r requirements.txt"
   ]
  },
  {
   "cell_type": "markdown",
   "metadata": {},
   "source": [
    "# Bivariate analysis"
   ]
  },
  {
   "cell_type": "markdown",
   "metadata": {},
   "source": [
    "In univariate analysis we only looked at 1 variable (= 1 column) at a time. In bivariate analysis we will now look at the relation between two variables (= 2 columns).\n",
    "\n",
    "The type of analysis we can do will once again depend on the types of data of these 2 variables. We look look at:\n",
    "- Numerical VS Numerical.\n",
    "- Nummerical VS Categorical\n",
    "- Categorical VS Categorical"
   ]
  },
  {
   "cell_type": "markdown",
   "metadata": {},
   "source": [
    "## Numerical vs Numerical"
   ]
  },
  {
   "cell_type": "markdown",
   "metadata": {},
   "source": [
    "Examples:\n",
    "- Body length VS Shoe size\n",
    "- Age VS Seconds it takes to run 1 kilometre\n",
    "- Country Unemployment rate VS Country Happiness Rating\n",
    "- Customer Revenue VS Customer Lifetime\n",
    "- Game Wishlists VS Game Purchases\n",
    "- Student grades VS Student attendance\n",
    "- ...\n",
    "\n",
    "\n",
    "Let's load the Iris dataset again and explore this!"
   ]
  },
  {
   "cell_type": "code",
   "execution_count": 3,
   "metadata": {},
   "outputs": [
    {
     "data": {
      "text/html": [
       "<div>\n",
       "<style scoped>\n",
       "    .dataframe tbody tr th:only-of-type {\n",
       "        vertical-align: middle;\n",
       "    }\n",
       "\n",
       "    .dataframe tbody tr th {\n",
       "        vertical-align: top;\n",
       "    }\n",
       "\n",
       "    .dataframe thead th {\n",
       "        text-align: right;\n",
       "    }\n",
       "</style>\n",
       "<table border=\"1\" class=\"dataframe\">\n",
       "  <thead>\n",
       "    <tr style=\"text-align: right;\">\n",
       "      <th></th>\n",
       "      <th>sepal_length</th>\n",
       "      <th>sepal_width</th>\n",
       "      <th>petal_length</th>\n",
       "      <th>petal_width</th>\n",
       "      <th>species</th>\n",
       "    </tr>\n",
       "  </thead>\n",
       "  <tbody>\n",
       "    <tr>\n",
       "      <th>0</th>\n",
       "      <td>5.1</td>\n",
       "      <td>3.5</td>\n",
       "      <td>1.4</td>\n",
       "      <td>0.2</td>\n",
       "      <td>setosa</td>\n",
       "    </tr>\n",
       "    <tr>\n",
       "      <th>1</th>\n",
       "      <td>4.9</td>\n",
       "      <td>3.0</td>\n",
       "      <td>1.4</td>\n",
       "      <td>0.2</td>\n",
       "      <td>setosa</td>\n",
       "    </tr>\n",
       "    <tr>\n",
       "      <th>2</th>\n",
       "      <td>4.7</td>\n",
       "      <td>3.2</td>\n",
       "      <td>1.3</td>\n",
       "      <td>0.2</td>\n",
       "      <td>setosa</td>\n",
       "    </tr>\n",
       "    <tr>\n",
       "      <th>3</th>\n",
       "      <td>4.6</td>\n",
       "      <td>3.1</td>\n",
       "      <td>1.5</td>\n",
       "      <td>0.2</td>\n",
       "      <td>setosa</td>\n",
       "    </tr>\n",
       "    <tr>\n",
       "      <th>4</th>\n",
       "      <td>5.0</td>\n",
       "      <td>3.6</td>\n",
       "      <td>1.4</td>\n",
       "      <td>0.2</td>\n",
       "      <td>setosa</td>\n",
       "    </tr>\n",
       "  </tbody>\n",
       "</table>\n",
       "</div>"
      ],
      "text/plain": [
       "   sepal_length  sepal_width  petal_length  petal_width species\n",
       "0           5.1          3.5           1.4          0.2  setosa\n",
       "1           4.9          3.0           1.4          0.2  setosa\n",
       "2           4.7          3.2           1.3          0.2  setosa\n",
       "3           4.6          3.1           1.5          0.2  setosa\n",
       "4           5.0          3.6           1.4          0.2  setosa"
      ]
     },
     "execution_count": 3,
     "metadata": {},
     "output_type": "execute_result"
    }
   ],
   "source": [
    "import seaborn as sns\n",
    "import pandas as pd\n",
    "\n",
    "iris = sns.load_dataset(\"iris\")\n",
    "iris.head()"
   ]
  },
  {
   "cell_type": "markdown",
   "metadata": {},
   "source": [
    "![](https://miro.medium.com/max/1000/1*Hh53mOF4Xy4eORjLilKOwA.png \"Iris dataset\") "
   ]
  },
  {
   "cell_type": "markdown",
   "metadata": {},
   "source": [
    "Let's look at the relation between the sepal length and petal length. (Dutch: Kelkblad en bloemblad)\n",
    "\n",
    "We will do this with a **scatter plot**.\n",
    "A scatter plot is a type of graph used to display the relationship between two numerical variables. Each point on the graph represents one observation from your dataset, with:\n",
    "\n",
    "The x-axis showing values of one variable (sepal_length)\n",
    "The y-axis showing values of another variable (petal_length)\n",
    "\n",
    "So, in this example, each dot represents a flower from the Iris dataset, positioned according to its sepal_length and petal_length.\n",
    "\n",
    "\n",
    "Scatter plots are useful for:\n",
    "- Spotting correlations or relationships between variables\n",
    "- Identifying clusters, trends, or outliers"
   ]
  },
  {
   "cell_type": "code",
   "execution_count": 4,
   "metadata": {},
   "outputs": [
    {
     "data": {
      "text/plain": [
       "<Axes: xlabel='sepal_length', ylabel='petal_length'>"
      ]
     },
     "execution_count": 4,
     "metadata": {},
     "output_type": "execute_result"
    },
    {
     "data": {
      "image/png": "[encoded data removed]",
      "text/plain": [
       "<Figure size 640x480 with 1 Axes>"
      ]
     },
     "metadata": {},
     "output_type": "display_data"
    }
   ],
   "source": [
    "iris.plot(kind='scatter', x='sepal_length', y='petal_length')"
   ]
  },
  {
   "cell_type": "markdown",
   "metadata": {},
   "source": [
    "A useful statistic for calculating the linear relation between two variable is the **Pearson correlation**.  \n",
    "The Pearson correlation measures the linear relation between two numerical variables. The result is a number between -1 and 1 where\n",
    "- -1 indicates a perfect negative linear relation\n",
    "- 0 indicates that there is no linear relation\n",
    "- 1 indicates a perfect positive linear relation"
   ]
  },
  {
   "cell_type": "markdown",
   "metadata": {},
   "source": [
    "![](https://www.spss-tutorials.com/img/correlation-coefficient-multiple-scatterplots.png \"Pearson correlation examples\")"
   ]
  },
  {
   "cell_type": "markdown",
   "metadata": {},
   "source": [
    "![](https://cdn1.byjus.com/wp-content/uploads/2019/06/word-image28.png \"Pearson correlation formula\")"
   ]
  },
  {
   "cell_type": "code",
   "execution_count": 5,
   "metadata": {},
   "outputs": [
    {
     "data": {
      "text/html": [
       "<div>\n",
       "<style scoped>\n",
       "    .dataframe tbody tr th:only-of-type {\n",
       "        vertical-align: middle;\n",
       "    }\n",
       "\n",
       "    .dataframe tbody tr th {\n",
       "        vertical-align: top;\n",
       "    }\n",
       "\n",
       "    .dataframe thead th {\n",
       "        text-align: right;\n",
       "    }\n",
       "</style>\n",
       "<table border=\"1\" class=\"dataframe\">\n",
       "  <thead>\n",
       "    <tr style=\"text-align: right;\">\n",
       "      <th></th>\n",
       "      <th>sepal_length</th>\n",
       "      <th>petal_length</th>\n",
       "    </tr>\n",
       "  </thead>\n",
       "  <tbody>\n",
       "    <tr>\n",
       "      <th>sepal_length</th>\n",
       "      <td>1.000000</td>\n",
       "      <td>0.871754</td>\n",
       "    </tr>\n",
       "    <tr>\n",
       "      <th>petal_length</th>\n",
       "      <td>0.871754</td>\n",
       "      <td>1.000000</td>\n",
       "    </tr>\n",
       "  </tbody>\n",
       "</table>\n",
       "</div>"
      ],
      "text/plain": [
       "              sepal_length  petal_length\n",
       "sepal_length      1.000000      0.871754\n",
       "petal_length      0.871754      1.000000"
      ]
     },
     "execution_count": 5,
     "metadata": {},
     "output_type": "execute_result"
    }
   ],
   "source": [
    "iris[['sepal_length','petal_length']].corr() # print the correlation coefficient for the two columns"
   ]
  },
  {
   "cell_type": "markdown",
   "metadata": {},
   "source": [
    "Let's print this for all the columns:"
   ]
  },
  {
   "cell_type": "code",
   "execution_count": 6,
   "metadata": {},
   "outputs": [
    {
     "ename": "ValueError",
     "evalue": "could not convert string to float: 'setosa'",
     "output_type": "error",
     "traceback": [
      "\u001b[31m---------------------------------------------------------------------------\u001b[39m",
      "\u001b[31mValueError\u001b[39m                                Traceback (most recent call last)",
      "\u001b[36mCell\u001b[39m\u001b[36m \u001b[39m\u001b[32mIn[6]\u001b[39m\u001b[32m, line 1\u001b[39m\n\u001b[32m----> \u001b[39m\u001b[32m1\u001b[39m irisCorrelations = \u001b[43miris\u001b[49m\u001b[43m.\u001b[49m\u001b[43mcorr\u001b[49m\u001b[43m(\u001b[49m\u001b[43m)\u001b[49m\n",
      "\u001b[36mFile \u001b[39m\u001b[32mc:\\Users\\oldma\\anaconda3\\envs\\datascience\\Lib\\site-packages\\pandas\\core\\frame.py:11049\u001b[39m, in \u001b[36mDataFrame.corr\u001b[39m\u001b[34m(self, method, min_periods, numeric_only)\u001b[39m\n\u001b[32m  11047\u001b[39m cols = data.columns\n\u001b[32m  11048\u001b[39m idx = cols.copy()\n\u001b[32m> \u001b[39m\u001b[32m11049\u001b[39m mat = \u001b[43mdata\u001b[49m\u001b[43m.\u001b[49m\u001b[43mto_numpy\u001b[49m\u001b[43m(\u001b[49m\u001b[43mdtype\u001b[49m\u001b[43m=\u001b[49m\u001b[38;5;28;43mfloat\u001b[39;49m\u001b[43m,\u001b[49m\u001b[43m \u001b[49m\u001b[43mna_value\u001b[49m\u001b[43m=\u001b[49m\u001b[43mnp\u001b[49m\u001b[43m.\u001b[49m\u001b[43mnan\u001b[49m\u001b[43m,\u001b[49m\u001b[43m \u001b[49m\u001b[43mcopy\u001b[49m\u001b[43m=\u001b[49m\u001b[38;5;28;43;01mFalse\u001b[39;49;00m\u001b[43m)\u001b[49m\n\u001b[32m  11051\u001b[39m \u001b[38;5;28;01mif\u001b[39;00m method == \u001b[33m\"\u001b[39m\u001b[33mpearson\u001b[39m\u001b[33m\"\u001b[39m:\n\u001b[32m  11052\u001b[39m     correl = libalgos.nancorr(mat, minp=min_periods)\n",
      "\u001b[36mFile \u001b[39m\u001b[32mc:\\Users\\oldma\\anaconda3\\envs\\datascience\\Lib\\site-packages\\pandas\\core\\frame.py:1993\u001b[39m, in \u001b[36mDataFrame.to_numpy\u001b[39m\u001b[34m(self, dtype, copy, na_value)\u001b[39m\n\u001b[32m   1991\u001b[39m \u001b[38;5;28;01mif\u001b[39;00m dtype \u001b[38;5;129;01mis\u001b[39;00m \u001b[38;5;129;01mnot\u001b[39;00m \u001b[38;5;28;01mNone\u001b[39;00m:\n\u001b[32m   1992\u001b[39m     dtype = np.dtype(dtype)\n\u001b[32m-> \u001b[39m\u001b[32m1993\u001b[39m result = \u001b[38;5;28;43mself\u001b[39;49m\u001b[43m.\u001b[49m\u001b[43m_mgr\u001b[49m\u001b[43m.\u001b[49m\u001b[43mas_array\u001b[49m\u001b[43m(\u001b[49m\u001b[43mdtype\u001b[49m\u001b[43m=\u001b[49m\u001b[43mdtype\u001b[49m\u001b[43m,\u001b[49m\u001b[43m \u001b[49m\u001b[43mcopy\u001b[49m\u001b[43m=\u001b[49m\u001b[43mcopy\u001b[49m\u001b[43m,\u001b[49m\u001b[43m \u001b[49m\u001b[43mna_value\u001b[49m\u001b[43m=\u001b[49m\u001b[43mna_value\u001b[49m\u001b[43m)\u001b[49m\n\u001b[32m   1994\u001b[39m \u001b[38;5;28;01mif\u001b[39;00m result.dtype \u001b[38;5;129;01mis\u001b[39;00m \u001b[38;5;129;01mnot\u001b[39;00m dtype:\n\u001b[32m   1995\u001b[39m     result = np.asarray(result, dtype=dtype)\n",
      "\u001b[36mFile \u001b[39m\u001b[32mc:\\Users\\oldma\\anaconda3\\envs\\datascience\\Lib\\site-packages\\pandas\\core\\internals\\managers.py:1694\u001b[39m, in \u001b[36mBlockManager.as_array\u001b[39m\u001b[34m(self, dtype, copy, na_value)\u001b[39m\n\u001b[32m   1692\u001b[39m         arr.flags.writeable = \u001b[38;5;28;01mFalse\u001b[39;00m\n\u001b[32m   1693\u001b[39m \u001b[38;5;28;01melse\u001b[39;00m:\n\u001b[32m-> \u001b[39m\u001b[32m1694\u001b[39m     arr = \u001b[38;5;28;43mself\u001b[39;49m\u001b[43m.\u001b[49m\u001b[43m_interleave\u001b[49m\u001b[43m(\u001b[49m\u001b[43mdtype\u001b[49m\u001b[43m=\u001b[49m\u001b[43mdtype\u001b[49m\u001b[43m,\u001b[49m\u001b[43m \u001b[49m\u001b[43mna_value\u001b[49m\u001b[43m=\u001b[49m\u001b[43mna_value\u001b[49m\u001b[43m)\u001b[49m\n\u001b[32m   1695\u001b[39m     \u001b[38;5;66;03m# The underlying data was copied within _interleave, so no need\u001b[39;00m\n\u001b[32m   1696\u001b[39m     \u001b[38;5;66;03m# to further copy if copy=True or setting na_value\u001b[39;00m\n\u001b[32m   1698\u001b[39m \u001b[38;5;28;01mif\u001b[39;00m na_value \u001b[38;5;129;01mis\u001b[39;00m lib.no_default:\n",
      "\u001b[36mFile \u001b[39m\u001b[32mc:\\Users\\oldma\\anaconda3\\envs\\datascience\\Lib\\site-packages\\pandas\\core\\internals\\managers.py:1753\u001b[39m, in \u001b[36mBlockManager._interleave\u001b[39m\u001b[34m(self, dtype, na_value)\u001b[39m\n\u001b[32m   1751\u001b[39m     \u001b[38;5;28;01melse\u001b[39;00m:\n\u001b[32m   1752\u001b[39m         arr = blk.get_values(dtype)\n\u001b[32m-> \u001b[39m\u001b[32m1753\u001b[39m     \u001b[43mresult\u001b[49m\u001b[43m[\u001b[49m\u001b[43mrl\u001b[49m\u001b[43m.\u001b[49m\u001b[43mindexer\u001b[49m\u001b[43m]\u001b[49m = arr\n\u001b[32m   1754\u001b[39m     itemmask[rl.indexer] = \u001b[32m1\u001b[39m\n\u001b[32m   1756\u001b[39m \u001b[38;5;28;01mif\u001b[39;00m \u001b[38;5;129;01mnot\u001b[39;00m itemmask.all():\n",
      "\u001b[31mValueError\u001b[39m: could not convert string to float: 'setosa'"
     ]
    }
   ],
   "source": [
    "irisCorrelations = iris.corr()"
   ]
  },
  {
   "cell_type": "markdown",
   "metadata": {},
   "source": [
    "Why is this not working?\n",
    "This is the error:\n",
    "\n",
    "```ValueError: could not convert string to float: 'setosa'```"
   ]
  },
  {
   "cell_type": "code",
   "execution_count": null,
   "metadata": {},
   "outputs": [],
   "source": [
    "irisCorrelations = iris.corr(numeric_only=True) # Only include numeric columns\n",
    "irisCorrelations.style.background_gradient(cmap='coolwarm', axis=None).format(precision=2) # Format the output, precision is the number of decimal places"
   ]
  },
  {
   "cell_type": "code",
   "execution_count": null,
   "metadata": {},
   "outputs": [],
   "source": [
    "iris.plot(kind='scatter', x='sepal_width', y='petal_length')"
   ]
  },
  {
   "cell_type": "markdown",
   "metadata": {},
   "source": [
    "**What is NumPy?**\n",
    "NumPy (short for Numerical Python) is a powerful Python library used for numerical computing. It provides support for:\n",
    "- Multi-dimensional arrays (called ndarray)\n",
    "- Mathematical operations on arrays (e.g., sum, mean, dot product, etc.)\n",
    "- Linear algebra, random number generation, Fourier transforms, and more"
   ]
  },
  {
   "cell_type": "code",
   "execution_count": null,
   "metadata": {},
   "outputs": [],
   "source": [
    "import numpy as np"
   ]
  },
  {
   "cell_type": "code",
   "execution_count": null,
   "metadata": {},
   "outputs": [],
   "source": [
    "exampleData = pd.Series(range(100)) + 1 # Create a series of numbers from 1 to 100\n",
    "exampleDataNegative = -exampleData\n",
    "exampleDataDouble = exampleData * 2\n",
    "exampleDataSquared = exampleData ** 2\n",
    "exampleDataRoot = exampleData ** 0.5\n",
    "\n",
    "exampleDataExponential = 2 ** exampleData\n",
    "exampleDataLog = np.log2(exampleData)\n",
    "\n",
    "exampleDataWithSmallNoise = exampleData + np.random.randint(low=0, high=10, size=len(exampleData))\n",
    "exampleDataWithMediumNoise = exampleData + np.random.randint(low=0, high=100, size=len(exampleData))\n",
    "exampleDataWithHeavyNoise = exampleData + np.random.randint(low=0, high=1000, size=len(exampleData))\n",
    "\n",
    "exampleDataFrame = pd.DataFrame({'original':exampleData, 'negative':exampleDataNegative, 'double':exampleDataDouble, 'squared':exampleDataSquared, 'root': exampleDataRoot, 'exp':exampleDataExponential, 'log':exampleDataLog, 'noiseSmall': exampleDataWithSmallNoise, 'noiseMedium': exampleDataWithMediumNoise, 'noiseHeavy':exampleDataWithHeavyNoise })"
   ]
  },
  {
   "cell_type": "code",
   "execution_count": null,
   "metadata": {},
   "outputs": [],
   "source": [
    "exampleDataFrame.head()"
   ]
  },
  {
   "cell_type": "code",
   "execution_count": null,
   "metadata": {},
   "outputs": [],
   "source": [
    "exampleDataCorrelations = exampleDataFrame.corr(numeric_only=True)\n",
    "exampleDataCorrelations.style.background_gradient(cmap='coolwarm', axis=None).format(precision=2)"
   ]
  },
  {
   "cell_type": "code",
   "execution_count": null,
   "metadata": {
    "scrolled": true
   },
   "outputs": [],
   "source": [
    "# Excluding a couple of columns because their values are too high to show in the same plot\n",
    "exampleDataFrame.drop(['exp', 'squared' , 'noiseHeavy'], axis=1).plot(figsize=(15,8))"
   ]
  },
  {
   "cell_type": "markdown",
   "metadata": {},
   "source": [
    "### Portfolio assignment 9\n",
    "25 min: Perform a bivariate analysis on the columns with numerical data in the penguins dataset.\n",
    "- Use corr() on the DataFrame to calculate all the correlations. Use the code example above to show the correlation table with colors.\n",
    "- Look at the corrrelations. Do they match your expectations?\n",
    "- Show a scatter plot for:\n",
    "   - The strongest positive correlation\n",
    "   - The strongest negative correlation\n",
    "   - The weakest correlation"
   ]
  },
  {
   "cell_type": "code",
   "execution_count": null,
   "metadata": {},
   "outputs": [],
   "source": [
    "penguins = sns.load_dataset(\"penguins\")\n",
    "penguins.head()"
   ]
  },
  {
   "cell_type": "markdown",
   "metadata": {},
   "source": [
    "![](https://user-images.githubusercontent.com/54525819/139198017-769e8f61-2e58-48a9-947d-fd22947a6548.png)"
   ]
  },
  {
   "cell_type": "markdown",
   "metadata": {},
   "source": [
    "![](https://i.imgur.com/0v1CGNV.png)<br>\n",
    "Assumption: ...<br>\n",
    "Findings: ...<br>"
   ]
  },
  {
   "cell_type": "markdown",
   "metadata": {},
   "source": [
    "### Portfolio assignment 10\n",
    "15 min: Perform a bivariate analysis (Pearson correlation and scatter plot) on at least 1 combination of 2 columns with numeric data in the dataset that you chose in portfolio assignment 4. Does the correlation and scatter plot match your expectations? Add your answer to your notebook. Commit the Notebook to your portfolio when you're finished. "
   ]
  },
  {
   "cell_type": "markdown",
   "metadata": {},
   "source": [
    "![](https://i.imgur.com/0v1CGNV.png)<br>\n",
    "Assumption: ...<br>\n",
    "Findings: ...<br>"
   ]
  },
  {
   "cell_type": "markdown",
   "metadata": {},
   "source": [
    "## Numerical vs Categorical"
   ]
  },
  {
   "cell_type": "markdown",
   "metadata": {},
   "source": [
    "Examples:\n",
    "- Monthly earnings VS Highest obtained degree\n",
    "- Body length VS Country of origin\n",
    "- Happiness rating VS Country of origin\n",
    "- Sales VS Account Manager. \n",
    "- Revenue VS Product Category\n",
    "- Revenue VS Game genre\n",
    "- Retention VS Software version\n",
    "- ...\n",
    "\n",
    "In univariate analysis for numerical data we've looked at confidence intervals. We can use these as well to check if there are any signicant differences between categories."
   ]
  },
  {
   "cell_type": "markdown",
   "metadata": {},
   "source": [
    "You and I are are going to roll a 6-sided die. The numerical variable is the value we roll and the categorical variable is who rolled it. We know that in reality the average value of a 6-sided die is 3.5 (=(1+2+3+4+5+6)/6). We know that there is no skill involved, so who rolls the die should have no impact on the result. We each roll the die 3 times.\n",
    "    <img src=\"https://wherethewindsblow.com/wp-content/uploads/2015/07/JUMBO-Six-sided-white-dice.jpg\" style=\"width: 300px;\"/>"
   ]
  },
  {
   "cell_type": "code",
   "execution_count": null,
   "metadata": {
    "scrolled": true
   },
   "outputs": [],
   "source": [
    "diceRolls = pd.DataFrame(data= {'Person': ['you', 'you', 'you', 'me','me','me'], 'Rolls': [6,3,6,2,4,2]})\n",
    "diceRolls"
   ]
  },
  {
   "cell_type": "code",
   "execution_count": null,
   "metadata": {
    "scrolled": true
   },
   "outputs": [],
   "source": [
    "diceRolls.groupby(by=\"Person\").mean()"
   ]
  },
  {
   "cell_type": "markdown",
   "metadata": {},
   "source": [
    "Looks like you rolled an average value of 5 and I rolled an average value of ~2.7. Does this mean you are better at rolling dice than me?\n",
    "\n",
    "```seaborn.barplot()``` is a function from the Seaborn library that creates a bar chart — it's great for visualizing comparisons between categories.\n",
    "\n",
    "Unlike basic bar plots, Seaborn's barplot():\n",
    "- Can automatically calculate averages if you give it multiple values per category\n",
    "- Adds error bars (**by default, 95% confidence intervals**)\n",
    "\n",
    "If you're plotting the average dice rolls per person, the bar height shows the average — and the error bar shows how much that average might vary if you repeated the experiment.\n",
    "So if you hav a bar at 5, and the error bar goes from 3 to 5, it means:\n",
    "\n",
    "**“We’re fairly confident the true average rolls for you is between 3 and 5.”**"
   ]
  },
  {
   "cell_type": "code",
   "execution_count": null,
   "metadata": {
    "scrolled": true
   },
   "outputs": [],
   "source": [
    "sns.barplot(x=\"Person\", y=\"Rolls\", data=diceRolls)"
   ]
  },
  {
   "cell_type": "markdown",
   "metadata": {},
   "source": [
    "The confidence intervals overlap. This means that we can not yet be sure that you're a better dice roller than me. If we want the confidence intervals to become smaller, we'll need more data which means we need to do more dice rolls."
   ]
  },
  {
   "cell_type": "markdown",
   "metadata": {},
   "source": []
  },
  {
   "cell_type": "markdown",
   "metadata": {},
   "source": [
    "Let's look if there are significant difference between iris species."
   ]
  },
  {
   "cell_type": "code",
   "execution_count": null,
   "metadata": {},
   "outputs": [],
   "source": [
    "iris.head()"
   ]
  },
  {
   "cell_type": "code",
   "execution_count": null,
   "metadata": {},
   "outputs": [],
   "source": [
    "iris.groupby('species').mean()"
   ]
  },
  {
   "cell_type": "code",
   "execution_count": null,
   "metadata": {},
   "outputs": [],
   "source": [
    "sns.barplot(y=\"sepal_length\", x=\"species\", data=iris) \n",
    "# Add parameter ci if you want to change certainty of confidence interval. \n",
    "# For example ci = 99 for 99% certainty.\n",
    "# The default is 95%"
   ]
  },
  {
   "cell_type": "code",
   "execution_count": null,
   "metadata": {},
   "outputs": [],
   "source": [
    "sns.barplot(y=\"sepal_width\", x=\"species\", data=iris)"
   ]
  },
  {
   "cell_type": "code",
   "execution_count": null,
   "metadata": {},
   "outputs": [],
   "source": [
    "sns.barplot(y=\"petal_length\", x=\"species\", data=iris)"
   ]
  },
  {
   "cell_type": "code",
   "execution_count": null,
   "metadata": {},
   "outputs": [],
   "source": [
    "sns.barplot(y=\"petal_width\", x=\"species\", data=iris)"
   ]
  },
  {
   "cell_type": "markdown",
   "metadata": {},
   "source": [
    "### Portfolio assignment 11\n",
    "20 min: Do a Numerical VS Categorical bivariate analysis on the penguins dataset.\n",
    "- Choose one of the categorical columns: species, island or sex\n",
    "- use .groupby('<columnname>').mean() too look at the means of the numerical columns. Does it look like there is a difference between categories?\n",
    "- Use the seaborn barplot to plot the mean and confidence. Create this plot for each of the numerical columns (bill_length_mm\tbill_depth_mm, flipper_length_mm, body_mass_g)\n",
    "- For each of the plots, write a conclusion: Is there a statistically significant difference for this numerical column for each category?\n",
    "- Optional: Repeat this proces for the other two categorical columns"
   ]
  },
  {
   "cell_type": "code",
   "execution_count": null,
   "metadata": {},
   "outputs": [],
   "source": [
    "penguins.head()"
   ]
  },
  {
   "cell_type": "markdown",
   "metadata": {},
   "source": [
    "![](https://user-images.githubusercontent.com/54525819/139198017-769e8f61-2e58-48a9-947d-fd22947a6548.png)"
   ]
  },
  {
   "cell_type": "markdown",
   "metadata": {},
   "source": [
    "![](https://i.imgur.com/0v1CGNV.png)<br>\n",
    "Assumption: ...<br>\n",
    "Findings: ...<br>"
   ]
  },
  {
   "cell_type": "markdown",
   "metadata": {},
   "source": [
    "### Portfolio assignment 12\n",
    "30 min: Perform a bivariate analysis on at least 3 combinations of a numerical column with a categorical column in the dataset that you chose in portfolio assignment 4. Use <em>.groupby('columnname').mean()</em> to calculate the means. Is there a difference between categories? Then use seaborn barplots to check if there is a statistically significant difference. "
   ]
  },
  {
   "cell_type": "markdown",
   "metadata": {},
   "source": [
    "![](https://i.imgur.com/0v1CGNV.png)<br>\n",
    "Assumption: ...<br>\n",
    "Findings: ...<br>"
   ]
  },
  {
   "cell_type": "markdown",
   "metadata": {},
   "source": [
    "## Categorical vs Categorical"
   ]
  },
  {
   "cell_type": "markdown",
   "metadata": {},
   "source": [
    "Examples:\n",
    "- Inbound channel VS Type of customer\n",
    "- Education VS Job function\n",
    "- Region of citizen VS Who the citizen votes for\n",
    "- Color shirt of crew member in Stat Trek VS Does the crew member survive? (https://statisticsbyjim.com/hypothesis-testing/chi-square-test-independence-example/)\n",
    "- Customer newsletter subscription (Yes/No) VS Custom churn (Yes/No)\n",
    "- Penguin island VS Penguin species\n",
    "- ..."
   ]
  },
  {
   "cell_type": "markdown",
   "metadata": {},
   "source": [
    "![](https://d3i3l3kraiqpym.cloudfront.net/wp-content/uploads/2016/04/26094914/Ad%C3%A9lie-Chinstrap-and-gentoo-penguin-species.jpg)"
   ]
  },
  {
   "cell_type": "code",
   "execution_count": null,
   "metadata": {},
   "outputs": [
    {
     "ename": "NameError",
     "evalue": "name 'penguins' is not defined",
     "output_type": "error",
     "traceback": [
      "\u001b[31m---------------------------------------------------------------------------\u001b[39m",
      "\u001b[31mNameError\u001b[39m                                 Traceback (most recent call last)",
      "\u001b[36mCell\u001b[39m\u001b[36m \u001b[39m\u001b[32mIn[1]\u001b[39m\u001b[32m, line 1\u001b[39m\n\u001b[32m----> \u001b[39m\u001b[32m1\u001b[39m \u001b[43mpenguins\u001b[49m.species.value_counts().plot(kind=\u001b[33m'\u001b[39m\u001b[33mbar\u001b[39m\u001b[33m'\u001b[39m)\n",
      "\u001b[31mNameError\u001b[39m: name 'penguins' is not defined"
     ]
    }
   ],
   "source": [
    "penguins.species.value_counts().plot(kind='bar')"
   ]
  },
  {
   "cell_type": "code",
   "execution_count": null,
   "metadata": {},
   "outputs": [],
   "source": [
    "penguins['island'].value_counts().plot(kind='bar')"
   ]
  },
  {
   "cell_type": "code",
   "execution_count": null,
   "metadata": {},
   "outputs": [],
   "source": [
    "def create_contingency_table(dataset, column1, column2):\n",
    "    return dataset.groupby([column1, column2]).size().unstack(column1, fill_value=0)"
   ]
  },
  {
   "cell_type": "markdown",
   "metadata": {},
   "source": [
    "_this has been added to this assignment later on_\n",
    "\n",
    "A **contingency table** (also called a cross-tabulation or crosstab) is a table used to show the frequency distribution of two (or more) categorical variables. Each cell in the table represents the count of records that have a specific combination of values from the two variables.\n",
    "\n",
    "What does **stack() and unstack()** do in pandas?\n",
    "Both are used to reshape multi-level (hierarchical) indexes:\n",
    "\n",
    "**unstack(level)**\n",
    "Pivots a level of row index into columns\n",
    "\n",
    "Converts a MultiIndex row into a wider DataFrame\n",
    "\n",
    "**stack(level)**\n",
    "Pivots a level of columns into row index\n",
    "\n",
    "Converts columns into a deeper row index\n"
   ]
  },
  {
   "cell_type": "code",
   "execution_count": null,
   "metadata": {},
   "outputs": [],
   "source": [
    "penguinsContingencyTable = create_contingency_table(penguins, 'species','island')"
   ]
  },
  {
   "cell_type": "code",
   "execution_count": null,
   "metadata": {},
   "outputs": [],
   "source": [
    "penguinsContingencyTable"
   ]
  },
  {
   "cell_type": "code",
   "execution_count": null,
   "metadata": {},
   "outputs": [],
   "source": [
    "penguinsContingencyTable.plot(kind='bar')"
   ]
  },
  {
   "cell_type": "code",
   "execution_count": null,
   "metadata": {},
   "outputs": [],
   "source": [
    "from scipy.stats import chi2_contingency\n",
    "def check_cat_vs_cat_correlation(dataset, column1, column2):\n",
    "    contingency_table = create_contingency_table(dataset, column1, column2)\n",
    "    chi2 = chi2_contingency(contingency_table)\n",
    "    print(chi2)\n",
    "    p_value = chi2[1]\n",
    "    odds_of_correlation = 1 - p_value\n",
    "    print(f\"The odds of a correlation between {column1} and {column2} is {odds_of_correlation * 100}% (Based on a p value of {p_value}).\")\n",
    "    print(\"This percentage needs to be at least 95% for a significant correlation.\")"
   ]
  },
  {
   "cell_type": "code",
   "execution_count": null,
   "metadata": {},
   "outputs": [],
   "source": [
    "check_cat_vs_cat_correlation(penguins, 'species','island')"
   ]
  },
  {
   "cell_type": "markdown",
   "metadata": {},
   "source": [
    "_this has been added to this assignment later on_\n",
    "\n",
    "The function **chi2_contingency** from scipy.stats performs the Chi-squared test of independence, which is a statistical test used to determine whether two categorical variables are independent or associated.\n",
    "\n",
    "Given a contingency table (i.e., a cross-tab of counts between two categorical variables), **chi2_contingency checks if the observed frequencies are significantly different from the frequencies we would expect if the variables were independent**.\n",
    "\n",
    "**Chi-squared statistic (statistic=299.55)**\n",
    "This is a measure of how different the observed values are from the expected values (assuming no relationship). A large value = bigger difference.\n",
    "\n",
    "**p-value (pvalue=1.35e-63)**\n",
    "This is extremely small (almost zero), which means the probability that this difference happened by chance is effectively zero.\n",
    "\n",
    "**Expected Frequencies**\n",
    "These are the counts you would expect in each cell if there were no relationship between species and island.\n",
    "\n",
    "*“The odds of a correlation between species and island is 100.0% (Based on a p-value of 1.35e-63). This percentage needs to be at least 95% for a significant correlation.”*\n",
    "\n",
    "This means:\n",
    "\n",
    "Your p-value is way below the threshold of 0.05 (which is a 95% confidence level).\n",
    "\n",
    "Therefore, you reject the null hypothesis.\n",
    "\n",
    "There is a statistically significant association between species and island.\n",
    "\n",
    "In plain English: certain species are much more likely to be found on certain islands, and this pattern is not due to random chance.\n"
   ]
  },
  {
   "cell_type": "markdown",
   "metadata": {},
   "source": [
    "![](https://1000logos.net/wp-content/uploads/2021/01/Suitmarks-of-playing-cards.jpg)"
   ]
  },
  {
   "cell_type": "code",
   "execution_count": null,
   "metadata": {},
   "outputs": [],
   "source": [
    "cardThrows = pd.DataFrame(data= {'Person': ['you', 'you', 'you', 'me','me','me'], 'Throws': ['spades','hearts','clubs','spades', 'hearts','diamonds']})"
   ]
  },
  {
   "cell_type": "code",
   "execution_count": null,
   "metadata": {},
   "outputs": [],
   "source": [
    "cardThrows"
   ]
  },
  {
   "cell_type": "code",
   "execution_count": null,
   "metadata": {},
   "outputs": [],
   "source": [
    "contingencyTableCardThrows = create_contingency_table(cardThrows, 'Person','Throws')\n",
    "print(contingencyTableCardThrows)"
   ]
  },
  {
   "cell_type": "code",
   "execution_count": null,
   "metadata": {},
   "outputs": [],
   "source": [
    "contingencyTableCardThrows.plot(kind='bar')"
   ]
  },
  {
   "cell_type": "code",
   "execution_count": null,
   "metadata": {},
   "outputs": [],
   "source": [
    "check_cat_vs_cat_correlation(cardThrows, 'Person','Throws')"
   ]
  },
  {
   "cell_type": "markdown",
   "metadata": {},
   "source": [
    "![](https://miro.medium.com/max/532/1*S8rfFkmLhDbOz4RGNwuz6g.png)"
   ]
  },
  {
   "cell_type": "code",
   "execution_count": null,
   "metadata": {},
   "outputs": [],
   "source": [
    "# Change the numberOfRolls and low & high of each player to see the impact on the chi-square test.\n",
    "numberOfThrows = 30\n",
    "person1Throws= pd.Series( np.random.choice(['spades','hearts','clubs', 'diamonds'], size=numberOfThrows ))\n",
    "person2Throws= pd.Series( np.random.choice(['spades','hearts','clubs'], size=numberOfThrows ))\n",
    "\n",
    "cardThrows2 = pd.DataFrame({\n",
    "    'Person':pd.concat([pd.Series(['Person1']*numberOfThrows),pd.Series(['Person2']*numberOfThrows)]),\n",
    "    'Throws':pd.concat([person1Throws,person2Throws])\n",
    "})\n",
    "cardThrows2.head()"
   ]
  },
  {
   "cell_type": "code",
   "execution_count": null,
   "metadata": {},
   "outputs": [],
   "source": [
    "contingencyTableCardThrows2 = create_contingency_table(cardThrows2, 'Person','Throws')"
   ]
  },
  {
   "cell_type": "code",
   "execution_count": null,
   "metadata": {},
   "outputs": [],
   "source": [
    "contingencyTableCardThrows2.plot(kind='bar')"
   ]
  },
  {
   "cell_type": "code",
   "execution_count": null,
   "metadata": {},
   "outputs": [],
   "source": [
    "check_cat_vs_cat_correlation(cardThrows2, 'Person','Throws')"
   ]
  },
  {
   "cell_type": "markdown",
   "metadata": {},
   "source": [
    "### Portfolio assignment 13\n",
    "10 min: Do a bivariate analysis on the penguins dataset for the following combination of columns:\n",
    "- species VS sex\n",
    "- island VS sex\n",
    "\n",
    "For this bivariate analysis, at least perform the following tasks:\n",
    "- Do you expect their to be a correlation between the two columns?\n",
    "- Create a contingency table. Do you observe different ratios between categories here?\n",
    "- Create a bar plot for this contingency table. Do you observe different ratios between categories here?\n",
    "- Do a chi-squared test. What does the result say? What's the chance of there being a correlation between the two columns?"
   ]
  },
  {
   "cell_type": "markdown",
   "metadata": {},
   "source": [
    "![](https://i.imgur.com/0v1CGNV.png)<br>\n",
    "Assumptions: ...<br>\n",
    "Findings: ...<br>"
   ]
  },
  {
   "cell_type": "markdown",
   "metadata": {},
   "source": [
    "### Portfolio assignment 14\n",
    "Perform a bivariate analysis on at least 1 combination of 2 columns with categorical data in the dataset that you chose in portfolio assignment 4.\n",
    "- Do you expect their to be a correlation between the two columns?\n",
    "- Create a contingency table. Do you observe different ratios between categories here?\n",
    "- Create a bar plot for this contingency table. Do you observe different ratios between categories here?\n",
    "- Do a chi-squared test. What does the result say? What's the chance of there being a correlation between the two columns?"
   ]
  },
  {
   "cell_type": "markdown",
   "metadata": {},
   "source": [
    "![](https://i.imgur.com/0v1CGNV.png)<br>\n",
    "Assumption: ...<br>\n",
    "Finding: ...<br>"
   ]
  }
 ],
 "metadata": {
  "kernelspec": {
   "display_name": "datascience",
   "language": "python",
   "name": "python3"
  },
  "language_info": {
   "codemirror_mode": {
    "name": "ipython",
    "version": 3
   },
   "file_extension": ".py",
   "mimetype": "text/x-python",
   "name": "python",
   "nbconvert_exporter": "python",
   "pygments_lexer": "ipython3",
   "version": "3.13.2"
  }
 },
 "nbformat": 4,
 "nbformat_minor": 4
}
