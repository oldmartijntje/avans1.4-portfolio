{
 "cells": [
  {
   "cell_type": "markdown",
   "metadata": {},
   "source": [
    "# Distributions"
   ]
  },
  {
   "cell_type": "markdown",
   "metadata": {},
   "source": [
    "Interesting sources: \n",
    "- https://app.datacamp.com/learn/courses/foundations-of-probability-in-python"
   ]
  },
  {
   "cell_type": "code",
   "execution_count": 25,
   "metadata": {},
   "outputs": [
    {
     "name": "stdout",
     "output_type": "stream",
     "text": [
      "Requirement already satisfied: jupyter in c:\\users\\oldma\\anaconda3\\envs\\datascience\\lib\\site-packages (from -r requirements.txt (line 1)) (1.1.1)\n",
      "Requirement already satisfied: notebook in c:\\users\\oldma\\anaconda3\\envs\\datascience\\lib\\site-packages (from -r requirements.txt (line 2)) (7.4.0)\n",
      "Requirement already satisfied: pandas in c:\\users\\oldma\\anaconda3\\envs\\datascience\\lib\\site-packages (from -r requirements.txt (line 3)) (2.2.3)\n",
      "Requirement already satisfied: numpy in c:\\users\\oldma\\anaconda3\\envs\\datascience\\lib\\site-packages (from -r requirements.txt (line 4)) (2.1.1)\n",
      "Requirement already satisfied: scipy in c:\\users\\oldma\\anaconda3\\envs\\datascience\\lib\\site-packages (from -r requirements.txt (line 5)) (1.15.2)\n",
      "Requirement already satisfied: matplotlib in c:\\users\\oldma\\anaconda3\\envs\\datascience\\lib\\site-packages (from -r requirements.txt (line 6)) (3.10.1)\n",
      "Requirement already satisfied: seaborn in c:\\users\\oldma\\anaconda3\\envs\\datascience\\lib\\site-packages (from -r requirements.txt (line 7)) (0.13.2)\n",
      "Requirement already satisfied: scikit-learn in c:\\users\\oldma\\anaconda3\\envs\\datascience\\lib\\site-packages (from -r requirements.txt (line 8)) (1.6.1)\n",
      "Requirement already satisfied: graphviz in c:\\users\\oldma\\anaconda3\\envs\\datascience\\lib\\site-packages (from -r requirements.txt (line 9)) (0.20.3)\n",
      "Requirement already satisfied: dtreeviz in c:\\users\\oldma\\anaconda3\\envs\\datascience\\lib\\site-packages (from -r requirements.txt (line 10)) (2.2.2)\n",
      "Requirement already satisfied: opencv-python in c:\\users\\oldma\\anaconda3\\envs\\datascience\\lib\\site-packages (from -r requirements.txt (line 11)) (4.11.0.86)\n",
      "Requirement already satisfied: ultralytics in c:\\users\\oldma\\anaconda3\\envs\\datascience\\lib\\site-packages (from -r requirements.txt (line 12)) (8.3.115)\n",
      "Requirement already satisfied: jupyter-console in c:\\users\\oldma\\anaconda3\\envs\\datascience\\lib\\site-packages (from jupyter->-r requirements.txt (line 1)) (6.6.3)\n",
      "Requirement already satisfied: nbconvert in c:\\users\\oldma\\anaconda3\\envs\\datascience\\lib\\site-packages (from jupyter->-r requirements.txt (line 1)) (7.16.6)\n",
      "Requirement already satisfied: ipykernel in c:\\users\\oldma\\anaconda3\\envs\\datascience\\lib\\site-packages (from jupyter->-r requirements.txt (line 1)) (6.29.5)\n",
      "Requirement already satisfied: ipywidgets in c:\\users\\oldma\\anaconda3\\envs\\datascience\\lib\\site-packages (from jupyter->-r requirements.txt (line 1)) (8.1.6)\n",
      "Requirement already satisfied: jupyterlab in c:\\users\\oldma\\anaconda3\\envs\\datascience\\lib\\site-packages (from jupyter->-r requirements.txt (line 1)) (4.4.0)\n",
      "Requirement already satisfied: jupyter-server<3,>=2.4.0 in c:\\users\\oldma\\anaconda3\\envs\\datascience\\lib\\site-packages (from notebook->-r requirements.txt (line 2)) (2.15.0)\n",
      "Requirement already satisfied: jupyterlab-server<3,>=2.27.1 in c:\\users\\oldma\\anaconda3\\envs\\datascience\\lib\\site-packages (from notebook->-r requirements.txt (line 2)) (2.27.3)\n",
      "Requirement already satisfied: notebook-shim<0.3,>=0.2 in c:\\users\\oldma\\anaconda3\\envs\\datascience\\lib\\site-packages (from notebook->-r requirements.txt (line 2)) (0.2.4)\n",
      "Requirement already satisfied: tornado>=6.2.0 in c:\\users\\oldma\\anaconda3\\envs\\datascience\\lib\\site-packages (from notebook->-r requirements.txt (line 2)) (6.4.2)\n",
      "Requirement already satisfied: python-dateutil>=2.8.2 in c:\\users\\oldma\\anaconda3\\envs\\datascience\\lib\\site-packages (from pandas->-r requirements.txt (line 3)) (2.9.0.post0)\n",
      "Requirement already satisfied: pytz>=2020.1 in c:\\users\\oldma\\anaconda3\\envs\\datascience\\lib\\site-packages (from pandas->-r requirements.txt (line 3)) (2025.2)\n",
      "Requirement already satisfied: tzdata>=2022.7 in c:\\users\\oldma\\anaconda3\\envs\\datascience\\lib\\site-packages (from pandas->-r requirements.txt (line 3)) (2025.2)\n",
      "Requirement already satisfied: contourpy>=1.0.1 in c:\\users\\oldma\\anaconda3\\envs\\datascience\\lib\\site-packages (from matplotlib->-r requirements.txt (line 6)) (1.3.2)\n",
      "Requirement already satisfied: cycler>=0.10 in c:\\users\\oldma\\anaconda3\\envs\\datascience\\lib\\site-packages (from matplotlib->-r requirements.txt (line 6)) (0.12.1)\n",
      "Requirement already satisfied: fonttools>=4.22.0 in c:\\users\\oldma\\anaconda3\\envs\\datascience\\lib\\site-packages (from matplotlib->-r requirements.txt (line 6)) (4.57.0)\n",
      "Requirement already satisfied: kiwisolver>=1.3.1 in c:\\users\\oldma\\anaconda3\\envs\\datascience\\lib\\site-packages (from matplotlib->-r requirements.txt (line 6)) (1.4.8)\n",
      "Requirement already satisfied: packaging>=20.0 in c:\\users\\oldma\\anaconda3\\envs\\datascience\\lib\\site-packages (from matplotlib->-r requirements.txt (line 6)) (25.0)\n",
      "Requirement already satisfied: pillow>=8 in c:\\users\\oldma\\anaconda3\\envs\\datascience\\lib\\site-packages (from matplotlib->-r requirements.txt (line 6)) (11.2.1)\n",
      "Requirement already satisfied: pyparsing>=2.3.1 in c:\\users\\oldma\\anaconda3\\envs\\datascience\\lib\\site-packages (from matplotlib->-r requirements.txt (line 6)) (3.2.3)\n",
      "Requirement already satisfied: joblib>=1.2.0 in c:\\users\\oldma\\anaconda3\\envs\\datascience\\lib\\site-packages (from scikit-learn->-r requirements.txt (line 8)) (1.4.2)\n",
      "Requirement already satisfied: threadpoolctl>=3.1.0 in c:\\users\\oldma\\anaconda3\\envs\\datascience\\lib\\site-packages (from scikit-learn->-r requirements.txt (line 8)) (3.6.0)\n",
      "Requirement already satisfied: colour in c:\\users\\oldma\\anaconda3\\envs\\datascience\\lib\\site-packages (from dtreeviz->-r requirements.txt (line 10)) (0.1.5)\n",
      "Requirement already satisfied: pytest in c:\\users\\oldma\\anaconda3\\envs\\datascience\\lib\\site-packages (from dtreeviz->-r requirements.txt (line 10)) (8.3.5)\n",
      "Requirement already satisfied: pyyaml>=5.3.1 in c:\\users\\oldma\\anaconda3\\envs\\datascience\\lib\\site-packages (from ultralytics->-r requirements.txt (line 12)) (6.0.2)\n",
      "Requirement already satisfied: requests>=2.23.0 in c:\\users\\oldma\\anaconda3\\envs\\datascience\\lib\\site-packages (from ultralytics->-r requirements.txt (line 12)) (2.32.3)\n",
      "Requirement already satisfied: torch>=1.8.0 in c:\\users\\oldma\\anaconda3\\envs\\datascience\\lib\\site-packages (from ultralytics->-r requirements.txt (line 12)) (2.7.0)\n",
      "Requirement already satisfied: torchvision>=0.9.0 in c:\\users\\oldma\\anaconda3\\envs\\datascience\\lib\\site-packages (from ultralytics->-r requirements.txt (line 12)) (0.22.0)\n",
      "Requirement already satisfied: tqdm>=4.64.0 in c:\\users\\oldma\\anaconda3\\envs\\datascience\\lib\\site-packages (from ultralytics->-r requirements.txt (line 12)) (4.67.1)\n",
      "Requirement already satisfied: psutil in c:\\users\\oldma\\anaconda3\\envs\\datascience\\lib\\site-packages (from ultralytics->-r requirements.txt (line 12)) (7.0.0)\n",
      "Requirement already satisfied: py-cpuinfo in c:\\users\\oldma\\anaconda3\\envs\\datascience\\lib\\site-packages (from ultralytics->-r requirements.txt (line 12)) (9.0.0)\n",
      "Requirement already satisfied: ultralytics-thop>=2.0.0 in c:\\users\\oldma\\anaconda3\\envs\\datascience\\lib\\site-packages (from ultralytics->-r requirements.txt (line 12)) (2.0.14)\n",
      "Requirement already satisfied: anyio>=3.1.0 in c:\\users\\oldma\\anaconda3\\envs\\datascience\\lib\\site-packages (from jupyter-server<3,>=2.4.0->notebook->-r requirements.txt (line 2)) (4.9.0)\n",
      "Requirement already satisfied: argon2-cffi>=21.1 in c:\\users\\oldma\\anaconda3\\envs\\datascience\\lib\\site-packages (from jupyter-server<3,>=2.4.0->notebook->-r requirements.txt (line 2)) (23.1.0)\n",
      "Requirement already satisfied: jinja2>=3.0.3 in c:\\users\\oldma\\anaconda3\\envs\\datascience\\lib\\site-packages (from jupyter-server<3,>=2.4.0->notebook->-r requirements.txt (line 2)) (3.1.6)\n",
      "Requirement already satisfied: jupyter-client>=7.4.4 in c:\\users\\oldma\\anaconda3\\envs\\datascience\\lib\\site-packages (from jupyter-server<3,>=2.4.0->notebook->-r requirements.txt (line 2)) (8.6.3)\n",
      "Requirement already satisfied: jupyter-core!=5.0.*,>=4.12 in c:\\users\\oldma\\anaconda3\\envs\\datascience\\lib\\site-packages (from jupyter-server<3,>=2.4.0->notebook->-r requirements.txt (line 2)) (5.7.2)\n",
      "Requirement already satisfied: jupyter-events>=0.11.0 in c:\\users\\oldma\\anaconda3\\envs\\datascience\\lib\\site-packages (from jupyter-server<3,>=2.4.0->notebook->-r requirements.txt (line 2)) (0.12.0)\n",
      "Requirement already satisfied: jupyter-server-terminals>=0.4.4 in c:\\users\\oldma\\anaconda3\\envs\\datascience\\lib\\site-packages (from jupyter-server<3,>=2.4.0->notebook->-r requirements.txt (line 2)) (0.5.3)\n",
      "Requirement already satisfied: nbformat>=5.3.0 in c:\\users\\oldma\\anaconda3\\envs\\datascience\\lib\\site-packages (from jupyter-server<3,>=2.4.0->notebook->-r requirements.txt (line 2)) (5.10.4)\n",
      "Requirement already satisfied: overrides>=5.0 in c:\\users\\oldma\\anaconda3\\envs\\datascience\\lib\\site-packages (from jupyter-server<3,>=2.4.0->notebook->-r requirements.txt (line 2)) (7.7.0)\n",
      "Requirement already satisfied: prometheus-client>=0.9 in c:\\users\\oldma\\anaconda3\\envs\\datascience\\lib\\site-packages (from jupyter-server<3,>=2.4.0->notebook->-r requirements.txt (line 2)) (0.21.1)\n",
      "Requirement already satisfied: pywinpty>=2.0.1 in c:\\users\\oldma\\anaconda3\\envs\\datascience\\lib\\site-packages (from jupyter-server<3,>=2.4.0->notebook->-r requirements.txt (line 2)) (2.0.15)\n",
      "Requirement already satisfied: pyzmq>=24 in c:\\users\\oldma\\anaconda3\\envs\\datascience\\lib\\site-packages (from jupyter-server<3,>=2.4.0->notebook->-r requirements.txt (line 2)) (26.4.0)\n",
      "Requirement already satisfied: send2trash>=1.8.2 in c:\\users\\oldma\\anaconda3\\envs\\datascience\\lib\\site-packages (from jupyter-server<3,>=2.4.0->notebook->-r requirements.txt (line 2)) (1.8.3)\n",
      "Requirement already satisfied: terminado>=0.8.3 in c:\\users\\oldma\\anaconda3\\envs\\datascience\\lib\\site-packages (from jupyter-server<3,>=2.4.0->notebook->-r requirements.txt (line 2)) (0.18.1)\n",
      "Requirement already satisfied: traitlets>=5.6.0 in c:\\users\\oldma\\anaconda3\\envs\\datascience\\lib\\site-packages (from jupyter-server<3,>=2.4.0->notebook->-r requirements.txt (line 2)) (5.14.3)\n",
      "Requirement already satisfied: websocket-client>=1.7 in c:\\users\\oldma\\anaconda3\\envs\\datascience\\lib\\site-packages (from jupyter-server<3,>=2.4.0->notebook->-r requirements.txt (line 2)) (1.8.0)\n",
      "Requirement already satisfied: async-lru>=1.0.0 in c:\\users\\oldma\\anaconda3\\envs\\datascience\\lib\\site-packages (from jupyterlab->jupyter->-r requirements.txt (line 1)) (2.0.5)\n",
      "Requirement already satisfied: httpx>=0.25.0 in c:\\users\\oldma\\anaconda3\\envs\\datascience\\lib\\site-packages (from jupyterlab->jupyter->-r requirements.txt (line 1)) (0.28.1)\n",
      "Requirement already satisfied: jupyter-lsp>=2.0.0 in c:\\users\\oldma\\anaconda3\\envs\\datascience\\lib\\site-packages (from jupyterlab->jupyter->-r requirements.txt (line 1)) (2.2.5)\n",
      "Requirement already satisfied: setuptools>=41.1.0 in c:\\users\\oldma\\anaconda3\\envs\\datascience\\lib\\site-packages (from jupyterlab->jupyter->-r requirements.txt (line 1)) (75.8.0)\n",
      "Requirement already satisfied: comm>=0.1.1 in c:\\users\\oldma\\anaconda3\\envs\\datascience\\lib\\site-packages (from ipykernel->jupyter->-r requirements.txt (line 1)) (0.2.2)\n",
      "Requirement already satisfied: debugpy>=1.6.5 in c:\\users\\oldma\\anaconda3\\envs\\datascience\\lib\\site-packages (from ipykernel->jupyter->-r requirements.txt (line 1)) (1.8.14)\n",
      "Requirement already satisfied: ipython>=7.23.1 in c:\\users\\oldma\\anaconda3\\envs\\datascience\\lib\\site-packages (from ipykernel->jupyter->-r requirements.txt (line 1)) (9.1.0)\n",
      "Requirement already satisfied: matplotlib-inline>=0.1 in c:\\users\\oldma\\anaconda3\\envs\\datascience\\lib\\site-packages (from ipykernel->jupyter->-r requirements.txt (line 1)) (0.1.7)\n",
      "Requirement already satisfied: nest-asyncio in c:\\users\\oldma\\anaconda3\\envs\\datascience\\lib\\site-packages (from ipykernel->jupyter->-r requirements.txt (line 1)) (1.6.0)\n",
      "Requirement already satisfied: babel>=2.10 in c:\\users\\oldma\\anaconda3\\envs\\datascience\\lib\\site-packages (from jupyterlab-server<3,>=2.27.1->notebook->-r requirements.txt (line 2)) (2.17.0)\n",
      "Requirement already satisfied: json5>=0.9.0 in c:\\users\\oldma\\anaconda3\\envs\\datascience\\lib\\site-packages (from jupyterlab-server<3,>=2.27.1->notebook->-r requirements.txt (line 2)) (0.12.0)\n",
      "Requirement already satisfied: jsonschema>=4.18.0 in c:\\users\\oldma\\anaconda3\\envs\\datascience\\lib\\site-packages (from jupyterlab-server<3,>=2.27.1->notebook->-r requirements.txt (line 2)) (4.23.0)\n",
      "Requirement already satisfied: beautifulsoup4 in c:\\users\\oldma\\anaconda3\\envs\\datascience\\lib\\site-packages (from nbconvert->jupyter->-r requirements.txt (line 1)) (4.13.4)\n",
      "Requirement already satisfied: bleach!=5.0.0 in c:\\users\\oldma\\anaconda3\\envs\\datascience\\lib\\site-packages (from bleach[css]!=5.0.0->nbconvert->jupyter->-r requirements.txt (line 1)) (6.2.0)\n",
      "Requirement already satisfied: defusedxml in c:\\users\\oldma\\anaconda3\\envs\\datascience\\lib\\site-packages (from nbconvert->jupyter->-r requirements.txt (line 1)) (0.7.1)\n",
      "Requirement already satisfied: jupyterlab-pygments in c:\\users\\oldma\\anaconda3\\envs\\datascience\\lib\\site-packages (from nbconvert->jupyter->-r requirements.txt (line 1)) (0.3.0)\n",
      "Requirement already satisfied: markupsafe>=2.0 in c:\\users\\oldma\\anaconda3\\envs\\datascience\\lib\\site-packages (from nbconvert->jupyter->-r requirements.txt (line 1)) (3.0.2)\n",
      "Requirement already satisfied: mistune<4,>=2.0.3 in c:\\users\\oldma\\anaconda3\\envs\\datascience\\lib\\site-packages (from nbconvert->jupyter->-r requirements.txt (line 1)) (3.1.3)\n",
      "Requirement already satisfied: nbclient>=0.5.0 in c:\\users\\oldma\\anaconda3\\envs\\datascience\\lib\\site-packages (from nbconvert->jupyter->-r requirements.txt (line 1)) (0.10.2)\n",
      "Requirement already satisfied: pandocfilters>=1.4.1 in c:\\users\\oldma\\anaconda3\\envs\\datascience\\lib\\site-packages (from nbconvert->jupyter->-r requirements.txt (line 1)) (1.5.1)\n",
      "Requirement already satisfied: pygments>=2.4.1 in c:\\users\\oldma\\anaconda3\\envs\\datascience\\lib\\site-packages (from nbconvert->jupyter->-r requirements.txt (line 1)) (2.19.1)\n",
      "Requirement already satisfied: six>=1.5 in c:\\users\\oldma\\anaconda3\\envs\\datascience\\lib\\site-packages (from python-dateutil>=2.8.2->pandas->-r requirements.txt (line 3)) (1.17.0)\n",
      "Requirement already satisfied: charset-normalizer<4,>=2 in c:\\users\\oldma\\anaconda3\\envs\\datascience\\lib\\site-packages (from requests>=2.23.0->ultralytics->-r requirements.txt (line 12)) (3.4.1)\n",
      "Requirement already satisfied: idna<4,>=2.5 in c:\\users\\oldma\\anaconda3\\envs\\datascience\\lib\\site-packages (from requests>=2.23.0->ultralytics->-r requirements.txt (line 12)) (3.10)\n",
      "Requirement already satisfied: urllib3<3,>=1.21.1 in c:\\users\\oldma\\anaconda3\\envs\\datascience\\lib\\site-packages (from requests>=2.23.0->ultralytics->-r requirements.txt (line 12)) (2.4.0)\n",
      "Requirement already satisfied: certifi>=2017.4.17 in c:\\users\\oldma\\anaconda3\\envs\\datascience\\lib\\site-packages (from requests>=2.23.0->ultralytics->-r requirements.txt (line 12)) (2025.1.31)\n",
      "Requirement already satisfied: filelock in c:\\users\\oldma\\anaconda3\\envs\\datascience\\lib\\site-packages (from torch>=1.8.0->ultralytics->-r requirements.txt (line 12)) (3.18.0)\n",
      "Requirement already satisfied: typing-extensions>=4.10.0 in c:\\users\\oldma\\anaconda3\\envs\\datascience\\lib\\site-packages (from torch>=1.8.0->ultralytics->-r requirements.txt (line 12)) (4.13.2)\n",
      "Requirement already satisfied: sympy>=1.13.3 in c:\\users\\oldma\\anaconda3\\envs\\datascience\\lib\\site-packages (from torch>=1.8.0->ultralytics->-r requirements.txt (line 12)) (1.13.3)\n",
      "Requirement already satisfied: networkx in c:\\users\\oldma\\anaconda3\\envs\\datascience\\lib\\site-packages (from torch>=1.8.0->ultralytics->-r requirements.txt (line 12)) (3.4.2)\n",
      "Requirement already satisfied: fsspec in c:\\users\\oldma\\anaconda3\\envs\\datascience\\lib\\site-packages (from torch>=1.8.0->ultralytics->-r requirements.txt (line 12)) (2025.3.2)\n",
      "Requirement already satisfied: colorama in c:\\users\\oldma\\anaconda3\\envs\\datascience\\lib\\site-packages (from tqdm>=4.64.0->ultralytics->-r requirements.txt (line 12)) (0.4.6)\n",
      "Requirement already satisfied: widgetsnbextension~=4.0.14 in c:\\users\\oldma\\anaconda3\\envs\\datascience\\lib\\site-packages (from ipywidgets->jupyter->-r requirements.txt (line 1)) (4.0.14)\n",
      "Requirement already satisfied: jupyterlab_widgets~=3.0.14 in c:\\users\\oldma\\anaconda3\\envs\\datascience\\lib\\site-packages (from ipywidgets->jupyter->-r requirements.txt (line 1)) (3.0.14)\n",
      "Requirement already satisfied: prompt-toolkit>=3.0.30 in c:\\users\\oldma\\anaconda3\\envs\\datascience\\lib\\site-packages (from jupyter-console->jupyter->-r requirements.txt (line 1)) (3.0.51)\n",
      "Requirement already satisfied: iniconfig in c:\\users\\oldma\\anaconda3\\envs\\datascience\\lib\\site-packages (from pytest->dtreeviz->-r requirements.txt (line 10)) (2.1.0)\n",
      "Requirement already satisfied: pluggy<2,>=1.5 in c:\\users\\oldma\\anaconda3\\envs\\datascience\\lib\\site-packages (from pytest->dtreeviz->-r requirements.txt (line 10)) (1.5.0)\n",
      "Requirement already satisfied: sniffio>=1.1 in c:\\users\\oldma\\anaconda3\\envs\\datascience\\lib\\site-packages (from anyio>=3.1.0->jupyter-server<3,>=2.4.0->notebook->-r requirements.txt (line 2)) (1.3.1)\n",
      "Requirement already satisfied: argon2-cffi-bindings in c:\\users\\oldma\\anaconda3\\envs\\datascience\\lib\\site-packages (from argon2-cffi>=21.1->jupyter-server<3,>=2.4.0->notebook->-r requirements.txt (line 2)) (21.2.0)\n",
      "Requirement already satisfied: webencodings in c:\\users\\oldma\\anaconda3\\envs\\datascience\\lib\\site-packages (from bleach!=5.0.0->bleach[css]!=5.0.0->nbconvert->jupyter->-r requirements.txt (line 1)) (0.5.1)\n",
      "Requirement already satisfied: tinycss2<1.5,>=1.1.0 in c:\\users\\oldma\\anaconda3\\envs\\datascience\\lib\\site-packages (from bleach[css]!=5.0.0->nbconvert->jupyter->-r requirements.txt (line 1)) (1.4.0)\n",
      "Requirement already satisfied: httpcore==1.* in c:\\users\\oldma\\anaconda3\\envs\\datascience\\lib\\site-packages (from httpx>=0.25.0->jupyterlab->jupyter->-r requirements.txt (line 1)) (1.0.8)\n",
      "Requirement already satisfied: h11<0.15,>=0.13 in c:\\users\\oldma\\anaconda3\\envs\\datascience\\lib\\site-packages (from httpcore==1.*->httpx>=0.25.0->jupyterlab->jupyter->-r requirements.txt (line 1)) (0.14.0)\n",
      "Requirement already satisfied: decorator in c:\\users\\oldma\\anaconda3\\envs\\datascience\\lib\\site-packages (from ipython>=7.23.1->ipykernel->jupyter->-r requirements.txt (line 1)) (5.2.1)\n",
      "Requirement already satisfied: ipython-pygments-lexers in c:\\users\\oldma\\anaconda3\\envs\\datascience\\lib\\site-packages (from ipython>=7.23.1->ipykernel->jupyter->-r requirements.txt (line 1)) (1.1.1)\n",
      "Requirement already satisfied: jedi>=0.16 in c:\\users\\oldma\\anaconda3\\envs\\datascience\\lib\\site-packages (from ipython>=7.23.1->ipykernel->jupyter->-r requirements.txt (line 1)) (0.19.2)\n",
      "Requirement already satisfied: stack_data in c:\\users\\oldma\\anaconda3\\envs\\datascience\\lib\\site-packages (from ipython>=7.23.1->ipykernel->jupyter->-r requirements.txt (line 1)) (0.6.3)\n",
      "Requirement already satisfied: attrs>=22.2.0 in c:\\users\\oldma\\anaconda3\\envs\\datascience\\lib\\site-packages (from jsonschema>=4.18.0->jupyterlab-server<3,>=2.27.1->notebook->-r requirements.txt (line 2)) (25.3.0)\n",
      "Requirement already satisfied: jsonschema-specifications>=2023.03.6 in c:\\users\\oldma\\anaconda3\\envs\\datascience\\lib\\site-packages (from jsonschema>=4.18.0->jupyterlab-server<3,>=2.27.1->notebook->-r requirements.txt (line 2)) (2024.10.1)\n",
      "Requirement already satisfied: referencing>=0.28.4 in c:\\users\\oldma\\anaconda3\\envs\\datascience\\lib\\site-packages (from jsonschema>=4.18.0->jupyterlab-server<3,>=2.27.1->notebook->-r requirements.txt (line 2)) (0.36.2)\n",
      "Requirement already satisfied: rpds-py>=0.7.1 in c:\\users\\oldma\\anaconda3\\envs\\datascience\\lib\\site-packages (from jsonschema>=4.18.0->jupyterlab-server<3,>=2.27.1->notebook->-r requirements.txt (line 2)) (0.24.0)\n",
      "Requirement already satisfied: platformdirs>=2.5 in c:\\users\\oldma\\anaconda3\\envs\\datascience\\lib\\site-packages (from jupyter-core!=5.0.*,>=4.12->jupyter-server<3,>=2.4.0->notebook->-r requirements.txt (line 2)) (4.3.7)\n",
      "Requirement already satisfied: pywin32>=300 in c:\\users\\oldma\\anaconda3\\envs\\datascience\\lib\\site-packages (from jupyter-core!=5.0.*,>=4.12->jupyter-server<3,>=2.4.0->notebook->-r requirements.txt (line 2)) (310)\n",
      "Requirement already satisfied: python-json-logger>=2.0.4 in c:\\users\\oldma\\anaconda3\\envs\\datascience\\lib\\site-packages (from jupyter-events>=0.11.0->jupyter-server<3,>=2.4.0->notebook->-r requirements.txt (line 2)) (3.3.0)\n",
      "Requirement already satisfied: rfc3339-validator in c:\\users\\oldma\\anaconda3\\envs\\datascience\\lib\\site-packages (from jupyter-events>=0.11.0->jupyter-server<3,>=2.4.0->notebook->-r requirements.txt (line 2)) (0.1.4)\n",
      "Requirement already satisfied: rfc3986-validator>=0.1.1 in c:\\users\\oldma\\anaconda3\\envs\\datascience\\lib\\site-packages (from jupyter-events>=0.11.0->jupyter-server<3,>=2.4.0->notebook->-r requirements.txt (line 2)) (0.1.1)\n",
      "Requirement already satisfied: fastjsonschema>=2.15 in c:\\users\\oldma\\anaconda3\\envs\\datascience\\lib\\site-packages (from nbformat>=5.3.0->jupyter-server<3,>=2.4.0->notebook->-r requirements.txt (line 2)) (2.21.1)\n",
      "Requirement already satisfied: wcwidth in c:\\users\\oldma\\anaconda3\\envs\\datascience\\lib\\site-packages (from prompt-toolkit>=3.0.30->jupyter-console->jupyter->-r requirements.txt (line 1)) (0.2.13)\n",
      "Requirement already satisfied: mpmath<1.4,>=1.1.0 in c:\\users\\oldma\\anaconda3\\envs\\datascience\\lib\\site-packages (from sympy>=1.13.3->torch>=1.8.0->ultralytics->-r requirements.txt (line 12)) (1.3.0)\n",
      "Requirement already satisfied: soupsieve>1.2 in c:\\users\\oldma\\anaconda3\\envs\\datascience\\lib\\site-packages (from beautifulsoup4->nbconvert->jupyter->-r requirements.txt (line 1)) (2.7)\n",
      "Requirement already satisfied: parso<0.9.0,>=0.8.4 in c:\\users\\oldma\\anaconda3\\envs\\datascience\\lib\\site-packages (from jedi>=0.16->ipython>=7.23.1->ipykernel->jupyter->-r requirements.txt (line 1)) (0.8.4)\n",
      "Requirement already satisfied: fqdn in c:\\users\\oldma\\anaconda3\\envs\\datascience\\lib\\site-packages (from jsonschema[format-nongpl]>=4.18.0->jupyter-events>=0.11.0->jupyter-server<3,>=2.4.0->notebook->-r requirements.txt (line 2)) (1.5.1)\n",
      "Requirement already satisfied: isoduration in c:\\users\\oldma\\anaconda3\\envs\\datascience\\lib\\site-packages (from jsonschema[format-nongpl]>=4.18.0->jupyter-events>=0.11.0->jupyter-server<3,>=2.4.0->notebook->-r requirements.txt (line 2)) (20.11.0)\n",
      "Requirement already satisfied: jsonpointer>1.13 in c:\\users\\oldma\\anaconda3\\envs\\datascience\\lib\\site-packages (from jsonschema[format-nongpl]>=4.18.0->jupyter-events>=0.11.0->jupyter-server<3,>=2.4.0->notebook->-r requirements.txt (line 2)) (3.0.0)\n",
      "Requirement already satisfied: uri-template in c:\\users\\oldma\\anaconda3\\envs\\datascience\\lib\\site-packages (from jsonschema[format-nongpl]>=4.18.0->jupyter-events>=0.11.0->jupyter-server<3,>=2.4.0->notebook->-r requirements.txt (line 2)) (1.3.0)\n",
      "Requirement already satisfied: webcolors>=24.6.0 in c:\\users\\oldma\\anaconda3\\envs\\datascience\\lib\\site-packages (from jsonschema[format-nongpl]>=4.18.0->jupyter-events>=0.11.0->jupyter-server<3,>=2.4.0->notebook->-r requirements.txt (line 2)) (24.11.1)\n",
      "Requirement already satisfied: cffi>=1.0.1 in c:\\users\\oldma\\anaconda3\\envs\\datascience\\lib\\site-packages (from argon2-cffi-bindings->argon2-cffi>=21.1->jupyter-server<3,>=2.4.0->notebook->-r requirements.txt (line 2)) (1.17.1)\n",
      "Requirement already satisfied: executing>=1.2.0 in c:\\users\\oldma\\anaconda3\\envs\\datascience\\lib\\site-packages (from stack_data->ipython>=7.23.1->ipykernel->jupyter->-r requirements.txt (line 1)) (2.2.0)\n",
      "Requirement already satisfied: asttokens>=2.1.0 in c:\\users\\oldma\\anaconda3\\envs\\datascience\\lib\\site-packages (from stack_data->ipython>=7.23.1->ipykernel->jupyter->-r requirements.txt (line 1)) (3.0.0)\n",
      "Requirement already satisfied: pure-eval in c:\\users\\oldma\\anaconda3\\envs\\datascience\\lib\\site-packages (from stack_data->ipython>=7.23.1->ipykernel->jupyter->-r requirements.txt (line 1)) (0.2.3)\n",
      "Requirement already satisfied: pycparser in c:\\users\\oldma\\anaconda3\\envs\\datascience\\lib\\site-packages (from cffi>=1.0.1->argon2-cffi-bindings->argon2-cffi>=21.1->jupyter-server<3,>=2.4.0->notebook->-r requirements.txt (line 2)) (2.22)\n",
      "Requirement already satisfied: arrow>=0.15.0 in c:\\users\\oldma\\anaconda3\\envs\\datascience\\lib\\site-packages (from isoduration->jsonschema[format-nongpl]>=4.18.0->jupyter-events>=0.11.0->jupyter-server<3,>=2.4.0->notebook->-r requirements.txt (line 2)) (1.3.0)\n",
      "Requirement already satisfied: types-python-dateutil>=2.8.10 in c:\\users\\oldma\\anaconda3\\envs\\datascience\\lib\\site-packages (from arrow>=0.15.0->isoduration->jsonschema[format-nongpl]>=4.18.0->jupyter-events>=0.11.0->jupyter-server<3,>=2.4.0->notebook->-r requirements.txt (line 2)) (2.9.0.20241206)\n",
      "Note: you may need to restart the kernel to use updated packages.\n"
     ]
    }
   ],
   "source": [
    "pip install -r requirements.txt"
   ]
  },
  {
   "cell_type": "markdown",
   "metadata": {},
   "source": [
    "# Uniform distribution"
   ]
  },
  {
   "cell_type": "markdown",
   "metadata": {},
   "source": [
    "## Rolling a 6-sided die"
   ]
  },
  {
   "cell_type": "markdown",
   "metadata": {},
   "source": [
    "![](https://wherethewindsblow.com/wp-content/uploads/2023/06/JUMBO-Six-sided-white-dice.jpg)"
   ]
  },
  {
   "cell_type": "markdown",
   "metadata": {},
   "source": [
    "We are simulating the process of rolling a standard six-sided die. Each roll produces a random integer between 1 and 6, with all outcomes being equally likely. By generating multiple samples within this range, we can observe how the distribution of results begins to resemble a uniform distribution as the number of rolls increases."
   ]
  },
  {
   "cell_type": "code",
   "execution_count": 26,
   "metadata": {},
   "outputs": [],
   "source": [
    "minValue = 1 #  \n",
    "maxValue = 6 # Maximum value of the dice\n",
    "numberOfSamples = 6000 # Increase number to show that it converges to a uniform distribution"
   ]
  },
  {
   "cell_type": "markdown",
   "metadata": {},
   "source": [
    "Now we simulate rolling the die ```numberOfSamples``` times:\n",
    "If you rerun the script you can see that the values change, just like a 'real' die."
   ]
  },
  {
   "cell_type": "code",
   "execution_count": 27,
   "metadata": {},
   "outputs": [
    {
     "data": {
      "text/plain": [
       "0       1\n",
       "1       2\n",
       "2       5\n",
       "3       3\n",
       "4       2\n",
       "       ..\n",
       "5995    3\n",
       "5996    5\n",
       "5997    5\n",
       "5998    6\n",
       "5999    1\n",
       "Length: 6000, dtype: int32"
      ]
     },
     "execution_count": 27,
     "metadata": {},
     "output_type": "execute_result"
    }
   ],
   "source": [
    "import pandas as pd \n",
    "import numpy as np\n",
    "\n",
    "results = pd.Series( np.random.randint(low=minValue, high=maxValue + 1, size=numberOfSamples) )\n",
    "results"
   ]
  },
  {
   "cell_type": "code",
   "execution_count": 28,
   "metadata": {},
   "outputs": [
    {
     "data": {
      "text/plain": [
       "<Axes: >"
      ]
     },
     "execution_count": 28,
     "metadata": {},
     "output_type": "execute_result"
    },
    {
     "data": {
      "image/png": "[encoded data removed]",
      "text/plain": [
       "<Figure size 640x480 with 1 Axes>"
      ]
     },
     "metadata": {},
     "output_type": "display_data"
    }
   ],
   "source": [
    "results.value_counts().sort_index().plot(kind='bar')"
   ]
  },
  {
   "cell_type": "markdown",
   "metadata": {},
   "source": [
    "## Normal distribution"
   ]
  },
  {
   "cell_type": "markdown",
   "metadata": {},
   "source": [
    "### Sampling from the average length of  a full-grown citizen in the Netherlands."
   ]
  },
  {
   "cell_type": "code",
   "execution_count": 29,
   "metadata": {},
   "outputs": [],
   "source": [
    "averageLength = 174.25 # Average length of a person in cm\n",
    "stdLength = 8 # Standard deviation of the length of a person in cm\n",
    "numberOfPeopleToSample = 3000 # Play with these values to show the impact on the histogram"
   ]
  },
  {
   "cell_type": "code",
   "execution_count": 30,
   "metadata": {},
   "outputs": [
    {
     "data": {
      "text/plain": [
       "0    164.346928\n",
       "1    187.511933\n",
       "2    172.951902\n",
       "3    174.549798\n",
       "4    162.912538\n",
       "dtype: float64"
      ]
     },
     "execution_count": 30,
     "metadata": {},
     "output_type": "execute_result"
    }
   ],
   "source": [
    "randomLengths = pd.Series( np.random.normal(averageLength, stdLength, numberOfPeopleToSample) )\n",
    "randomLengths.head()"
   ]
  },
  {
   "cell_type": "code",
   "execution_count": 31,
   "metadata": {},
   "outputs": [
    {
     "data": {
      "text/plain": [
       "<Axes: ylabel='Frequency'>"
      ]
     },
     "execution_count": 31,
     "metadata": {},
     "output_type": "execute_result"
    },
    {
     "data": {
      "image/png": "[encoded data removed]",
      "text/plain": [
       "<Figure size 640x480 with 1 Axes>"
      ]
     },
     "metadata": {},
     "output_type": "display_data"
    }
   ],
   "source": [
    "randomLengths.plot(kind='hist', bins=10)"
   ]
  },
  {
   "cell_type": "markdown",
   "metadata": {},
   "source": [
    "![](https://upload.wikimedia.org/wikipedia/commons/8/8c/Standard_deviation_diagram.svg 'Normal distribution')"
   ]
  },
  {
   "cell_type": "markdown",
   "metadata": {},
   "source": [
    "### Examples of normal distribution in real life\n",
    "- https://studiousguy.com/real-life-examples-normal-distribution/\n",
    "- https://galtonboard.com/probabilityexamplesinlife"
   ]
  },
  {
   "cell_type": "markdown",
   "metadata": {},
   "source": [
    "### Central limit theorem\n",
    "\n",
    "**What is the Central Limit Theorem?**\n",
    "In simple terms:\n",
    "\n",
    "If you take many random samples of a certain size from any population, and calculate the mean of each sample, then the distribution of those sample means will:\n",
    "- Be approximately normal (bell-shaped)\n",
    "- Have the same average as the original population\n",
    "- Have a smaller spread (standard deviation gets smaller as sample size increases)\n",
    "- Even if the original data is not normally distributed!\n",
    "\n",
    "**Why is this useful?**\n",
    "Because it lets us:\n",
    "- Use normal distribution tools (like confidence intervals) on data that isn't normal\n",
    "- Make predictions and inferences about population averages\n",
    "- Justify why the mean is a reliable estimate with large samples\n",
    "\n"
   ]
  },
  {
   "cell_type": "code",
   "execution_count": 32,
   "metadata": {},
   "outputs": [],
   "source": [
    "sampleMeans = []\n",
    "sampleSize = 100\n",
    "sampleMeansSize = 100 # 10000\n",
    "\n",
    "for i in range(sampleMeansSize):\n",
    "    randomLengths = pd.Series( np.random.normal(averageLength, stdLength, sampleSize) )\n",
    "    sampleMeans.append(randomLengths.mean())"
   ]
  },
  {
   "cell_type": "code",
   "execution_count": 33,
   "metadata": {},
   "outputs": [
    {
     "data": {
      "text/plain": [
       "[np.float64(175.43641745621582),\n",
       " np.float64(174.0884507491837),\n",
       " np.float64(175.08375419134572),\n",
       " np.float64(174.33775841244685),\n",
       " np.float64(174.21998891556947),\n",
       " np.float64(173.64466676251968),\n",
       " np.float64(173.63153139959522),\n",
       " np.float64(174.54258209647895),\n",
       " np.float64(173.38085978954481),\n",
       " np.float64(173.61820191182196),\n",
       " np.float64(173.42041769528703),\n",
       " np.float64(173.7575907816728),\n",
       " np.float64(175.05490767339688),\n",
       " np.float64(174.69857580399656),\n",
       " np.float64(173.78020875853142),\n",
       " np.float64(175.6335593153056),\n",
       " np.float64(174.587679488278),\n",
       " np.float64(174.51056754499626),\n",
       " np.float64(175.60307750241935),\n",
       " np.float64(173.6221350837578),\n",
       " np.float64(173.9837215011632),\n",
       " np.float64(172.91893093097534),\n",
       " np.float64(174.15394257735173),\n",
       " np.float64(174.1591040332794),\n",
       " np.float64(174.39964638182246),\n",
       " np.float64(174.14338890312155),\n",
       " np.float64(174.08115700256496),\n",
       " np.float64(174.75706626769875),\n",
       " np.float64(173.03966991029796),\n",
       " np.float64(173.09589945955585),\n",
       " np.float64(173.16369966905233),\n",
       " np.float64(173.69686794229187),\n",
       " np.float64(173.090427355668),\n",
       " np.float64(174.4538040457344),\n",
       " np.float64(175.49498494338536),\n",
       " np.float64(174.70253797517648),\n",
       " np.float64(174.36427086348786),\n",
       " np.float64(174.32035457627285),\n",
       " np.float64(173.2170110664283),\n",
       " np.float64(173.3911811996811),\n",
       " np.float64(175.11124727540525),\n",
       " np.float64(173.0215272671168),\n",
       " np.float64(172.80059000427084),\n",
       " np.float64(174.38440261986332),\n",
       " np.float64(174.02253550401375),\n",
       " np.float64(174.28169965256308),\n",
       " np.float64(174.12710218078377),\n",
       " np.float64(175.28672339705835),\n",
       " np.float64(175.2263153210971),\n",
       " np.float64(174.46750517489204),\n",
       " np.float64(173.86364982576174),\n",
       " np.float64(173.653166644715),\n",
       " np.float64(174.5322725360281),\n",
       " np.float64(174.15176247239486),\n",
       " np.float64(173.49545023572645),\n",
       " np.float64(175.0857093338392),\n",
       " np.float64(172.21959343705709),\n",
       " np.float64(174.44635019346202),\n",
       " np.float64(174.74872664513086),\n",
       " np.float64(174.64508384641675),\n",
       " np.float64(173.5319066403723),\n",
       " np.float64(175.47295722232514),\n",
       " np.float64(172.8903879008397),\n",
       " np.float64(174.99643281061782),\n",
       " np.float64(174.92512638850167),\n",
       " np.float64(173.6531243102021),\n",
       " np.float64(174.21481777325747),\n",
       " np.float64(173.22995590364945),\n",
       " np.float64(173.96443255653298),\n",
       " np.float64(174.35393317402912),\n",
       " np.float64(173.3708017575987),\n",
       " np.float64(173.90560700501425),\n",
       " np.float64(174.40734936917192),\n",
       " np.float64(174.23420530722638),\n",
       " np.float64(173.4010201490235),\n",
       " np.float64(174.5919863733607),\n",
       " np.float64(173.66025314137417),\n",
       " np.float64(174.27087017727922),\n",
       " np.float64(174.39604996327733),\n",
       " np.float64(175.0407551498911),\n",
       " np.float64(174.34653231797472),\n",
       " np.float64(175.34766098717554),\n",
       " np.float64(173.2869018659953),\n",
       " np.float64(174.17419249179213),\n",
       " np.float64(173.91888690138538),\n",
       " np.float64(173.1339375402706),\n",
       " np.float64(173.89646424629606),\n",
       " np.float64(175.180376949656),\n",
       " np.float64(175.79060118889487),\n",
       " np.float64(173.870430989753),\n",
       " np.float64(173.92239877142748),\n",
       " np.float64(174.95143272611105),\n",
       " np.float64(175.67441863814167),\n",
       " np.float64(174.8771105697462),\n",
       " np.float64(174.9230910893101),\n",
       " np.float64(174.8181046981733),\n",
       " np.float64(173.8085996332238),\n",
       " np.float64(173.4137086904216),\n",
       " np.float64(173.17151775362018),\n",
       " np.float64(174.9448564596861)]"
      ]
     },
     "execution_count": 33,
     "metadata": {},
     "output_type": "execute_result"
    }
   ],
   "source": [
    "sampleMeans"
   ]
  },
  {
   "cell_type": "code",
   "execution_count": 34,
   "metadata": {},
   "outputs": [
    {
     "data": {
      "text/plain": [
       "<Axes: ylabel='Frequency'>"
      ]
     },
     "execution_count": 34,
     "metadata": {},
     "output_type": "execute_result"
    },
    {
     "data": {
      "image/png": "[encoded data removed]",
      "text/plain": [
       "<Figure size 640x480 with 1 Axes>"
      ]
     },
     "metadata": {},
     "output_type": "display_data"
    }
   ],
   "source": [
    "pd.Series(sampleMeans).plot(kind='hist', bins = 10)"
   ]
  },
  {
   "cell_type": "code",
   "execution_count": 35,
   "metadata": {},
   "outputs": [],
   "source": [
    "sampleMeans = []\n",
    "sampleSize = 100\n",
    "sampleMeansSize = 10000\n",
    "\n",
    "for i in range(sampleMeansSize):\n",
    "    randomRolls = pd.Series( np.random.randint(low=minValue, high=maxValue + 1, size=sampleSize) )\n",
    "    sampleMeans.append(randomRolls.mean())"
   ]
  },
  {
   "cell_type": "code",
   "execution_count": 36,
   "metadata": {},
   "outputs": [
    {
     "data": {
      "text/plain": [
       "<Axes: ylabel='Frequency'>"
      ]
     },
     "execution_count": 36,
     "metadata": {},
     "output_type": "execute_result"
    },
    {
     "data": {
      "image/png": "[encoded data removed]",
      "text/plain": [
       "<Figure size 640x480 with 1 Axes>"
      ]
     },
     "metadata": {},
     "output_type": "display_data"
    }
   ],
   "source": [
    "pd.Series(sampleMeans).plot(kind='hist', bins = 25)"
   ]
  },
  {
   "cell_type": "markdown",
   "metadata": {},
   "source": [
    "### Confidence interval"
   ]
  },
  {
   "cell_type": "markdown",
   "metadata": {},
   "source": [
    "**What is a Confidence Interval?**\n",
    "A confidence interval is a range of values that we believe is likely to contain the true population parameter (like the mean or proportion), based on a sample.\n",
    "\n",
    "Usually, we talk about the **mean**, so let’s focus on that:\n",
    "\n",
    "A 95% confidence interval for the mean says:\n",
    "“We are 95% confident that the true population mean lies within this range.”\n",
    "\n",
    "\n",
    "![](https://datatab.net/assets/tutorial/confidence_interval.png)"
   ]
  },
  {
   "cell_type": "markdown",
   "metadata": {},
   "source": [
    "![](https://datatab.net/assets/tutorial/Confidence_interval_formula.png)"
   ]
  },
  {
   "cell_type": "markdown",
   "metadata": {},
   "source": [
    "So let's reconsider one sample. Based on this one sample, what can we say about the mean of the underlying population?"
   ]
  },
  {
   "cell_type": "code",
   "execution_count": 37,
   "metadata": {},
   "outputs": [
    {
     "data": {
      "text/plain": [
       "(np.float64(173.1627421616358), np.float64(176.72697075773638))"
      ]
     },
     "execution_count": 37,
     "metadata": {},
     "output_type": "execute_result"
    }
   ],
   "source": [
    "import scipy.stats as st\n",
    "confidence = 0.95\n",
    "st.t.interval(confidence, len(randomLengths)-1, loc=randomLengths.mean(), scale=st.sem(randomLengths))"
   ]
  },
  {
   "cell_type": "markdown",
   "metadata": {},
   "source": [
    "And how about rolling a dice?"
   ]
  },
  {
   "cell_type": "code",
   "execution_count": 38,
   "metadata": {},
   "outputs": [
    {
     "data": {
      "text/plain": [
       "(np.float64(3.392918995956196), np.float64(4.0670810040438035))"
      ]
     },
     "execution_count": 38,
     "metadata": {},
     "output_type": "execute_result"
    }
   ],
   "source": [
    "import scipy.stats as st\n",
    "confidence = 0.95\n",
    "st.t.interval(confidence, len(randomRolls)-1, loc=randomRolls.mean(), scale=st.sem(randomRolls))"
   ]
  },
  {
   "cell_type": "markdown",
   "metadata": {},
   "source": [
    "Let's apply this to the iris dataset. What is the 95% confidence interval of the sepal_length? Meaning, let's calculate the interval that contains the real mean sepal length with 95% confidence."
   ]
  },
  {
   "cell_type": "code",
   "execution_count": 39,
   "metadata": {},
   "outputs": [
    {
     "data": {
      "text/html": [
       "<div>\n",
       "<style scoped>\n",
       "    .dataframe tbody tr th:only-of-type {\n",
       "        vertical-align: middle;\n",
       "    }\n",
       "\n",
       "    .dataframe tbody tr th {\n",
       "        vertical-align: top;\n",
       "    }\n",
       "\n",
       "    .dataframe thead th {\n",
       "        text-align: right;\n",
       "    }\n",
       "</style>\n",
       "<table border=\"1\" class=\"dataframe\">\n",
       "  <thead>\n",
       "    <tr style=\"text-align: right;\">\n",
       "      <th></th>\n",
       "      <th>sepal_length</th>\n",
       "      <th>sepal_width</th>\n",
       "      <th>petal_length</th>\n",
       "      <th>petal_width</th>\n",
       "      <th>species</th>\n",
       "    </tr>\n",
       "  </thead>\n",
       "  <tbody>\n",
       "    <tr>\n",
       "      <th>0</th>\n",
       "      <td>5.1</td>\n",
       "      <td>3.5</td>\n",
       "      <td>1.4</td>\n",
       "      <td>0.2</td>\n",
       "      <td>setosa</td>\n",
       "    </tr>\n",
       "    <tr>\n",
       "      <th>1</th>\n",
       "      <td>4.9</td>\n",
       "      <td>3.0</td>\n",
       "      <td>1.4</td>\n",
       "      <td>0.2</td>\n",
       "      <td>setosa</td>\n",
       "    </tr>\n",
       "    <tr>\n",
       "      <th>2</th>\n",
       "      <td>4.7</td>\n",
       "      <td>3.2</td>\n",
       "      <td>1.3</td>\n",
       "      <td>0.2</td>\n",
       "      <td>setosa</td>\n",
       "    </tr>\n",
       "    <tr>\n",
       "      <th>3</th>\n",
       "      <td>4.6</td>\n",
       "      <td>3.1</td>\n",
       "      <td>1.5</td>\n",
       "      <td>0.2</td>\n",
       "      <td>setosa</td>\n",
       "    </tr>\n",
       "    <tr>\n",
       "      <th>4</th>\n",
       "      <td>5.0</td>\n",
       "      <td>3.6</td>\n",
       "      <td>1.4</td>\n",
       "      <td>0.2</td>\n",
       "      <td>setosa</td>\n",
       "    </tr>\n",
       "  </tbody>\n",
       "</table>\n",
       "</div>"
      ],
      "text/plain": [
       "   sepal_length  sepal_width  petal_length  petal_width species\n",
       "0           5.1          3.5           1.4          0.2  setosa\n",
       "1           4.9          3.0           1.4          0.2  setosa\n",
       "2           4.7          3.2           1.3          0.2  setosa\n",
       "3           4.6          3.1           1.5          0.2  setosa\n",
       "4           5.0          3.6           1.4          0.2  setosa"
      ]
     },
     "execution_count": 39,
     "metadata": {},
     "output_type": "execute_result"
    }
   ],
   "source": [
    "import seaborn as sns\n",
    "iris = sns.load_dataset(\"iris\")\n",
    "iris.head()"
   ]
  },
  {
   "cell_type": "code",
   "execution_count": 40,
   "metadata": {},
   "outputs": [
    {
     "data": {
      "text/plain": [
       "(np.float64(5.709732481507366), np.float64(5.976934185159301))"
      ]
     },
     "execution_count": 40,
     "metadata": {},
     "output_type": "execute_result"
    }
   ],
   "source": [
    "import scipy.stats as st\n",
    "confidence = 0.95\n",
    "st.t.interval(confidence, len(iris)-1, loc=iris['sepal_length'].mean(), scale=st.sem(iris['sepal_length']))"
   ]
  },
  {
   "cell_type": "markdown",
   "metadata": {},
   "source": [
    "### Portfolio assignment 7\n",
    "15 min: Look at the histogram of at least 2 columns with numerical data in the dataset that you chose in portfolio assignment 4. Do you recognise the distribution? Does it look like a uniform or normal distribution or something else? If it doesn't look like a uniform or normal distribution, take a quick look here to see if you can find the distribution shape: https://www.itl.nist.gov/div898/handbook/eda/section3/eda366.htm\n"
   ]
  },
  {
   "cell_type": "markdown",
   "metadata": {},
   "source": [
    "![](https://i.imgur.com/0v1CGNV.png)<br>\n",
    "Findings: ...<br>"
   ]
  },
  {
   "cell_type": "markdown",
   "metadata": {},
   "source": [
    "### Portfolio assignment 8\n",
    "15 min: \n",
    "- Calculate the 90%, 95%, 99% and 99.99% confidence int for at least 2 columns with numerical data in the dataset that you chose in portfolio assignment 4. Do you see the impact the confidence has on the interval?\n",
    "- Now calculate the 95% confidence interval again but use only the first 10% of your rows. Compare this interval to the previous 95% confidence interval you calculated. Do you see the impact of having less data?"
   ]
  },
  {
   "cell_type": "markdown",
   "metadata": {},
   "source": [
    "![](https://i.imgur.com/0v1CGNV.png)<br>\n",
    "Assumptions: ...<br>\n",
    "Findings: ...<br>"
   ]
  },
  {
   "cell_type": "markdown",
   "metadata": {},
   "source": []
  }
 ],
 "metadata": {
  "kernelspec": {
   "display_name": "Python 3 (ipykernel)",
   "language": "python",
   "name": "python3"
  },
  "language_info": {
   "codemirror_mode": {
    "name": "ipython",
    "version": 3
   },
   "file_extension": ".py",
   "mimetype": "text/x-python",
   "name": "python",
   "nbconvert_exporter": "python",
   "pygments_lexer": "ipython3",
   "version": "3.13.2"
  }
 },
 "nbformat": 4,
 "nbformat_minor": 4
}
