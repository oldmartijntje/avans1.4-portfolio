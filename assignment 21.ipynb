{
 "cells": [
  {
   "metadata": {},
   "cell_type": "markdown",
   "source": "# Gemaakt op 20/05/2025 door martijn",
   "id": "7cc94336308f6874"
  },
  {
   "metadata": {
    "ExecuteTime": {
     "end_time": "2025-05-20T08:00:17.441192Z",
     "start_time": "2025-05-20T08:00:16.531330Z"
    }
   },
   "cell_type": "code",
   "source": [
    "import pandas as pd\n",
    "import seaborn as sns\n",
    "import numpy as np\n",
    "import scipy.stats as st\n",
    "from sklearn.model_selection import train_test_split\n",
    "from sklearn.tree import DecisionTreeClassifier\n",
    "from sklearn import tree\n",
    "import graphviz\n",
    "from sklearn.tree import DecisionTreeRegressor\n",
    "from sklearn.ensemble import RandomForestClassifier\n",
    "from fpdf import FPDF\n",
    "from sklearn.datasets import load_iris\n",
    "from sklearn.neural_network import MLPClassifier\n",
    "from sklearn.model_selection import train_test_split\n",
    "from sklearn.preprocessing import StandardScaler\n",
    "from sklearn.metrics import accuracy_score"
   ],
   "id": "8458724ca6657ca3",
   "outputs": [],
   "execution_count": 1
  },
  {
   "metadata": {
    "ExecuteTime": {
     "end_time": "2025-05-20T08:00:17.710069Z",
     "start_time": "2025-05-20T08:00:17.705769Z"
    }
   },
   "cell_type": "code",
   "source": "# the imported functions",
   "id": "ec07f639374a71c5",
   "outputs": [],
   "execution_count": 2
  },
  {
   "metadata": {},
   "cell_type": "markdown",
   "source": [
    "### Portfolio assignment 21\n",
    "30 min: Train a perceptron to predict one of the categorical columns of your own dataset.\n",
    "- Prepare the data:<br>\n",
    "    - <b>Note</b>: Some machine learning algorithms can not handle missing values. You will either need to:\n",
    "         - replace missing values (with the mean or most popular value). For replacing missing values you can use .fillna(\\<value\\>) https://pandas.pydata.org/docs/reference/api/pandas.Series.fillna.html\n",
    "         - remove rows with missing data.  You can remove rows with missing data with .dropna() https://pandas.pydata.org/pandas-docs/stable/reference/api/pandas.DataFrame.dropna.html <br>\n",
    "    - <b>Note</b>: Some machine learning algorithms can not handle categorical values. You will either need to:\n",
    "        -  To handle categorical data, you can use One-Hot Encoding to convert categories into binary columns with .get_dummies(<value(s)>). This creates a new column for each category\n",
    "- Split your dataset into training (70%) and testing (30%) sets.\n",
    "- Use your Perceptron to make predictions for both the train and test set.<br>\n",
    "<br>\n",
    "\n",
    "![](https://i.imgur.com/0v1CGNV.png)<br>\n",
    "- Fit a Perceptron model using your own selected feature columns.\n",
    "- Fine-tune the learning rate and epochs (max iterations).\n",
    "- Calculate the accuracy for both the train set predictions and test set predictions, what happens per iteration?\n",
    "- Is the accurracy different? Did you expect this difference?\n",
    "\n",
    "Optional: Perform the same tasks but change the hidden_layer_sizes <br>\n",
    "\n",
    "Findings: ...<br>"
   ],
   "id": "753fc7bde331c381"
  },
  {
   "metadata": {},
   "cell_type": "markdown",
   "source": "i still assume there is no link, so we will see.",
   "id": "34a339bfca30bcb0"
  },
  {
   "metadata": {
    "ExecuteTime": {
     "end_time": "2025-05-20T08:07:01.648466Z",
     "start_time": "2025-05-20T08:07:01.371778Z"
    }
   },
   "cell_type": "code",
   "source": [
    "games = pd.read_csv(\"./games.csv\")\n",
    "games['positive_ratio'] = games['positive_ratio'].fillna(games['positive_ratio'].mean())\n",
    "games['user_reviews'] = games['user_reviews'].fillna(games['user_reviews'].mean())\n",
    "games['price_final'] = games['price_final'].fillna(games['price_final'].mean())\n",
    "games['price_original'] = games['price_original'].fillna(games['price_original'].mean())\n",
    "games['discount'] = games['discount'].fillna(games['discount'].mean())\n",
    "games"
   ],
   "id": "41dde85c8c2cb36f",
   "outputs": [
    {
     "data": {
      "text/plain": [
       "        app_id                                      title date_release   win  \\\n",
       "0        13500          Prince of Persia: Warrior Within™   2008-11-21  True   \n",
       "1        22364                    BRINK: Agents of Change   2011-08-03  True   \n",
       "2       113020               Monaco: What's Yours Is Mine   2013-04-24  True   \n",
       "3       226560                         Escape Dead Island   2014-11-18  True   \n",
       "4       249050                    Dungeon of the ENDLESS™   2014-10-27  True   \n",
       "...        ...                                        ...          ...   ...   \n",
       "50867  2296380  I Expect You To Die 3: Cog in the Machine   2023-09-28  True   \n",
       "50868  1272080                                   PAYDAY 3   2023-09-21  True   \n",
       "50869  1402110                                 Eternights   2023-09-11  True   \n",
       "50870  2272250                        Forgive Me Father 2   2023-10-19  True   \n",
       "50871  2488510                                  FatalZone   2023-10-23  True   \n",
       "\n",
       "         mac  linux           rating  positive_ratio  user_reviews  \\\n",
       "0      False  False    Very Positive              84          2199   \n",
       "1      False  False         Positive              85            21   \n",
       "2       True   True    Very Positive              92          3722   \n",
       "3      False  False            Mixed              61           873   \n",
       "4       True  False    Very Positive              88          8784   \n",
       "...      ...    ...              ...             ...           ...   \n",
       "50867  False  False    Very Positive              96           101   \n",
       "50868  False  False  Mostly Negative              38         29458   \n",
       "50869  False  False    Very Positive              89          1128   \n",
       "50870  False  False    Very Positive              95            82   \n",
       "50871  False  False    Very Positive              88           144   \n",
       "\n",
       "       price_final  price_original  discount  steam_deck  \n",
       "0             9.99            9.99       0.0        True  \n",
       "1             2.99            2.99       0.0        True  \n",
       "2            14.99           14.99       0.0        True  \n",
       "3            14.99           14.99       0.0        True  \n",
       "4            11.99           11.99       0.0        True  \n",
       "...            ...             ...       ...         ...  \n",
       "50867        22.00            0.00       0.0        True  \n",
       "50868        40.00            0.00       0.0        True  \n",
       "50869        30.00            0.00       0.0        True  \n",
       "50870        17.00            0.00       0.0        True  \n",
       "50871         4.00            0.00       0.0        True  \n",
       "\n",
       "[50872 rows x 13 columns]"
      ],
      "text/html": [
       "<div>\n",
       "<style scoped>\n",
       "    .dataframe tbody tr th:only-of-type {\n",
       "        vertical-align: middle;\n",
       "    }\n",
       "\n",
       "    .dataframe tbody tr th {\n",
       "        vertical-align: top;\n",
       "    }\n",
       "\n",
       "    .dataframe thead th {\n",
       "        text-align: right;\n",
       "    }\n",
       "</style>\n",
       "<table border=\"1\" class=\"dataframe\">\n",
       "  <thead>\n",
       "    <tr style=\"text-align: right;\">\n",
       "      <th></th>\n",
       "      <th>app_id</th>\n",
       "      <th>title</th>\n",
       "      <th>date_release</th>\n",
       "      <th>win</th>\n",
       "      <th>mac</th>\n",
       "      <th>linux</th>\n",
       "      <th>rating</th>\n",
       "      <th>positive_ratio</th>\n",
       "      <th>user_reviews</th>\n",
       "      <th>price_final</th>\n",
       "      <th>price_original</th>\n",
       "      <th>discount</th>\n",
       "      <th>steam_deck</th>\n",
       "    </tr>\n",
       "  </thead>\n",
       "  <tbody>\n",
       "    <tr>\n",
       "      <th>0</th>\n",
       "      <td>13500</td>\n",
       "      <td>Prince of Persia: Warrior Within™</td>\n",
       "      <td>2008-11-21</td>\n",
       "      <td>True</td>\n",
       "      <td>False</td>\n",
       "      <td>False</td>\n",
       "      <td>Very Positive</td>\n",
       "      <td>84</td>\n",
       "      <td>2199</td>\n",
       "      <td>9.99</td>\n",
       "      <td>9.99</td>\n",
       "      <td>0.0</td>\n",
       "      <td>True</td>\n",
       "    </tr>\n",
       "    <tr>\n",
       "      <th>1</th>\n",
       "      <td>22364</td>\n",
       "      <td>BRINK: Agents of Change</td>\n",
       "      <td>2011-08-03</td>\n",
       "      <td>True</td>\n",
       "      <td>False</td>\n",
       "      <td>False</td>\n",
       "      <td>Positive</td>\n",
       "      <td>85</td>\n",
       "      <td>21</td>\n",
       "      <td>2.99</td>\n",
       "      <td>2.99</td>\n",
       "      <td>0.0</td>\n",
       "      <td>True</td>\n",
       "    </tr>\n",
       "    <tr>\n",
       "      <th>2</th>\n",
       "      <td>113020</td>\n",
       "      <td>Monaco: What's Yours Is Mine</td>\n",
       "      <td>2013-04-24</td>\n",
       "      <td>True</td>\n",
       "      <td>True</td>\n",
       "      <td>True</td>\n",
       "      <td>Very Positive</td>\n",
       "      <td>92</td>\n",
       "      <td>3722</td>\n",
       "      <td>14.99</td>\n",
       "      <td>14.99</td>\n",
       "      <td>0.0</td>\n",
       "      <td>True</td>\n",
       "    </tr>\n",
       "    <tr>\n",
       "      <th>3</th>\n",
       "      <td>226560</td>\n",
       "      <td>Escape Dead Island</td>\n",
       "      <td>2014-11-18</td>\n",
       "      <td>True</td>\n",
       "      <td>False</td>\n",
       "      <td>False</td>\n",
       "      <td>Mixed</td>\n",
       "      <td>61</td>\n",
       "      <td>873</td>\n",
       "      <td>14.99</td>\n",
       "      <td>14.99</td>\n",
       "      <td>0.0</td>\n",
       "      <td>True</td>\n",
       "    </tr>\n",
       "    <tr>\n",
       "      <th>4</th>\n",
       "      <td>249050</td>\n",
       "      <td>Dungeon of the ENDLESS™</td>\n",
       "      <td>2014-10-27</td>\n",
       "      <td>True</td>\n",
       "      <td>True</td>\n",
       "      <td>False</td>\n",
       "      <td>Very Positive</td>\n",
       "      <td>88</td>\n",
       "      <td>8784</td>\n",
       "      <td>11.99</td>\n",
       "      <td>11.99</td>\n",
       "      <td>0.0</td>\n",
       "      <td>True</td>\n",
       "    </tr>\n",
       "    <tr>\n",
       "      <th>...</th>\n",
       "      <td>...</td>\n",
       "      <td>...</td>\n",
       "      <td>...</td>\n",
       "      <td>...</td>\n",
       "      <td>...</td>\n",
       "      <td>...</td>\n",
       "      <td>...</td>\n",
       "      <td>...</td>\n",
       "      <td>...</td>\n",
       "      <td>...</td>\n",
       "      <td>...</td>\n",
       "      <td>...</td>\n",
       "      <td>...</td>\n",
       "    </tr>\n",
       "    <tr>\n",
       "      <th>50867</th>\n",
       "      <td>2296380</td>\n",
       "      <td>I Expect You To Die 3: Cog in the Machine</td>\n",
       "      <td>2023-09-28</td>\n",
       "      <td>True</td>\n",
       "      <td>False</td>\n",
       "      <td>False</td>\n",
       "      <td>Very Positive</td>\n",
       "      <td>96</td>\n",
       "      <td>101</td>\n",
       "      <td>22.00</td>\n",
       "      <td>0.00</td>\n",
       "      <td>0.0</td>\n",
       "      <td>True</td>\n",
       "    </tr>\n",
       "    <tr>\n",
       "      <th>50868</th>\n",
       "      <td>1272080</td>\n",
       "      <td>PAYDAY 3</td>\n",
       "      <td>2023-09-21</td>\n",
       "      <td>True</td>\n",
       "      <td>False</td>\n",
       "      <td>False</td>\n",
       "      <td>Mostly Negative</td>\n",
       "      <td>38</td>\n",
       "      <td>29458</td>\n",
       "      <td>40.00</td>\n",
       "      <td>0.00</td>\n",
       "      <td>0.0</td>\n",
       "      <td>True</td>\n",
       "    </tr>\n",
       "    <tr>\n",
       "      <th>50869</th>\n",
       "      <td>1402110</td>\n",
       "      <td>Eternights</td>\n",
       "      <td>2023-09-11</td>\n",
       "      <td>True</td>\n",
       "      <td>False</td>\n",
       "      <td>False</td>\n",
       "      <td>Very Positive</td>\n",
       "      <td>89</td>\n",
       "      <td>1128</td>\n",
       "      <td>30.00</td>\n",
       "      <td>0.00</td>\n",
       "      <td>0.0</td>\n",
       "      <td>True</td>\n",
       "    </tr>\n",
       "    <tr>\n",
       "      <th>50870</th>\n",
       "      <td>2272250</td>\n",
       "      <td>Forgive Me Father 2</td>\n",
       "      <td>2023-10-19</td>\n",
       "      <td>True</td>\n",
       "      <td>False</td>\n",
       "      <td>False</td>\n",
       "      <td>Very Positive</td>\n",
       "      <td>95</td>\n",
       "      <td>82</td>\n",
       "      <td>17.00</td>\n",
       "      <td>0.00</td>\n",
       "      <td>0.0</td>\n",
       "      <td>True</td>\n",
       "    </tr>\n",
       "    <tr>\n",
       "      <th>50871</th>\n",
       "      <td>2488510</td>\n",
       "      <td>FatalZone</td>\n",
       "      <td>2023-10-23</td>\n",
       "      <td>True</td>\n",
       "      <td>False</td>\n",
       "      <td>False</td>\n",
       "      <td>Very Positive</td>\n",
       "      <td>88</td>\n",
       "      <td>144</td>\n",
       "      <td>4.00</td>\n",
       "      <td>0.00</td>\n",
       "      <td>0.0</td>\n",
       "      <td>True</td>\n",
       "    </tr>\n",
       "  </tbody>\n",
       "</table>\n",
       "<p>50872 rows × 13 columns</p>\n",
       "</div>"
      ]
     },
     "execution_count": 5,
     "metadata": {},
     "output_type": "execute_result"
    }
   ],
   "execution_count": 5
  },
  {
   "metadata": {
    "ExecuteTime": {
     "end_time": "2025-05-20T08:10:07.818491Z",
     "start_time": "2025-05-20T08:10:07.807737Z"
    }
   },
   "cell_type": "code",
   "source": [
    "from sklearn.datasets import fetch_openml\n",
    "X = games.drop(columns=\"rating\")  # all columns except 'winner'\n",
    "y = games[\"positive_ratio\"]               # only the 'winner' column\n",
    "\n",
    "# Check the shapes\n",
    "print(X.shape)\n",
    "print(y.shape)"
   ],
   "id": "53600cebc2730aa1",
   "outputs": [
    {
     "name": "stdout",
     "output_type": "stream",
     "text": [
      "(50872, 12)\n",
      "(50872,)\n"
     ]
    }
   ],
   "execution_count": 9
  },
  {
   "metadata": {
    "ExecuteTime": {
     "end_time": "2025-05-20T08:10:49.311348Z",
     "start_time": "2025-05-20T08:10:49.289126Z"
    }
   },
   "cell_type": "code",
   "source": [
    "from sklearn.preprocessing import StandardScaler\n",
    "\n",
    "# Drop non-numeric columns\n",
    "X_numeric = X.select_dtypes(include=['number'])\n",
    "\n",
    "# Scale only numeric data\n",
    "scaler = StandardScaler()\n",
    "X_scaled = scaler.fit_transform(X_numeric)"
   ],
   "id": "f6d644e52a67203e",
   "outputs": [],
   "execution_count": 11
  },
  {
   "metadata": {
    "ExecuteTime": {
     "end_time": "2025-05-20T08:11:06.517261Z",
     "start_time": "2025-05-20T08:11:06.506340Z"
    }
   },
   "cell_type": "code",
   "source": "X_train, X_test, y_train, y_test = train_test_split(X_scaled, y, test_size=0.3, random_state=69)",
   "id": "daeea865830da2be",
   "outputs": [],
   "execution_count": 12
  },
  {
   "metadata": {},
   "cell_type": "markdown",
   "source": [
    "## Iteration 1\n",
    "I am sure that it won't be good"
   ],
   "id": "9b7d6ce82b8c7f5e"
  },
  {
   "metadata": {
    "ExecuteTime": {
     "end_time": "2025-05-20T08:12:56.970147Z",
     "start_time": "2025-05-20T08:12:56.964334Z"
    }
   },
   "cell_type": "code",
   "source": [
    "def runModel(max_iter, learning_rate):\n",
    "    # Initialize the MLPClassifier with the given hyperparameters\n",
    "    model = MLPClassifier(\n",
    "        hidden_layer_sizes=1,\n",
    "        learning_rate_init=learning_rate,\n",
    "        max_iter=max_iter,\n",
    "        random_state=42\n",
    "    )\n",
    "    # Train the model\n",
    "    model.fit(X_train, y_train)\n",
    "\n",
    "    # Predict on the training set\n",
    "    y_train_pred = model.predict(X_train)\n",
    "\n",
    "    # Predict on the test set\n",
    "    y_test_pred = model.predict(X_test)\n",
    "\n",
    "    # Calculate accuracy for both training and test sets\n",
    "    train_accuracy = accuracy_score(y_train, y_train_pred)\n",
    "    test_accuracy = accuracy_score(y_test, y_test_pred)\n",
    "\n",
    "    # Print the results\n",
    "    print(f\"Training Accuracy: {train_accuracy:.4f}\")\n",
    "    print(f\"Test Accuracy:     {test_accuracy:.4f}\")"
   ],
   "id": "692b67b1c0919776",
   "outputs": [],
   "execution_count": 14
  },
  {
   "metadata": {
    "ExecuteTime": {
     "end_time": "2025-05-20T08:13:16.572354Z",
     "start_time": "2025-05-20T08:13:15.651168Z"
    }
   },
   "cell_type": "code",
   "source": [
    "# iteration 1\n",
    "learning_rate = 0.001  # from 0.001 to 0.1 like 0.01 or 0.05\n",
    "max_iter = 5  # from 5 to 40\n",
    "runModel(max_iter, learning_rate)"
   ],
   "id": "5a5e8c5a09efa676",
   "outputs": [
    {
     "name": "stdout",
     "output_type": "stream",
     "text": [
      "Training Accuracy: 0.0687\n",
      "Test Accuracy:     0.0690\n"
     ]
    },
    {
     "name": "stderr",
     "output_type": "stream",
     "text": [
      "C:\\Users\\oldma\\anaconda3\\envs\\datascience\\Lib\\site-packages\\sklearn\\neural_network\\_multilayer_perceptron.py:691: ConvergenceWarning: Stochastic Optimizer: Maximum iterations (5) reached and the optimization hasn't converged yet.\n",
      "  warnings.warn(\n"
     ]
    }
   ],
   "execution_count": 15
  },
  {
   "metadata": {},
   "cell_type": "markdown",
   "source": "yep, it's no good",
   "id": "3c6fe507ff13f9cc"
  },
  {
   "metadata": {},
   "cell_type": "markdown",
   "source": [
    "## Iteration 2\n",
    "I don't think it ill improve much"
   ],
   "id": "cd00b5280c410cf4"
  },
  {
   "metadata": {
    "ExecuteTime": {
     "end_time": "2025-05-20T08:18:55.064128Z",
     "start_time": "2025-05-20T08:18:49.729323Z"
    }
   },
   "cell_type": "code",
   "source": [
    "# iteration 2\n",
    "learning_rate = 0.001  # from 0.001 to 0.1 like 0.01 or 0.05\n",
    "max_iter = 40  # from 5 to 40\n",
    "runModel(max_iter, learning_rate)"
   ],
   "id": "ff2a8d81abda6eec",
   "outputs": [
    {
     "name": "stdout",
     "output_type": "stream",
     "text": [
      "Training Accuracy: 0.1439\n",
      "Test Accuracy:     0.1435\n"
     ]
    },
    {
     "name": "stderr",
     "output_type": "stream",
     "text": [
      "C:\\Users\\oldma\\anaconda3\\envs\\datascience\\Lib\\site-packages\\sklearn\\neural_network\\_multilayer_perceptron.py:691: ConvergenceWarning: Stochastic Optimizer: Maximum iterations (40) reached and the optimization hasn't converged yet.\n",
      "  warnings.warn(\n"
     ]
    }
   ],
   "execution_count": 16
  },
  {
   "metadata": {},
   "cell_type": "markdown",
   "source": "it did improve but the accuracy still sucks",
   "id": "c6d19c2595a3c264"
  }
 ],
 "metadata": {
  "kernelspec": {
   "display_name": "Python 3 (ipykernel)",
   "language": "python",
   "name": "python3"
  },
  "language_info": {
   "codemirror_mode": {
    "name": "ipython",
    "version": 3
   },
   "file_extension": ".py",
   "mimetype": "text/x-python",
   "name": "python",
   "nbconvert_exporter": "python",
   "pygments_lexer": "ipython3",
   "version": "3.13.2"
  }
 },
 "nbformat": 4,
 "nbformat_minor": 5
}
