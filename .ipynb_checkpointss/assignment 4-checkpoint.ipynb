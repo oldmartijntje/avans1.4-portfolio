{
 "cells": [
  {
   "cell_type": "code",
   "execution_count": 1,
   "id": "29084ca5-b975-4673-be5b-9ec3191925a0",
   "metadata": {},
   "outputs": [
    {
     "name": "stdout",
     "output_type": "stream",
     "text": [
      "Gemaakt op 23/04/2025 door martijn\n"
     ]
    }
   ],
   "source": [
    "print(\"Gemaakt op 23/04/2025 door martijn\")"
   ]
  },
  {
   "cell_type": "code",
   "execution_count": null,
   "id": "14f922c8-bd80-47f3-9e2b-ab299d7dfb41",
   "metadata": {},
   "outputs": [],
   "source": [
    "import pandas as pd\n",
    "import seaborn as sns"
   ]
  }
 ],
 "metadata": {
  "kernelspec": {
   "display_name": "Python 3 (ipykernel)",
   "language": "python",
   "name": "python3"
  },
  "language_info": {
   "codemirror_mode": {
    "name": "ipython",
    "version": 3
   },
   "file_extension": ".py",
   "mimetype": "text/x-python",
   "name": "python",
   "nbconvert_exporter": "python",
   "pygments_lexer": "ipython3",
   "version": "3.13.2"
  }
 },
 "nbformat": 4,
 "nbformat_minor": 5
}
