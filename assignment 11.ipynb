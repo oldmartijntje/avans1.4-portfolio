{
 "cells": [
  {
   "cell_type": "markdown",
   "id": "98eb851f-cfe2-4c31-9a4a-46aed65180be",
   "metadata": {},
   "source": "# Gemaakt op 07/05/2025 door martijn"
  },
  {
   "cell_type": "code",
   "id": "14f922c8-bd80-47f3-9e2b-ab299d7dfb41",
   "metadata": {
    "ExecuteTime": {
     "end_time": "2025-05-07T16:06:16.727145Z",
     "start_time": "2025-05-07T16:06:16.725011Z"
    }
   },
   "source": [
    "import pandas as pd\n",
    "import seaborn as sns\n",
    "import numpy as np\n",
    "import scipy.stats as st"
   ],
   "outputs": [],
   "execution_count": 17
  },
  {
   "cell_type": "markdown",
   "id": "7b3f280e-a3b2-42d5-b42b-d62c63e453ca",
   "metadata": {},
   "source": [
    "### Portfolio assignment 11\n",
    "20 min: Do a Numerical VS Categorical bivariate analysis on the penguins dataset.\n",
    "- Choose one of the categorical columns: species, island or sex\n",
    "- use .groupby('<columnname>').mean() too look at the means of the numerical columns. Does it look like there is a difference between categories?\n",
    "- Use the seaborn barplot to plot the mean and confidence. Create this plot for each of the numerical columns (bill_length_mm\tbill_depth_mm, flipper_length_mm, body_mass_g)\n",
    "- For each of the plots, write a conclusion: Is there a statistically significant difference for this numerical column for each category?\n",
    "- Optional: Repeat this proces for the other two categorical columns"
   ]
  },
  {
   "cell_type": "code",
   "id": "a282983f-5ce2-458c-bd26-de8ad12e503b",
   "metadata": {
    "ExecuteTime": {
     "end_time": "2025-05-07T16:06:16.752976Z",
     "start_time": "2025-05-07T16:06:16.746085Z"
    }
   },
   "source": [
    "penguins = sns.load_dataset(\"penguins\")\n",
    "penguins.head()"
   ],
   "outputs": [
    {
     "data": {
      "text/plain": [
       "  species     island  bill_length_mm  bill_depth_mm  flipper_length_mm  \\\n",
       "0  Adelie  Torgersen            39.1           18.7              181.0   \n",
       "1  Adelie  Torgersen            39.5           17.4              186.0   \n",
       "2  Adelie  Torgersen            40.3           18.0              195.0   \n",
       "3  Adelie  Torgersen             NaN            NaN                NaN   \n",
       "4  Adelie  Torgersen            36.7           19.3              193.0   \n",
       "\n",
       "   body_mass_g     sex  \n",
       "0       3750.0    Male  \n",
       "1       3800.0  Female  \n",
       "2       3250.0  Female  \n",
       "3          NaN     NaN  \n",
       "4       3450.0  Female  "
      ],
      "text/html": [
       "<div>\n",
       "<style scoped>\n",
       "    .dataframe tbody tr th:only-of-type {\n",
       "        vertical-align: middle;\n",
       "    }\n",
       "\n",
       "    .dataframe tbody tr th {\n",
       "        vertical-align: top;\n",
       "    }\n",
       "\n",
       "    .dataframe thead th {\n",
       "        text-align: right;\n",
       "    }\n",
       "</style>\n",
       "<table border=\"1\" class=\"dataframe\">\n",
       "  <thead>\n",
       "    <tr style=\"text-align: right;\">\n",
       "      <th></th>\n",
       "      <th>species</th>\n",
       "      <th>island</th>\n",
       "      <th>bill_length_mm</th>\n",
       "      <th>bill_depth_mm</th>\n",
       "      <th>flipper_length_mm</th>\n",
       "      <th>body_mass_g</th>\n",
       "      <th>sex</th>\n",
       "    </tr>\n",
       "  </thead>\n",
       "  <tbody>\n",
       "    <tr>\n",
       "      <th>0</th>\n",
       "      <td>Adelie</td>\n",
       "      <td>Torgersen</td>\n",
       "      <td>39.1</td>\n",
       "      <td>18.7</td>\n",
       "      <td>181.0</td>\n",
       "      <td>3750.0</td>\n",
       "      <td>Male</td>\n",
       "    </tr>\n",
       "    <tr>\n",
       "      <th>1</th>\n",
       "      <td>Adelie</td>\n",
       "      <td>Torgersen</td>\n",
       "      <td>39.5</td>\n",
       "      <td>17.4</td>\n",
       "      <td>186.0</td>\n",
       "      <td>3800.0</td>\n",
       "      <td>Female</td>\n",
       "    </tr>\n",
       "    <tr>\n",
       "      <th>2</th>\n",
       "      <td>Adelie</td>\n",
       "      <td>Torgersen</td>\n",
       "      <td>40.3</td>\n",
       "      <td>18.0</td>\n",
       "      <td>195.0</td>\n",
       "      <td>3250.0</td>\n",
       "      <td>Female</td>\n",
       "    </tr>\n",
       "    <tr>\n",
       "      <th>3</th>\n",
       "      <td>Adelie</td>\n",
       "      <td>Torgersen</td>\n",
       "      <td>NaN</td>\n",
       "      <td>NaN</td>\n",
       "      <td>NaN</td>\n",
       "      <td>NaN</td>\n",
       "      <td>NaN</td>\n",
       "    </tr>\n",
       "    <tr>\n",
       "      <th>4</th>\n",
       "      <td>Adelie</td>\n",
       "      <td>Torgersen</td>\n",
       "      <td>36.7</td>\n",
       "      <td>19.3</td>\n",
       "      <td>193.0</td>\n",
       "      <td>3450.0</td>\n",
       "      <td>Female</td>\n",
       "    </tr>\n",
       "  </tbody>\n",
       "</table>\n",
       "</div>"
      ]
     },
     "execution_count": 18,
     "metadata": {},
     "output_type": "execute_result"
    }
   ],
   "execution_count": 18
  },
  {
   "metadata": {
    "ExecuteTime": {
     "end_time": "2025-05-07T16:06:16.793016Z",
     "start_time": "2025-05-07T16:06:16.786917Z"
    }
   },
   "cell_type": "code",
   "source": "penguins.groupby('species').mean(numeric_only=True)",
   "id": "6ee0a9fc9df3d3c4",
   "outputs": [
    {
     "data": {
      "text/plain": [
       "           bill_length_mm  bill_depth_mm  flipper_length_mm  body_mass_g\n",
       "species                                                                 \n",
       "Adelie          38.791391      18.346358         189.953642  3700.662252\n",
       "Chinstrap       48.833824      18.420588         195.823529  3733.088235\n",
       "Gentoo          47.504878      14.982114         217.186992  5076.016260"
      ],
      "text/html": [
       "<div>\n",
       "<style scoped>\n",
       "    .dataframe tbody tr th:only-of-type {\n",
       "        vertical-align: middle;\n",
       "    }\n",
       "\n",
       "    .dataframe tbody tr th {\n",
       "        vertical-align: top;\n",
       "    }\n",
       "\n",
       "    .dataframe thead th {\n",
       "        text-align: right;\n",
       "    }\n",
       "</style>\n",
       "<table border=\"1\" class=\"dataframe\">\n",
       "  <thead>\n",
       "    <tr style=\"text-align: right;\">\n",
       "      <th></th>\n",
       "      <th>bill_length_mm</th>\n",
       "      <th>bill_depth_mm</th>\n",
       "      <th>flipper_length_mm</th>\n",
       "      <th>body_mass_g</th>\n",
       "    </tr>\n",
       "    <tr>\n",
       "      <th>species</th>\n",
       "      <th></th>\n",
       "      <th></th>\n",
       "      <th></th>\n",
       "      <th></th>\n",
       "    </tr>\n",
       "  </thead>\n",
       "  <tbody>\n",
       "    <tr>\n",
       "      <th>Adelie</th>\n",
       "      <td>38.791391</td>\n",
       "      <td>18.346358</td>\n",
       "      <td>189.953642</td>\n",
       "      <td>3700.662252</td>\n",
       "    </tr>\n",
       "    <tr>\n",
       "      <th>Chinstrap</th>\n",
       "      <td>48.833824</td>\n",
       "      <td>18.420588</td>\n",
       "      <td>195.823529</td>\n",
       "      <td>3733.088235</td>\n",
       "    </tr>\n",
       "    <tr>\n",
       "      <th>Gentoo</th>\n",
       "      <td>47.504878</td>\n",
       "      <td>14.982114</td>\n",
       "      <td>217.186992</td>\n",
       "      <td>5076.016260</td>\n",
       "    </tr>\n",
       "  </tbody>\n",
       "</table>\n",
       "</div>"
      ]
     },
     "execution_count": 19,
     "metadata": {},
     "output_type": "execute_result"
    }
   ],
   "execution_count": 19
  },
  {
   "metadata": {},
   "cell_type": "markdown",
   "source": [
    "ik heb `numeric_only=True` hierbij gezet omdat hij anders crashed, dit is omdat penguins meerdere categorische colommen heeft. Iris heeft er maar 1 en daarom had het voorbeeld niet `numeric_only=True`\n",
    "\n",
    "ik zie hierbij soms wel didelijk verschillen, maar soms ook niet."
   ],
   "id": "cdf34d9f65485444"
  },
  {
   "metadata": {
    "ExecuteTime": {
     "end_time": "2025-05-07T16:06:16.923840Z",
     "start_time": "2025-05-07T16:06:16.861331Z"
    }
   },
   "cell_type": "code",
   "source": "sns.barplot(y=\"bill_length_mm\", x=\"species\", data=penguins)",
   "id": "d73c0b8200403255",
   "outputs": [
    {
     "data": {
      "text/plain": [
       "<Axes: xlabel='species', ylabel='bill_length_mm'>"
      ]
     },
     "execution_count": 20,
     "metadata": {},
     "output_type": "execute_result"
    },
    {
     "data": {
      "text/plain": [
       "<Figure size 640x480 with 1 Axes>"
      ],
      "image/png": "[encoded data removed]"
     },
     "metadata": {},
     "output_type": "display_data"
    }
   ],
   "execution_count": 20
  },
  {
   "metadata": {},
   "cell_type": "markdown",
   "source": [
    "bij deze gaan we even iets meer onderzoeken om te kijken hoe het zit.\n",
    "\n",
    "Bij de onderstaande code berekenen we de mean met een 95% confidence value per species type. Dit printen we ook gelijk"
   ],
   "id": "4f6a427cbcd7f3bf"
  },
  {
   "metadata": {
    "ExecuteTime": {
     "end_time": "2025-05-07T16:07:07.659697Z",
     "start_time": "2025-05-07T16:07:07.654240Z"
    }
   },
   "cell_type": "code",
   "source": [
    "confidence = 0.95\n",
    "grouped = penguins.groupby(\"species\")[\"bill_length_mm\"]\n",
    "\n",
    "\n",
    "for species, values in grouped:\n",
    "    values = values.dropna()\n",
    "    n = len(values)\n",
    "    mean = values.mean()\n",
    "    sem = st.sem(values)\n",
    "    h = st.t.interval(confidence, n-1, loc=mean, scale=sem)\n",
    "    print(h)"
   ],
   "id": "c09ee532196890e6",
   "outputs": [
    {
     "name": "stdout",
     "output_type": "stream",
     "text": [
      "(np.float64(38.36312349769243), np.float64(39.21965795926121))\n",
      "(np.float64(48.025551407651875), np.float64(49.64209565117166))\n",
      "(np.float64(46.954783427502186), np.float64(48.05497267005878))\n"
     ]
    }
   ],
   "execution_count": 22
  },
  {
   "metadata": {},
   "cell_type": "markdown",
   "source": [
    "## conclusie bill_length_mm\n",
    "we zien hier dat er overlap is, dit betekent dat er niet echt een significant verschil is tussen de species en de bill_length_mm. Dat betekent dus dat we niet de species kunnen herkennen aan de bill_length_mm. We kunnen alleen Adelie herkennen aan bill_length_mm.\n"
   ],
   "id": "be2659bfdc1ba875"
  },
  {
   "metadata": {
    "ExecuteTime": {
     "end_time": "2025-05-07T16:06:16.995358300Z",
     "start_time": "2025-05-07T15:59:42.308274Z"
    }
   },
   "cell_type": "code",
   "source": "sns.barplot(y=\"bill_depth_mm\", x=\"species\", data=penguins)",
   "id": "904c1ae897f2b2d4",
   "outputs": [
    {
     "data": {
      "text/plain": [
       "<Axes: xlabel='species', ylabel='bill_depth_mm'>"
      ]
     },
     "execution_count": 11,
     "metadata": {},
     "output_type": "execute_result"
    },
    {
     "data": {
      "text/plain": [
       "<Figure size 640x480 with 1 Axes>"
      ],
      "image/png": "[encoded data removed]"
     },
     "metadata": {},
     "output_type": "display_data"
    }
   ],
   "execution_count": 11
  },
  {
   "metadata": {},
   "cell_type": "markdown",
   "source": [
    "## conclusie bill_depth_mm\n",
    "We kunnen hier duidelijk zien dat er overlap is tussen de species, dus weer kunnen we niet de species herkennen aan bill_depth_mm, behalve dat Gentoo we wel kunnen herkennen hieraan."
   ],
   "id": "f013b222801bd247"
  },
  {
   "metadata": {
    "ExecuteTime": {
     "end_time": "2025-05-07T16:06:16.998865800Z",
     "start_time": "2025-05-07T16:00:02.738686Z"
    }
   },
   "cell_type": "code",
   "source": "sns.barplot(y=\"flipper_length_mm\", x=\"species\", data=penguins)",
   "id": "a33fdb67bad90bb",
   "outputs": [
    {
     "data": {
      "text/plain": [
       "<Axes: xlabel='species', ylabel='flipper_length_mm'>"
      ]
     },
     "execution_count": 12,
     "metadata": {},
     "output_type": "execute_result"
    },
    {
     "data": {
      "text/plain": [
       "<Figure size 640x480 with 1 Axes>"
      ],
      "image/png": "[encoded data removed]"
     },
     "metadata": {},
     "output_type": "display_data"
    }
   ],
   "execution_count": 12
  },
  {
   "metadata": {},
   "cell_type": "markdown",
   "source": "hier is een onclusie weer wat lasitger, dus we gaan weer het zelfde doen als bij numeric test 1, bill_length_mm:",
   "id": "71971b62b354d5da"
  },
  {
   "metadata": {
    "ExecuteTime": {
     "end_time": "2025-05-07T16:13:29.431027Z",
     "start_time": "2025-05-07T16:13:29.425754Z"
    }
   },
   "cell_type": "code",
   "source": [
    "confidence = 0.95\n",
    "grouped = penguins.groupby(\"species\")[\"flipper_length_mm\"]\n",
    "\n",
    "\n",
    "for species, values in grouped:\n",
    "    values = values.dropna()\n",
    "    n = len(values)\n",
    "    mean = values.mean()\n",
    "    sem = st.sem(values)\n",
    "    h = st.t.interval(confidence, n-1, loc=mean, scale=sem)\n",
    "    print(h)"
   ],
   "id": "c60a164b38aa40d0",
   "outputs": [
    {
     "name": "stdout",
     "output_type": "stream",
     "text": [
      "(np.float64(188.9021179338864), np.float64(191.00516683432554))\n",
      "(np.float64(194.0972432317915), np.float64(197.54981559173788))\n",
      "(np.float64(216.02945928932266), np.float64(218.34452445051474))\n"
     ]
    }
   ],
   "execution_count": 24
  },
  {
   "metadata": {},
   "cell_type": "markdown",
   "source": [
    "## conclusie flipper_length_mm\n",
    "we kunnen hier zien dat de confidense ranges niet overlappen, dit betekent dat we de species kunnen herkennen aan de flipper_length_mm. maar eht is wel close, dus je moet geen meetfoutjes maken. En je moet in gedachten houden dat er ook outliers kunnen zien. Maar generally speaking: we kunnen de species herkennen aan flipper_length_mm"
   ],
   "id": "a54e54826d560d5d"
  },
  {
   "metadata": {
    "ExecuteTime": {
     "end_time": "2025-05-07T16:06:17.014409600Z",
     "start_time": "2025-05-07T16:00:16.604254Z"
    }
   },
   "cell_type": "code",
   "source": "sns.barplot(y=\"body_mass_g\", x=\"species\", data=penguins)",
   "id": "48b6f0d2f96e9f3",
   "outputs": [
    {
     "data": {
      "text/plain": [
       "<Axes: xlabel='species', ylabel='body_mass_g'>"
      ]
     },
     "execution_count": 13,
     "metadata": {},
     "output_type": "execute_result"
    },
    {
     "data": {
      "text/plain": [
       "<Figure size 640x480 with 1 Axes>"
      ],
      "image/png": "[encoded data removed]"
     },
     "metadata": {},
     "output_type": "display_data"
    }
   ],
   "execution_count": 13
  },
  {
   "metadata": {},
   "cell_type": "markdown",
   "source": [
    "## conclusie body_mass_g\n",
    "ja we kunnen heir duidelijk zien dat we gentoo kunnen herkennen als we een zware penguin hebben, maar de andere 2 species kunnen we niet identificeren bij body_mass_g. Dit is omdat de confidence ranges duidelijk overlappen."
   ],
   "id": "51ec023bcbdb493d"
  },
  {
   "metadata": {},
   "cell_type": "code",
   "outputs": [],
   "execution_count": null,
   "source": "",
   "id": "c3d42ce8cd13586e"
  }
 ],
 "metadata": {
  "kernelspec": {
   "display_name": "Python 3 (ipykernel)",
   "language": "python",
   "name": "python3"
  },
  "language_info": {
   "codemirror_mode": {
    "name": "ipython",
    "version": 3
   },
   "file_extension": ".py",
   "mimetype": "text/x-python",
   "name": "python",
   "nbconvert_exporter": "python",
   "pygments_lexer": "ipython3",
   "version": "3.13.2"
  }
 },
 "nbformat": 4,
 "nbformat_minor": 5
}
